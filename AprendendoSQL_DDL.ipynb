{
  "nbformat": 4,
  "nbformat_minor": 0,
  "metadata": {
    "colab": {
      "provenance": [],
      "include_colab_link": true
    },
    "kernelspec": {
      "name": "python3",
      "display_name": "Python 3"
    },
    "language_info": {
      "name": "python"
    }
  },
  "cells": [
    {
      "cell_type": "markdown",
      "metadata": {
        "id": "view-in-github",
        "colab_type": "text"
      },
      "source": [
        "<a href=\"https://colab.research.google.com/github/thaisgulias/DataAnalytics_student/blob/main/AprendendoSQL_DDL.ipynb\" target=\"_parent\"><img src=\"https://colab.research.google.com/assets/colab-badge.svg\" alt=\"Open In Colab\"/></a>"
      ]
    },
    {
      "cell_type": "code",
      "source": [
        "#CONEXÃO GCLOUD COM MYSQL\n",
        "gcloud sql connect nome_instancia --user=root"
      ],
      "metadata": {
        "id": "HKpOWpJqQQTF"
      },
      "execution_count": null,
      "outputs": []
    },
    {
      "cell_type": "code",
      "execution_count": null,
      "metadata": {
        "id": "-iKcQRhbQLJd"
      },
      "outputs": [],
      "source": [
        "#VERIFICAR OS BANCOS DE DADOS\n",
        "SHOW DATABASES;\n",
        "\n",
        "#CRIAR UM BANCO DE DADOS\n",
        "CREATE DATABASE maternidade;\n",
        "\n",
        "#VERIFICAR NOVAMENTE OS BANCOS DE DADOS\n",
        "SHOW DATABASES;\n",
        "\n",
        "#SELECIONAR O BANCO DE DADOS QUE IREMOS TRABALHAR\n",
        "USE maternidade;\n",
        "\n",
        "#VERIFICAR QUAIS SÃO AS TABELAS EXISTENTES NO BANCO\n",
        "SHOW TABLES;\n",
        "\n",
        "#CRIAR UMA PRIMEIRA TABELA NO BANCO DE DADOS\n",
        "CREATE TABLE maes (\n",
        "     id_mae INT, \n",
        "     nome_mae VARCHAR(200),\n",
        "     data_nasc DATE,\n",
        "     rua VARCHAR(200),\n",
        "     numero INT,\n",
        "     comp VARCHAR(50),\n",
        "     cidade VARCHAR(100),\n",
        "     estado VARCHAR(2),\n",
        "     CEP VARCHAR(10)\n",
        ");\n",
        "\n",
        "#UTILIZANDO ALTER TABLE\n",
        "CREATE TABLE maes(\n",
        "  id_mae INT AUTO_INCREMENT,\n",
        "  nome_mae VARCHAR(200),\n",
        "  data_nasc DATE NOT NULL,\n",
        "  cpf_mae VARCHAR(11) NOT NULL UNIQUE,\n",
        "  CONSTRAINT PK_maes PRIMARY KEY(id_mae)\n",
        ");\n",
        "  \n",
        "ALTER TABLE maes\n",
        "ADD PRIMARY KEY(id_mae);\n",
        "  \n",
        "ALTER TABLE maes \n",
        "ADD CONSTRAINT PK_maes PRIMARY KEY(id_mae);\n",
        "  \n",
        "ALTER TABLE maes\n",
        "DROP PRIMARY KEY;\n",
        "  \n",
        "ALTER TABLE maes\n",
        "DROP CONSTRAINT PK_maes;\n",
        "\n",
        "#DEFAULT\n",
        "CREATE TABLE maes(\n",
        "  id_mae INT AUTO_INCREMENT,\n",
        "  nome_mae VARCHAR(200),\n",
        "  data_nasc DATE NOT NULL,\n",
        "  cpf_mae VARCHAR(11) NOT NULL UNIQUE,\n",
        "  cidade VARCHAR(200) DEFAULT 'Fortaleza',\n",
        "  CONSTRAINT PK_maes PRIMARY KEY(id_mae)\n",
        "  );\n",
        "\n",
        "#CONSTRAINT PRIMARY KEY E FOREIGN KEY\n",
        "\n",
        "CREATE TABLE bebes (\n",
        "  id_bebe INT AUTO_INCREMENT,\n",
        "  nome_bebe VARCHAR(200),\n",
        "  peso_bebe DOUBLE NOT NULL,\n",
        "  altura_bebe DOUBLE NOT NULL,\n",
        "  data_nasc DATE NOT NULL,\n",
        "  id_mae INT,\n",
        "  CONSTRAINT PK_bebes PRIMARY KEY(id_bebe),\n",
        "  CONSTRAINT FK_bebes_maes FOREIGN KEY(id_mae)\n",
        "  REFERENCES maes(id_mae)\n",
        ");\n",
        "  \n",
        "ALTER TABLE bebes\n",
        "ADD CONSTRAINT FK_bebes_maes\n",
        "FOREIGN KEY(id_mae) REFERENCES maes(id_mae)"
      ]
    },
    {
      "cell_type": "code",
      "source": [
        "#TIPOS DE DADOS\n",
        "TEXTUAIS\n",
        "CHAR(length) - TAMANHO FIXO (length) Até 255 caracteres\n",
        "VARCHAR(length) - Tamanho Variável Até 65535 caracteres\n",
        "LONGTEXT - Tamanho variável até 4.294.967.295 caracteres\n",
        "\n",
        "NUMÉRICOS\n",
        "INT - -2147483648 até 2147483647\n",
        "FLOAT - Até 24 casas decimais\n",
        "DOUBLE - de 25 até 53 casas decimais\n",
        "DECIMAL(tamanho, casas decimais)\n",
        "\n",
        "DATAS\n",
        "DATE - YYYY-MM-DD\n",
        "DATETIME - YYYY-MM-DD hh:mm:ss\n",
        "TIMESTAMP YYYY-MM-DD hh:mm:ss\n",
        "TIME - hh:mm:ss\n",
        "YEAR - YYYY"
      ],
      "metadata": {
        "id": "q9F4sraxkuVj"
      },
      "execution_count": null,
      "outputs": []
    },
    {
      "cell_type": "code",
      "source": [
        "#CRIANDO A PRIMEIRA TABELA DE MÃES\n",
        "\n",
        "1) gcloud sql connect nome_instancia --user=root\n",
        "2) entrar com a senha\n",
        "3) show databases (Para ver os bancos)\n",
        "4) create database maternidade(se ainda não existir)\n",
        "5) use database maternidade\n",
        "6) show tables (para verificar quais tabelas existem no bd maternidade)\n",
        "7) utilizar o comando abaixo para criar a tabela maes\n",
        "\n",
        "CREATE TABLE maes(\n",
        "  id_mae INT AUTO_INCREMENT,\n",
        "  nome_mae VARCHAR(200) NOT NULL,\n",
        "  data_nasc DATE NOT NULL,\n",
        "  cpf_mae VARCHAR(11) NOT NULL UNIQUE,\n",
        "  rua VARCHAR(100),\n",
        "  numero INT,\n",
        "  complemento VARCHAR(50),\n",
        "  bairro VARCHAR(100),\n",
        "  cidade VARCHAR(100),\n",
        "  estado VARCHAR(100),\n",
        "  cep VARCHAR(20),\n",
        "  CONSTRAINT PK_maes PRIMARY KEY(id_mae)\n",
        ");\n",
        "\n",
        "8) show tables (para verificar se a tabela realmente foi criada)\n",
        "9) describe maes (Descreve o schema - Mostra uma lista com os atributos e os tipos)"
      ],
      "metadata": {
        "id": "5HodtPn6tPW4"
      },
      "execution_count": null,
      "outputs": []
    }
  ]
}