{
  "nbformat": 4,
  "nbformat_minor": 0,
  "metadata": {
    "colab": {
      "provenance": [],
      "include_colab_link": true
    },
    "kernelspec": {
      "name": "python3",
      "display_name": "Python 3"
    },
    "language_info": {
      "name": "python"
    }
  },
  "cells": [
    {
      "cell_type": "markdown",
      "metadata": {
        "id": "view-in-github",
        "colab_type": "text"
      },
      "source": [
        "<a href=\"https://colab.research.google.com/github/thaisgulias/DataAnalytics_student/blob/main/AprendendoSQL_DML.ipynb\" target=\"_parent\"><img src=\"https://colab.research.google.com/assets/colab-badge.svg\" alt=\"Open In Colab\"/></a>"
      ]
    },
    {
      "cell_type": "code",
      "source": [
        "'''CRIAÇÃO DE TODAS AS TABELAS DO NOSSO EXERCÍCIO\n",
        "MAES\n",
        "\n",
        "CREATE TABLE maes(\n",
        "  id_mae INT AUTO_INCREMENT,\n",
        "  nome_mae VARCHAR(200) NOT NULL,\n",
        "  data_nasc DATE NOT NULL,\n",
        "  cpf_mae VARCHAR(11) NOT NULL UNIQUE,\n",
        "  rua VARCHAR(100),\n",
        "  numero INT,\n",
        "  complemento VARCHAR(50),\n",
        "  bairro VARCHAR(100),\n",
        "  cidade VARCHAR(100),\n",
        "  estado VARCHAR(100),\n",
        "  cep VARCHAR(20),\n",
        "  CONSTRAINT PK_maes PRIMARY KEY(id_mae)\n",
        ");\n",
        "\n",
        "TELEFONES_MAES\n",
        "\n",
        "CREATE TABLE telefones_maes (\n",
        "  id_mae INT,\n",
        "  numero_telefone VARCHAR(20),\n",
        "  CONSTRAINT PK_telefones_maes PRIMARY KEY(id_mae, numero_telefone),\n",
        "  CONSTRAINT FK_telefones_maes FOREIGN KEY (id_mae) REFERENCES maes(id_mae)\n",
        ");\n",
        "\n",
        "MEDICOS\n",
        "\n",
        "CREATE TABLE medicos (\n",
        "  id_medico INT AUTO_INCREMENT,\n",
        "  crm_medico VARCHAR(20) NOT NULL UNIQUE,\n",
        "  nome_medico VARCHAR(200),\n",
        "  celular_medico VARCHAR(20),\n",
        "  espec_medico VARCHAR(100),\n",
        "  CONSTRAINT PK_medicos PRIMARY KEY(id_medico)\n",
        ");\n",
        "\n",
        "BEBES\n",
        "\n",
        "CREATE TABLE bebes (\n",
        "  id_bebe INT AUTO_INCREMENT,\n",
        "  nome_bebe VARCHAR(200),\n",
        "  peso_bebe DOUBLE NOT NULL,\n",
        "  altura_bebe DOUBLE NOT NULL,\n",
        "  data_nasc DATE NOT NULL,\n",
        "  id_mae INT,\n",
        "  id_medico INT,\n",
        "  CONSTRAINT PK_bebes PRIMARY KEY(id_bebe),\n",
        "  CONSTRAINT FK_bebes_maes FOREIGN KEY(id_mae) REFERENCES maes(id_mae),\n",
        "  CONSTRAINT FK_bebes_medicos FOREIGN KEY(id_medico) REFERENCES medicos(id_medico)\n",
        "  );\n",
        "  '''"
      ],
      "metadata": {
        "id": "QlDBn52TVKJv"
      },
      "execution_count": null,
      "outputs": []
    },
    {
      "cell_type": "code",
      "source": [
        "''' PASSOS\n",
        " 1) INSERÇÃO DAS MÃES\n",
        "\n",
        "INSERT INTO maes VALUES \n",
        "(NULL, 'Jaqueline Daiane Yasmin Fogaça', '1992-03-11', '93263708015', 'Vila Humaitá', 396, 'Casa', 'Colônia Oliveira Machado', 'Manaus', 'AM', '69074-170'),\n",
        "(NULL, 'Sarah Vera Jesus', '1990-12-30', '11089274084', 'Rua Nove', 494, 'Casa', 'Icaraí', 'Divinópolis', 'MG', '35502-235'),\n",
        "(NULL, 'Rosa Patrícia Rocha', '1984-04-22', '48488100000', 'Travessa Jerônimo Manoel da Silva', 260, 'Casa', 'COHAB', 'Cachoeirinha', 'RS', '94935-310'),\n",
        "(NULL, 'Antonella Camila Assunção', '1968-03-16', '17116719083', 'Avenida Doutor Lamartine Pinto de Avelar', 749, 'Casa', 'Setor Aeroporto', 'Catalão', 'GO', '75705-545'),\n",
        "(NULL, 'Giovanna Vera Maitê Castro', '1997-03-01', '72321396083', 'Rua Josefa da Silva Lima', 329, 'Casa', 'Valentina de Figueiredo', 'João Pessoa', 'PB', '58065-002');\n",
        "\n",
        " 2) INSERÇÃO DOS TELEFONES DAS MÃES\n",
        "\n",
        "INSERT INTO telefones_maes VALUES \n",
        "(1, '(92)9.9298-0000'),\n",
        "(1, '(92)9.9877-0088'),\n",
        "(2, '(21)9.9564-1100'),\n",
        "(3, '(11)9.8900-7117'),\n",
        "(1, '(92)9.7611-7700'),\n",
        "(4, '(36)9.5599-0001'),\n",
        "(2, '(21)9.9765-4455'),\n",
        "(2, '(21)9.5432-2345'),\n",
        "(5, '(71)9.9766-6677'),\n",
        "(5, '(71)9.9298-9298'),\n",
        "(3, '(11)9.3919-4778');\n",
        "\n",
        " 3) INSERÇÃO DOS MÉDICOS\n",
        "\n",
        "INSERT INTO medicos VALUES \n",
        "(NULL, '65823699', 'Pedro Paulo da Mata', '(11)9.9888-9999' , 'Anestesista'),\n",
        "(NULL, '65880033', 'Sophia Daniela Lima', '(27)9.99001234', 'Obstetra'),\n",
        "(NULL, '36998855', 'Oliver Nathan Castro', '(36)9.87009900', 'Pediatra'),\n",
        "(NULL, '00223355', 'Nicolas Sérgio Diego Sales', '(11)9.9911-1100', 'Obstetra'),\n",
        "(NULL, '15699966', 'Amanda Olivia Viana', '(21)9.9966-9966', 'Anestesista'),\n",
        "(NULL, '66553311', 'Nair Isabelle Gonçalves', '(71)9.5677-7115', 'Pediatra'),\n",
        "(NULL, '98663355', 'Thomas Sebastião da Cruz', '(87)9.9298-9900', 'Pediatra'),\n",
        "(NULL, '44456336', 'Sara Bianca Juliana Alves', '(92)9.9766-7788', 'Anestesista');\n",
        "\n",
        "\n",
        " 4) INSERÇÃO DOS BEBÊS\n",
        "\n",
        "INSERT INTO bebes VALUES \n",
        "(NULL, 'Lorena Clarice Cavalcanti', 3.290, 50, '2016-07-19', 1, 2), \n",
        "(NULL, 'Caio Diego Tiago Corte Real', 3.685 , 51, '2012-01-12', 4, 7),\n",
        "(NULL, 'Renato Pietro Nascimento', 4.600, 49, '2019-09-11', 2, 3),\n",
        "(NULL, 'Victor Bryan Ryan Castro', 2.890, 52, '2016-03-08', 2, 1),\n",
        "(NULL, 'Natália Marlene Alice Corte Real', 3.125, 47, '2017-04-22', 3, 4);\n",
        "\n",
        "'''"
      ],
      "metadata": {
        "id": "hUfq_gz9SYPs"
      },
      "execution_count": null,
      "outputs": []
    },
    {
      "cell_type": "code",
      "source": [
        "# COMANDO PARA PERMITIR EXCLUIR VALORES DE UMA TABELA COM CHAVE ESTRANGEIRA\n",
        "# SET FOREIGN_KEYS_CHECK = 0;"
      ],
      "metadata": {
        "id": "7qC_VTM7Sod6"
      },
      "execution_count": null,
      "outputs": []
    },
    {
      "cell_type": "code",
      "execution_count": null,
      "metadata": {
        "id": "aoaMamgcR0WF"
      },
      "outputs": [],
      "source": [
        "'''\n",
        "COMANDO PARA CONSULTAS NA TABELA (SELECT)\n",
        "\n",
        "-Sintaxe do SELECT\n",
        "\n",
        "SELECT coluna1, coluna2, coluna3... colunaN FROM tabela\n",
        "\n",
        "Para visualizar todas as colunas de uma vez\n",
        "\n",
        "SELECT * FROM tabela\n",
        "'''\n"
      ]
    },
    {
      "cell_type": "code",
      "source": [
        "#PARA CRIAR APELIDOS(RENOMEAR) EM UMA COLUNA, EM TEMPO DE CONSULTA, UTILIZAMOS O (AS)\n",
        "'''\n",
        "Ex: \n",
        "SELECT estado AS Estado FROM tabela\n",
        "'''"
      ],
      "metadata": {
        "id": "pzgXHOGmbcJJ"
      },
      "execution_count": null,
      "outputs": []
    },
    {
      "cell_type": "code",
      "source": [
        "#SELECIONAR APENAS OS VALORES DISTINTOS DE CADA COLUNA\n",
        "'''\n",
        "SELECT DISTINCT cidade FROM tabela\n",
        "\n",
        "'''"
      ],
      "metadata": {
        "id": "uvG4hrbcbrkg"
      },
      "execution_count": null,
      "outputs": []
    },
    {
      "cell_type": "code",
      "source": [
        "#VERIFICAR A QUANTIDADE DE REGISTROS DE ACORDO COM DETERMINADA COLUNA OU CONSULTA\n",
        "'''\n",
        "SELECT COUNT(DISTINCT cidade) FROM tabela\n",
        "\n",
        "SELECT COUNT(*) FROM maes\n",
        "\n",
        "SELECT COUNT(nome_mae) AS QUANTIDADE FROM maes\n",
        "\n",
        "'''"
      ],
      "metadata": {
        "id": "0824Ie_KcPhr"
      },
      "execution_count": null,
      "outputs": []
    },
    {
      "cell_type": "code",
      "source": [
        "#UTILIZAR UMA ORDENAÇÃO NA SAÍDA DOS DADOS (ORDER BY)\n",
        "'''\n",
        "SELECT * FROM maes ORDER BY nome_mae;\n",
        "\n",
        "'''"
      ],
      "metadata": {
        "id": "RRN9WS5rdc6-"
      },
      "execution_count": null,
      "outputs": []
    },
    {
      "cell_type": "code",
      "source": [
        "#DESCOBRIR O MAIOR VALOR (MAX) E O MENOR VALOR (MIN) EM UMA COLUNA\n",
        "'''\n",
        "SELECT MAX(altura_bebe) FROM bebes;\n",
        "\n",
        "SELECT MIN(altura_bebe) FROM bebes;\n",
        "\n",
        "Usando os dois juntos\n",
        "\n",
        "SELECT MIN(altura_bebe) AS MENOR_ALTURA, MAX(altura_bebe) AS MAIOR_ALTURA FROM bebes; \n",
        "\n",
        "'''\n"
      ],
      "metadata": {
        "id": "LAjrdMy5gIcQ"
      },
      "execution_count": null,
      "outputs": []
    },
    {
      "cell_type": "code",
      "source": [
        "#LIMITAR A QUANTIDADE DE REGISTROS A SEREM MOSTRADOS (LIMIT)\n",
        "'''\n",
        "SELECT * FROM bebes ORDER BY altura_bebe DESC LIMIT 5\n",
        "\n",
        "'''"
      ],
      "metadata": {
        "id": "xju-HAPghw1x"
      },
      "execution_count": null,
      "outputs": []
    },
    {
      "cell_type": "code",
      "source": [
        "#MOSTRAR A SOMA DE UMA COLUNA ESPECIFICA (TAMBÉM PODE SER DE ACORDO COM UM FILTRO)\n",
        "'''\n",
        "SELECT SUM(altura_bebe) AS soma_altura FROM bebes;\n",
        "\n",
        "SELECT SUM(peso_bebe) AS soma_peso FROM bebes;\n",
        "\n",
        "SELECT SUM(altura_bebe) AS soma_altura, SUM(peso_bebe) AS soma_peso FROM bebes;\n",
        "'''"
      ],
      "metadata": {
        "id": "vk7TUMSuh4Z1"
      },
      "execution_count": null,
      "outputs": []
    },
    {
      "cell_type": "code",
      "source": [
        "#MOSTRAR A MÈDIA ARITMÉTICA DE UMA COLUNA ESPECÍFICA (TAMBÉM PODE SER DE ACORDO COM UM FILTRO)\n",
        "'''\n",
        "\n",
        "SELECT AVG(altura_bebe) AS media_altura FROM bebes;\n",
        "\n",
        "SELECT AVG(peso_bebe) AS media_peso FROM bebes;\n",
        "\n",
        "SELECT AVG(altura_bebe) AS media_altura, AVG(peso_bebe) AS media_peso FROM bebes;\n",
        "\n",
        "'''"
      ],
      "metadata": {
        "id": "4khlZD_4h6xa"
      },
      "execution_count": null,
      "outputs": []
    },
    {
      "cell_type": "code",
      "source": [
        "#CONSULTA COM CONDIÇÕES (FILTROS) - WHERE\n",
        "\n",
        "'''\n",
        "SINTAXE: \n",
        "\n",
        "SELECT colunas FROM tabela WHERE condição\n",
        "\n",
        "'''"
      ],
      "metadata": {
        "id": "rTsefhjZkYck"
      },
      "execution_count": null,
      "outputs": []
    },
    {
      "cell_type": "code",
      "source": [
        "#CONSULTAR OS MEDICOS ONDE A ESPECIALIDADE É PEDIATRIA\n",
        "\n",
        "'''\n",
        "SELECT * FROM medicos espec_medico = 'Pediatra';\n",
        "'''"
      ],
      "metadata": {
        "id": "eztiDQ1zoQyx"
      },
      "execution_count": null,
      "outputs": []
    },
    {
      "cell_type": "code",
      "source": [
        "# NO COMANDO WHERE PODEMOS UTILIZAR OS SEGUINTES OPERADORES\n",
        "'''\n",
        "\n",
        " = igual\n",
        " != ou <> diferente\n",
        " > maior\n",
        " >= maior ou igual\n",
        " < menor\n",
        " <= menor ou igual\n",
        "\n",
        " LIKE - COMO\n",
        " BETWEEN - ENTRE\n",
        " IN - EM\n",
        "\n",
        "'''"
      ],
      "metadata": {
        "id": "eE0Y3UoSpApT"
      },
      "execution_count": null,
      "outputs": []
    },
    {
      "cell_type": "code",
      "source": [
        "#VERIFICAR OS BEBÊS QUE NASCERAM COM ALTURA MAIOR QUE 50cm\n",
        "'''\n",
        "SELECT * FROM bebes WHERE altura_bebe > 50;\n",
        "'''"
      ],
      "metadata": {
        "id": "7vilU1SHpkZJ"
      },
      "execution_count": null,
      "outputs": []
    },
    {
      "cell_type": "code",
      "source": [
        "#VERIFICAR OS BEBÊS QUE NASCERAM COM MENOS DE 3kg\n",
        "'''\n",
        "SELECT * FROM bebes WHERE peso_bebe < 3;\n",
        "'''"
      ],
      "metadata": {
        "id": "suOYqmbNpp8N"
      },
      "execution_count": null,
      "outputs": []
    },
    {
      "cell_type": "code",
      "source": [
        "#VERIFICAR AS MÃES QUE SÃO DO ESTADO DA PARAÍBA\n",
        "\n",
        "'''\n",
        "SELECT * FROM maes WHERE estado = 'PB';\n",
        "\n",
        "'''"
      ],
      "metadata": {
        "id": "53hIcGpap3Ja"
      },
      "execution_count": null,
      "outputs": []
    },
    {
      "cell_type": "code",
      "source": [
        "#VERIFICAR TODAS AS MÃES QUE MORAM EM CASAS\n",
        "'''\n",
        "SELECT * FROM maes WHERE complemento = 'Casa';\n",
        "'''"
      ],
      "metadata": {
        "id": "lUgAGIHTqCay"
      },
      "execution_count": null,
      "outputs": []
    },
    {
      "cell_type": "code",
      "source": [
        "#VERIFICAR A QUANTIDADE DE MÃES QUE MORAM EM CASAS\n",
        "'''\n",
        "SELECT COUNT(*) AS QTD_MAES FROM maes WHERE complemento = 'Casa';\n",
        "'''"
      ],
      "metadata": {
        "id": "MNtm56oOvX_m"
      },
      "execution_count": null,
      "outputs": []
    },
    {
      "cell_type": "code",
      "source": [
        "#MOSTRAR ID, NOME E DATA DE NASCIMENTO DO BEBÊ QUE POSSUI O ID NÚMERO 3\n",
        "'''\n",
        "SELECT id_bebe, nome_bebe, data_nasc FROM bebes WHERE id = 3;\n",
        "'''"
      ],
      "metadata": {
        "id": "vKc_jtLsqtXO"
      },
      "execution_count": null,
      "outputs": []
    },
    {
      "cell_type": "code",
      "source": [
        "#AND, OR, NOT, IN\n",
        "'''\n",
        " CONDIÇÕES COMPLEMENTARES - AND\n",
        " CONDIÇÕES ALTERNATIVAS - OR\n",
        " NEGAR UMA CONDIÇÃO - NOT\n",
        " CONDIÇÃO ALTERNATIVAS - IN (VÁRIOS OR) \n",
        "'''"
      ],
      "metadata": {
        "id": "ZKWP7nFmpv6i"
      },
      "execution_count": null,
      "outputs": []
    },
    {
      "cell_type": "code",
      "source": [
        "#BUSCAR TODOS OS BEBES QUE POSSUEM ALTURA MAIOR QUE 49cm E PESO MENOR QUE 3kg\n",
        "'''\n",
        "\n",
        "SELECT * FROM bebes WHERE altura_bebe > 49 AND peso_bebe < 3;\n",
        "\n",
        "'''"
      ],
      "metadata": {
        "id": "yi0l6w6Zw1px"
      },
      "execution_count": null,
      "outputs": []
    },
    {
      "cell_type": "code",
      "source": [
        "#BUSCAR TODAS OS MÉDICOS QUE SÃO ANESTESISTAS OU PEDIATRAS.\n",
        "'''\n",
        "SELECT * FROM medicos WHERE espec_medico = 'Anestesista' OR espec_medico = 'Pediatra';\n",
        "\n",
        "'''"
      ],
      "metadata": {
        "id": "BNXWDp8RxqMU"
      },
      "execution_count": null,
      "outputs": []
    },
    {
      "cell_type": "code",
      "source": [
        "#BUSCAR TODAS OS MÉDICOS QUE NÃO SÃO ANESTESISTAS.\n",
        "'''\n",
        "SELECT * FROM medicos WHERE NOT espec_medico = 'Anestesista';\n",
        "\n",
        "'''"
      ],
      "metadata": {
        "id": "LxSr4V9GyM3e"
      },
      "execution_count": null,
      "outputs": []
    },
    {
      "cell_type": "code",
      "source": [
        "#BUSCAR TODAS OS MÉDICOS QUE SÃO ANESTESISTAS OU PEDIATRAS - UTILIZANDO O IN\n",
        "\n",
        "'''\n",
        "SELECT * FROM medicos WHERE espec_medico IN ('Anestesista', 'Pediatra');\n",
        "\n",
        "'''"
      ],
      "metadata": {
        "id": "fBbHp7kRyvGH"
      },
      "execution_count": null,
      "outputs": []
    },
    {
      "cell_type": "code",
      "source": [
        "#BUSCAR TODAS OS MÉDICOS QUE NÃO SÃO ANESTESISTAS OU PEDIATRAS - UTILIZANDO O IN\n",
        "\n",
        "'''\n",
        "SELECT * FROM medicos WHERE espec_medico NOT IN ('Anestesista', 'Pediatra');\n",
        "\n",
        "'''"
      ],
      "metadata": {
        "id": "OuXRhv4q0lFQ"
      },
      "execution_count": null,
      "outputs": []
    },
    {
      "cell_type": "code",
      "source": [
        "#VERIFICAR TODOS OS BEBÊS QUE NASCERAM ENTRE JANEIRO DE 2016 E DEZEMBRO DE 2017\n",
        "'''\n",
        "SELECT * FROM bebes WHERE data_nasc >= '2016-01-01' AND data_nasc <= '2017-12-31';\n",
        "'''"
      ],
      "metadata": {
        "id": "nRvkHb8nqGnV"
      },
      "execution_count": null,
      "outputs": []
    },
    {
      "cell_type": "code",
      "source": [
        "#MESMO EXEMPLO ANTERIOR UTILIZANDO O BETWEEN\n",
        "'''\n",
        "\n",
        "SELECT * FROM bebes WHERE data_nasc BETWEEN '2016-01-01' AND '2017-12-31';\n",
        "\n",
        "\n",
        "'''"
      ],
      "metadata": {
        "id": "Ls6Yxz1XzyWc"
      },
      "execution_count": null,
      "outputs": []
    },
    {
      "cell_type": "code",
      "source": [
        "'''\n",
        "INSERT INTO maes VALUES (NULL, 'Patrícia da Silva Viera', '1992-03-11', '66588744122', 'Vila Humaitá', 396, 'Casa', 'Colônia Oliveira Machado', 'Manaus', 'AM', '69074-170');\n",
        "\n",
        "'''"
      ],
      "metadata": {
        "id": "T62Psate7DYw"
      },
      "execution_count": null,
      "outputs": []
    },
    {
      "cell_type": "code",
      "source": [
        "#JOIN"
      ],
      "metadata": {
        "id": "6FxKEk5P7zqm"
      },
      "execution_count": null,
      "outputs": []
    },
    {
      "cell_type": "code",
      "source": [
        "#Mostrar o id da mãe,  nome da mãe junto com o nome do bebê dela, o peso e a altura do bebê e a data de nascimento\n",
        "'''\n",
        "SELECT maes.id_mae, maes.nome_mae, maes.data_nasc, bebes.nome_bebe, bebes.peso_bebe, bebes.altura_bebe, bebes.data_nasc\n",
        "FROM maes INNER JOIN bebes\n",
        "ON maes.id_mae = bebes.id_mae;\n",
        "\n",
        "SELECT maes.id_mae, bebes.id_mae, maes.nome_mae, maes.data_nasc, bebes.nome_bebe, bebes.peso_bebe, bebes.altura_bebe, bebes.data_nasc\n",
        "FROM maes INNER JOIN bebes\n",
        "ON maes.id_mae = bebes.id_mae;\n",
        "'''\n"
      ],
      "metadata": {
        "id": "L6Eh3e2oBD8Z"
      },
      "execution_count": null,
      "outputs": []
    },
    {
      "cell_type": "code",
      "source": [
        "''' INNER JOIN\n",
        "(JUNTAR AS LINHAS DE TABELAS DIFERENTES QUE POSSUEM VALORES EM COMUM - PK e FK)\n",
        "\n",
        "SELECT maes.data_nasc, bebes.data_nasc\n",
        "\n",
        "'''\n"
      ],
      "metadata": {
        "id": "5nuIs2U-Cva8"
      },
      "execution_count": null,
      "outputs": []
    },
    {
      "cell_type": "code",
      "source": [
        "'''\n",
        "SELECT maes.nome_mae, telefones_maes.numero_telefone\n",
        "\n",
        "FROM maes\n",
        "\n",
        "INNER JOIN telefones_maes\n",
        "\n",
        "ON maes.id_mae = telefones_maes.id_mae\n",
        "\n",
        "OU DE MANEIRA MAIS SIMPLIFICADA\n",
        "\n",
        "SELECT m.nome_mae, t.numero_telefone\n",
        "\n",
        "FROM maes as m\n",
        "\n",
        "INNER JOIN telefones_maes as t\n",
        "\n",
        "ON m.id_mae = t.id_mae\n",
        "\n",
        "'''"
      ],
      "metadata": {
        "id": "LJy9inOJmHXT"
      },
      "execution_count": null,
      "outputs": []
    },
    {
      "cell_type": "code",
      "source": [
        "#Mostrar o id da mãe, nome da mãe e o número de cada telefone dela\n",
        "'''\n",
        "SELECT maes.id_mae, maes.nome_mae, telefones_maes.numero_telefone\n",
        "\n",
        "FROM maes\n",
        "\n",
        "INNER JOIN telefones_maes\n",
        "\n",
        "ON maes.id_mae = telefones_maes.id_mae\n",
        "\n",
        "OU DE MANEIRA MAIS SIMPLIFICADA\n",
        "\n",
        "SELECT m.nome_mae, m.nome_mae, t.numero_telefone\n",
        "\n",
        "FROM maes as m\n",
        "\n",
        "INNER JOIN telefones_maes as t\n",
        "\n",
        "ON m.id_mae = t.id_mae\n",
        "'''"
      ],
      "metadata": {
        "id": "y8AqBEwfIQTO"
      },
      "execution_count": null,
      "outputs": []
    },
    {
      "cell_type": "code",
      "source": [
        "# Nome do bebê junto com o nome do médico que fez o seu parto\n",
        "'''\n",
        "SELECT b.nome_bebe, m.nome_medico\n",
        "\n",
        "FROM bebes AS b \n",
        "\n",
        "INNER JOIN medicos AS m \n",
        "\n",
        "ON b.id_medico = m.id_medico;\n",
        "\n",
        "'''"
      ],
      "metadata": {
        "id": "RKczoW2UIfLy"
      },
      "execution_count": null,
      "outputs": []
    },
    {
      "cell_type": "code",
      "source": [
        "# Nome do bebê, nome da mãe e nome do médico que fez o seu parto\n",
        "'''\n",
        "SELECT b.nome_bebe, m.nome_mae, med.nome_medico\n",
        "\n",
        "FROM bebes as b \n",
        "\n",
        "INNER JOIN maes as m \n",
        "\n",
        "ON b.id_mae = m.id_mae\n",
        "\n",
        "INNER JOIN medicos as med\n",
        "\n",
        "ON b.id_medico = med.id_medico;\n",
        "\n",
        "'''\n"
      ],
      "metadata": {
        "id": "wVAcebt2FhwL"
      },
      "execution_count": null,
      "outputs": []
    },
    {
      "cell_type": "code",
      "source": [
        "#Se o bebê teve um médico da especialidade Pediatria em seu parto, mostrar o crm do médico, junto com \n",
        "# o nome dele e o nome da mãe, juntamente com a sua cidade e estado e o nome do bebê.\n",
        "'''\n",
        "SELECT b.nome_bebe, m.nome_mae, m.cidade, m.estado, med.nome_medico, med.crm_medico\n",
        "\n",
        "FROM bebes as b \n",
        "\n",
        "INNER JOIN maes as m \n",
        "\n",
        "ON b.id_mae = m.id_mae\n",
        "\n",
        "INNER JOIN medicos as med\n",
        "\n",
        "ON b.id_medico = med.id_medico;\n",
        "\n",
        "WHERE med.espec_medico = 'Pediatra';\n",
        "\n",
        "'''\n"
      ],
      "metadata": {
        "id": "NkLmOjSbItu3"
      },
      "execution_count": null,
      "outputs": []
    },
    {
      "cell_type": "code",
      "source": [
        "#LEFT JOIN\n",
        "'''\n",
        "SELECT colunas\n",
        "\n",
        "FROM tabela1\n",
        "\n",
        "LEFT JOIN tabela2\n",
        "\n",
        "ON tabela1.id = tabela2.id;\n",
        "'''\n"
      ],
      "metadata": {
        "id": "8Ztyz_njzPku"
      },
      "execution_count": null,
      "outputs": []
    },
    {
      "cell_type": "code",
      "source": [
        "#RIGHT JOIN\n",
        "'''\n",
        "SELECT colunas\n",
        "\n",
        "FROM tabela1\n",
        "\n",
        "RIGHT JOIN tabela2\n",
        "\n",
        "ON tabela1.id = tabela2.id;\n",
        "\n",
        "'''"
      ],
      "metadata": {
        "id": "teXDR32WzSNy"
      },
      "execution_count": null,
      "outputs": []
    },
    {
      "cell_type": "code",
      "source": [
        "# FULL JOIN OU FULL OUTER JOIN\n",
        "'''\n",
        "SELECT colunas\n",
        "\n",
        "FROM tabela1\n",
        "\n",
        "FULL JOIN tabela2\n",
        "\n",
        "ON tabela1.id = tabela2.id;\n",
        "\n",
        "'''"
      ],
      "metadata": {
        "id": "tQGdgWvSzV_X"
      },
      "execution_count": null,
      "outputs": []
    },
    {
      "cell_type": "code",
      "source": [
        "# CASE WHEN\n",
        "\n",
        "'''\n",
        "SINTAXE:\n",
        "\n",
        "SELECT coluna\n",
        "\n",
        "CASE\n",
        "   WHEN coluna < 2.5 THEN 'Esse texto aqui'\n",
        "   WHEN coluna < 3.0 THEN 'Colocar esse outro texto'\n",
        "   WHEN coluna < 3.5 THEN 'Colocar esse outro texto'\n",
        "   ELSE 'Colocar esse texto final'\n",
        "END AS classificacao\n",
        "\n",
        "FROM tabela;\n"
      ],
      "metadata": {
        "id": "YdtHRoMjzciS"
      },
      "execution_count": null,
      "outputs": []
    },
    {
      "cell_type": "code",
      "source": [
        "# DELETAR UM REGISTRO DO BANCO DE DADOS\n",
        "'''\n",
        "DELETE FROM tabela WHERE condição\n",
        "\n",
        "DELETE FROM tabela;\n",
        "\n",
        "DELETE FROM bebes WHERE id_bebe = 1;\n",
        "\n",
        "DELETE FROM bebes WHERE peso_bebe > 4;\n",
        "\n",
        "'''"
      ],
      "metadata": {
        "id": "gps5YRiI81wG"
      },
      "execution_count": null,
      "outputs": []
    },
    {
      "cell_type": "code",
      "source": [
        "#ATUALIZAR UM REGISTRO DO BANCO DE DADOS\n",
        "'''\n",
        "UPDATE tabela SET nome_bebe = 'Florêncio Perez', altura_bebe = 50\n",
        "WHERE id_bebe = 2;\n",
        "\n",
        "\n",
        "UPDATE bebes SET id_bebe = 1 WHERE id_bebe = 9;\n",
        "\n",
        "DELETE FROM bebes;\n",
        "\n",
        "TRUNCATE TABLE bebes;\n",
        "\n",
        "UPDATE maes SET rua = '25 de março' WHERE id_mae = 1;\n",
        "'''"
      ],
      "metadata": {
        "id": "mL9d_OM5860u"
      },
      "execution_count": null,
      "outputs": []
    }
  ]
}