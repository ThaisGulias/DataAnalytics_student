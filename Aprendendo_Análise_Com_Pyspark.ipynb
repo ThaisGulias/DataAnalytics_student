{
  "nbformat": 4,
  "nbformat_minor": 0,
  "metadata": {
    "colab": {
      "provenance": [],
      "include_colab_link": true
    },
    "kernelspec": {
      "name": "python3",
      "display_name": "Python 3"
    },
    "language_info": {
      "name": "python"
    }
  },
  "cells": [
    {
      "cell_type": "markdown",
      "metadata": {
        "id": "view-in-github",
        "colab_type": "text"
      },
      "source": [
        "<a href=\"https://colab.research.google.com/github/thaisgulias/DataAnalytics_student/blob/main/Aprendendo_An%C3%A1lise_Com_Pyspark.ipynb\" target=\"_parent\"><img src=\"https://colab.research.google.com/assets/colab-badge.svg\" alt=\"Open In Colab\"/></a>"
      ]
    },
    {
      "cell_type": "code",
      "execution_count": null,
      "metadata": {
        "colab": {
          "base_uri": "https://localhost:8080/"
        },
        "id": "XSK_8KMLuN_m",
        "outputId": "a60f2a70-0d2f-4ee2-f68b-8d96ad6bae9e"
      },
      "outputs": [
        {
          "output_type": "stream",
          "name": "stdout",
          "text": [
            "Looking in indexes: https://pypi.org/simple, https://us-python.pkg.dev/colab-wheels/public/simple/\n",
            "Collecting pyspark\n",
            "  Downloading pyspark-3.3.2.tar.gz (281.4 MB)\n",
            "\u001b[2K     \u001b[90m━━━━━━━━━━━━━━━━━━━━━━━━━━━━━━━━━━━━━━━\u001b[0m \u001b[32m281.4/281.4 MB\u001b[0m \u001b[31m3.6 MB/s\u001b[0m eta \u001b[36m0:00:00\u001b[0m\n",
            "\u001b[?25h  Preparing metadata (setup.py) ... \u001b[?25l\u001b[?25hdone\n",
            "Collecting py4j==0.10.9.5\n",
            "  Downloading py4j-0.10.9.5-py2.py3-none-any.whl (199 kB)\n",
            "\u001b[2K     \u001b[90m━━━━━━━━━━━━━━━━━━━━━━━━━━━━━━━━━━━━━━\u001b[0m \u001b[32m199.7/199.7 kB\u001b[0m \u001b[31m19.1 MB/s\u001b[0m eta \u001b[36m0:00:00\u001b[0m\n",
            "\u001b[?25hBuilding wheels for collected packages: pyspark\n",
            "  Building wheel for pyspark (setup.py) ... \u001b[?25l\u001b[?25hdone\n",
            "  Created wheel for pyspark: filename=pyspark-3.3.2-py2.py3-none-any.whl size=281824028 sha256=57c49351b260d0e188157ff4a7f16304cbe50bb6c2d8fe7d1e7a888831467981\n",
            "  Stored in directory: /root/.cache/pip/wheels/6c/e3/9b/0525ce8a69478916513509d43693511463c6468db0de237c86\n",
            "Successfully built pyspark\n",
            "Installing collected packages: py4j, pyspark\n",
            "  Attempting uninstall: py4j\n",
            "    Found existing installation: py4j 0.10.9.7\n",
            "    Uninstalling py4j-0.10.9.7:\n",
            "      Successfully uninstalled py4j-0.10.9.7\n",
            "Successfully installed py4j-0.10.9.5 pyspark-3.3.2\n"
          ]
        }
      ],
      "source": [
        "!pip install pyspark"
      ]
    },
    {
      "cell_type": "code",
      "source": [
        "!pip install gcsfs"
      ],
      "metadata": {
        "colab": {
          "base_uri": "https://localhost:8080/"
        },
        "id": "pe34H7pPoTIl",
        "outputId": "c22d7685-b3a7-4047-b601-f20466247fbb"
      },
      "execution_count": null,
      "outputs": [
        {
          "output_type": "stream",
          "name": "stdout",
          "text": [
            "Looking in indexes: https://pypi.org/simple, https://us-python.pkg.dev/colab-wheels/public/simple/\n",
            "Collecting gcsfs\n",
            "  Downloading gcsfs-2023.4.0-py2.py3-none-any.whl (26 kB)\n",
            "Collecting fsspec==2023.4.0\n",
            "  Downloading fsspec-2023.4.0-py3-none-any.whl (153 kB)\n",
            "\u001b[2K     \u001b[90m━━━━━━━━━━━━━━━━━━━━━━━━━━━━━━━━━━━━━━━\u001b[0m \u001b[32m154.0/154.0 kB\u001b[0m \u001b[31m6.2 MB/s\u001b[0m eta \u001b[36m0:00:00\u001b[0m\n",
            "\u001b[?25hRequirement already satisfied: requests in /usr/local/lib/python3.9/dist-packages (from gcsfs) (2.27.1)\n",
            "Requirement already satisfied: google-cloud-storage in /usr/local/lib/python3.9/dist-packages (from gcsfs) (2.8.0)\n",
            "Requirement already satisfied: google-auth>=1.2 in /usr/local/lib/python3.9/dist-packages (from gcsfs) (2.17.2)\n",
            "Requirement already satisfied: google-auth-oauthlib in /usr/local/lib/python3.9/dist-packages (from gcsfs) (1.0.0)\n",
            "Requirement already satisfied: decorator>4.1.2 in /usr/local/lib/python3.9/dist-packages (from gcsfs) (4.4.2)\n",
            "Collecting aiohttp!=4.0.0a0,!=4.0.0a1\n",
            "  Downloading aiohttp-3.8.4-cp39-cp39-manylinux_2_17_x86_64.manylinux2014_x86_64.whl (1.0 MB)\n",
            "\u001b[2K     \u001b[90m━━━━━━━━━━━━━━━━━━━━━━━━━━━━━━━━━━━━━━━━\u001b[0m \u001b[32m1.0/1.0 MB\u001b[0m \u001b[31m24.1 MB/s\u001b[0m eta \u001b[36m0:00:00\u001b[0m\n",
            "\u001b[?25hRequirement already satisfied: attrs>=17.3.0 in /usr/local/lib/python3.9/dist-packages (from aiohttp!=4.0.0a0,!=4.0.0a1->gcsfs) (22.2.0)\n",
            "Collecting frozenlist>=1.1.1\n",
            "  Downloading frozenlist-1.3.3-cp39-cp39-manylinux_2_5_x86_64.manylinux1_x86_64.manylinux_2_17_x86_64.manylinux2014_x86_64.whl (158 kB)\n",
            "\u001b[2K     \u001b[90m━━━━━━━━━━━━━━━━━━━━━━━━━━━━━━━━━━━━━━\u001b[0m \u001b[32m158.8/158.8 kB\u001b[0m \u001b[31m18.0 MB/s\u001b[0m eta \u001b[36m0:00:00\u001b[0m\n",
            "\u001b[?25hRequirement already satisfied: charset-normalizer<4.0,>=2.0 in /usr/local/lib/python3.9/dist-packages (from aiohttp!=4.0.0a0,!=4.0.0a1->gcsfs) (2.0.12)\n",
            "Collecting yarl<2.0,>=1.0\n",
            "  Downloading yarl-1.8.2-cp39-cp39-manylinux_2_17_x86_64.manylinux2014_x86_64.whl (264 kB)\n",
            "\u001b[2K     \u001b[90m━━━━━━━━━━━━━━━━━━━━━━━━━━━━━━━━━━━━━━\u001b[0m \u001b[32m264.6/264.6 kB\u001b[0m \u001b[31m13.3 MB/s\u001b[0m eta \u001b[36m0:00:00\u001b[0m\n",
            "\u001b[?25hCollecting aiosignal>=1.1.2\n",
            "  Downloading aiosignal-1.3.1-py3-none-any.whl (7.6 kB)\n",
            "Collecting async-timeout<5.0,>=4.0.0a3\n",
            "  Downloading async_timeout-4.0.2-py3-none-any.whl (5.8 kB)\n",
            "Collecting multidict<7.0,>=4.5\n",
            "  Downloading multidict-6.0.4-cp39-cp39-manylinux_2_17_x86_64.manylinux2014_x86_64.whl (114 kB)\n",
            "\u001b[2K     \u001b[90m━━━━━━━━━━━━━━━━━━━━━━━━━━━━━━━━━━━━━━\u001b[0m \u001b[32m114.2/114.2 kB\u001b[0m \u001b[31m11.8 MB/s\u001b[0m eta \u001b[36m0:00:00\u001b[0m\n",
            "\u001b[?25hRequirement already satisfied: cachetools<6.0,>=2.0.0 in /usr/local/lib/python3.9/dist-packages (from google-auth>=1.2->gcsfs) (5.3.0)\n",
            "Requirement already satisfied: rsa<5,>=3.1.4 in /usr/local/lib/python3.9/dist-packages (from google-auth>=1.2->gcsfs) (4.9)\n",
            "Requirement already satisfied: six>=1.9.0 in /usr/local/lib/python3.9/dist-packages (from google-auth>=1.2->gcsfs) (1.16.0)\n",
            "Requirement already satisfied: pyasn1-modules>=0.2.1 in /usr/local/lib/python3.9/dist-packages (from google-auth>=1.2->gcsfs) (0.2.8)\n",
            "Requirement already satisfied: requests-oauthlib>=0.7.0 in /usr/local/lib/python3.9/dist-packages (from google-auth-oauthlib->gcsfs) (1.3.1)\n",
            "Requirement already satisfied: google-resumable-media>=2.3.2 in /usr/local/lib/python3.9/dist-packages (from google-cloud-storage->gcsfs) (2.4.1)\n",
            "Requirement already satisfied: google-api-core!=2.0.*,!=2.1.*,!=2.2.*,!=2.3.0,<3.0.0dev,>=1.31.5 in /usr/local/lib/python3.9/dist-packages (from google-cloud-storage->gcsfs) (2.11.0)\n",
            "Requirement already satisfied: google-cloud-core<3.0dev,>=2.3.0 in /usr/local/lib/python3.9/dist-packages (from google-cloud-storage->gcsfs) (2.3.2)\n",
            "Requirement already satisfied: urllib3<1.27,>=1.21.1 in /usr/local/lib/python3.9/dist-packages (from requests->gcsfs) (1.26.15)\n",
            "Requirement already satisfied: certifi>=2017.4.17 in /usr/local/lib/python3.9/dist-packages (from requests->gcsfs) (2022.12.7)\n",
            "Requirement already satisfied: idna<4,>=2.5 in /usr/local/lib/python3.9/dist-packages (from requests->gcsfs) (3.4)\n",
            "Requirement already satisfied: googleapis-common-protos<2.0dev,>=1.56.2 in /usr/local/lib/python3.9/dist-packages (from google-api-core!=2.0.*,!=2.1.*,!=2.2.*,!=2.3.0,<3.0.0dev,>=1.31.5->google-cloud-storage->gcsfs) (1.59.0)\n",
            "Requirement already satisfied: protobuf!=3.20.0,!=3.20.1,!=4.21.0,!=4.21.1,!=4.21.2,!=4.21.3,!=4.21.4,!=4.21.5,<5.0.0dev,>=3.19.5 in /usr/local/lib/python3.9/dist-packages (from google-api-core!=2.0.*,!=2.1.*,!=2.2.*,!=2.3.0,<3.0.0dev,>=1.31.5->google-cloud-storage->gcsfs) (3.20.3)\n",
            "Requirement already satisfied: google-crc32c<2.0dev,>=1.0 in /usr/local/lib/python3.9/dist-packages (from google-resumable-media>=2.3.2->google-cloud-storage->gcsfs) (1.5.0)\n",
            "Requirement already satisfied: pyasn1<0.5.0,>=0.4.6 in /usr/local/lib/python3.9/dist-packages (from pyasn1-modules>=0.2.1->google-auth>=1.2->gcsfs) (0.4.8)\n",
            "Requirement already satisfied: oauthlib>=3.0.0 in /usr/local/lib/python3.9/dist-packages (from requests-oauthlib>=0.7.0->google-auth-oauthlib->gcsfs) (3.2.2)\n",
            "Installing collected packages: multidict, fsspec, frozenlist, async-timeout, yarl, aiosignal, aiohttp, gcsfs\n",
            "  Attempting uninstall: fsspec\n",
            "    Found existing installation: fsspec 2023.3.0\n",
            "    Uninstalling fsspec-2023.3.0:\n",
            "      Successfully uninstalled fsspec-2023.3.0\n",
            "Successfully installed aiohttp-3.8.4 aiosignal-1.3.1 async-timeout-4.0.2 frozenlist-1.3.3 fsspec-2023.4.0 gcsfs-2023.4.0 multidict-6.0.4 yarl-1.8.2\n"
          ]
        }
      ]
    },
    {
      "cell_type": "code",
      "source": [
        "from pyspark.sql import SparkSession\n",
        "import pyspark.sql.functions as F\n",
        "import pandas as pd\n",
        "import numpy as np\n",
        "import matplotlib.pyplot as plt\n",
        "import seaborn as sns\n",
        "import warnings\n",
        "from google.cloud import storage\n",
        "import os\n",
        "warnings.filterwarnings(\"ignore\")"
      ],
      "metadata": {
        "id": "nHBPJWpBuvhI"
      },
      "execution_count": null,
      "outputs": []
    },
    {
      "cell_type": "code",
      "source": [
        "from google.colab import drive\n",
        "drive.mount('/content/drive')"
      ],
      "metadata": {
        "colab": {
          "base_uri": "https://localhost:8080/"
        },
        "id": "NrgOT-iAyllL",
        "outputId": "d5fa763b-c547-42c2-fb1d-5db730a4d67e"
      },
      "execution_count": null,
      "outputs": [
        {
          "output_type": "stream",
          "name": "stdout",
          "text": [
            "Mounted at /content/drive\n"
          ]
        }
      ]
    },
    {
      "cell_type": "code",
      "source": [
        "#CONFIGURAR A CHAVE\n",
        "serviceAccount = '/content/compact-epigram-377819-c2c380ae78c0.json'\n",
        "os.environ['GOOGLE_APPLICATION_CREDENTIALS'] = serviceAccount"
      ],
      "metadata": {
        "id": "R0H4gfWwmrYY"
      },
      "execution_count": null,
      "outputs": []
    },
    {
      "cell_type": "code",
      "source": [
        "#ACESSAR A BUCKET CRIADA\n",
        "client = storage.Client()\n",
        "\n",
        "bucket = client.get_bucket('projeto_spark')\n",
        "\n",
        "bucket.blob('dataset.csv')\n",
        "\n",
        "path = 'gs://projeto_spark/dataset.csv'"
      ],
      "metadata": {
        "id": "WyKp1T7hpMWv"
      },
      "execution_count": null,
      "outputs": []
    },
    {
      "cell_type": "code",
      "source": [
        "#CONFIGURAR A VARIÁVEL DE AMBIENTE (SESSÃO)\n",
        "spark = (SparkSession.builder\n",
        "                     .master('local[2]')\n",
        "                     .appName('ad1_pratica')\n",
        "                     .config('spark.ui.port', '4050')\n",
        "                     .config(\"spark.jars\", 'https://storage.googleapis.com/hadoop-lib/gcs/gcs-connector-hadoop2-latest.jar')\n",
        "                     .getOrCreate()\n",
        ")"
      ],
      "metadata": {
        "id": "hmzJuqanvbTi"
      },
      "execution_count": null,
      "outputs": []
    },
    {
      "cell_type": "code",
      "source": [
        "spark"
      ],
      "metadata": {
        "colab": {
          "base_uri": "https://localhost:8080/",
          "height": 219
        },
        "id": "1nFcc89H0Jma",
        "outputId": "56b0b8fe-461b-4462-fa16-3b78cb5a3236"
      },
      "execution_count": null,
      "outputs": [
        {
          "output_type": "execute_result",
          "data": {
            "text/plain": [
              "<pyspark.sql.session.SparkSession at 0x7f12bb9c4bb0>"
            ],
            "text/html": [
              "\n",
              "            <div>\n",
              "                <p><b>SparkSession - in-memory</b></p>\n",
              "                \n",
              "        <div>\n",
              "            <p><b>SparkContext</b></p>\n",
              "\n",
              "            <p><a href=\"http://7b9c66ab9c2b:4050\">Spark UI</a></p>\n",
              "\n",
              "            <dl>\n",
              "              <dt>Version</dt>\n",
              "                <dd><code>v3.3.2</code></dd>\n",
              "              <dt>Master</dt>\n",
              "                <dd><code>local[2]</code></dd>\n",
              "              <dt>AppName</dt>\n",
              "                <dd><code>ad1_pratica</code></dd>\n",
              "            </dl>\n",
              "        </div>\n",
              "        \n",
              "            </div>\n",
              "        "
            ]
          },
          "metadata": {},
          "execution_count": 6
        }
      ]
    },
    {
      "cell_type": "code",
      "source": [
        "#IMPORTEM O DATAFRAME DO DRIVE\n",
        "df = (\n",
        "    spark.read\n",
        "         .format('csv')\n",
        "         .option('delimiter', ',')\n",
        "         .option('header', 'true')\n",
        "         .option('inferschema', 'true')\n",
        "         .load(path)\n",
        ")"
      ],
      "metadata": {
        "id": "tcCT0YO7vgof"
      },
      "execution_count": null,
      "outputs": []
    },
    {
      "cell_type": "markdown",
      "source": [
        "ANÁLISE EXPLORATÓRIA DOS DADOS"
      ],
      "metadata": {
        "id": "Cqeix0dk0zjp"
      }
    },
    {
      "cell_type": "code",
      "source": [
        "#VISUALIZAR AS COLUNAS\n",
        "df.printSchema()"
      ],
      "metadata": {
        "colab": {
          "base_uri": "https://localhost:8080/"
        },
        "id": "wUxZVHT30wTU",
        "outputId": "be79b7cf-d55a-461f-c9be-9230b6f26213"
      },
      "execution_count": null,
      "outputs": [
        {
          "output_type": "stream",
          "name": "stdout",
          "text": [
            "root\n",
            " |-- customerid: integer (nullable = true)\n",
            " |-- age: integer (nullable = true)\n",
            " |-- salary: integer (nullable = true)\n",
            " |-- balance: integer (nullable = true)\n",
            " |-- marital: string (nullable = true)\n",
            " |-- jobedu: string (nullable = true)\n",
            " |-- targeted: string (nullable = true)\n",
            " |-- default: string (nullable = true)\n",
            " |-- housing: string (nullable = true)\n",
            " |-- loan: string (nullable = true)\n",
            " |-- contact: string (nullable = true)\n",
            " |-- day: integer (nullable = true)\n",
            " |-- month: string (nullable = true)\n",
            " |-- duration: string (nullable = true)\n",
            " |-- campaign: integer (nullable = true)\n",
            " |-- pdays: integer (nullable = true)\n",
            " |-- previous: integer (nullable = true)\n",
            " |-- poutcome: string (nullable = true)\n",
            " |-- response: string (nullable = true)\n",
            "\n"
          ]
        }
      ]
    },
    {
      "cell_type": "code",
      "source": [
        "len(df.columns)"
      ],
      "metadata": {
        "colab": {
          "base_uri": "https://localhost:8080/"
        },
        "id": "5sA6SLqn2Y9M",
        "outputId": "bc51113d-5feb-4f7e-fe1d-69003c66a1f1"
      },
      "execution_count": null,
      "outputs": [
        {
          "output_type": "execute_result",
          "data": {
            "text/plain": [
              "19"
            ]
          },
          "metadata": {},
          "execution_count": 13
        }
      ]
    },
    {
      "cell_type": "code",
      "source": [
        "#SHAPE\n",
        "print(f'({df.count()}, {len(df.columns)})')"
      ],
      "metadata": {
        "colab": {
          "base_uri": "https://localhost:8080/"
        },
        "id": "aKdduiLp2CeZ",
        "outputId": "09b608e0-1487-4304-c587-9b52807c2cfa"
      },
      "execution_count": null,
      "outputs": [
        {
          "output_type": "stream",
          "name": "stdout",
          "text": [
            "(45211, 19)\n"
          ]
        }
      ]
    },
    {
      "cell_type": "code",
      "source": [
        "#AMOSTRA DOS DADOS\n",
        "df.show()"
      ],
      "metadata": {
        "colab": {
          "base_uri": "https://localhost:8080/"
        },
        "id": "xpYTgYv62x-L",
        "outputId": "96a3f39a-f3da-412a-ab7f-992cf785e04c"
      },
      "execution_count": null,
      "outputs": [
        {
          "output_type": "stream",
          "name": "stdout",
          "text": [
            "+----------+---+------+-------+--------+--------------------+--------+-------+-------+----+-------+---+---------+--------+--------+-----+--------+--------+--------+\n",
            "|customerid|age|salary|balance| marital|              jobedu|targeted|default|housing|loan|contact|day|    month|duration|campaign|pdays|previous|poutcome|response|\n",
            "+----------+---+------+-------+--------+--------------------+--------+-------+-------+----+-------+---+---------+--------+--------+-----+--------+--------+--------+\n",
            "|         1| 58|100000|   2143| married| management,tertiary|     yes|     no|    yes|  no|unknown|  5|may, 2017| 261 sec|       1|   -1|       0| unknown|      no|\n",
            "|         2| 44| 60000|     29|  single|technician,secondary|     yes|     no|    yes|  no|unknown|  5|may, 2017| 151 sec|       1|   -1|       0| unknown|      no|\n",
            "|         3| 33|120000|      2| married|entrepreneur,seco...|     yes|     no|    yes| yes|unknown|  5|may, 2017|  76 sec|       1|   -1|       0| unknown|      no|\n",
            "|         4| 47| 20000|   1506| married| blue-collar,unknown|      no|     no|    yes|  no|unknown|  5|may, 2017|  92 sec|       1|   -1|       0| unknown|      no|\n",
            "|         5| 33|     0|      1|  single|     unknown,unknown|      no|     no|     no|  no|unknown|  5|may, 2017| 198 sec|       1|   -1|       0| unknown|      no|\n",
            "|         6| 35|100000|    231| married| management,tertiary|     yes|     no|    yes|  no|unknown|  5|may, 2017| 139 sec|       1|   -1|       0| unknown|      no|\n",
            "|         7| 28|100000|    447|  single| management,tertiary|      no|     no|    yes| yes|unknown|  5|may, 2017| 217 sec|       1|   -1|       0| unknown|      no|\n",
            "|         8| 42|120000|      2|divorced|entrepreneur,tert...|      no|    yes|    yes|  no|unknown|  5|may, 2017| 380 sec|       1|   -1|       0| unknown|      no|\n",
            "|         9| 58| 55000|    121| married|     retired,primary|     yes|     no|    yes|  no|unknown|  5|may, 2017|  50 sec|       1|   -1|       0| unknown|      no|\n",
            "|        10| 43| 60000|    593|  single|technician,secondary|     yes|     no|    yes|  no|unknown|  5|may, 2017|  55 sec|       1|   -1|       0| unknown|      no|\n",
            "|        11| 41| 50000|    270|divorced|    admin.,secondary|     yes|     no|    yes|  no|unknown|  5|may, 2017| 222 sec|       1|   -1|       0| unknown|      no|\n",
            "|        12| 29| 50000|    390|  single|    admin.,secondary|     yes|     no|    yes|  no|unknown|  5|may, 2017| 137 sec|       1|   -1|       0| unknown|      no|\n",
            "|        13| 53| 60000|      6| married|technician,secondary|     yes|     no|    yes|  no|unknown|  5|may, 2017| 517 sec|       1|   -1|       0| unknown|      no|\n",
            "|        14| 58| 60000|     71| married|  technician,unknown|      no|     no|    yes|  no|unknown|  5|may, 2017|  71 sec|       1|   -1|       0| unknown|      no|\n",
            "|        15| 57| 70000|    162| married|  services,secondary|     yes|     no|    yes|  no|unknown|  5|may, 2017| 174 sec|       1|   -1|       0| unknown|      no|\n",
            "|        16| 51| 55000|    229| married|     retired,primary|     yes|     no|    yes|  no|unknown|  5|may, 2017| 353 sec|       1|   -1|       0| unknown|      no|\n",
            "|        17| 45| 50000|     13|  single|      admin.,unknown|      no|     no|    yes|  no|unknown|  5|may, 2017|  98 sec|       1|   -1|       0| unknown|      no|\n",
            "|        18| 57| 20000|     52| married| blue-collar,primary|     yes|     no|    yes|  no|unknown|  5|may, 2017|  38 sec|       1|   -1|       0| unknown|      no|\n",
            "|        19| 60| 55000|     60| married|     retired,primary|     yes|     no|    yes|  no|unknown|  5|may, 2017| 219 sec|       1|   -1|       0| unknown|      no|\n",
            "|        20| 33| 70000|      0| married|  services,secondary|     yes|     no|    yes|  no|unknown|  5|may, 2017|  54 sec|       1|   -1|       0| unknown|      no|\n",
            "+----------+---+------+-------+--------+--------------------+--------+-------+-------+----+-------+---+---------+--------+--------+-----+--------+--------+--------+\n",
            "only showing top 20 rows\n",
            "\n"
          ]
        }
      ]
    },
    {
      "cell_type": "code",
      "source": [
        "df.printSchema()"
      ],
      "metadata": {
        "colab": {
          "base_uri": "https://localhost:8080/"
        },
        "id": "DlEwFCJq8Mgq",
        "outputId": "7ccf7365-2c46-45eb-8717-b4fbed0f405f"
      },
      "execution_count": null,
      "outputs": [
        {
          "output_type": "stream",
          "name": "stdout",
          "text": [
            "root\n",
            " |-- customerid: integer (nullable = true)\n",
            " |-- age: integer (nullable = true)\n",
            " |-- salary: integer (nullable = true)\n",
            " |-- balance: integer (nullable = true)\n",
            " |-- marital: string (nullable = true)\n",
            " |-- jobedu: string (nullable = true)\n",
            " |-- targeted: string (nullable = true)\n",
            " |-- default: string (nullable = true)\n",
            " |-- housing: string (nullable = true)\n",
            " |-- loan: string (nullable = true)\n",
            " |-- contact: string (nullable = true)\n",
            " |-- day: integer (nullable = true)\n",
            " |-- month: string (nullable = true)\n",
            " |-- duration: string (nullable = true)\n",
            " |-- campaign: integer (nullable = true)\n",
            " |-- pdays: integer (nullable = true)\n",
            " |-- previous: integer (nullable = true)\n",
            " |-- poutcome: string (nullable = true)\n",
            " |-- response: string (nullable = true)\n",
            "\n"
          ]
        }
      ]
    },
    {
      "cell_type": "code",
      "source": [
        "#FAZER UMA VERIFICAÇÃO DAS VARIÁVEIS (média, mediana, valor mínimo, valor máximo)\n",
        "lista_colunas = ['age', 'salary', 'balance', 'day', 'campaign', 'pdays', 'previous']\n",
        "df.select(lista_colunas).summary().show()"
      ],
      "metadata": {
        "colab": {
          "base_uri": "https://localhost:8080/"
        },
        "id": "TxiYVBai5OWL",
        "outputId": "fd43ca3a-629e-43ac-a506-c601faa0b122"
      },
      "execution_count": null,
      "outputs": [
        {
          "output_type": "stream",
          "name": "stdout",
          "text": [
            "+-------+------------------+-----------------+------------------+-----------------+-----------------+------------------+------------------+\n",
            "|summary|               age|           salary|           balance|              day|         campaign|             pdays|          previous|\n",
            "+-------+------------------+-----------------+------------------+-----------------+-----------------+------------------+------------------+\n",
            "|  count|             45191|            45185|             45211|            45211|            45211|             45211|             45211|\n",
            "|   mean| 40.93565090394105|57008.65331415293|1362.2720576850766|15.80641879188693|2.763840658246887| 40.19782796222158|0.5803233726305546|\n",
            "| stddev|10.619197578972605| 32086.0285215707|3044.7658291685257|8.322476153044594|3.098020883279192|100.12874599059828| 2.303441044931218|\n",
            "|    min|                18|                0|             -8019|                1|                1|                -1|                 0|\n",
            "|    25%|                33|            20000|                72|                8|                1|                -1|                 0|\n",
            "|    50%|                39|            60000|               448|               16|                2|                -1|                 0|\n",
            "|    75%|                48|            70000|              1426|               21|                3|                -1|                 0|\n",
            "|    max|                95|           120000|            102127|               31|               63|               871|               275|\n",
            "+-------+------------------+-----------------+------------------+-----------------+-----------------+------------------+------------------+\n",
            "\n"
          ]
        }
      ]
    },
    {
      "cell_type": "code",
      "source": [
        "#Verificar nas colunas se possuem valores nulos\n",
        "df.toPandas().isna().any()"
      ],
      "metadata": {
        "colab": {
          "base_uri": "https://localhost:8080/"
        },
        "id": "OCn78k_49ZcX",
        "outputId": "01ebd228-33a1-4a81-ef5c-c22d4aa7be8f"
      },
      "execution_count": null,
      "outputs": [
        {
          "output_type": "execute_result",
          "data": {
            "text/plain": [
              "customerid    False\n",
              "age            True\n",
              "salary         True\n",
              "balance       False\n",
              "marital       False\n",
              "jobedu        False\n",
              "targeted      False\n",
              "default       False\n",
              "housing       False\n",
              "loan          False\n",
              "contact       False\n",
              "day           False\n",
              "month          True\n",
              "duration      False\n",
              "campaign      False\n",
              "pdays         False\n",
              "previous      False\n",
              "poutcome      False\n",
              "response       True\n",
              "dtype: bool"
            ]
          },
          "metadata": {},
          "execution_count": 20
        }
      ]
    },
    {
      "cell_type": "code",
      "source": [
        "#Verificar nas colunas a quantidade de valores nulos\n",
        "df.toPandas().isna().sum()"
      ],
      "metadata": {
        "colab": {
          "base_uri": "https://localhost:8080/"
        },
        "id": "ydQvg9Vf-ICC",
        "outputId": "cf8d5802-40b0-4334-bab7-543335e8d877"
      },
      "execution_count": null,
      "outputs": [
        {
          "output_type": "execute_result",
          "data": {
            "text/plain": [
              "customerid     0\n",
              "age           20\n",
              "salary        26\n",
              "balance        0\n",
              "marital        0\n",
              "jobedu         0\n",
              "targeted       0\n",
              "default        0\n",
              "housing        0\n",
              "loan           0\n",
              "contact        0\n",
              "day            0\n",
              "month         50\n",
              "duration       0\n",
              "campaign       0\n",
              "pdays          0\n",
              "previous       0\n",
              "poutcome       0\n",
              "response      30\n",
              "dtype: int64"
            ]
          },
          "metadata": {},
          "execution_count": 22
        }
      ]
    },
    {
      "cell_type": "code",
      "source": [
        "#VERIFICAR SE NAS COLUNAS POSSUEM VALORES NULOS COM O Pyspark - Valores nulos NULL\n",
        "df.select([F.count(F.when(F.isnan(c) | F.col(c).isNull(), c)).alias(c) for c in df.columns]).show()"
      ],
      "metadata": {
        "colab": {
          "base_uri": "https://localhost:8080/"
        },
        "id": "1qPK0HqT-XsD",
        "outputId": "e4519b07-5d66-400b-d99c-d204f5a29abe"
      },
      "execution_count": null,
      "outputs": [
        {
          "output_type": "stream",
          "name": "stdout",
          "text": [
            "+----------+---+------+-------+-------+------+--------+-------+-------+----+-------+---+-----+--------+--------+-----+--------+--------+--------+\n",
            "|customerid|age|salary|balance|marital|jobedu|targeted|default|housing|loan|contact|day|month|duration|campaign|pdays|previous|poutcome|response|\n",
            "+----------+---+------+-------+-------+------+--------+-------+-------+----+-------+---+-----+--------+--------+-----+--------+--------+--------+\n",
            "|         0| 20|    26|      0|      0|     0|       0|      0|      0|   0|      0|  0|   50|       0|       0|    0|       0|       0|      30|\n",
            "+----------+---+------+-------+-------+------+--------+-------+-------+----+-------+---+-----+--------+--------+-----+--------+--------+--------+\n",
            "\n"
          ]
        }
      ]
    },
    {
      "cell_type": "code",
      "source": [
        "df.columns"
      ],
      "metadata": {
        "colab": {
          "base_uri": "https://localhost:8080/"
        },
        "id": "C1mAUi_pQ7zs",
        "outputId": "477ff52b-71f1-497a-b0c5-ea216f750057"
      },
      "execution_count": null,
      "outputs": [
        {
          "output_type": "execute_result",
          "data": {
            "text/plain": [
              "['customerid',\n",
              " 'age',\n",
              " 'salary',\n",
              " 'balance',\n",
              " 'marital',\n",
              " 'jobedu',\n",
              " 'targeted',\n",
              " 'default',\n",
              " 'housing',\n",
              " 'loan',\n",
              " 'contact',\n",
              " 'day',\n",
              " 'month',\n",
              " 'duration',\n",
              " 'campaign',\n",
              " 'pdays',\n",
              " 'previous',\n",
              " 'poutcome',\n",
              " 'response']"
            ]
          },
          "metadata": {},
          "execution_count": 23
        }
      ]
    },
    {
      "cell_type": "code",
      "source": [
        "#DROPAMOS A COLUNA DE ID, POIS ELA SERVE APENAS PARA IDENTIFICAR UM REGISTRO E NÃO SERÁ UTILIZADA NA NOSSA ANÁLISE\n",
        "df = df.drop(F.col('customerid'))"
      ],
      "metadata": {
        "id": "_YzjlifNOooa"
      },
      "execution_count": null,
      "outputs": []
    },
    {
      "cell_type": "code",
      "source": [
        "df.show()"
      ],
      "metadata": {
        "colab": {
          "base_uri": "https://localhost:8080/"
        },
        "id": "-V39L6i5ULYt",
        "outputId": "32aa303b-8c2a-4244-d46a-5476affe2596"
      },
      "execution_count": null,
      "outputs": [
        {
          "output_type": "stream",
          "name": "stdout",
          "text": [
            "+---+------+-------+--------+--------------------+--------+-------+-------+----+-------+---+---------+--------+--------+-----+--------+--------+--------+\n",
            "|age|salary|balance| marital|              jobedu|targeted|default|housing|loan|contact|day|    month|duration|campaign|pdays|previous|poutcome|response|\n",
            "+---+------+-------+--------+--------------------+--------+-------+-------+----+-------+---+---------+--------+--------+-----+--------+--------+--------+\n",
            "| 58|100000|   2143| married| management,tertiary|     yes|     no|    yes|  no|unknown|  5|may, 2017| 261 sec|       1|   -1|       0| unknown|      no|\n",
            "| 44| 60000|     29|  single|technician,secondary|     yes|     no|    yes|  no|unknown|  5|may, 2017| 151 sec|       1|   -1|       0| unknown|      no|\n",
            "| 33|120000|      2| married|entrepreneur,seco...|     yes|     no|    yes| yes|unknown|  5|may, 2017|  76 sec|       1|   -1|       0| unknown|      no|\n",
            "| 47| 20000|   1506| married| blue-collar,unknown|      no|     no|    yes|  no|unknown|  5|may, 2017|  92 sec|       1|   -1|       0| unknown|      no|\n",
            "| 33|     0|      1|  single|     unknown,unknown|      no|     no|     no|  no|unknown|  5|may, 2017| 198 sec|       1|   -1|       0| unknown|      no|\n",
            "| 35|100000|    231| married| management,tertiary|     yes|     no|    yes|  no|unknown|  5|may, 2017| 139 sec|       1|   -1|       0| unknown|      no|\n",
            "| 28|100000|    447|  single| management,tertiary|      no|     no|    yes| yes|unknown|  5|may, 2017| 217 sec|       1|   -1|       0| unknown|      no|\n",
            "| 42|120000|      2|divorced|entrepreneur,tert...|      no|    yes|    yes|  no|unknown|  5|may, 2017| 380 sec|       1|   -1|       0| unknown|      no|\n",
            "| 58| 55000|    121| married|     retired,primary|     yes|     no|    yes|  no|unknown|  5|may, 2017|  50 sec|       1|   -1|       0| unknown|      no|\n",
            "| 43| 60000|    593|  single|technician,secondary|     yes|     no|    yes|  no|unknown|  5|may, 2017|  55 sec|       1|   -1|       0| unknown|      no|\n",
            "| 41| 50000|    270|divorced|    admin.,secondary|     yes|     no|    yes|  no|unknown|  5|may, 2017| 222 sec|       1|   -1|       0| unknown|      no|\n",
            "| 29| 50000|    390|  single|    admin.,secondary|     yes|     no|    yes|  no|unknown|  5|may, 2017| 137 sec|       1|   -1|       0| unknown|      no|\n",
            "| 53| 60000|      6| married|technician,secondary|     yes|     no|    yes|  no|unknown|  5|may, 2017| 517 sec|       1|   -1|       0| unknown|      no|\n",
            "| 58| 60000|     71| married|  technician,unknown|      no|     no|    yes|  no|unknown|  5|may, 2017|  71 sec|       1|   -1|       0| unknown|      no|\n",
            "| 57| 70000|    162| married|  services,secondary|     yes|     no|    yes|  no|unknown|  5|may, 2017| 174 sec|       1|   -1|       0| unknown|      no|\n",
            "| 51| 55000|    229| married|     retired,primary|     yes|     no|    yes|  no|unknown|  5|may, 2017| 353 sec|       1|   -1|       0| unknown|      no|\n",
            "| 45| 50000|     13|  single|      admin.,unknown|      no|     no|    yes|  no|unknown|  5|may, 2017|  98 sec|       1|   -1|       0| unknown|      no|\n",
            "| 57| 20000|     52| married| blue-collar,primary|     yes|     no|    yes|  no|unknown|  5|may, 2017|  38 sec|       1|   -1|       0| unknown|      no|\n",
            "| 60| 55000|     60| married|     retired,primary|     yes|     no|    yes|  no|unknown|  5|may, 2017| 219 sec|       1|   -1|       0| unknown|      no|\n",
            "| 33| 70000|      0| married|  services,secondary|     yes|     no|    yes|  no|unknown|  5|may, 2017|  54 sec|       1|   -1|       0| unknown|      no|\n",
            "+---+------+-------+--------+--------------------+--------+-------+-------+----+-------+---+---------+--------+--------+-----+--------+--------+--------+\n",
            "only showing top 20 rows\n",
            "\n"
          ]
        }
      ]
    },
    {
      "cell_type": "code",
      "source": [
        "#SEPARAR A COLUNA job da coluna education (jobedu)\n",
        "#CRIAR COLUNA JOB - F.split(F.col(), separador).getItem(0)\n",
        "#CRIAR COLUNA EDUCATION - F.split(F.col(), separador).getItem(1)\n",
        "df = ( df.withColumn('job', F.split(F.col('jobedu'), ',').getItem(0))\n",
        "    .withColumn('education', F.split(F.col('jobedu'), ',').getItem(1))                  \n",
        ")"
      ],
      "metadata": {
        "id": "0Mo7LQzMVwH6"
      },
      "execution_count": null,
      "outputs": []
    },
    {
      "cell_type": "code",
      "source": [
        "#NÃO PRECISAMOS MAIS DA COLUNA jobedu, ENTÃO VAMOS DROPÁ-LA\n",
        "df = df.drop(F.col('jobedu'))"
      ],
      "metadata": {
        "id": "mgmBTHyFaT8H"
      },
      "execution_count": null,
      "outputs": []
    },
    {
      "cell_type": "markdown",
      "source": [
        "AGORA O PRÓXIMO PASSO É IDENTIFICAR OS VALORES AUSENTES NAS COLUNAS E REALIZAR ALGUM TIPO DE TRATAMENTO"
      ],
      "metadata": {
        "id": "zqNThtuKb3b2"
      }
    },
    {
      "cell_type": "code",
      "source": [
        "#ENCONTRAR A QUANTIDADE DE VALORES AUSENTES DA COLUNA AGE\n",
        "df.filter(F.col('age').isNull() | F.isnan(F.col('age'))).count()"
      ],
      "metadata": {
        "colab": {
          "base_uri": "https://localhost:8080/"
        },
        "id": "cuqd7IU-aMQa",
        "outputId": "e4adb43b-ebae-4c88-d5a1-9e3692a36268"
      },
      "execution_count": null,
      "outputs": [
        {
          "output_type": "execute_result",
          "data": {
            "text/plain": [
              "20"
            ]
          },
          "metadata": {},
          "execution_count": 47
        }
      ]
    },
    {
      "cell_type": "code",
      "source": [
        "#CALCULAR O PERCENTUAL DE VALORES AUSENTES NA VARIÁVEL AGE\n",
        "media = (df.filter(F.col('age').isNull() | F.isnan(F.col('age'))).count() / df.select('age').count() * 100)\n",
        "\n",
        "print(media)"
      ],
      "metadata": {
        "colab": {
          "base_uri": "https://localhost:8080/"
        },
        "id": "juUNTbe7dZZH",
        "outputId": "759d8bb0-6d17-4a5f-c388-e1aaa91280b8"
      },
      "execution_count": null,
      "outputs": [
        {
          "output_type": "stream",
          "name": "stdout",
          "text": [
            "0.0442370219636814\n"
          ]
        }
      ]
    },
    {
      "cell_type": "markdown",
      "source": [
        "Verificamos que o percentual de valores ausentes na coluna AGE é 0,04%.\n",
        "Para que eu pudesse excluir a coluna da análise, ela deveria ter no mínimo 30% de valores ausentes. Não podemos dropar a coluna nesse caso.\n",
        "\n",
        "O que resta fazer?\n",
        " - Eliminar os registros (linhas)\n",
        " - Imputação - Colocar algum valor no lugar dos nulos. Podemos colocar em grande parte dos casos uma MEDIDA DE TENDÊNCIA CENTRAL (média, mediana, moda)"
      ],
      "metadata": {
        "id": "iy-ri3iNhtVs"
      }
    },
    {
      "cell_type": "code",
      "source": [
        "#VAMOS FAZER ALGUNS GRÁFICOS SOBRE A COLUNA AGE PARA ANALISARMOS MELHOR"
      ],
      "metadata": {
        "id": "pwwKcqUWjAwv"
      },
      "execution_count": null,
      "outputs": []
    },
    {
      "cell_type": "code",
      "source": [
        "#HISTOGRAMA DA COLUNA AGE\n",
        "df.toPandas().age.plot(kind='hist')\n",
        "plt.title('Histograma da variável idade\\n')\n",
        "plt.show()"
      ],
      "metadata": {
        "colab": {
          "base_uri": "https://localhost:8080/",
          "height": 473
        },
        "id": "W-DVWbwojJ2m",
        "outputId": "6c79b26c-af9a-4262-f0c7-cf8c4127d27b"
      },
      "execution_count": null,
      "outputs": [
        {
          "output_type": "display_data",
          "data": {
            "text/plain": [
              "<Figure size 640x480 with 1 Axes>"
            ],
            "image/png": "[encoded data removed]"
          },
          "metadata": {}
        }
      ]
    },
    {
      "cell_type": "markdown",
      "source": [
        "Analisando o histograma, percebemos que os dados não seguem uma simetria. Portanto ele não segue uma distribuição normal. Não podemos utilizar a média para substituir os valores nulos."
      ],
      "metadata": {
        "id": "l7p25wWUkHhS"
      }
    },
    {
      "cell_type": "code",
      "source": [
        "#BOXPLOT DA COLUNA AGE\n",
        "sns.boxplot(df.toPandas().age)\n",
        "plt.title(\"Boxplot da coluna AGE\")\n",
        "plt.show()"
      ],
      "metadata": {
        "colab": {
          "base_uri": "https://localhost:8080/",
          "height": 452
        },
        "id": "nif8MoKjlCYJ",
        "outputId": "e9649e59-f6ff-4482-851e-3bfd12c9224d"
      },
      "execution_count": null,
      "outputs": [
        {
          "output_type": "display_data",
          "data": {
            "text/plain": [
              "<Figure size 640x480 with 1 Axes>"
            ],
            "image/png": "[encoded data removed]"
          },
          "metadata": {}
        }
      ]
    },
    {
      "cell_type": "code",
      "source": [
        "#VAMOS CALCULAR A MÉDIA DA IDADE\n",
        "df.select(F.avg('age')).show()"
      ],
      "metadata": {
        "colab": {
          "base_uri": "https://localhost:8080/"
        },
        "id": "21Q4MfsWmGBw",
        "outputId": "6cbf8328-afd6-4570-d9d2-deb5876c34ba"
      },
      "execution_count": null,
      "outputs": [
        {
          "output_type": "stream",
          "name": "stdout",
          "text": [
            "+-----------------+\n",
            "|         avg(age)|\n",
            "+-----------------+\n",
            "|40.93565090394105|\n",
            "+-----------------+\n",
            "\n"
          ]
        }
      ]
    },
    {
      "cell_type": "code",
      "source": [
        "#VAMOS CALCULAR A MEDIANA\n",
        "#df.select(F.percentile_approx(F.col('age'), 0.5)).show()\n",
        "df.toPandas().age.median()"
      ],
      "metadata": {
        "colab": {
          "base_uri": "https://localhost:8080/"
        },
        "id": "V_sDMrTwnGya",
        "outputId": "f06ef441-f45b-4243-93b9-642c7e69051b"
      },
      "execution_count": null,
      "outputs": [
        {
          "output_type": "execute_result",
          "data": {
            "text/plain": [
              "39.0"
            ]
          },
          "metadata": {},
          "execution_count": 56
        }
      ]
    },
    {
      "cell_type": "code",
      "source": [
        "#VAMOS CALCULAR A MODA\n",
        "df.toPandas().age.mode()"
      ],
      "metadata": {
        "colab": {
          "base_uri": "https://localhost:8080/"
        },
        "id": "ucurJ0xIn52x",
        "outputId": "bc60d63e-7f37-4d17-ab51-af4bff34185c"
      },
      "execution_count": null,
      "outputs": [
        {
          "output_type": "execute_result",
          "data": {
            "text/plain": [
              "0    32.0\n",
              "Name: age, dtype: float64"
            ]
          },
          "metadata": {},
          "execution_count": 55
        }
      ]
    },
    {
      "cell_type": "code",
      "source": [
        "#Backup do DF\n",
        "df_backup = df"
      ],
      "metadata": {
        "id": "GiF4L_W7sBct"
      },
      "execution_count": null,
      "outputs": []
    },
    {
      "cell_type": "code",
      "source": [
        "#IREMOS ESCOLHER A MODA, POIS SÃO POUCOS REGISTROS E ISSO NÃO IRÁ CAUSAR UM IMPACTO\n",
        "df = df.fillna(32, subset='age')"
      ],
      "metadata": {
        "id": "AyQjSK_usdq6"
      },
      "execution_count": null,
      "outputs": []
    },
    {
      "cell_type": "code",
      "source": [
        "#VAMOS CALCULAR A MÉDIA DA IDADE\n",
        "df.select(F.avg('age')).show()"
      ],
      "metadata": {
        "colab": {
          "base_uri": "https://localhost:8080/"
        },
        "id": "m4KBCpnStE91",
        "outputId": "94410b36-6f39-475a-9d27-5576f40f1cdd"
      },
      "execution_count": null,
      "outputs": [
        {
          "output_type": "stream",
          "name": "stdout",
          "text": [
            "+-----------------+\n",
            "|         avg(age)|\n",
            "+-----------------+\n",
            "|40.93169803808808|\n",
            "+-----------------+\n",
            "\n"
          ]
        }
      ]
    },
    {
      "cell_type": "code",
      "source": [
        "#VAMOS CALCULAR A MEDIANA\n",
        "#df.select(F.percentile_approx(F.col('age'), 0.5)).show()\n",
        "df.toPandas().age.median()"
      ],
      "metadata": {
        "colab": {
          "base_uri": "https://localhost:8080/"
        },
        "id": "4xDSCCHatKc9",
        "outputId": "3e6bc3f3-aa1b-41a3-f079-a1750711be8b"
      },
      "execution_count": null,
      "outputs": [
        {
          "output_type": "execute_result",
          "data": {
            "text/plain": [
              "39.0"
            ]
          },
          "metadata": {},
          "execution_count": 62
        }
      ]
    },
    {
      "cell_type": "code",
      "source": [
        "#CALCULAR O PERCENTUAL DE VALORES AUSENTES NA VARIÁVEL AGE\n",
        "media = (df.filter(F.col('age').isNull() | F.isnan(F.col('age'))).count() / df.select('age').count() * 100)\n",
        "\n",
        "print(media)"
      ],
      "metadata": {
        "colab": {
          "base_uri": "https://localhost:8080/"
        },
        "id": "3N293XRts-Eu",
        "outputId": "1cb389be-9b8d-4a65-9ab4-4466caa32420"
      },
      "execution_count": null,
      "outputs": [
        {
          "output_type": "stream",
          "name": "stdout",
          "text": [
            "0.0\n"
          ]
        }
      ]
    },
    {
      "cell_type": "markdown",
      "source": [
        "Continuando com as colunas com valores ausentes"
      ],
      "metadata": {
        "id": "jyOZ8or7uBEq"
      }
    },
    {
      "cell_type": "code",
      "source": [
        "df.select(F.col('month')).show()"
      ],
      "metadata": {
        "colab": {
          "base_uri": "https://localhost:8080/"
        },
        "id": "htzV5jk3uAOd",
        "outputId": "eb407286-540d-4a3f-c5ba-6ccd7858dc69"
      },
      "execution_count": null,
      "outputs": [
        {
          "output_type": "stream",
          "name": "stdout",
          "text": [
            "+---------+\n",
            "|    month|\n",
            "+---------+\n",
            "|may, 2017|\n",
            "|may, 2017|\n",
            "|may, 2017|\n",
            "|may, 2017|\n",
            "|may, 2017|\n",
            "|may, 2017|\n",
            "|may, 2017|\n",
            "|may, 2017|\n",
            "|may, 2017|\n",
            "|may, 2017|\n",
            "|may, 2017|\n",
            "|may, 2017|\n",
            "|may, 2017|\n",
            "|may, 2017|\n",
            "|may, 2017|\n",
            "|may, 2017|\n",
            "|may, 2017|\n",
            "|may, 2017|\n",
            "|may, 2017|\n",
            "|may, 2017|\n",
            "+---------+\n",
            "only showing top 20 rows\n",
            "\n"
          ]
        }
      ]
    },
    {
      "cell_type": "code",
      "source": [
        "#Calcular a quantidade de valores ausentes em month\n",
        "df.filter(F.col('month').isNull() | F.isnan(F.col('month'))).count()"
      ],
      "metadata": {
        "colab": {
          "base_uri": "https://localhost:8080/"
        },
        "id": "zOW0-U5GuMWD",
        "outputId": "99dd85c8-d921-411f-98c6-6757ae6d056e"
      },
      "execution_count": null,
      "outputs": [
        {
          "output_type": "execute_result",
          "data": {
            "text/plain": [
              "50"
            ]
          },
          "metadata": {},
          "execution_count": 67
        }
      ]
    },
    {
      "cell_type": "code",
      "source": [
        "#Calcular a porcentagem de valores ausentes em month\n",
        "media = (df.filter(F.col('month').isNull() | F.isnan(F.col('month'))).count() / df.select('month').count() * 100)\n",
        "\n",
        "print(media)"
      ],
      "metadata": {
        "colab": {
          "base_uri": "https://localhost:8080/"
        },
        "id": "ecASApbWuRzB",
        "outputId": "4348194e-57b1-4ef3-fc1a-180729e9b38e"
      },
      "execution_count": null,
      "outputs": [
        {
          "output_type": "stream",
          "name": "stdout",
          "text": [
            "0.11059255490920351\n"
          ]
        }
      ]
    },
    {
      "cell_type": "markdown",
      "source": [
        "Como não podemos dropar a coluna, teremos que buscar outras soluções:\n",
        "- imputação\n",
        "- Dropar as linhas"
      ],
      "metadata": {
        "id": "HhOxGR8CvrA9"
      }
    },
    {
      "cell_type": "code",
      "source": [
        "#VERIFICAR OS MESES QUE MAIS APARECEM\n",
        "#df.groupBy('month').count().orderBy('count', ascending=False).show()\n",
        "df.groupBy('month').count().orderBy(F.col('count').desc()).show()"
      ],
      "metadata": {
        "colab": {
          "base_uri": "https://localhost:8080/"
        },
        "id": "ar5KhxROv6jR",
        "outputId": "5560646a-6db1-43b2-8599-3788dc797b42"
      },
      "execution_count": null,
      "outputs": [
        {
          "output_type": "stream",
          "name": "stdout",
          "text": [
            "+---------+-----+\n",
            "|    month|count|\n",
            "+---------+-----+\n",
            "|may, 2017|13747|\n",
            "|jul, 2017| 6888|\n",
            "|aug, 2017| 6240|\n",
            "|jun, 2017| 5335|\n",
            "|nov, 2017| 3968|\n",
            "|apr, 2017| 2931|\n",
            "|feb, 2017| 2646|\n",
            "|jan, 2017| 1402|\n",
            "|oct, 2017|  738|\n",
            "|sep, 2017|  576|\n",
            "|mar, 2017|  476|\n",
            "|dec, 2017|  214|\n",
            "|     null|   50|\n",
            "+---------+-----+\n",
            "\n"
          ]
        }
      ]
    },
    {
      "cell_type": "code",
      "source": [
        "#IMPUTANDO OS VALORES NULOS DE month PARA A MODA may, 2017\n",
        "df = df.fillna('may, 2017', subset='month')"
      ],
      "metadata": {
        "id": "gSaGbCnVx3QB"
      },
      "execution_count": null,
      "outputs": []
    },
    {
      "cell_type": "code",
      "source": [
        "#Calcular a quantidade de valores ausentes em month\n",
        "df.filter(F.col('month').isNull() | F.isnan(F.col('month'))).count()"
      ],
      "metadata": {
        "colab": {
          "base_uri": "https://localhost:8080/"
        },
        "id": "GlavYmngyCDM",
        "outputId": "2c938f4d-d257-4693-8963-b3a0d5fa1ed1"
      },
      "execution_count": null,
      "outputs": [
        {
          "output_type": "execute_result",
          "data": {
            "text/plain": [
              "0"
            ]
          },
          "metadata": {},
          "execution_count": 78
        }
      ]
    },
    {
      "cell_type": "markdown",
      "source": [],
      "metadata": {
        "id": "SFwR8F1ZuRQS"
      }
    },
    {
      "cell_type": "code",
      "source": [
        "#Calcular a porcentagem de valores ausentes em month\n",
        "media = (df.filter(F.col('month').isNull() | F.isnan(F.col('month'))).count() / df.select('month').count() * 100)\n",
        "\n",
        "print(media)"
      ],
      "metadata": {
        "colab": {
          "base_uri": "https://localhost:8080/"
        },
        "id": "768iTYsGyHFO",
        "outputId": "cd967362-2eb7-4ce0-f297-cd42fa29d8fe"
      },
      "execution_count": null,
      "outputs": [
        {
          "output_type": "stream",
          "name": "stdout",
          "text": [
            "0.0\n"
          ]
        }
      ]
    },
    {
      "cell_type": "code",
      "source": [
        "#Verificar a quantidade de valores ausentes na coluna salary\n",
        "df.filter((F.col('salary').isNull() | F.isnan(F.col('salary')) | (F.col('salary') == 0))).count()"
      ],
      "metadata": {
        "colab": {
          "base_uri": "https://localhost:8080/"
        },
        "id": "KNCqPImSyJTr",
        "outputId": "319a943c-c45e-43b2-8961-fd54a1f6d49e"
      },
      "execution_count": null,
      "outputs": [
        {
          "output_type": "execute_result",
          "data": {
            "text/plain": [
              "314"
            ]
          },
          "metadata": {},
          "execution_count": 84
        }
      ]
    },
    {
      "cell_type": "code",
      "source": [
        "#Verificar a porcentagem de valores ausentes na coluna salary\n",
        "media = (df.filter((F.col('salary').isNull() | F.isnan(F.col('salary')) | (F.col('salary') == 0))).count() / df.select('salary').count() * 100)\n",
        "\n",
        "print(media)"
      ],
      "metadata": {
        "colab": {
          "base_uri": "https://localhost:8080/"
        },
        "id": "xtAdK6C0yQ3k",
        "outputId": "3dda9dab-1353-473a-dfbe-cffeda3cca69"
      },
      "execution_count": null,
      "outputs": [
        {
          "output_type": "stream",
          "name": "stdout",
          "text": [
            "0.694521244829798\n"
          ]
        }
      ]
    },
    {
      "cell_type": "code",
      "source": [
        "#Faça o Histograma da salary\n",
        "\n",
        "#calcule média, mediana e moda\n",
        "df.toPandas().salary.plot(kind = 'hist')\n",
        "plt.title('Histograma da coluna Salary')\n",
        "plt.show()"
      ],
      "metadata": {
        "colab": {
          "base_uri": "https://localhost:8080/",
          "height": 452
        },
        "id": "39Ui1ZPb0vcS",
        "outputId": "2c007984-db1d-47bd-be50-c97f32eeea47"
      },
      "execution_count": null,
      "outputs": [
        {
          "output_type": "display_data",
          "data": {
            "text/plain": [
              "<Figure size 640x480 with 1 Axes>"
            ],
            "image/png": "[encoded data removed]"
          },
          "metadata": {}
        }
      ]
    },
    {
      "cell_type": "code",
      "source": [
        "#Faça o boxplot da salary\n",
        "sns.boxplot(df.toPandas().salary)\n",
        "plt.title(\"Boxplot da coluna Salary\")\n",
        "plt.show()"
      ],
      "metadata": {
        "colab": {
          "base_uri": "https://localhost:8080/",
          "height": 452
        },
        "id": "uw3xVun_5qXS",
        "outputId": "56c45d8e-4f16-4e30-d46c-e6d9bbac8fe7"
      },
      "execution_count": null,
      "outputs": [
        {
          "output_type": "display_data",
          "data": {
            "text/plain": [
              "<Figure size 640x480 with 1 Axes>"
            ],
            "image/png": "[encoded data removed]"
          },
          "metadata": {}
        }
      ]
    },
    {
      "cell_type": "code",
      "source": [
        "#Calculo da Média\n",
        "df.select(F.avg('salary')).show()"
      ],
      "metadata": {
        "colab": {
          "base_uri": "https://localhost:8080/"
        },
        "id": "3HzmQPgK59fI",
        "outputId": "df42b634-26a7-4d0e-e67a-697232e9cae8"
      },
      "execution_count": null,
      "outputs": [
        {
          "output_type": "stream",
          "name": "stdout",
          "text": [
            "+-----------------+\n",
            "|      avg(salary)|\n",
            "+-----------------+\n",
            "|57008.65331415293|\n",
            "+-----------------+\n",
            "\n"
          ]
        }
      ]
    },
    {
      "cell_type": "code",
      "source": [
        "#Cálculo da Mediana\n",
        "df.select(F.percentile_approx(F.col('salary'), 0.5)).show()"
      ],
      "metadata": {
        "colab": {
          "base_uri": "https://localhost:8080/"
        },
        "id": "9Iqd18uU6IeR",
        "outputId": "0377d540-7575-4db4-e288-dee1c192ef98"
      },
      "execution_count": null,
      "outputs": [
        {
          "output_type": "stream",
          "name": "stdout",
          "text": [
            "+-------------------------------------+\n",
            "|percentile_approx(salary, 0.5, 10000)|\n",
            "+-------------------------------------+\n",
            "|                                60000|\n",
            "+-------------------------------------+\n",
            "\n"
          ]
        }
      ]
    },
    {
      "cell_type": "code",
      "source": [
        "#Cálculo da Moda\n",
        "df.toPandas().salary.mode()"
      ],
      "metadata": {
        "colab": {
          "base_uri": "https://localhost:8080/"
        },
        "id": "J38aVqXR6KPC",
        "outputId": "a0aab894-20da-4cd3-8db6-3bfb6ba74567"
      },
      "execution_count": null,
      "outputs": [
        {
          "output_type": "execute_result",
          "data": {
            "text/plain": [
              "0    20000.0\n",
              "Name: salary, dtype: float64"
            ]
          },
          "metadata": {},
          "execution_count": 90
        }
      ]
    },
    {
      "cell_type": "code",
      "source": [
        "#Substituição dos valores ausentes de salary para a mediana\n",
        "df = df.fillna(60000, subset='salary')"
      ],
      "metadata": {
        "id": "JJLRfS9F7OrG"
      },
      "execution_count": null,
      "outputs": []
    },
    {
      "cell_type": "code",
      "source": [
        "df = df.replace(0, 60000, subset='salary')"
      ],
      "metadata": {
        "id": "_wbfHmdQ9dQ-"
      },
      "execution_count": null,
      "outputs": []
    },
    {
      "cell_type": "code",
      "source": [
        "#Verificar a quantidade de valores ausentes na coluna salary\n",
        "df.filter((F.col('salary').isNull() | F.isnan(F.col('salary')) | (F.col('salary') == 0))).count()"
      ],
      "metadata": {
        "colab": {
          "base_uri": "https://localhost:8080/"
        },
        "id": "knMXxK1y9ZMM",
        "outputId": "f7d3d0ef-5bd8-4134-860d-a08eac36041b"
      },
      "execution_count": null,
      "outputs": [
        {
          "output_type": "execute_result",
          "data": {
            "text/plain": [
              "0"
            ]
          },
          "metadata": {},
          "execution_count": 98
        }
      ]
    },
    {
      "cell_type": "code",
      "source": [
        "#Faça o Histograma da salary\n",
        "\n",
        "#calcule média, mediana e moda\n",
        "df.toPandas().salary.plot(kind = 'hist')\n",
        "plt.title('Histograma da coluna Salary')\n",
        "plt.show()"
      ],
      "metadata": {
        "colab": {
          "base_uri": "https://localhost:8080/",
          "height": 452
        },
        "id": "amTWlnP-95zR",
        "outputId": "be85cf2d-b167-4388-aadf-b5714cf848ad"
      },
      "execution_count": null,
      "outputs": [
        {
          "output_type": "display_data",
          "data": {
            "text/plain": [
              "<Figure size 640x480 with 1 Axes>"
            ],
            "image/png": "[encoded data removed]"
          },
          "metadata": {}
        }
      ]
    },
    {
      "cell_type": "code",
      "source": [
        "#Calculo da Média\n",
        "df.select(F.avg('salary')).show()"
      ],
      "metadata": {
        "colab": {
          "base_uri": "https://localhost:8080/"
        },
        "outputId": "045f5f51-c284-4627-9519-f6ef9adc365e",
        "id": "Dg702se_-Biq"
      },
      "execution_count": null,
      "outputs": [
        {
          "output_type": "stream",
          "name": "stdout",
          "text": [
            "+-----------------+\n",
            "|      avg(salary)|\n",
            "+-----------------+\n",
            "|57392.58145141669|\n",
            "+-----------------+\n",
            "\n"
          ]
        }
      ]
    },
    {
      "cell_type": "code",
      "source": [
        "#Cálculo da Mediana\n",
        "df.select(F.percentile_approx(F.col('salary'), 0.5)).show()"
      ],
      "metadata": {
        "colab": {
          "base_uri": "https://localhost:8080/"
        },
        "outputId": "d9063c40-411a-49f8-c4dc-9f24b9698c89",
        "id": "Mcxt7idG-Bir"
      },
      "execution_count": null,
      "outputs": [
        {
          "output_type": "stream",
          "name": "stdout",
          "text": [
            "+-------------------------------------+\n",
            "|percentile_approx(salary, 0.5, 10000)|\n",
            "+-------------------------------------+\n",
            "|                                60000|\n",
            "+-------------------------------------+\n",
            "\n"
          ]
        }
      ]
    },
    {
      "cell_type": "code",
      "source": [
        "#Cálculo da Moda\n",
        "df.toPandas().salary.mode()"
      ],
      "metadata": {
        "colab": {
          "base_uri": "https://localhost:8080/"
        },
        "outputId": "ae65a5d9-18be-48f3-eb00-11f533ac45b8",
        "id": "OdcY775P-Bir"
      },
      "execution_count": null,
      "outputs": [
        {
          "output_type": "execute_result",
          "data": {
            "text/plain": [
              "0    20000\n",
              "Name: salary, dtype: int32"
            ]
          },
          "metadata": {},
          "execution_count": 102
        }
      ]
    },
    {
      "cell_type": "code",
      "source": [
        "df.toPandas().isna().sum()"
      ],
      "metadata": {
        "colab": {
          "base_uri": "https://localhost:8080/"
        },
        "id": "GcdMT65s-Ivi",
        "outputId": "b9cd69da-39c6-4fd1-fc03-a9f229600213"
      },
      "execution_count": null,
      "outputs": [
        {
          "output_type": "execute_result",
          "data": {
            "text/plain": [
              "age           0\n",
              "salary        0\n",
              "balance       0\n",
              "marital       0\n",
              "targeted      0\n",
              "default       0\n",
              "housing       0\n",
              "loan          0\n",
              "contact       0\n",
              "day           0\n",
              "month         0\n",
              "duration      0\n",
              "campaign      0\n",
              "pdays         0\n",
              "previous      0\n",
              "poutcome      0\n",
              "response     30\n",
              "job           0\n",
              "education     0\n",
              "dtype: int64"
            ]
          },
          "metadata": {},
          "execution_count": 103
        }
      ]
    },
    {
      "cell_type": "code",
      "source": [
        "#Quais as opções de respostas que aparecem na coluna response\n",
        "df.select(F.col('response')).distinct().show()\n",
        "df.select(F.col('response')).dropDuplicates().show()"
      ],
      "metadata": {
        "colab": {
          "base_uri": "https://localhost:8080/"
        },
        "id": "Qs6iJWuz-YOS",
        "outputId": "5b9b9a80-585f-4274-e13f-9634ff16d747"
      },
      "execution_count": null,
      "outputs": [
        {
          "output_type": "stream",
          "name": "stdout",
          "text": [
            "+--------+\n",
            "|response|\n",
            "+--------+\n",
            "|    null|\n",
            "|      no|\n",
            "|     yes|\n",
            "+--------+\n",
            "\n",
            "+--------+\n",
            "|response|\n",
            "+--------+\n",
            "|    null|\n",
            "|      no|\n",
            "|     yes|\n",
            "+--------+\n",
            "\n"
          ]
        }
      ]
    },
    {
      "cell_type": "code",
      "source": [
        "#Verificar quantidade de valores nulos em response\n",
        "df.filter((F.col('response').isNull() | F.isnan(F.col('response')))).count()"
      ],
      "metadata": {
        "colab": {
          "base_uri": "https://localhost:8080/"
        },
        "id": "C4IhXU9x-gIU",
        "outputId": "42050ca0-2958-4bc0-d7e1-004fb7623340"
      },
      "execution_count": null,
      "outputs": [
        {
          "output_type": "execute_result",
          "data": {
            "text/plain": [
              "30"
            ]
          },
          "metadata": {},
          "execution_count": 108
        }
      ]
    },
    {
      "cell_type": "code",
      "source": [
        "#Verificar percentual de valores nulos em response\n",
        "media = (df.filter((F.col('response').isNull() | F.isnan(F.col('response')))).count() / df.select('salary').count() * 100)\n",
        "\n",
        "print(media)"
      ],
      "metadata": {
        "colab": {
          "base_uri": "https://localhost:8080/"
        },
        "id": "Z7dghqMo-jb_",
        "outputId": "9b23fb22-a0fd-4318-afd2-8f9fc952a597"
      },
      "execution_count": null,
      "outputs": [
        {
          "output_type": "stream",
          "name": "stdout",
          "text": [
            "0.0663555329455221\n"
          ]
        }
      ]
    },
    {
      "cell_type": "code",
      "source": [
        "#Verificar quantidade de valores nulos em response\n",
        "df.filter((F.col('response').isNull() | F.isnan(F.col('response')))).count()"
      ],
      "metadata": {
        "colab": {
          "base_uri": "https://localhost:8080/"
        },
        "outputId": "42050ca0-2958-4bc0-d7e1-004fb7623340",
        "id": "p-M8fkLYEeVa"
      },
      "execution_count": null,
      "outputs": [
        {
          "output_type": "execute_result",
          "data": {
            "text/plain": [
              "30"
            ]
          },
          "metadata": {},
          "execution_count": 108
        }
      ]
    },
    {
      "cell_type": "code",
      "source": [
        "#Verificar percentual de valores nulos em response\n",
        "media = (df.filter((F.col('response').isNull() | F.isnan(F.col('response')))).count() / df.select('salary').count() * 100)\n",
        "\n",
        "print(media)"
      ],
      "metadata": {
        "colab": {
          "base_uri": "https://localhost:8080/"
        },
        "outputId": "9b23fb22-a0fd-4318-afd2-8f9fc952a597",
        "id": "5bMUnwXiEeVb"
      },
      "execution_count": null,
      "outputs": [
        {
          "output_type": "stream",
          "name": "stdout",
          "text": [
            "0.0663555329455221\n"
          ]
        }
      ]
    },
    {
      "cell_type": "code",
      "source": [
        "#Verificar o valor que aparece mais\n",
        "df.groupBy('response').count().show()"
      ],
      "metadata": {
        "colab": {
          "base_uri": "https://localhost:8080/"
        },
        "id": "R_XI1zhcAFaU",
        "outputId": "af10b5f9-dcca-423c-9df0-23bb37af7bb0"
      },
      "execution_count": null,
      "outputs": [
        {
          "output_type": "stream",
          "name": "stdout",
          "text": [
            "+--------+-----+\n",
            "|response|count|\n",
            "+--------+-----+\n",
            "|    null|   30|\n",
            "|      no|39894|\n",
            "|     yes| 5287|\n",
            "+--------+-----+\n",
            "\n"
          ]
        }
      ]
    },
    {
      "cell_type": "code",
      "source": [
        "df.select(F.col('response')).printSchema()"
      ],
      "metadata": {
        "colab": {
          "base_uri": "https://localhost:8080/"
        },
        "id": "0Gn2fnBH_8xX",
        "outputId": "e7b6d6b2-508e-4d3d-871d-35c4cf9c82a6"
      },
      "execution_count": null,
      "outputs": [
        {
          "output_type": "stream",
          "name": "stdout",
          "text": [
            "root\n",
            " |-- response: string (nullable = true)\n",
            "\n"
          ]
        }
      ]
    },
    {
      "cell_type": "code",
      "source": [
        "#DROPAR AS LINHAS QUE POSSUEM O VALOR NULO EM response, POIS ELA É A NOSSA VARIÁVEL ALVO E NÃO\n",
        "# PODEMOS IMPUTAR VALORES NELA\n",
        "df = df.dropna(how='any', subset='response')\n",
        "#df.filter(F.col('response').isNotNull())"
      ],
      "metadata": {
        "id": "Rk3j4Q0iBqQr"
      },
      "execution_count": null,
      "outputs": []
    },
    {
      "cell_type": "code",
      "source": [
        "#Verificar percentual de valores nulos em response\n",
        "media = (df.filter((F.col('response').isNull() | F.isnan(F.col('response')))).count() / df.select('salary').count() * 100)\n",
        "\n",
        "print(media)"
      ],
      "metadata": {
        "colab": {
          "base_uri": "https://localhost:8080/"
        },
        "id": "hGI9_NsvCnbC",
        "outputId": "1ce5cbc0-35d4-4a3c-d864-47bc0658130e"
      },
      "execution_count": null,
      "outputs": [
        {
          "output_type": "stream",
          "name": "stdout",
          "text": [
            "0.0\n"
          ]
        }
      ]
    },
    {
      "cell_type": "code",
      "source": [
        "df.show()"
      ],
      "metadata": {
        "colab": {
          "base_uri": "https://localhost:8080/"
        },
        "id": "65VmBGmHDKut",
        "outputId": "5973dee5-d0c0-4910-8dc3-604f195ff71e"
      },
      "execution_count": null,
      "outputs": [
        {
          "output_type": "stream",
          "name": "stdout",
          "text": [
            "+---+------+-------+--------+--------+-------+-------+----+-------+---+---------+--------+--------+-----+--------+--------+--------+------------+---------+\n",
            "|age|salary|balance| marital|targeted|default|housing|loan|contact|day|    month|duration|campaign|pdays|previous|poutcome|response|         job|education|\n",
            "+---+------+-------+--------+--------+-------+-------+----+-------+---+---------+--------+--------+-----+--------+--------+--------+------------+---------+\n",
            "| 58|100000|   2143| married|     yes|     no|    yes|  no|unknown|  5|may, 2017| 261 sec|       1|   -1|       0| unknown|      no|  management| tertiary|\n",
            "| 44| 60000|     29|  single|     yes|     no|    yes|  no|unknown|  5|may, 2017| 151 sec|       1|   -1|       0| unknown|      no|  technician|secondary|\n",
            "| 33|120000|      2| married|     yes|     no|    yes| yes|unknown|  5|may, 2017|  76 sec|       1|   -1|       0| unknown|      no|entrepreneur|secondary|\n",
            "| 47| 20000|   1506| married|      no|     no|    yes|  no|unknown|  5|may, 2017|  92 sec|       1|   -1|       0| unknown|      no| blue-collar|  unknown|\n",
            "| 33| 60000|      1|  single|      no|     no|     no|  no|unknown|  5|may, 2017| 198 sec|       1|   -1|       0| unknown|      no|     unknown|  unknown|\n",
            "| 35|100000|    231| married|     yes|     no|    yes|  no|unknown|  5|may, 2017| 139 sec|       1|   -1|       0| unknown|      no|  management| tertiary|\n",
            "| 28|100000|    447|  single|      no|     no|    yes| yes|unknown|  5|may, 2017| 217 sec|       1|   -1|       0| unknown|      no|  management| tertiary|\n",
            "| 42|120000|      2|divorced|      no|    yes|    yes|  no|unknown|  5|may, 2017| 380 sec|       1|   -1|       0| unknown|      no|entrepreneur| tertiary|\n",
            "| 58| 55000|    121| married|     yes|     no|    yes|  no|unknown|  5|may, 2017|  50 sec|       1|   -1|       0| unknown|      no|     retired|  primary|\n",
            "| 43| 60000|    593|  single|     yes|     no|    yes|  no|unknown|  5|may, 2017|  55 sec|       1|   -1|       0| unknown|      no|  technician|secondary|\n",
            "| 41| 50000|    270|divorced|     yes|     no|    yes|  no|unknown|  5|may, 2017| 222 sec|       1|   -1|       0| unknown|      no|      admin.|secondary|\n",
            "| 29| 50000|    390|  single|     yes|     no|    yes|  no|unknown|  5|may, 2017| 137 sec|       1|   -1|       0| unknown|      no|      admin.|secondary|\n",
            "| 53| 60000|      6| married|     yes|     no|    yes|  no|unknown|  5|may, 2017| 517 sec|       1|   -1|       0| unknown|      no|  technician|secondary|\n",
            "| 58| 60000|     71| married|      no|     no|    yes|  no|unknown|  5|may, 2017|  71 sec|       1|   -1|       0| unknown|      no|  technician|  unknown|\n",
            "| 57| 70000|    162| married|     yes|     no|    yes|  no|unknown|  5|may, 2017| 174 sec|       1|   -1|       0| unknown|      no|    services|secondary|\n",
            "| 51| 55000|    229| married|     yes|     no|    yes|  no|unknown|  5|may, 2017| 353 sec|       1|   -1|       0| unknown|      no|     retired|  primary|\n",
            "| 45| 50000|     13|  single|      no|     no|    yes|  no|unknown|  5|may, 2017|  98 sec|       1|   -1|       0| unknown|      no|      admin.|  unknown|\n",
            "| 57| 20000|     52| married|     yes|     no|    yes|  no|unknown|  5|may, 2017|  38 sec|       1|   -1|       0| unknown|      no| blue-collar|  primary|\n",
            "| 60| 55000|     60| married|     yes|     no|    yes|  no|unknown|  5|may, 2017| 219 sec|       1|   -1|       0| unknown|      no|     retired|  primary|\n",
            "| 33| 70000|      0| married|     yes|     no|    yes|  no|unknown|  5|may, 2017|  54 sec|       1|   -1|       0| unknown|      no|    services|secondary|\n",
            "+---+------+-------+--------+--------+-------+-------+----+-------+---+---------+--------+--------+-----+--------+--------+--------+------------+---------+\n",
            "only showing top 20 rows\n",
            "\n"
          ]
        }
      ]
    },
    {
      "cell_type": "code",
      "source": [
        "#Verificar os valores em pdays\n",
        "df.select(F.col('pdays')).distinct().orderBy('pdays', ascending=True).show()"
      ],
      "metadata": {
        "colab": {
          "base_uri": "https://localhost:8080/"
        },
        "id": "8dyES8sKD6Sw",
        "outputId": "70fad6d6-ead7-4052-aded-dd043a704a5a"
      },
      "execution_count": null,
      "outputs": [
        {
          "output_type": "stream",
          "name": "stdout",
          "text": [
            "+-----+\n",
            "|pdays|\n",
            "+-----+\n",
            "|   -1|\n",
            "|    1|\n",
            "|    2|\n",
            "|    3|\n",
            "|    4|\n",
            "|    5|\n",
            "|    6|\n",
            "|    7|\n",
            "|    8|\n",
            "|    9|\n",
            "|   10|\n",
            "|   12|\n",
            "|   13|\n",
            "|   14|\n",
            "|   15|\n",
            "|   17|\n",
            "|   18|\n",
            "|   19|\n",
            "|   20|\n",
            "|   21|\n",
            "+-----+\n",
            "only showing top 20 rows\n",
            "\n"
          ]
        }
      ]
    },
    {
      "cell_type": "code",
      "source": [
        "#Verificar percentual de valores nulos em response\n",
        "media = (df.filter((F.col('pdays').isNull() | F.isnan(F.col('pdays')))).count() / df.select('pdays').count() * 100)\n",
        "\n",
        "print(media)"
      ],
      "metadata": {
        "colab": {
          "base_uri": "https://localhost:8080/"
        },
        "id": "MJ-dXvagEQge",
        "outputId": "cb7da544-f8fc-45ae-c118-f056f374bb06"
      },
      "execution_count": null,
      "outputs": [
        {
          "output_type": "stream",
          "name": "stdout",
          "text": [
            "0.0\n"
          ]
        }
      ]
    },
    {
      "cell_type": "code",
      "source": [
        "df.filter(F.col('pdays') == -1).count()"
      ],
      "metadata": {
        "colab": {
          "base_uri": "https://localhost:8080/"
        },
        "id": "sY8uAnk0ExV4",
        "outputId": "3fbe3ac7-dbd8-486c-f1eb-5408d6a46b08"
      },
      "execution_count": null,
      "outputs": [
        {
          "output_type": "execute_result",
          "data": {
            "text/plain": [
              "36930"
            ]
          },
          "metadata": {},
          "execution_count": 122
        }
      ]
    },
    {
      "cell_type": "code",
      "source": [
        "#Verificar percentual de valores nulos em response\n",
        "media = (df.filter(F.col('pdays') == -1).count() / df.select('pdays').count() * 100)\n",
        "\n",
        "print(media)"
      ],
      "metadata": {
        "colab": {
          "base_uri": "https://localhost:8080/"
        },
        "id": "ZQy0F2CKE5eL",
        "outputId": "90c933cc-b0dd-4c15-97d3-537301c42e1e"
      },
      "execution_count": null,
      "outputs": [
        {
          "output_type": "stream",
          "name": "stdout",
          "text": [
            "81.73789867422147\n"
          ]
        }
      ]
    },
    {
      "cell_type": "code",
      "source": [
        "#Como a coluna pdays apresenta mais de 80% de valores ausentes, iremos dropá-la\n",
        "df = df.drop(F.col('pdays'))"
      ],
      "metadata": {
        "id": "T_NEjZuGFN15"
      },
      "execution_count": null,
      "outputs": []
    },
    {
      "cell_type": "code",
      "source": [
        "df.printSchema()"
      ],
      "metadata": {
        "colab": {
          "base_uri": "https://localhost:8080/"
        },
        "id": "XbujWfBCFYZW",
        "outputId": "1cf63934-04b5-4b28-d640-43aa9d84d7bc"
      },
      "execution_count": null,
      "outputs": [
        {
          "output_type": "stream",
          "name": "stdout",
          "text": [
            "root\n",
            " |-- age: integer (nullable = true)\n",
            " |-- salary: integer (nullable = true)\n",
            " |-- balance: integer (nullable = true)\n",
            " |-- marital: string (nullable = true)\n",
            " |-- targeted: string (nullable = true)\n",
            " |-- default: string (nullable = true)\n",
            " |-- housing: string (nullable = true)\n",
            " |-- loan: string (nullable = true)\n",
            " |-- contact: string (nullable = true)\n",
            " |-- day: integer (nullable = true)\n",
            " |-- month: string (nullable = false)\n",
            " |-- duration: string (nullable = true)\n",
            " |-- campaign: integer (nullable = true)\n",
            " |-- previous: integer (nullable = true)\n",
            " |-- poutcome: string (nullable = true)\n",
            " |-- response: string (nullable = true)\n",
            " |-- job: string (nullable = true)\n",
            " |-- education: string (nullable = true)\n",
            "\n"
          ]
        }
      ]
    },
    {
      "cell_type": "code",
      "source": [
        "df.show()"
      ],
      "metadata": {
        "colab": {
          "base_uri": "https://localhost:8080/"
        },
        "id": "xNLmTF1JFeoO",
        "outputId": "db41cd48-fbbe-45e8-c3bd-1cd35c3df47a"
      },
      "execution_count": null,
      "outputs": [
        {
          "output_type": "stream",
          "name": "stdout",
          "text": [
            "+---+------+-------+--------+--------+-------+-------+----+-------+---+---------+--------+--------+--------+--------+--------+------------+---------+\n",
            "|age|salary|balance| marital|targeted|default|housing|loan|contact|day|    month|duration|campaign|previous|poutcome|response|         job|education|\n",
            "+---+------+-------+--------+--------+-------+-------+----+-------+---+---------+--------+--------+--------+--------+--------+------------+---------+\n",
            "| 58|100000|   2143| married|     yes|     no|    yes|  no|unknown|  5|may, 2017| 261 sec|       1|       0| unknown|      no|  management| tertiary|\n",
            "| 44| 60000|     29|  single|     yes|     no|    yes|  no|unknown|  5|may, 2017| 151 sec|       1|       0| unknown|      no|  technician|secondary|\n",
            "| 33|120000|      2| married|     yes|     no|    yes| yes|unknown|  5|may, 2017|  76 sec|       1|       0| unknown|      no|entrepreneur|secondary|\n",
            "| 47| 20000|   1506| married|      no|     no|    yes|  no|unknown|  5|may, 2017|  92 sec|       1|       0| unknown|      no| blue-collar|  unknown|\n",
            "| 33| 60000|      1|  single|      no|     no|     no|  no|unknown|  5|may, 2017| 198 sec|       1|       0| unknown|      no|     unknown|  unknown|\n",
            "| 35|100000|    231| married|     yes|     no|    yes|  no|unknown|  5|may, 2017| 139 sec|       1|       0| unknown|      no|  management| tertiary|\n",
            "| 28|100000|    447|  single|      no|     no|    yes| yes|unknown|  5|may, 2017| 217 sec|       1|       0| unknown|      no|  management| tertiary|\n",
            "| 42|120000|      2|divorced|      no|    yes|    yes|  no|unknown|  5|may, 2017| 380 sec|       1|       0| unknown|      no|entrepreneur| tertiary|\n",
            "| 58| 55000|    121| married|     yes|     no|    yes|  no|unknown|  5|may, 2017|  50 sec|       1|       0| unknown|      no|     retired|  primary|\n",
            "| 43| 60000|    593|  single|     yes|     no|    yes|  no|unknown|  5|may, 2017|  55 sec|       1|       0| unknown|      no|  technician|secondary|\n",
            "| 41| 50000|    270|divorced|     yes|     no|    yes|  no|unknown|  5|may, 2017| 222 sec|       1|       0| unknown|      no|      admin.|secondary|\n",
            "| 29| 50000|    390|  single|     yes|     no|    yes|  no|unknown|  5|may, 2017| 137 sec|       1|       0| unknown|      no|      admin.|secondary|\n",
            "| 53| 60000|      6| married|     yes|     no|    yes|  no|unknown|  5|may, 2017| 517 sec|       1|       0| unknown|      no|  technician|secondary|\n",
            "| 58| 60000|     71| married|      no|     no|    yes|  no|unknown|  5|may, 2017|  71 sec|       1|       0| unknown|      no|  technician|  unknown|\n",
            "| 57| 70000|    162| married|     yes|     no|    yes|  no|unknown|  5|may, 2017| 174 sec|       1|       0| unknown|      no|    services|secondary|\n",
            "| 51| 55000|    229| married|     yes|     no|    yes|  no|unknown|  5|may, 2017| 353 sec|       1|       0| unknown|      no|     retired|  primary|\n",
            "| 45| 50000|     13|  single|      no|     no|    yes|  no|unknown|  5|may, 2017|  98 sec|       1|       0| unknown|      no|      admin.|  unknown|\n",
            "| 57| 20000|     52| married|     yes|     no|    yes|  no|unknown|  5|may, 2017|  38 sec|       1|       0| unknown|      no| blue-collar|  primary|\n",
            "| 60| 55000|     60| married|     yes|     no|    yes|  no|unknown|  5|may, 2017| 219 sec|       1|       0| unknown|      no|     retired|  primary|\n",
            "| 33| 70000|      0| married|     yes|     no|    yes|  no|unknown|  5|may, 2017|  54 sec|       1|       0| unknown|      no|    services|secondary|\n",
            "+---+------+-------+--------+--------+-------+-------+----+-------+---+---------+--------+--------+--------+--------+--------+------------+---------+\n",
            "only showing top 20 rows\n",
            "\n"
          ]
        }
      ]
    },
    {
      "cell_type": "markdown",
      "source": [],
      "metadata": {
        "id": "CdvQwZ4N8vmv"
      }
    },
    {
      "cell_type": "code",
      "source": [
        "#VERIFICAR SE NAS COLUNAS POSSUEM VALORES NULOS COM O Pyspark - Valores nulos NULL\n",
        "df.select([F.count(F.when(F.isnan(c) | F.col(c).isNull(), c)).alias(c) for c in df.columns]).show()"
      ],
      "metadata": {
        "colab": {
          "base_uri": "https://localhost:8080/"
        },
        "id": "xcnn-uFfFoNa",
        "outputId": "43055e05-53b1-4ccc-8262-7d84fd47a45e"
      },
      "execution_count": null,
      "outputs": [
        {
          "output_type": "stream",
          "name": "stdout",
          "text": [
            "+---+------+-------+-------+--------+-------+-------+----+-------+---+-----+--------+--------+--------+--------+--------+---+---------+\n",
            "|age|salary|balance|marital|targeted|default|housing|loan|contact|day|month|duration|campaign|previous|poutcome|response|job|education|\n",
            "+---+------+-------+-------+--------+-------+-------+----+-------+---+-----+--------+--------+--------+--------+--------+---+---------+\n",
            "|  0|     0|      0|      0|       0|      0|      0|   0|      0|  0|    0|       0|       0|       0|       0|       0|  0|        0|\n",
            "+---+------+-------+-------+--------+-------+-------+----+-------+---+-----+--------+--------+--------+--------+--------+---+---------+\n",
            "\n"
          ]
        }
      ]
    },
    {
      "cell_type": "markdown",
      "source": [
        "FAZER UMA ANÁLISE DOS NOSSOS DADOS\n",
        "- ANÁLISE UNIVARIADA\n",
        "- ANÁLISE MULTIVARIADA"
      ],
      "metadata": {
        "id": "QW3ccdM8Fr7P"
      }
    },
    {
      "cell_type": "code",
      "source": [
        "# 1) QUANTIDADE DE PESSOAS POR CADA ESTADO CIVIL\n",
        "df.groupBy(F.col('marital')).agg(F.count('marital').alias('Quantidade')).orderBy(F.col('Quantidade').asc()).show()"
      ],
      "metadata": {
        "colab": {
          "base_uri": "https://localhost:8080/"
        },
        "id": "NCD1Ch2kHObB",
        "outputId": "a23eac86-86d9-43e7-f0a4-960370bb0517"
      },
      "execution_count": null,
      "outputs": [
        {
          "output_type": "stream",
          "name": "stdout",
          "text": [
            "+--------+----------+\n",
            "| marital|Quantidade|\n",
            "+--------+----------+\n",
            "|divorced|      5204|\n",
            "|  single|     12782|\n",
            "| married|     27195|\n",
            "+--------+----------+\n",
            "\n"
          ]
        }
      ]
    },
    {
      "cell_type": "code",
      "source": [
        "df.toPandas().marital.value_counts().plot(kind = 'pie')\n",
        "plt.title(\"Proporção da variável estado civil \\n\")\n",
        "plt.show()"
      ],
      "metadata": {
        "colab": {
          "base_uri": "https://localhost:8080/",
          "height": 450
        },
        "id": "1CSdTr0v1C--",
        "outputId": "eb710b19-7207-4efc-f7ea-4381b9da3093"
      },
      "execution_count": null,
      "outputs": [
        {
          "output_type": "display_data",
          "data": {
            "text/plain": [
              "<Figure size 640x480 with 1 Axes>"
            ],
            "image/png": "[encoded data removed]"
          },
          "metadata": {}
        }
      ]
    },
    {
      "cell_type": "code",
      "source": [
        "# 2) QUANTIDADE DE PESSOAS POR CADA EMPREGO\n",
        "df.groupBy(F.col('job')).agg(F.count('job').alias('Quantidade')).orderBy(F.col('Quantidade').desc()).show()"
      ],
      "metadata": {
        "colab": {
          "base_uri": "https://localhost:8080/"
        },
        "id": "Fi1QkyReuh94",
        "outputId": "df739478-96f2-42e7-bee3-4e083f9a5639"
      },
      "execution_count": null,
      "outputs": [
        {
          "output_type": "stream",
          "name": "stdout",
          "text": [
            "+-------------+----------+\n",
            "|          job|Quantidade|\n",
            "+-------------+----------+\n",
            "|  blue-collar|      9727|\n",
            "|   management|      9454|\n",
            "|   technician|      7592|\n",
            "|       admin.|      5166|\n",
            "|     services|      4150|\n",
            "|      retired|      2263|\n",
            "|self-employed|      1575|\n",
            "| entrepreneur|      1486|\n",
            "|   unemployed|      1303|\n",
            "|    housemaid|      1239|\n",
            "|      student|       938|\n",
            "|      unknown|       288|\n",
            "+-------------+----------+\n",
            "\n"
          ]
        }
      ]
    },
    {
      "cell_type": "code",
      "source": [
        "df.toPandas().job.value_counts().plot(kind = 'barh')\n",
        "plt.title(\"Proporção da variável emprego \\n\")\n",
        "plt.show()"
      ],
      "metadata": {
        "colab": {
          "base_uri": "https://localhost:8080/",
          "height": 473
        },
        "id": "FkSHrsGu1xfD",
        "outputId": "94941769-fe5c-4e1b-b82e-1070bf366dc3"
      },
      "execution_count": null,
      "outputs": [
        {
          "output_type": "display_data",
          "data": {
            "text/plain": [
              "<Figure size 640x480 with 1 Axes>"
            ],
            "image/png": "[encoded data removed]"
          },
          "metadata": {}
        }
      ]
    },
    {
      "cell_type": "code",
      "source": [
        "# 3) QUANTIDADE DE PESSOAS POR NÍVEL EDUCACIONAL\n",
        "df.groupBy(F.col('education')).agg(F.count('education').alias('Quantidade')).show()"
      ],
      "metadata": {
        "colab": {
          "base_uri": "https://localhost:8080/"
        },
        "id": "vRjfk9w1unFe",
        "outputId": "5f4e8988-6bbb-429d-a4a6-84fc14555a26"
      },
      "execution_count": null,
      "outputs": [
        {
          "output_type": "stream",
          "name": "stdout",
          "text": [
            "+---------+----------+\n",
            "|education|Quantidade|\n",
            "+---------+----------+\n",
            "|  unknown|      1856|\n",
            "| tertiary|     13292|\n",
            "|secondary|     23189|\n",
            "|  primary|      6844|\n",
            "+---------+----------+\n",
            "\n"
          ]
        }
      ]
    },
    {
      "cell_type": "code",
      "source": [
        "df.toPandas().education.value_counts().plot(kind = 'pie')\n",
        "plt.title(\"Proporção da variável education \\n\")\n",
        "plt.show()"
      ],
      "metadata": {
        "colab": {
          "base_uri": "https://localhost:8080/",
          "height": 450
        },
        "id": "VVZjsSYP20eG",
        "outputId": "e8938e97-08f4-4dc5-89de-5a6f4350468d"
      },
      "execution_count": null,
      "outputs": [
        {
          "output_type": "display_data",
          "data": {
            "text/plain": [
              "<Figure size 640x480 with 1 Axes>"
            ],
            "image/png": "[encoded data removed]"
          },
          "metadata": {}
        }
      ]
    },
    {
      "cell_type": "code",
      "source": [
        "# 4) QUANTIDADE DE RESPOSTAS SIM E NÃO\n",
        "df.groupBy(F.col('response')).agg(F.count('response').alias('Quantidade')).orderBy(F.col('Quantidade').desc()).show()"
      ],
      "metadata": {
        "colab": {
          "base_uri": "https://localhost:8080/"
        },
        "id": "3ASaRGRZurxn",
        "outputId": "5bab4bc1-29ab-4769-b282-57fa3e09d815"
      },
      "execution_count": null,
      "outputs": [
        {
          "output_type": "stream",
          "name": "stdout",
          "text": [
            "+--------+----------+\n",
            "|response|Quantidade|\n",
            "+--------+----------+\n",
            "|      no|     39894|\n",
            "|     yes|      5287|\n",
            "+--------+----------+\n",
            "\n"
          ]
        }
      ]
    },
    {
      "cell_type": "code",
      "source": [
        "df.toPandas().response.value_counts().plot(kind = 'pie')\n",
        "plt.title(\"Proporção da variável response \\n\")\n",
        "plt.show()"
      ],
      "metadata": {
        "colab": {
          "base_uri": "https://localhost:8080/",
          "height": 450
        },
        "id": "7Qgorz4I3XYY",
        "outputId": "c832fc1a-38f0-4c18-8883-022313ecefe7"
      },
      "execution_count": null,
      "outputs": [
        {
          "output_type": "display_data",
          "data": {
            "text/plain": [
              "<Figure size 640x480 with 1 Axes>"
            ],
            "image/png": "[encoded data removed]"
          },
          "metadata": {}
        }
      ]
    },
    {
      "cell_type": "markdown",
      "source": [
        "Estatística\n",
        "- Correlação de Pearson - Soma (desvio padrão x . desvio padrão y) / quantidade de registros\n",
        "Vai de -1 a +1\n",
        "\n",
        "corr() - 0 (Não há correlação entre as duas colunas)\n",
        "corr() - 1 (Há correlação Positiva, à medida que uma coluna aumenta, a outra também aumenta)\n",
        "corr() - (-1) (hÁ Correlação Negativa, à medida que uma coluna aumenta, a outra diminui)\n",
        "\n",
        "- Variância e Desvio Padrão"
      ],
      "metadata": {
        "id": "TicujhNo61NN"
      }
    },
    {
      "cell_type": "code",
      "source": [
        "df.select('age').summary().show()"
      ],
      "metadata": {
        "colab": {
          "base_uri": "https://localhost:8080/"
        },
        "id": "CGrYCJx64Wzr",
        "outputId": "7fc490e7-7a38-4aec-a2b1-b246cf803fd2"
      },
      "execution_count": null,
      "outputs": [
        {
          "output_type": "stream",
          "name": "stdout",
          "text": [
            "+-------+-----------------+\n",
            "|summary|              age|\n",
            "+-------+-----------------+\n",
            "|  count|            45181|\n",
            "|   mean|40.93180761824661|\n",
            "| stddev|10.61810294777961|\n",
            "|    min|               18|\n",
            "|    25%|               33|\n",
            "|    50%|               39|\n",
            "|    75%|               48|\n",
            "|    max|               95|\n",
            "+-------+-----------------+\n",
            "\n"
          ]
        }
      ]
    },
    {
      "cell_type": "code",
      "source": [
        "df.printSchema()"
      ],
      "metadata": {
        "colab": {
          "base_uri": "https://localhost:8080/"
        },
        "id": "fnmESOHu93o-",
        "outputId": "5e6f8381-f9f6-4097-88b8-7a1d5fece3bd"
      },
      "execution_count": null,
      "outputs": [
        {
          "output_type": "stream",
          "name": "stdout",
          "text": [
            "root\n",
            " |-- age: integer (nullable = true)\n",
            " |-- salary: integer (nullable = true)\n",
            " |-- balance: integer (nullable = true)\n",
            " |-- marital: string (nullable = true)\n",
            " |-- targeted: string (nullable = true)\n",
            " |-- default: string (nullable = true)\n",
            " |-- housing: string (nullable = true)\n",
            " |-- loan: string (nullable = true)\n",
            " |-- contact: string (nullable = true)\n",
            " |-- day: integer (nullable = true)\n",
            " |-- month: string (nullable = false)\n",
            " |-- duration: string (nullable = true)\n",
            " |-- campaign: integer (nullable = true)\n",
            " |-- previous: integer (nullable = true)\n",
            " |-- poutcome: string (nullable = true)\n",
            " |-- response: string (nullable = true)\n",
            " |-- job: string (nullable = true)\n",
            " |-- education: string (nullable = true)\n",
            "\n"
          ]
        }
      ]
    },
    {
      "cell_type": "code",
      "source": [
        "resultado2 = df.toPandas()[['salary', 'balance', 'age']].corr()"
      ],
      "metadata": {
        "id": "CJu7Bt_i-a0j"
      },
      "execution_count": null,
      "outputs": []
    },
    {
      "cell_type": "code",
      "source": [
        "resultado.head()"
      ],
      "metadata": {
        "colab": {
          "base_uri": "https://localhost:8080/",
          "height": 143
        },
        "id": "wcc-Duo4-7zR",
        "outputId": "f9e45e52-9384-41cf-ac95-526d523b010b"
      },
      "execution_count": null,
      "outputs": [
        {
          "output_type": "execute_result",
          "data": {
            "text/plain": [
              "           salary   balance       age\n",
              "salary   1.000000  0.057609  0.032272\n",
              "balance  0.057609  1.000000  0.097729\n",
              "age      0.032272  0.097729  1.000000"
            ],
            "text/html": [
              "\n",
              "  <div id=\"df-e2682fdc-d189-418e-ac21-a0a14e72dbea\">\n",
              "    <div class=\"colab-df-container\">\n",
              "      <div>\n",
              "<style scoped>\n",
              "    .dataframe tbody tr th:only-of-type {\n",
              "        vertical-align: middle;\n",
              "    }\n",
              "\n",
              "    .dataframe tbody tr th {\n",
              "        vertical-align: top;\n",
              "    }\n",
              "\n",
              "    .dataframe thead th {\n",
              "        text-align: right;\n",
              "    }\n",
              "</style>\n",
              "<table border=\"1\" class=\"dataframe\">\n",
              "  <thead>\n",
              "    <tr style=\"text-align: right;\">\n",
              "      <th></th>\n",
              "      <th>salary</th>\n",
              "      <th>balance</th>\n",
              "      <th>age</th>\n",
              "    </tr>\n",
              "  </thead>\n",
              "  <tbody>\n",
              "    <tr>\n",
              "      <th>salary</th>\n",
              "      <td>1.000000</td>\n",
              "      <td>0.057609</td>\n",
              "      <td>0.032272</td>\n",
              "    </tr>\n",
              "    <tr>\n",
              "      <th>balance</th>\n",
              "      <td>0.057609</td>\n",
              "      <td>1.000000</td>\n",
              "      <td>0.097729</td>\n",
              "    </tr>\n",
              "    <tr>\n",
              "      <th>age</th>\n",
              "      <td>0.032272</td>\n",
              "      <td>0.097729</td>\n",
              "      <td>1.000000</td>\n",
              "    </tr>\n",
              "  </tbody>\n",
              "</table>\n",
              "</div>\n",
              "      <button class=\"colab-df-convert\" onclick=\"convertToInteractive('df-e2682fdc-d189-418e-ac21-a0a14e72dbea')\"\n",
              "              title=\"Convert this dataframe to an interactive table.\"\n",
              "              style=\"display:none;\">\n",
              "        \n",
              "  <svg xmlns=\"http://www.w3.org/2000/svg\" height=\"24px\"viewBox=\"0 0 24 24\"\n",
              "       width=\"24px\">\n",
              "    <path d=\"M0 0h24v24H0V0z\" fill=\"none\"/>\n",
              "    <path d=\"M18.56 5.44l.94 2.06.94-2.06 2.06-.94-2.06-.94-.94-2.06-.94 2.06-2.06.94zm-11 1L8.5 8.5l.94-2.06 2.06-.94-2.06-.94L8.5 2.5l-.94 2.06-2.06.94zm10 10l.94 2.06.94-2.06 2.06-.94-2.06-.94-.94-2.06-.94 2.06-2.06.94z\"/><path d=\"M17.41 7.96l-1.37-1.37c-.4-.4-.92-.59-1.43-.59-.52 0-1.04.2-1.43.59L10.3 9.45l-7.72 7.72c-.78.78-.78 2.05 0 2.83L4 21.41c.39.39.9.59 1.41.59.51 0 1.02-.2 1.41-.59l7.78-7.78 2.81-2.81c.8-.78.8-2.07 0-2.86zM5.41 20L4 18.59l7.72-7.72 1.47 1.35L5.41 20z\"/>\n",
              "  </svg>\n",
              "      </button>\n",
              "      \n",
              "  <style>\n",
              "    .colab-df-container {\n",
              "      display:flex;\n",
              "      flex-wrap:wrap;\n",
              "      gap: 12px;\n",
              "    }\n",
              "\n",
              "    .colab-df-convert {\n",
              "      background-color: #E8F0FE;\n",
              "      border: none;\n",
              "      border-radius: 50%;\n",
              "      cursor: pointer;\n",
              "      display: none;\n",
              "      fill: #1967D2;\n",
              "      height: 32px;\n",
              "      padding: 0 0 0 0;\n",
              "      width: 32px;\n",
              "    }\n",
              "\n",
              "    .colab-df-convert:hover {\n",
              "      background-color: #E2EBFA;\n",
              "      box-shadow: 0px 1px 2px rgba(60, 64, 67, 0.3), 0px 1px 3px 1px rgba(60, 64, 67, 0.15);\n",
              "      fill: #174EA6;\n",
              "    }\n",
              "\n",
              "    [theme=dark] .colab-df-convert {\n",
              "      background-color: #3B4455;\n",
              "      fill: #D2E3FC;\n",
              "    }\n",
              "\n",
              "    [theme=dark] .colab-df-convert:hover {\n",
              "      background-color: #434B5C;\n",
              "      box-shadow: 0px 1px 3px 1px rgba(0, 0, 0, 0.15);\n",
              "      filter: drop-shadow(0px 1px 2px rgba(0, 0, 0, 0.3));\n",
              "      fill: #FFFFFF;\n",
              "    }\n",
              "  </style>\n",
              "\n",
              "      <script>\n",
              "        const buttonEl =\n",
              "          document.querySelector('#df-e2682fdc-d189-418e-ac21-a0a14e72dbea button.colab-df-convert');\n",
              "        buttonEl.style.display =\n",
              "          google.colab.kernel.accessAllowed ? 'block' : 'none';\n",
              "\n",
              "        async function convertToInteractive(key) {\n",
              "          const element = document.querySelector('#df-e2682fdc-d189-418e-ac21-a0a14e72dbea');\n",
              "          const dataTable =\n",
              "            await google.colab.kernel.invokeFunction('convertToInteractive',\n",
              "                                                     [key], {});\n",
              "          if (!dataTable) return;\n",
              "\n",
              "          const docLinkHtml = 'Like what you see? Visit the ' +\n",
              "            '<a target=\"_blank\" href=https://colab.research.google.com/notebooks/data_table.ipynb>data table notebook</a>'\n",
              "            + ' to learn more about interactive tables.';\n",
              "          element.innerHTML = '';\n",
              "          dataTable['output_type'] = 'display_data';\n",
              "          await google.colab.output.renderOutput(dataTable, element);\n",
              "          const docLink = document.createElement('div');\n",
              "          docLink.innerHTML = docLinkHtml;\n",
              "          element.appendChild(docLink);\n",
              "        }\n",
              "      </script>\n",
              "    </div>\n",
              "  </div>\n",
              "  "
            ]
          },
          "metadata": {},
          "execution_count": 38
        }
      ]
    },
    {
      "cell_type": "code",
      "source": [
        "resultado = df.corr('age', 'salary')"
      ],
      "metadata": {
        "id": "FM-4euH9_hiz"
      },
      "execution_count": null,
      "outputs": []
    },
    {
      "cell_type": "code",
      "source": [
        "print(resultado)"
      ],
      "metadata": {
        "colab": {
          "base_uri": "https://localhost:8080/"
        },
        "id": "WPQy1AWW_4wF",
        "outputId": "19d7a3c7-48d3-42de-c25b-aad7a7dee784"
      },
      "execution_count": null,
      "outputs": [
        {
          "output_type": "stream",
          "name": "stdout",
          "text": [
            "0.03227185116558834\n"
          ]
        }
      ]
    },
    {
      "cell_type": "code",
      "source": [
        "df_pandas = df.toPandas()"
      ],
      "metadata": {
        "id": "Q5HSsJaXAJ8y"
      },
      "execution_count": null,
      "outputs": []
    },
    {
      "cell_type": "code",
      "source": [
        "sns.scatterplot(data = df_pandas, x='balance', y='age')\n",
        "plt.title('Saldo x idade')\n",
        "plt.show()"
      ],
      "metadata": {
        "colab": {
          "base_uri": "https://localhost:8080/",
          "height": 472
        },
        "id": "GERr8zJuAUjf",
        "outputId": "2b661dcd-f850-4fb9-9fd0-cead1fe670cc"
      },
      "execution_count": null,
      "outputs": [
        {
          "output_type": "display_data",
          "data": {
            "text/plain": [
              "<Figure size 640x480 with 1 Axes>"
            ],
            "image/png": "[encoded data removed]"
          },
          "metadata": {}
        }
      ]
    },
    {
      "cell_type": "code",
      "source": [
        "plt.figure(figsize = (10, 5))\n",
        "sns.heatmap(resultado2, annot= True, cmap = \"Reds\")\n",
        "plt.title(\"Mapa de Correlação\\n\")\n",
        "plt.show()"
      ],
      "metadata": {
        "colab": {
          "base_uri": "https://localhost:8080/",
          "height": 488
        },
        "id": "pLipoEROBOWO",
        "outputId": "da66552c-0cfa-4f09-d69d-8f93a2ada5e6"
      },
      "execution_count": null,
      "outputs": [
        {
          "output_type": "display_data",
          "data": {
            "text/plain": [
              "<Figure size 1000x500 with 2 Axes>"
            ],
            "image/png": "[encoded data removed]"
          },
          "metadata": {}
        }
      ]
    },
    {
      "cell_type": "code",
      "source": [
        "#QUAL A MÉDIA SALARIAL DE ACORDO COM A RESPOSTA (sim ou não)\n",
        "df.groupBy(F.col('response')).agg(F.avg('salary').alias('media_salary')).orderBy(F.col('media_salary').desc()).show()"
      ],
      "metadata": {
        "colab": {
          "base_uri": "https://localhost:8080/"
        },
        "id": "wiHk5zRtBuo-",
        "outputId": "c2322db3-a26f-4e8a-ccc0-fb1d37a01ff7"
      },
      "execution_count": null,
      "outputs": [
        {
          "output_type": "stream",
          "name": "stdout",
          "text": [
            "+--------+------------------+\n",
            "|response|      media_salary|\n",
            "+--------+------------------+\n",
            "|     yes|59157.556270096466|\n",
            "|      no|57157.692886148296|\n",
            "+--------+------------------+\n",
            "\n"
          ]
        }
      ]
    },
    {
      "cell_type": "code",
      "source": [
        "#QUAL A MÉDIA SALARIAL POR EDUCAÇÃO\n",
        "df.groupBy(F.col('education')).agg(F.mean('salary').alias('media_salary')).orderBy(F.col('media_salary').desc()).show()"
      ],
      "metadata": {
        "colab": {
          "base_uri": "https://localhost:8080/"
        },
        "id": "OYRxexGXCG1_",
        "outputId": "16e95737-c011-4bc4-b3d5-999901f87169"
      },
      "execution_count": null,
      "outputs": [
        {
          "output_type": "stream",
          "name": "stdout",
          "text": [
            "+---------+------------------+\n",
            "|education|      media_salary|\n",
            "+---------+------------------+\n",
            "| tertiary| 83041.07733975323|\n",
            "|  unknown|50708.512931034486|\n",
            "|secondary|49922.420112984604|\n",
            "|  primary| 34697.10695499708|\n",
            "+---------+------------------+\n",
            "\n"
          ]
        }
      ]
    },
    {
      "cell_type": "code",
      "source": [
        "# CRIAR UMA NOVA COLUNA, response_flag (1 - sim, 0 - não) - \n",
        "# CALCULAR A CORRELAÇÃO ENTRE education, marital, response_flag\n",
        "df = df.withColumn('response_flag', F.when(F.col('response') == 'yes', F.lit(1)).otherwise(F.lit(0)))"
      ],
      "metadata": {
        "id": "1z9WXxF3CPxV"
      },
      "execution_count": null,
      "outputs": []
    },
    {
      "cell_type": "code",
      "source": [
        "df.printSchema()"
      ],
      "metadata": {
        "colab": {
          "base_uri": "https://localhost:8080/"
        },
        "id": "w-Wyhw13HY5N",
        "outputId": "e7be940b-05a4-4adb-f04b-c1c5e5a69cd4"
      },
      "execution_count": null,
      "outputs": [
        {
          "output_type": "stream",
          "name": "stdout",
          "text": [
            "root\n",
            " |-- age: integer (nullable = true)\n",
            " |-- salary: integer (nullable = true)\n",
            " |-- balance: integer (nullable = true)\n",
            " |-- marital: string (nullable = true)\n",
            " |-- targeted: string (nullable = true)\n",
            " |-- default: string (nullable = true)\n",
            " |-- housing: string (nullable = true)\n",
            " |-- loan: string (nullable = true)\n",
            " |-- contact: string (nullable = true)\n",
            " |-- day: integer (nullable = true)\n",
            " |-- month: string (nullable = false)\n",
            " |-- duration: string (nullable = true)\n",
            " |-- campaign: integer (nullable = true)\n",
            " |-- previous: integer (nullable = true)\n",
            " |-- poutcome: string (nullable = true)\n",
            " |-- response: string (nullable = true)\n",
            " |-- job: string (nullable = true)\n",
            " |-- education: string (nullable = true)\n",
            " |-- response_flag: double (nullable = false)\n",
            "\n"
          ]
        }
      ]
    },
    {
      "cell_type": "code",
      "source": [
        "df_pandas = df.toPandas()"
      ],
      "metadata": {
        "id": "XtNOKIyCIlE8"
      },
      "execution_count": null,
      "outputs": []
    },
    {
      "cell_type": "code",
      "source": [
        "#MAPA DE CORRELAÇÃO\n",
        "resultado3 = df_pandas.pivot_table(index = 'education', columns = 'marital', values = 'response_flag', aggfunc=\"mean\")\n",
        "sns.heatmap(resultado3, annot = True, cmap=\"RdYlGn\")\n",
        "plt.title(\"Education x Marital x response\\n\")\n",
        "plt.show()"
      ],
      "metadata": {
        "colab": {
          "base_uri": "https://localhost:8080/",
          "height": 493
        },
        "id": "cX97pG9wIB1_",
        "outputId": "e2b85e0d-403a-4a76-b598-cddd27d01d48"
      },
      "execution_count": null,
      "outputs": [
        {
          "output_type": "display_data",
          "data": {
            "text/plain": [
              "<Figure size 640x480 with 2 Axes>"
            ],
            "image/png": "[encoded data removed]"
          },
          "metadata": {}
        }
      ]
    }
  ]
}