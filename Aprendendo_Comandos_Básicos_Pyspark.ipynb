{
  "nbformat": 4,
  "nbformat_minor": 0,
  "metadata": {
    "colab": {
      "provenance": [],
      "include_colab_link": true
    },
    "kernelspec": {
      "name": "python3",
      "display_name": "Python 3"
    },
    "language_info": {
      "name": "python"
    }
  },
  "cells": [
    {
      "cell_type": "markdown",
      "metadata": {
        "id": "view-in-github",
        "colab_type": "text"
      },
      "source": [
        "<a href=\"https://colab.research.google.com/github/thaisgulias/DataAnalytics_student/blob/main/Aprendendo_Comandos_B%C3%A1sicos_Pyspark.ipynb\" target=\"_parent\"><img src=\"https://colab.research.google.com/assets/colab-badge.svg\" alt=\"Open In Colab\"/></a>"
      ]
    },
    {
      "cell_type": "markdown",
      "source": [
        "# PRIMEIRA PARTE\n",
        "##APRENDER OS PRINCIPAIS COMANDOS DO PYSPARK"
      ],
      "metadata": {
        "id": "fKaJ5at2SZCK"
      }
    },
    {
      "cell_type": "code",
      "execution_count": null,
      "metadata": {
        "colab": {
          "base_uri": "https://localhost:8080/"
        },
        "id": "fcFmXL1x8o7A",
        "outputId": "2800e386-4c89-48aa-b607-ede7728c0210"
      },
      "outputs": [
        {
          "output_type": "stream",
          "name": "stdout",
          "text": [
            "Looking in indexes: https://pypi.org/simple, https://us-python.pkg.dev/colab-wheels/public/simple/\n",
            "Collecting pyspark\n",
            "  Downloading pyspark-3.3.2.tar.gz (281.4 MB)\n",
            "\u001b[2K     \u001b[90m━━━━━━━━━━━━━━━━━━━━━━━━━━━━━━━━━━━━━━━\u001b[0m \u001b[32m281.4/281.4 MB\u001b[0m \u001b[31m4.5 MB/s\u001b[0m eta \u001b[36m0:00:00\u001b[0m\n",
            "\u001b[?25h  Preparing metadata (setup.py) ... \u001b[?25l\u001b[?25hdone\n",
            "Collecting py4j==0.10.9.5\n",
            "  Downloading py4j-0.10.9.5-py2.py3-none-any.whl (199 kB)\n",
            "\u001b[2K     \u001b[90m━━━━━━━━━━━━━━━━━━━━━━━━━━━━━━━━━━━━━━\u001b[0m \u001b[32m199.7/199.7 kB\u001b[0m \u001b[31m24.2 MB/s\u001b[0m eta \u001b[36m0:00:00\u001b[0m\n",
            "\u001b[?25hBuilding wheels for collected packages: pyspark\n",
            "  Building wheel for pyspark (setup.py) ... \u001b[?25l\u001b[?25hdone\n",
            "  Created wheel for pyspark: filename=pyspark-3.3.2-py2.py3-none-any.whl size=281824028 sha256=87b4e6eabbd45192e09e473ff9b36db8d912e84ff3adc565ec1f513660713efe\n",
            "  Stored in directory: /root/.cache/pip/wheels/6c/e3/9b/0525ce8a69478916513509d43693511463c6468db0de237c86\n",
            "Successfully built pyspark\n",
            "Installing collected packages: py4j, pyspark\n",
            "  Attempting uninstall: py4j\n",
            "    Found existing installation: py4j 0.10.9.7\n",
            "    Uninstalling py4j-0.10.9.7:\n",
            "      Successfully uninstalled py4j-0.10.9.7\n",
            "Successfully installed py4j-0.10.9.5 pyspark-3.3.2\n"
          ]
        }
      ],
      "source": [
        "#INSTALAÇÃO DO PYSPARK NO COLAB\n",
        "!pip install pyspark"
      ]
    },
    {
      "cell_type": "code",
      "source": [
        "#IMPORTAR UMA SESSÃO DO SPARK\n",
        "from pyspark.sql import SparkSession\n",
        "import pyspark.sql.functions as F\n",
        "import pandas as pd\n",
        "import numpy as np"
      ],
      "metadata": {
        "id": "9xYhEPqETivX"
      },
      "execution_count": null,
      "outputs": []
    },
    {
      "cell_type": "code",
      "source": [],
      "metadata": {
        "id": "Ne4jYJe3eSvo"
      },
      "execution_count": null,
      "outputs": []
    },
    {
      "cell_type": "code",
      "source": [
        "#CONFIGURAR MINHA VARIÁVEL DE AMBIENTE (spark) - SESSÃO\n",
        "spark = (SparkSession.builder.master('local')\n",
        "                             .appName('comandos_basicos')\n",
        "                             .config('spark.ui.port', '4050')\n",
        "                             .getOrCreate())"
      ],
      "metadata": {
        "id": "nmgWc0G1Uc-9"
      },
      "execution_count": null,
      "outputs": []
    },
    {
      "cell_type": "code",
      "source": [
        "spark"
      ],
      "metadata": {
        "colab": {
          "base_uri": "https://localhost:8080/",
          "height": 219
        },
        "id": "OhvF6TeEWPhA",
        "outputId": "b221ab5e-3c17-443b-aa32-74c434de9ddb"
      },
      "execution_count": null,
      "outputs": [
        {
          "output_type": "execute_result",
          "data": {
            "text/plain": [
              "<pyspark.sql.session.SparkSession at 0x7fd5fa499e50>"
            ],
            "text/html": [
              "\n",
              "            <div>\n",
              "                <p><b>SparkSession - in-memory</b></p>\n",
              "                \n",
              "        <div>\n",
              "            <p><b>SparkContext</b></p>\n",
              "\n",
              "            <p><a href=\"http://cb0a6eb04793:4050\">Spark UI</a></p>\n",
              "\n",
              "            <dl>\n",
              "              <dt>Version</dt>\n",
              "                <dd><code>v3.3.2</code></dd>\n",
              "              <dt>Master</dt>\n",
              "                <dd><code>local</code></dd>\n",
              "              <dt>AppName</dt>\n",
              "                <dd><code>comandos_basicos</code></dd>\n",
              "            </dl>\n",
              "        </div>\n",
              "        \n",
              "            </div>\n",
              "        "
            ]
          },
          "metadata": {},
          "execution_count": 4
        }
      ]
    },
    {
      "cell_type": "markdown",
      "source": [
        "##Iniciando a Parte Prática de Pyspark"
      ],
      "metadata": {
        "id": "819Od-fCW5we"
      }
    },
    {
      "cell_type": "code",
      "source": [
        "#DATAFRAMES\n",
        "colunas = ['id', 'nome', 'cpf', 'telefone_celular']\n",
        "\n",
        "dados = [\n",
        "    (1, 'Oswaldo da Silva', '999.999.999-99', '(99)9.9999-9999'),\n",
        "    (2, 'Maria dos Santos', '888.888.888-88', '(88)9.8888-8888'),\n",
        "    (3, 'Priscila Medeiros', '777.777.777-77', '(77)9.7777-7777'),\n",
        "    (4, 'Roberto Diniz', '666.666.666-66', '(66)9.6666-6666')\n",
        "]\n",
        "\n",
        "df = spark.createDataFrame(data = dados, schema = colunas)"
      ],
      "metadata": {
        "id": "3oLJlunyW2B_"
      },
      "execution_count": null,
      "outputs": []
    },
    {
      "cell_type": "code",
      "source": [
        "#VISUALIZAR AS COLUNAS E SEUS TIPOS DE DADOS\n",
        "df.printSchema()"
      ],
      "metadata": {
        "colab": {
          "base_uri": "https://localhost:8080/"
        },
        "id": "3usiBL9YYij_",
        "outputId": "530c5aea-a26b-4a0c-f55e-07e0109d0530"
      },
      "execution_count": null,
      "outputs": [
        {
          "output_type": "stream",
          "name": "stdout",
          "text": [
            "root\n",
            " |-- id: long (nullable = true)\n",
            " |-- nome: string (nullable = true)\n",
            " |-- cpf: string (nullable = true)\n",
            " |-- telefone_celular: string (nullable = true)\n",
            "\n"
          ]
        }
      ]
    },
    {
      "cell_type": "code",
      "source": [
        "#VISUALIZAR ALGUNS DADOS PARA OLHAR COMO ESTÁ O DATAFRAME\n",
        "df.show()"
      ],
      "metadata": {
        "colab": {
          "base_uri": "https://localhost:8080/"
        },
        "id": "Tj_8ngcdZL8C",
        "outputId": "2b2c3987-6e60-48e6-e7c3-93d73893878d"
      },
      "execution_count": null,
      "outputs": [
        {
          "output_type": "stream",
          "name": "stdout",
          "text": [
            "+---+-----------------+--------------+----------------+\n",
            "| id|             nome|           cpf|telefone_celular|\n",
            "+---+-----------------+--------------+----------------+\n",
            "|  1| Oswaldo da Silva|999.999.999-99| (99)9.9999-9999|\n",
            "|  2| Maria dos Santos|888.888.888-88| (88)9.8888-8888|\n",
            "|  3|Priscila Medeiros|777.777.777-77| (77)9.7777-7777|\n",
            "|  4|    Roberto Diniz|666.666.666-66| (66)9.6666-6666|\n",
            "+---+-----------------+--------------+----------------+\n",
            "\n"
          ]
        }
      ]
    },
    {
      "cell_type": "code",
      "source": [
        "#CONVERTENDO UM DATAFRAME DO SPARK EM PANDAS\n",
        "df_pandas = df.toPandas()"
      ],
      "metadata": {
        "id": "yFQnnlDUZqhz"
      },
      "execution_count": null,
      "outputs": []
    },
    {
      "cell_type": "code",
      "source": [
        "#RETORNA AS COLUNAS DO DATAFRAME\n",
        "df.columns"
      ],
      "metadata": {
        "colab": {
          "base_uri": "https://localhost:8080/"
        },
        "id": "T6-rkCGQaLKi",
        "outputId": "4bc98193-d06f-4b40-b3cc-d8bb3c203a47"
      },
      "execution_count": null,
      "outputs": [
        {
          "output_type": "execute_result",
          "data": {
            "text/plain": [
              "['id', 'nome', 'cpf', 'telefone_celular']"
            ]
          },
          "metadata": {},
          "execution_count": 12
        }
      ]
    },
    {
      "cell_type": "code",
      "source": [
        "#QUANTIDADE DE REGISTROS DO DATAFRAME\n",
        "df.count()"
      ],
      "metadata": {
        "colab": {
          "base_uri": "https://localhost:8080/"
        },
        "id": "b1yOLlRmaHjO",
        "outputId": "87766895-6f96-4ce3-f23d-1b69cf34330f"
      },
      "execution_count": null,
      "outputs": [
        {
          "output_type": "execute_result",
          "data": {
            "text/plain": [
              "4"
            ]
          },
          "metadata": {},
          "execution_count": 13
        }
      ]
    },
    {
      "cell_type": "code",
      "source": [
        "#SHAPE DO PYSPARK\n",
        "print(f' ({df.count()}, {len(df.columns)})')"
      ],
      "metadata": {
        "colab": {
          "base_uri": "https://localhost:8080/"
        },
        "id": "f6NdvWY2eA7w",
        "outputId": "72652ba3-e05b-4378-94d7-8cb7d68180cd"
      },
      "execution_count": null,
      "outputs": [
        {
          "output_type": "stream",
          "name": "stdout",
          "text": [
            " (4, 4)\n"
          ]
        }
      ]
    },
    {
      "cell_type": "markdown",
      "source": [
        "###OS DATAFRAMES DO PYSPARK SÃO IMUTÁVEIS"
      ],
      "metadata": {
        "id": "gtA2hN51fIoA"
      }
    },
    {
      "cell_type": "code",
      "source": [
        "#VISUALIZAR COLUNAS ESPECÍFICAS DO DATAFRAME - 1ª FORMA\n",
        "df.select('nome', 'telefone_celular').show()"
      ],
      "metadata": {
        "colab": {
          "base_uri": "https://localhost:8080/"
        },
        "id": "YWwO79s_fEsC",
        "outputId": "2a5a20f3-4445-43a4-cbd8-dfc4bcd85aa5"
      },
      "execution_count": null,
      "outputs": [
        {
          "output_type": "stream",
          "name": "stdout",
          "text": [
            "+-----------------+----------------+\n",
            "|             nome|telefone_celular|\n",
            "+-----------------+----------------+\n",
            "| Oswaldo da Silva| (99)9.9999-9999|\n",
            "| Maria dos Santos| (88)9.8888-8888|\n",
            "|Priscila Medeiros| (77)9.7777-7777|\n",
            "|    Roberto Diniz| (66)9.6666-6666|\n",
            "+-----------------+----------------+\n",
            "\n"
          ]
        }
      ]
    },
    {
      "cell_type": "code",
      "source": [
        "#VISUALIZAR COLUNAS ESPECÍFICAS DO DATAFRAME - 2ª FORMA\n",
        "df.select(F.col('id'), F.col('cpf')).show()"
      ],
      "metadata": {
        "colab": {
          "base_uri": "https://localhost:8080/"
        },
        "id": "ausbjCxygUi0",
        "outputId": "bb1049b7-c01b-4a25-ba66-6c3d5980ebbb"
      },
      "execution_count": null,
      "outputs": [
        {
          "output_type": "stream",
          "name": "stdout",
          "text": [
            "+---+--------------+\n",
            "| id|           cpf|\n",
            "+---+--------------+\n",
            "|  1|999.999.999-99|\n",
            "|  2|888.888.888-88|\n",
            "|  3|777.777.777-77|\n",
            "|  4|666.666.666-66|\n",
            "+---+--------------+\n",
            "\n"
          ]
        }
      ]
    },
    {
      "cell_type": "code",
      "source": [
        "#VERIFICAR O TIPO DE DADOS DA VARIÁVEL df\n",
        "type(df)"
      ],
      "metadata": {
        "colab": {
          "base_uri": "https://localhost:8080/"
        },
        "id": "ufjoJBaPgnUD",
        "outputId": "f245b9fa-6181-41cd-b049-2d8273690437"
      },
      "execution_count": null,
      "outputs": [
        {
          "output_type": "execute_result",
          "data": {
            "text/plain": [
              "pyspark.sql.dataframe.DataFrame"
            ]
          },
          "metadata": {},
          "execution_count": 26
        }
      ]
    },
    {
      "cell_type": "code",
      "source": [
        "#REALIZANDO UM BACKUP DO DATAFRAME\n",
        "df_backup = df"
      ],
      "metadata": {
        "id": "SpXm_3OfhClC"
      },
      "execution_count": null,
      "outputs": []
    },
    {
      "cell_type": "code",
      "source": [
        "#CRIANDO UM NOVO DATAFRAME\n",
        "\n",
        "colunas2 = 'id INT, nome STRING, cpf STRING, telefone_celular STRING, cidade STRING, empregado FLOAT'\n",
        "\n",
        "dados2 = [\n",
        "    (1, 'Oswaldo da Silva', '999.999.999-99', '(99)9.9999-9999', 'Sobral', 1.0),\n",
        "    (2, 'Maria dos Santos', '888.888.888-88', '(88)9.8888-8888', 'São Paulo', 0.0),\n",
        "    (3, 'Priscila Medeiros', '777.777.777-77', '(77)9.7777-7777', 'Rio de Janeiro', 1.0),\n",
        "    (4, 'Roberto Diniz', '666.666.666-66', '(66)9.6666-6666', 'Florianópolis', 0.0),\n",
        "    (5, 'Marília Cavalcante', '555.555.555-55', '(55)9.5555-5555', 'Florianópolis', 0.0),\n",
        "    (6, 'Maria de Fátima Lopes', '444.444.444-44', '(44)9.4444-4444', 'São Paulo', 1.0),\n",
        "    (7, 'Edvaldo Marques de Sousa', '333.333.333-33', '(33)9.3333-3333', 'Florianópolis', 1.0),\n",
        "    (8, 'Pedro José da Costa', '222.222.222-22', '(22)9.2222-2222', 'Rio de Janeiro', 0.0),\n",
        "    (9, 'Priscila Medeiros', '777.777.777-77', '(77)9.7777-7777', 'Rio de Janeiro', 1.0)\n",
        "]\n",
        "\n",
        "df2 = spark.createDataFrame(data = dados2, schema = colunas2)"
      ],
      "metadata": {
        "id": "ag06afSEhgwv"
      },
      "execution_count": null,
      "outputs": []
    },
    {
      "cell_type": "code",
      "source": [
        "df2.printSchema()"
      ],
      "metadata": {
        "colab": {
          "base_uri": "https://localhost:8080/"
        },
        "id": "g40s3LxBie0_",
        "outputId": "524e5982-41d6-4267-a8f1-dfe755d77367"
      },
      "execution_count": null,
      "outputs": [
        {
          "output_type": "stream",
          "name": "stdout",
          "text": [
            "root\n",
            " |-- id: integer (nullable = true)\n",
            " |-- nome: string (nullable = true)\n",
            " |-- cpf: string (nullable = true)\n",
            " |-- telefone_celular: string (nullable = true)\n",
            " |-- cidade: string (nullable = true)\n",
            " |-- empregado: float (nullable = true)\n",
            "\n"
          ]
        }
      ]
    },
    {
      "cell_type": "code",
      "source": [
        "df2.show()"
      ],
      "metadata": {
        "colab": {
          "base_uri": "https://localhost:8080/"
        },
        "id": "AFDO8XEailWj",
        "outputId": "07f9720d-af08-4af4-f30d-32bab252a892"
      },
      "execution_count": null,
      "outputs": [
        {
          "output_type": "stream",
          "name": "stdout",
          "text": [
            "+---+--------------------+--------------+----------------+--------------+---------+\n",
            "| id|                nome|           cpf|telefone_celular|        cidade|empregado|\n",
            "+---+--------------------+--------------+----------------+--------------+---------+\n",
            "|  1|    Oswaldo da Silva|999.999.999-99| (99)9.9999-9999|        Sobral|      1.0|\n",
            "|  2|    Maria dos Santos|888.888.888-88| (88)9.8888-8888|     São Paulo|      0.0|\n",
            "|  3|   Priscila Medeiros|777.777.777-77| (77)9.7777-7777|Rio de Janeiro|      1.0|\n",
            "|  4|       Roberto Diniz|666.666.666-66| (66)9.6666-6666| Florianópolis|      0.0|\n",
            "|  5|  Marília Cavalcante|555.555.555-55| (55)9.5555-5555| Florianópolis|      0.0|\n",
            "|  6|Maria de Fátima L...|444.444.444-44| (44)9.4444-4444|     São Paulo|      1.0|\n",
            "|  7|Edvaldo Marques d...|333.333.333-33| (33)9.3333-3333| Florianópolis|      1.0|\n",
            "|  8| Pedro José da Costa|222.222.222-22| (22)9.2222-2222|Rio de Janeiro|      0.0|\n",
            "|  9|   Priscila Medeiros|777.777.777-77| (77)9.7777-7777|Rio de Janeiro|      1.0|\n",
            "+---+--------------------+--------------+----------------+--------------+---------+\n",
            "\n"
          ]
        }
      ]
    },
    {
      "cell_type": "code",
      "source": [
        "#FILTROS SOBRE OS DADOS - 1ª FORMA (FILTER)\n",
        "df2.filter(F.col('cidade') == 'Florianópolis').show()"
      ],
      "metadata": {
        "colab": {
          "base_uri": "https://localhost:8080/"
        },
        "id": "80jFHUMPljKL",
        "outputId": "daa36ba3-62af-4076-8fce-0a909556754a"
      },
      "execution_count": null,
      "outputs": [
        {
          "output_type": "stream",
          "name": "stdout",
          "text": [
            "+---+--------------------+--------------+----------------+-------------+---------+\n",
            "| id|                nome|           cpf|telefone_celular|       cidade|empregado|\n",
            "+---+--------------------+--------------+----------------+-------------+---------+\n",
            "|  4|       Roberto Diniz|666.666.666-66| (66)9.6666-6666|Florianópolis|      0.0|\n",
            "|  5|  Marília Cavalcante|555.555.555-55| (55)9.5555-5555|Florianópolis|      0.0|\n",
            "|  7|Edvaldo Marques d...|333.333.333-33| (33)9.3333-3333|Florianópolis|      1.0|\n",
            "+---+--------------------+--------------+----------------+-------------+---------+\n",
            "\n"
          ]
        }
      ]
    },
    {
      "cell_type": "code",
      "source": [
        "df2.show()"
      ],
      "metadata": {
        "colab": {
          "base_uri": "https://localhost:8080/"
        },
        "id": "dxcnLIfnoIAi",
        "outputId": "1e36c9ad-a5e9-4681-d6b4-7bac4935423e"
      },
      "execution_count": null,
      "outputs": [
        {
          "output_type": "stream",
          "name": "stdout",
          "text": [
            "+---+--------------------+--------------+----------------+--------------+---------+\n",
            "| id|                nome|           cpf|telefone_celular|        cidade|empregado|\n",
            "+---+--------------------+--------------+----------------+--------------+---------+\n",
            "|  1|    Oswaldo da Silva|999.999.999-99| (99)9.9999-9999|        Sobral|      1.0|\n",
            "|  2|    Maria dos Santos|888.888.888-88| (88)9.8888-8888|     São Paulo|      0.0|\n",
            "|  3|   Priscila Medeiros|777.777.777-77| (77)9.7777-7777|Rio de Janeiro|      1.0|\n",
            "|  4|       Roberto Diniz|666.666.666-66| (66)9.6666-6666| Florianópolis|      0.0|\n",
            "|  5|  Marília Cavalcante|555.555.555-55| (55)9.5555-5555| Florianópolis|      0.0|\n",
            "|  6|Maria de Fátima L...|444.444.444-44| (44)9.4444-4444|     São Paulo|      1.0|\n",
            "|  7|Edvaldo Marques d...|333.333.333-33| (33)9.3333-3333| Florianópolis|      1.0|\n",
            "|  8| Pedro José da Costa|222.222.222-22| (22)9.2222-2222|Rio de Janeiro|      0.0|\n",
            "|  9|   Priscila Medeiros|777.777.777-77| (77)9.7777-7777|Rio de Janeiro|      1.0|\n",
            "+---+--------------------+--------------+----------------+--------------+---------+\n",
            "\n"
          ]
        }
      ]
    },
    {
      "cell_type": "code",
      "source": [
        "#MOSTRAR NOME, CPF E CIDADE DAS PESSOAS QUE ESTÃO EMPREGADAS\n",
        "df2.select(F.col('nome'), F.col('cpf'), F.col('cidade')).filter(F.col('empregado') == 1.0).show()"
      ],
      "metadata": {
        "colab": {
          "base_uri": "https://localhost:8080/"
        },
        "id": "PfcFmHsRmX63",
        "outputId": "a2d684b5-1977-4425-9efe-a8c4e838c20d"
      },
      "execution_count": null,
      "outputs": [
        {
          "output_type": "stream",
          "name": "stdout",
          "text": [
            "+--------------------+--------------+--------------+\n",
            "|                nome|           cpf|        cidade|\n",
            "+--------------------+--------------+--------------+\n",
            "|    Oswaldo da Silva|999.999.999-99|        Sobral|\n",
            "|   Priscila Medeiros|777.777.777-77|Rio de Janeiro|\n",
            "|Maria de Fátima L...|444.444.444-44|     São Paulo|\n",
            "|Edvaldo Marques d...|333.333.333-33| Florianópolis|\n",
            "|   Priscila Medeiros|777.777.777-77|Rio de Janeiro|\n",
            "+--------------------+--------------+--------------+\n",
            "\n"
          ]
        }
      ]
    },
    {
      "cell_type": "code",
      "source": [
        "#OUTRA FORMA DE UTILIZAR O SELECT\n",
        "lista_colunas = ['nome', 'cpf', 'cidade']\n",
        "\n",
        "df2.select(lista_colunas).show()"
      ],
      "metadata": {
        "colab": {
          "base_uri": "https://localhost:8080/"
        },
        "id": "hFAvXSq2okH3",
        "outputId": "6eff4eed-8a62-4d1f-ec98-0021b5e1f1ed"
      },
      "execution_count": null,
      "outputs": [
        {
          "output_type": "stream",
          "name": "stdout",
          "text": [
            "+--------------------+--------------+--------------+\n",
            "|                nome|           cpf|        cidade|\n",
            "+--------------------+--------------+--------------+\n",
            "|    Oswaldo da Silva|999.999.999-99|        Sobral|\n",
            "|    Maria dos Santos|888.888.888-88|     São Paulo|\n",
            "|   Priscila Medeiros|777.777.777-77|Rio de Janeiro|\n",
            "|       Roberto Diniz|666.666.666-66| Florianópolis|\n",
            "|  Marília Cavalcante|555.555.555-55| Florianópolis|\n",
            "|Maria de Fátima L...|444.444.444-44|     São Paulo|\n",
            "|Edvaldo Marques d...|333.333.333-33| Florianópolis|\n",
            "| Pedro José da Costa|222.222.222-22|Rio de Janeiro|\n",
            "|   Priscila Medeiros|777.777.777-77|Rio de Janeiro|\n",
            "+--------------------+--------------+--------------+\n",
            "\n"
          ]
        }
      ]
    },
    {
      "cell_type": "code",
      "source": [
        "#OUTRA FORMA DE APLICAR O FILTER\n",
        "df2.filter(df2.cidade == 'São Paulo').show()"
      ],
      "metadata": {
        "colab": {
          "base_uri": "https://localhost:8080/"
        },
        "id": "iCcMlyH6o69e",
        "outputId": "319617e9-9ace-4519-e771-091fd019aace"
      },
      "execution_count": null,
      "outputs": [
        {
          "output_type": "stream",
          "name": "stdout",
          "text": [
            "+---+--------------------+--------------+----------------+---------+---------+\n",
            "| id|                nome|           cpf|telefone_celular|   cidade|empregado|\n",
            "+---+--------------------+--------------+----------------+---------+---------+\n",
            "|  2|    Maria dos Santos|888.888.888-88| (88)9.8888-8888|São Paulo|      0.0|\n",
            "|  6|Maria de Fátima L...|444.444.444-44| (44)9.4444-4444|São Paulo|      1.0|\n",
            "+---+--------------------+--------------+----------------+---------+---------+\n",
            "\n"
          ]
        }
      ]
    },
    {
      "cell_type": "code",
      "source": [
        "#OUTRA FORMA DE APLICAR O FILTER\n",
        "df2.filter(\"cidade = 'Rio de Janeiro'\").show()"
      ],
      "metadata": {
        "colab": {
          "base_uri": "https://localhost:8080/"
        },
        "id": "F2z2KOTmpWxb",
        "outputId": "89f9366e-894d-44db-c402-67e597ddb556"
      },
      "execution_count": null,
      "outputs": [
        {
          "output_type": "stream",
          "name": "stdout",
          "text": [
            "+---+-------------------+--------------+----------------+--------------+---------+\n",
            "| id|               nome|           cpf|telefone_celular|        cidade|empregado|\n",
            "+---+-------------------+--------------+----------------+--------------+---------+\n",
            "|  3|  Priscila Medeiros|777.777.777-77| (77)9.7777-7777|Rio de Janeiro|      1.0|\n",
            "|  8|Pedro José da Costa|222.222.222-22| (22)9.2222-2222|Rio de Janeiro|      0.0|\n",
            "|  9|  Priscila Medeiros|777.777.777-77| (77)9.7777-7777|Rio de Janeiro|      1.0|\n",
            "+---+-------------------+--------------+----------------+--------------+---------+\n",
            "\n"
          ]
        }
      ]
    },
    {
      "cell_type": "code",
      "source": [
        "#OUTRA FORMA DE APLICAR O FILTER\n",
        "df2.filter(\"cidade = 'Rio de Janeiro' and empregado = 1.0\" ).show()"
      ],
      "metadata": {
        "colab": {
          "base_uri": "https://localhost:8080/"
        },
        "id": "3aB6RTbIvaqk",
        "outputId": "ed785fbf-152d-43a2-b3d0-6588ce6bdab2"
      },
      "execution_count": null,
      "outputs": [
        {
          "output_type": "stream",
          "name": "stdout",
          "text": [
            "+---+-----------------+--------------+----------------+--------------+---------+\n",
            "| id|             nome|           cpf|telefone_celular|        cidade|empregado|\n",
            "+---+-----------------+--------------+----------------+--------------+---------+\n",
            "|  3|Priscila Medeiros|777.777.777-77| (77)9.7777-7777|Rio de Janeiro|      1.0|\n",
            "|  9|Priscila Medeiros|777.777.777-77| (77)9.7777-7777|Rio de Janeiro|      1.0|\n",
            "+---+-----------------+--------------+----------------+--------------+---------+\n",
            "\n"
          ]
        }
      ]
    },
    {
      "cell_type": "code",
      "source": [
        "#OUTRA FORMA DE APLICAR O FILTER\n",
        "df2.filter(\"cidade = 'Rio de Janeiro' or cidade = 'Sobral'\" ).show()"
      ],
      "metadata": {
        "colab": {
          "base_uri": "https://localhost:8080/"
        },
        "id": "0_HVnTT-vsC6",
        "outputId": "5a1a7191-b6d6-4915-c3a3-fd7c6a25434e"
      },
      "execution_count": null,
      "outputs": [
        {
          "output_type": "stream",
          "name": "stdout",
          "text": [
            "+---+-------------------+--------------+----------------+--------------+---------+\n",
            "| id|               nome|           cpf|telefone_celular|        cidade|empregado|\n",
            "+---+-------------------+--------------+----------------+--------------+---------+\n",
            "|  1|   Oswaldo da Silva|999.999.999-99| (99)9.9999-9999|        Sobral|      1.0|\n",
            "|  3|  Priscila Medeiros|777.777.777-77| (77)9.7777-7777|Rio de Janeiro|      1.0|\n",
            "|  8|Pedro José da Costa|222.222.222-22| (22)9.2222-2222|Rio de Janeiro|      0.0|\n",
            "|  9|  Priscila Medeiros|777.777.777-77| (77)9.7777-7777|Rio de Janeiro|      1.0|\n",
            "+---+-------------------+--------------+----------------+--------------+---------+\n",
            "\n"
          ]
        }
      ]
    },
    {
      "cell_type": "code",
      "source": [
        "#BUSCAR AS PESSOAS QUE SÃO DA CIDADE DO RIO DE JANEIRO E QUE ESTÃO EMPREGADAS\n",
        "df2.filter(F.col('cidade') == 'Rio de Janeiro').filter(F.col('empregado') == 1.0).show()"
      ],
      "metadata": {
        "colab": {
          "base_uri": "https://localhost:8080/"
        },
        "id": "sW8NqcrAtZHv",
        "outputId": "dd1c0291-3874-4df4-c3e7-32974ccae810"
      },
      "execution_count": null,
      "outputs": [
        {
          "output_type": "stream",
          "name": "stdout",
          "text": [
            "+---+-----------------+--------------+----------------+--------------+---------+\n",
            "| id|             nome|           cpf|telefone_celular|        cidade|empregado|\n",
            "+---+-----------------+--------------+----------------+--------------+---------+\n",
            "|  3|Priscila Medeiros|777.777.777-77| (77)9.7777-7777|Rio de Janeiro|      1.0|\n",
            "|  9|Priscila Medeiros|777.777.777-77| (77)9.7777-7777|Rio de Janeiro|      1.0|\n",
            "+---+-----------------+--------------+----------------+--------------+---------+\n",
            "\n"
          ]
        }
      ]
    },
    {
      "cell_type": "code",
      "source": [
        "#BUSCAR AS PESSOAS QUE SÃO DA CIDADE DO RIO DE JANEIRO E ESTÃO EMPREGADAS\n",
        "df2.filter((F.col('cidade') == 'Rio de Janeiro') & (F.col('empregado') == 1.0)).show()"
      ],
      "metadata": {
        "colab": {
          "base_uri": "https://localhost:8080/"
        },
        "id": "UaKfKo8quhdK",
        "outputId": "c4f22460-3bc4-44af-a5d6-9e94442330fe"
      },
      "execution_count": null,
      "outputs": [
        {
          "output_type": "stream",
          "name": "stdout",
          "text": [
            "+---+-----------------+--------------+----------------+--------------+---------+\n",
            "| id|             nome|           cpf|telefone_celular|        cidade|empregado|\n",
            "+---+-----------------+--------------+----------------+--------------+---------+\n",
            "|  3|Priscila Medeiros|777.777.777-77| (77)9.7777-7777|Rio de Janeiro|      1.0|\n",
            "|  9|Priscila Medeiros|777.777.777-77| (77)9.7777-7777|Rio de Janeiro|      1.0|\n",
            "+---+-----------------+--------------+----------------+--------------+---------+\n",
            "\n"
          ]
        }
      ]
    },
    {
      "cell_type": "code",
      "source": [
        "#BUSCAR AS PESSOAS QUE SÃO DA CIDADE DO RIO DE JANEIRO OU DE SOBRAL\n",
        "df2.filter((F.col('cidade') == 'Rio de Janeiro') | (F.col('cidade') == 'Sobral')).show()"
      ],
      "metadata": {
        "colab": {
          "base_uri": "https://localhost:8080/"
        },
        "id": "d21ph4K9t9HL",
        "outputId": "58a40ab3-2d13-4b77-8375-ad4828ec938d"
      },
      "execution_count": null,
      "outputs": [
        {
          "output_type": "stream",
          "name": "stdout",
          "text": [
            "+---+-------------------+--------------+----------------+--------------+---------+\n",
            "| id|               nome|           cpf|telefone_celular|        cidade|empregado|\n",
            "+---+-------------------+--------------+----------------+--------------+---------+\n",
            "|  1|   Oswaldo da Silva|999.999.999-99| (99)9.9999-9999|        Sobral|      1.0|\n",
            "|  3|  Priscila Medeiros|777.777.777-77| (77)9.7777-7777|Rio de Janeiro|      1.0|\n",
            "|  8|Pedro José da Costa|222.222.222-22| (22)9.2222-2222|Rio de Janeiro|      0.0|\n",
            "|  9|  Priscila Medeiros|777.777.777-77| (77)9.7777-7777|Rio de Janeiro|      1.0|\n",
            "+---+-------------------+--------------+----------------+--------------+---------+\n",
            "\n"
          ]
        }
      ]
    },
    {
      "cell_type": "markdown",
      "source": [
        "##RESUMO\n"
      ],
      "metadata": {
        "id": "b1ly-UjzwczW"
      }
    },
    {
      "cell_type": "markdown",
      "source": [
        "spark - Cria a session do spark\n",
        "- A partir da variável spark (session) conseguimos executar algumas funções, como criar um DataFrame do pyspark\n",
        "\n",
        "Para criar um DataFrame no Pyspark\n",
        "cria as colunas\n",
        "cria os dados\n",
        "df = spark.createDataFrame(data = dados, schema = colunas)\n",
        "\n",
        "Após isso, consigo aplicar modificações no dataframe através de funções:\n",
        "- df.printSchema() - Retorna o esquema do DataFrame\n",
        "- df.show() - Retorna os registros do DataFrame\n",
        "- df.select() - Retorna as colunas que desejamos, separadas entre ,\n",
        "Ex: df.select('id').show()\n",
        "- df.filter() - Aplica filtros nos dados\n",
        "Ex: df.filter('cidade' == 'Sobral').show()"
      ],
      "metadata": {
        "id": "Cfkiz9XywlF1"
      }
    },
    {
      "cell_type": "code",
      "source": [
        "#FUNÇÃO WHERE - Aplica Filtros nos registros\n",
        "df2.where(F.col('cidade') == 'São Paulo').show()"
      ],
      "metadata": {
        "colab": {
          "base_uri": "https://localhost:8080/"
        },
        "id": "J1uCBIuMwbDZ",
        "outputId": "0023ed0b-9f63-473d-dba5-ce93c1c39490"
      },
      "execution_count": null,
      "outputs": [
        {
          "output_type": "stream",
          "name": "stdout",
          "text": [
            "+---+--------------------+--------------+----------------+---------+---------+\n",
            "| id|                nome|           cpf|telefone_celular|   cidade|empregado|\n",
            "+---+--------------------+--------------+----------------+---------+---------+\n",
            "|  2|    Maria dos Santos|888.888.888-88| (88)9.8888-8888|São Paulo|      0.0|\n",
            "|  6|Maria de Fátima L...|444.444.444-44| (44)9.4444-4444|São Paulo|      1.0|\n",
            "+---+--------------------+--------------+----------------+---------+---------+\n",
            "\n"
          ]
        }
      ]
    },
    {
      "cell_type": "code",
      "source": [
        "'''\n",
        "Comandos para iniciar\n",
        "!pip install pyspark\n",
        "\n",
        "from pyspark.sql import SparkSession\n",
        "import pyspark.sql.functions as F\n",
        "\n",
        "spark = ( SparkSession.builder\n",
        "                      .master('local')\n",
        "                      .appName('leitura_csv')\n",
        "                      .config('spark.ui.port', '4050')\n",
        "                      .getOrCreate())\n",
        "'''"
      ],
      "metadata": {
        "id": "4xqi9HfI22Zq"
      },
      "execution_count": null,
      "outputs": []
    },
    {
      "cell_type": "code",
      "source": [
        "#LER DATASETS EM CSV\n",
        "df_compras = (\n",
        "    spark.read\n",
        "         .format('csv')\n",
        "         .option('delimiter', ';')\n",
        "         .option('header', 'true')\n",
        "         .option('inferschema', 'true')\n",
        "         .load('/content/drive/MyDrive/SOULCODE/compras.csv')\n",
        ")"
      ],
      "metadata": {
        "id": "X87FuGPhzEvv"
      },
      "execution_count": null,
      "outputs": []
    },
    {
      "cell_type": "code",
      "source": [
        "df_compras.printSchema()"
      ],
      "metadata": {
        "colab": {
          "base_uri": "https://localhost:8080/"
        },
        "id": "4rIbXPsB2C0_",
        "outputId": "1aa25d56-cbb7-4923-f98c-4133b4c9d097"
      },
      "execution_count": null,
      "outputs": [
        {
          "output_type": "stream",
          "name": "stdout",
          "text": [
            "root\n",
            " |-- Username: string (nullable = true)\n",
            " |-- Nome: string (nullable = true)\n",
            " |-- Sexo: string (nullable = true)\n",
            " |-- Data_Nascimento: string (nullable = true)\n",
            " |-- Ocupação: string (nullable = true)\n",
            " |-- Assinatura: string (nullable = true)\n",
            " |-- Total_Gasto : double (nullable = true)\n",
            "\n"
          ]
        }
      ]
    },
    {
      "cell_type": "code",
      "source": [
        "df_compras.show(truncate=False)"
      ],
      "metadata": {
        "colab": {
          "base_uri": "https://localhost:8080/"
        },
        "id": "R_-rcPEO10dB",
        "outputId": "02fe6c15-630a-4894-fd47-94a49811cb64"
      },
      "execution_count": null,
      "outputs": [
        {
          "output_type": "stream",
          "name": "stdout",
          "text": [
            "+-------------+-------------------------+---------+---------------+-----------------------------------+----------+------------+\n",
            "|Username     |Nome                     |Sexo     |Data_Nascimento|Ocupação                           |Assinatura|Total_Gasto |\n",
            "+-------------+-------------------------+---------+---------------+-----------------------------------+----------+------------+\n",
            "|Neaude1978   |  Mr \\tbailey Glover     |masculino|01/12/1979     |Analista de Inteligência de Mercado|01/10/2021|1257.45     |\n",
            "|Maress39     |Mrs  \\t isabella   Fowler|feminino |04/08/1960     |Arquiteto de Dados                 |24/03/2020|771.99      |\n",
            "|Kehonell     | Mrs Chloe \\tKirby       |feminino |28/06/1949     |Analista de RH                     |07/06/2020|1021.77     |\n",
            "|Thimpay      | Mrs louise \\tClark      |feminino |07/01/1995     |Arquiteto de Dados                 |03/11/2020|234.76      |\n",
            "|Giall1985    |Mr Harrison \\t Bowen     |feminino |04/04/1987     |Engenheiro de Dados                |25/03/2020|628.07      |\n",
            "|Neave1959    |Mrs anna \\t     Sharp    |feminino |02/02/1970     |Engenheiro de Dados                |18/09/2020|140.04      |\n",
            "|Nicterims1993|  Mrs \\tDaisy Anderson   |masculino|05/07/1985     |Engenheiro de Dados                |29/01/2021|2417.81     |\n",
            "|Fouldlairity |Ms zoe \\tPeacock         |masculino|03/06/1964     |Analista Financeiro                |04/12/2020|51.95       |\n",
            "|Ancomettiody | Mrs Libby \\tWilliams    |feminino |04/09/1974     |Estatístico                        |21/11/2020|130.73      |\n",
            "|Onswis       |Ms Katie \\tMmtcalfe      |feminino |01/07/1983     |Engenheiro de Machine Learning     |27/02/2021|1778.72     |\n",
            "|Majeappre    |Mr Luca \\tVaughan        |feminino |03/01/1971     |Gerente de Tecnologia              |15/07/2022|1034.74     |\n",
            "|Theired      |Mr Henry \\tHaynes        |masculino|06/09/1951     |Analista de Inteligência de Mercado|23/12/2022|1320.04     |\n",
            "|Botter       |Mr Noah \\tWalton         |feminino |09/03/1991     |Web Designer                       |26/07/2022|3464.72     |\n",
            "+-------------+-------------------------+---------+---------------+-----------------------------------+----------+------------+\n",
            "\n"
          ]
        }
      ]
    },
    {
      "cell_type": "code",
      "source": [
        "df_compras.columns"
      ],
      "metadata": {
        "colab": {
          "base_uri": "https://localhost:8080/"
        },
        "id": "S0-E6B966zby",
        "outputId": "901b6a15-3e39-4867-ec80-0b9ad79b5291"
      },
      "execution_count": null,
      "outputs": [
        {
          "output_type": "execute_result",
          "data": {
            "text/plain": [
              "['Username',\n",
              " 'Nome',\n",
              " 'Sexo',\n",
              " 'Data_Nascimento',\n",
              " 'Ocupação',\n",
              " 'Assinatura',\n",
              " 'Total_Gasto ']"
            ]
          },
          "metadata": {},
          "execution_count": 62
        }
      ]
    },
    {
      "cell_type": "code",
      "source": [
        "#SELECIONAR USERNAME, NOME E SEXO E MOSTRAR\n",
        "df_compras.select(F.col('Username'), F.col('Nome'), F.col('Sexo')).show()"
      ],
      "metadata": {
        "colab": {
          "base_uri": "https://localhost:8080/"
        },
        "id": "QtsYm3XM4D01",
        "outputId": "abc0975e-f163-42af-c88c-8db7e0a9d764"
      },
      "execution_count": null,
      "outputs": [
        {
          "output_type": "stream",
          "name": "stdout",
          "text": [
            "+-------------+--------------------+---------+\n",
            "|     Username|                Nome|     Sexo|\n",
            "+-------------+--------------------+---------+\n",
            "|   Neaude1978|  Mr \\tbailey Glo...|masculino|\n",
            "|     Maress39|Mrs  \\t isabella ...| feminino|\n",
            "|     Kehonell| Mrs Chloe \\tKirby  | feminino|\n",
            "|      Thimpay| Mrs louise \\tCla...| feminino|\n",
            "|    Giall1985|Mr Harrison \\t Bowen| feminino|\n",
            "|    Neave1959|Mrs anna \\t     S...| feminino|\n",
            "|Nicterims1993|  Mrs \\tDaisy And...|masculino|\n",
            "| Fouldlairity|    Ms zoe \\tPeacock|masculino|\n",
            "| Ancomettiody| Mrs Libby \\tWill...| feminino|\n",
            "|       Onswis| Ms Katie \\tMmtcalfe| feminino|\n",
            "|    Majeappre|   Mr Luca \\tVaughan| feminino|\n",
            "|      Theired|   Mr Henry \\tHaynes|masculino|\n",
            "|       Botter|    Mr Noah \\tWalton| feminino|\n",
            "+-------------+--------------------+---------+\n",
            "\n"
          ]
        }
      ]
    },
    {
      "cell_type": "code",
      "source": [
        "#CRIAR UM FILTRO APENAS POR ENGENHEIROS DE DADOS E MOSTRAR\n",
        "df_compras.filter(F.col('Ocupação') == 'Engenheiro de Dados').show()"
      ],
      "metadata": {
        "colab": {
          "base_uri": "https://localhost:8080/"
        },
        "id": "PPo3NSxU4JRi",
        "outputId": "0188cb14-dd38-4909-b830-9c9ec515be14"
      },
      "execution_count": null,
      "outputs": [
        {
          "output_type": "stream",
          "name": "stdout",
          "text": [
            "+-------------+--------------------+---------+---------------+-------------------+----------+------------+\n",
            "|     Username|                Nome|     Sexo|Data_Nascimento|           Ocupação|Assinatura|Total_Gasto |\n",
            "+-------------+--------------------+---------+---------------+-------------------+----------+------------+\n",
            "|    Giall1985|Mr Harrison \\t Bowen| feminino|     04/04/1987|Engenheiro de Dados|25/03/2020|      628.07|\n",
            "|    Neave1959|Mrs anna \\t     S...| feminino|     02/02/1970|Engenheiro de Dados|18/09/2020|      140.04|\n",
            "|Nicterims1993|  Mrs \\tDaisy And...|masculino|     05/07/1985|Engenheiro de Dados|29/01/2021|     2417.81|\n",
            "+-------------+--------------------+---------+---------------+-------------------+----------+------------+\n",
            "\n"
          ]
        }
      ]
    },
    {
      "cell_type": "code",
      "source": [
        "#VERIFICAR AS PESSOAS QUE GASTARAM MAIS QUE 2 MIL EM TOTAL GASTO\n",
        "df_compras.filter(F.col('Total_Gasto ') > 2000).show()"
      ],
      "metadata": {
        "colab": {
          "base_uri": "https://localhost:8080/"
        },
        "id": "7IzVJ3-B4QBo",
        "outputId": "93b5dd41-cae6-4a7f-9600-c850dab2223e"
      },
      "execution_count": null,
      "outputs": [
        {
          "output_type": "stream",
          "name": "stdout",
          "text": [
            "+-------------+--------------------+---------+---------------+-------------------+----------+------------+\n",
            "|     Username|                Nome|     Sexo|Data_Nascimento|           Ocupação|Assinatura|Total_Gasto |\n",
            "+-------------+--------------------+---------+---------------+-------------------+----------+------------+\n",
            "|Nicterims1993|  Mrs \\tDaisy And...|masculino|     05/07/1985|Engenheiro de Dados|29/01/2021|     2417.81|\n",
            "|       Botter|    Mr Noah \\tWalton| feminino|     09/03/1991|       Web Designer|26/07/2022|     3464.72|\n",
            "+-------------+--------------------+---------+---------------+-------------------+----------+------------+\n",
            "\n"
          ]
        }
      ]
    },
    {
      "cell_type": "code",
      "source": [
        "#VERIFICAR AS PESSOAS DO SEXO FEMININO QUE GASTARAM MAIS QUE 2.500\n",
        "df_compras.filter(F.col('Sexo') == 'feminino').filter(F.col('Total_Gasto ') > 2500).show()"
      ],
      "metadata": {
        "colab": {
          "base_uri": "https://localhost:8080/"
        },
        "id": "nmSTd_th4XNQ",
        "outputId": "167b81fc-03b1-409f-8273-11677514ec66"
      },
      "execution_count": null,
      "outputs": [
        {
          "output_type": "stream",
          "name": "stdout",
          "text": [
            "+--------+----------------+--------+---------------+------------+----------+------------+\n",
            "|Username|            Nome|    Sexo|Data_Nascimento|    Ocupação|Assinatura|Total_Gasto |\n",
            "+--------+----------------+--------+---------------+------------+----------+------------+\n",
            "|  Botter|Mr Noah \\tWalton|feminino|     09/03/1991|Web Designer|26/07/2022|     3464.72|\n",
            "+--------+----------------+--------+---------------+------------+----------+------------+\n",
            "\n"
          ]
        }
      ]
    },
    {
      "cell_type": "code",
      "source": [
        "#VERIFICAR A QUANTIDADE DE REGISTROS DO DATAFRAME\n",
        "df_compras.count()"
      ],
      "metadata": {
        "colab": {
          "base_uri": "https://localhost:8080/"
        },
        "id": "8_ZWsH9v4b3N",
        "outputId": "4d9270aa-f5a9-4055-d81e-230644ff5f91"
      },
      "execution_count": null,
      "outputs": [
        {
          "output_type": "execute_result",
          "data": {
            "text/plain": [
              "13"
            ]
          },
          "metadata": {},
          "execution_count": 70
        }
      ]
    },
    {
      "cell_type": "code",
      "source": [
        "#VERIFICAR OS TIPOS DISTINTOS DE GÊNEROS EXISTENTES\n",
        "df_compras.select(F.col('Sexo')).distinct().count()\n",
        "df_compras.select(F.col('Sexo')).distinct().show()"
      ],
      "metadata": {
        "colab": {
          "base_uri": "https://localhost:8080/"
        },
        "id": "6DBmQo594qEs",
        "outputId": "e62730df-456c-439c-a133-2f866d0a6394"
      },
      "execution_count": null,
      "outputs": [
        {
          "output_type": "stream",
          "name": "stdout",
          "text": [
            "+---------+\n",
            "|     Sexo|\n",
            "+---------+\n",
            "|masculino|\n",
            "| feminino|\n",
            "+---------+\n",
            "\n"
          ]
        }
      ]
    },
    {
      "cell_type": "code",
      "source": [
        "#df2, df_compras"
      ],
      "metadata": {
        "id": "7WdzL5coPotr"
      },
      "execution_count": null,
      "outputs": []
    },
    {
      "cell_type": "code",
      "source": [
        "#CRIAÇÃO DE NOVAS COLUNAS - withColumn\n",
        "df2 = df2.withColumn('Ativo', F.lit('sim'))"
      ],
      "metadata": {
        "id": "ZMsWuT9lPqoU"
      },
      "execution_count": null,
      "outputs": []
    },
    {
      "cell_type": "code",
      "source": [
        "type(df2)"
      ],
      "metadata": {
        "colab": {
          "base_uri": "https://localhost:8080/"
        },
        "id": "PR1mg4YiRrF5",
        "outputId": "2e70c921-c6e0-4a5d-c192-fc56940646d2"
      },
      "execution_count": null,
      "outputs": [
        {
          "output_type": "execute_result",
          "data": {
            "text/plain": [
              "pyspark.sql.dataframe.DataFrame"
            ]
          },
          "metadata": {},
          "execution_count": 18
        }
      ]
    },
    {
      "cell_type": "code",
      "source": [
        "df2.show()"
      ],
      "metadata": {
        "colab": {
          "base_uri": "https://localhost:8080/"
        },
        "id": "NLTdFLw9RhPc",
        "outputId": "b6048a35-5e69-470d-9a2f-eea17e27fb0e"
      },
      "execution_count": null,
      "outputs": [
        {
          "output_type": "stream",
          "name": "stdout",
          "text": [
            "+---+--------------------+--------------+----------------+--------------+---------+-----+\n",
            "| id|                nome|           cpf|telefone_celular|        cidade|empregado|Ativo|\n",
            "+---+--------------------+--------------+----------------+--------------+---------+-----+\n",
            "|  1|    Oswaldo da Silva|999.999.999-99| (99)9.9999-9999|        Sobral|      1.0|  sim|\n",
            "|  2|    Maria dos Santos|888.888.888-88| (88)9.8888-8888|     São Paulo|      0.0|  sim|\n",
            "|  3|   Priscila Medeiros|777.777.777-77| (77)9.7777-7777|Rio de Janeiro|      1.0|  sim|\n",
            "|  4|       Roberto Diniz|666.666.666-66| (66)9.6666-6666| Florianópolis|      0.0|  sim|\n",
            "|  5|  Marília Cavalcante|555.555.555-55| (55)9.5555-5555| Florianópolis|      0.0|  sim|\n",
            "|  6|Maria de Fátima L...|444.444.444-44| (44)9.4444-4444|     São Paulo|      1.0|  sim|\n",
            "|  7|Edvaldo Marques d...|333.333.333-33| (33)9.3333-3333| Florianópolis|      1.0|  sim|\n",
            "|  8| Pedro José da Costa|222.222.222-22| (22)9.2222-2222|Rio de Janeiro|      0.0|  sim|\n",
            "|  9|   Priscila Medeiros|777.777.777-77| (77)9.7777-7777|Rio de Janeiro|      1.0|  sim|\n",
            "+---+--------------------+--------------+----------------+--------------+---------+-----+\n",
            "\n"
          ]
        },
        {
          "output_type": "execute_result",
          "data": {
            "text/plain": [
              "NoneType"
            ]
          },
          "metadata": {},
          "execution_count": 17
        }
      ]
    },
    {
      "cell_type": "code",
      "source": [
        "#CUIDADO AO UTILIZAR UM NOME DE COLUNA JÁ EXISTENTE, POIS O withColumn IRÁ ALTERAR O CONTEÚDO DELA\n",
        "df2.withColumn('nome', F.lit('Joaquim')).show()"
      ],
      "metadata": {
        "colab": {
          "base_uri": "https://localhost:8080/"
        },
        "id": "8VTc3mg2R1nI",
        "outputId": "940d7008-534c-4bf7-d1a8-6071746baf9c"
      },
      "execution_count": null,
      "outputs": [
        {
          "output_type": "stream",
          "name": "stdout",
          "text": [
            "+---+-------+--------------+----------------+--------------+---------+-----+\n",
            "| id|   nome|           cpf|telefone_celular|        cidade|empregado|Ativo|\n",
            "+---+-------+--------------+----------------+--------------+---------+-----+\n",
            "|  1|Joaquim|999.999.999-99| (99)9.9999-9999|        Sobral|      1.0|  sim|\n",
            "|  2|Joaquim|888.888.888-88| (88)9.8888-8888|     São Paulo|      0.0|  sim|\n",
            "|  3|Joaquim|777.777.777-77| (77)9.7777-7777|Rio de Janeiro|      1.0|  sim|\n",
            "|  4|Joaquim|666.666.666-66| (66)9.6666-6666| Florianópolis|      0.0|  sim|\n",
            "|  5|Joaquim|555.555.555-55| (55)9.5555-5555| Florianópolis|      0.0|  sim|\n",
            "|  6|Joaquim|444.444.444-44| (44)9.4444-4444|     São Paulo|      1.0|  sim|\n",
            "|  7|Joaquim|333.333.333-33| (33)9.3333-3333| Florianópolis|      1.0|  sim|\n",
            "|  8|Joaquim|222.222.222-22| (22)9.2222-2222|Rio de Janeiro|      0.0|  sim|\n",
            "|  9|Joaquim|777.777.777-77| (77)9.7777-7777|Rio de Janeiro|      1.0|  sim|\n",
            "+---+-------+--------------+----------------+--------------+---------+-----+\n",
            "\n"
          ]
        }
      ]
    },
    {
      "cell_type": "code",
      "source": [
        "#RENOMEAR COLUNAS\n",
        "df2 = df2.withColumnRenamed('telefone_celular', 'celular')"
      ],
      "metadata": {
        "id": "qOR8pDx4SjPU"
      },
      "execution_count": null,
      "outputs": []
    },
    {
      "cell_type": "code",
      "source": [
        "df2.show()"
      ],
      "metadata": {
        "colab": {
          "base_uri": "https://localhost:8080/"
        },
        "id": "EFXjyxTkTDaU",
        "outputId": "3017d01c-4f77-40b9-ae39-80a37cda8579"
      },
      "execution_count": null,
      "outputs": [
        {
          "output_type": "stream",
          "name": "stdout",
          "text": [
            "+---+--------------------+--------------+---------------+--------------+---------+-----+\n",
            "| id|                nome|           cpf|        celular|        cidade|empregado|Ativo|\n",
            "+---+--------------------+--------------+---------------+--------------+---------+-----+\n",
            "|  1|    Oswaldo da Silva|999.999.999-99|(99)9.9999-9999|        Sobral|      1.0|  sim|\n",
            "|  2|    Maria dos Santos|888.888.888-88|(88)9.8888-8888|     São Paulo|      0.0|  sim|\n",
            "|  3|   Priscila Medeiros|777.777.777-77|(77)9.7777-7777|Rio de Janeiro|      1.0|  sim|\n",
            "|  4|       Roberto Diniz|666.666.666-66|(66)9.6666-6666| Florianópolis|      0.0|  sim|\n",
            "|  5|  Marília Cavalcante|555.555.555-55|(55)9.5555-5555| Florianópolis|      0.0|  sim|\n",
            "|  6|Maria de Fátima L...|444.444.444-44|(44)9.4444-4444|     São Paulo|      1.0|  sim|\n",
            "|  7|Edvaldo Marques d...|333.333.333-33|(33)9.3333-3333| Florianópolis|      1.0|  sim|\n",
            "|  8| Pedro José da Costa|222.222.222-22|(22)9.2222-2222|Rio de Janeiro|      0.0|  sim|\n",
            "|  9|   Priscila Medeiros|777.777.777-77|(77)9.7777-7777|Rio de Janeiro|      1.0|  sim|\n",
            "+---+--------------------+--------------+---------------+--------------+---------+-----+\n",
            "\n"
          ]
        }
      ]
    },
    {
      "cell_type": "code",
      "source": [
        "#VERIFICAR A QUANTIDADE DE REGISTROS DO DATAFRAME\n",
        "df2.count()"
      ],
      "metadata": {
        "colab": {
          "base_uri": "https://localhost:8080/"
        },
        "id": "M_JMBg2dUK3Q",
        "outputId": "7410ebc0-14a6-4459-c72d-4f9aa5d09882"
      },
      "execution_count": null,
      "outputs": [
        {
          "output_type": "execute_result",
          "data": {
            "text/plain": [
              "9"
            ]
          },
          "metadata": {},
          "execution_count": 27
        }
      ]
    },
    {
      "cell_type": "code",
      "source": [
        "#VERIFICAR A QUANTIDADE DE REGISTROS REMOVENDO AS LINHAS DUPLICADAS\n",
        "df2.dropDuplicates().count()"
      ],
      "metadata": {
        "colab": {
          "base_uri": "https://localhost:8080/"
        },
        "id": "Kb9olmj7Tq8y",
        "outputId": "a7a3c632-d46b-43a7-b7dd-8fdb95bfcf00"
      },
      "execution_count": null,
      "outputs": [
        {
          "output_type": "execute_result",
          "data": {
            "text/plain": [
              "9"
            ]
          },
          "metadata": {},
          "execution_count": 26
        }
      ]
    },
    {
      "cell_type": "code",
      "source": [
        "#TOTAL DE REGISTROS DUPLICADOS\n",
        "total = df2.count() - df2.dropDuplicates().count()\n",
        "print(f'Total de Registros Duplicados = {total}')"
      ],
      "metadata": {
        "colab": {
          "base_uri": "https://localhost:8080/"
        },
        "id": "RfxpTdZLUPjM",
        "outputId": "d72bdda7-9722-46cf-d79b-916a40821320"
      },
      "execution_count": null,
      "outputs": [
        {
          "output_type": "stream",
          "name": "stdout",
          "text": [
            "Total de Registros Duplicados = 0\n"
          ]
        }
      ]
    },
    {
      "cell_type": "code",
      "source": [
        "#COMANDO PARA DROPAR UMA COLUNA\n",
        "df2 = df2.drop(F.col('id'))"
      ],
      "metadata": {
        "id": "YaVsE8U_UuHA"
      },
      "execution_count": null,
      "outputs": []
    },
    {
      "cell_type": "code",
      "source": [
        "#VERIFICAR A QUANTIDADE DE REGISTROS DO DATAFRAME\n",
        "df2.count()"
      ],
      "metadata": {
        "colab": {
          "base_uri": "https://localhost:8080/"
        },
        "id": "DocrjzrbVAyk",
        "outputId": "81e6107e-dfd0-4841-c45f-9424fa69b7be"
      },
      "execution_count": null,
      "outputs": [
        {
          "output_type": "execute_result",
          "data": {
            "text/plain": [
              "9"
            ]
          },
          "metadata": {},
          "execution_count": 33
        }
      ]
    },
    {
      "cell_type": "code",
      "source": [
        "df2.dropDuplicates().count()"
      ],
      "metadata": {
        "colab": {
          "base_uri": "https://localhost:8080/"
        },
        "id": "JkBmIinCVFga",
        "outputId": "8747f05f-019e-40e6-d575-b69210216924"
      },
      "execution_count": null,
      "outputs": [
        {
          "output_type": "execute_result",
          "data": {
            "text/plain": [
              "8"
            ]
          },
          "metadata": {},
          "execution_count": 34
        }
      ]
    },
    {
      "cell_type": "code",
      "source": [
        "#TOTAL DE REGISTROS DUPLICADOS\n",
        "total = df2.count() - df2.dropDuplicates().count()\n",
        "print(f'Total de Registros Duplicados = {total}')"
      ],
      "metadata": {
        "colab": {
          "base_uri": "https://localhost:8080/"
        },
        "id": "JCJKfKw2VKgO",
        "outputId": "ed18a61c-cebc-4755-e41c-acf25a24e445"
      },
      "execution_count": null,
      "outputs": [
        {
          "output_type": "stream",
          "name": "stdout",
          "text": [
            "Total de Registros Duplicados = 1\n"
          ]
        }
      ]
    },
    {
      "cell_type": "code",
      "source": [
        "#VERIFICAR SE EXISTE MAIS DE UM CPF IGUAL\n",
        "df2.select(F.col('cpf')).count()"
      ],
      "metadata": {
        "colab": {
          "base_uri": "https://localhost:8080/"
        },
        "id": "TluuJSHpV3L8",
        "outputId": "a76405fb-4cd1-45bf-9f39-459098267ad8"
      },
      "execution_count": null,
      "outputs": [
        {
          "output_type": "execute_result",
          "data": {
            "text/plain": [
              "9"
            ]
          },
          "metadata": {},
          "execution_count": 36
        }
      ]
    },
    {
      "cell_type": "code",
      "source": [
        "df2.select(F.col('cpf')).distinct().count()"
      ],
      "metadata": {
        "colab": {
          "base_uri": "https://localhost:8080/"
        },
        "id": "5npvoVFMWC1H",
        "outputId": "05eb6085-23d0-4e93-df18-a2b374d6dd58"
      },
      "execution_count": null,
      "outputs": [
        {
          "output_type": "execute_result",
          "data": {
            "text/plain": [
              "8"
            ]
          },
          "metadata": {},
          "execution_count": 37
        }
      ]
    },
    {
      "cell_type": "code",
      "source": [
        "df2.select(F.col('cpf')).dropDuplicates().count()"
      ],
      "metadata": {
        "colab": {
          "base_uri": "https://localhost:8080/"
        },
        "id": "bZqJIzByWYML",
        "outputId": "bcae29eb-a3db-473c-ecb7-0b14ca66c1d9"
      },
      "execution_count": null,
      "outputs": [
        {
          "output_type": "execute_result",
          "data": {
            "text/plain": [
              "8"
            ]
          },
          "metadata": {},
          "execution_count": 41
        }
      ]
    },
    {
      "cell_type": "code",
      "source": [
        "total = df2.select(F.col('cpf')).count() - df2.select(F.col('cpf')).distinct().count()\n",
        "print(f'O total de CPFs Repetidos é = {total}')"
      ],
      "metadata": {
        "colab": {
          "base_uri": "https://localhost:8080/"
        },
        "id": "4KUbBVZrWKQm",
        "outputId": "9d386827-35f4-43f4-efd8-292f16925870"
      },
      "execution_count": null,
      "outputs": [
        {
          "output_type": "stream",
          "name": "stdout",
          "text": [
            "O total de CPFs Repetidos é = 1\n"
          ]
        }
      ]
    },
    {
      "cell_type": "code",
      "source": [
        "#df2.dropDuplicates().show()\n",
        "df2 = df2.dropDuplicates()"
      ],
      "metadata": {
        "id": "qir8SA29XJCl"
      },
      "execution_count": null,
      "outputs": []
    },
    {
      "cell_type": "code",
      "source": [
        "df2.show()"
      ],
      "metadata": {
        "colab": {
          "base_uri": "https://localhost:8080/"
        },
        "id": "W5iI6i19YaRQ",
        "outputId": "0f488748-3138-4741-e89d-3dade315c6a4"
      },
      "execution_count": null,
      "outputs": [
        {
          "output_type": "stream",
          "name": "stdout",
          "text": [
            "+--------------------+--------------+---------------+--------------+---------+-----+\n",
            "|                nome|           cpf|        celular|        cidade|empregado|Ativo|\n",
            "+--------------------+--------------+---------------+--------------+---------+-----+\n",
            "|       Roberto Diniz|666.666.666-66|(66)9.6666-6666| Florianópolis|      0.0|  sim|\n",
            "|  Marília Cavalcante|555.555.555-55|(55)9.5555-5555| Florianópolis|      0.0|  sim|\n",
            "|Maria de Fátima L...|444.444.444-44|(44)9.4444-4444|     São Paulo|      1.0|  sim|\n",
            "|   Priscila Medeiros|777.777.777-77|(77)9.7777-7777|Rio de Janeiro|      1.0|  sim|\n",
            "|    Maria dos Santos|888.888.888-88|(88)9.8888-8888|     São Paulo|      0.0|  sim|\n",
            "|Edvaldo Marques d...|333.333.333-33|(33)9.3333-3333| Florianópolis|      1.0|  sim|\n",
            "|    Oswaldo da Silva|999.999.999-99|(99)9.9999-9999|        Sobral|      1.0|  sim|\n",
            "| Pedro José da Costa|222.222.222-22|(22)9.2222-2222|Rio de Janeiro|      0.0|  sim|\n",
            "+--------------------+--------------+---------------+--------------+---------+-----+\n",
            "\n"
          ]
        }
      ]
    },
    {
      "cell_type": "code",
      "source": [
        "#RETORNA APENAS VALORES ÚNICOS PARA A COLUNA CIDADE\n",
        "df2.select(F.col('cidade')).dropDuplicates().show()"
      ],
      "metadata": {
        "colab": {
          "base_uri": "https://localhost:8080/"
        },
        "id": "oauYpkljYtwd",
        "outputId": "6e9854d8-98d3-4180-bbfc-16c52a41166d"
      },
      "execution_count": null,
      "outputs": [
        {
          "output_type": "stream",
          "name": "stdout",
          "text": [
            "+--------------+\n",
            "|        cidade|\n",
            "+--------------+\n",
            "|        Sobral|\n",
            "| Florianópolis|\n",
            "|     São Paulo|\n",
            "|Rio de Janeiro|\n",
            "+--------------+\n",
            "\n"
          ]
        }
      ]
    },
    {
      "cell_type": "code",
      "source": [
        "df_compras.show()"
      ],
      "metadata": {
        "colab": {
          "base_uri": "https://localhost:8080/"
        },
        "id": "crAGZfXTdz-H",
        "outputId": "b6cd87cb-c7e3-4361-8f91-9658dba7854c"
      },
      "execution_count": null,
      "outputs": [
        {
          "output_type": "stream",
          "name": "stdout",
          "text": [
            "+-------------+--------------------+---------+---------------+--------------------+----------+------------+\n",
            "|     Username|                Nome|     Sexo|Data_Nascimento|            Ocupação|Assinatura|Total_Gasto |\n",
            "+-------------+--------------------+---------+---------------+--------------------+----------+------------+\n",
            "|   Neaude1978|  Mr \\tbailey Glo...|masculino|     01/12/1979|Analista de Intel...|01/10/2021|     1257.45|\n",
            "|     Maress39|Mrs  \\t isabella ...| feminino|     04/08/1960|  Arquiteto de Dados|24/03/2020|      771.99|\n",
            "|     Kehonell| Mrs Chloe \\tKirby  | feminino|     28/06/1949|      Analista de RH|07/06/2020|     1021.77|\n",
            "|      Thimpay| Mrs louise \\tCla...| feminino|     07/01/1995|  Arquiteto de Dados|03/11/2020|      234.76|\n",
            "|    Giall1985|Mr Harrison \\t Bowen| feminino|     04/04/1987| Engenheiro de Dados|25/03/2020|      628.07|\n",
            "|    Neave1959|Mrs anna \\t     S...| feminino|     02/02/1970| Engenheiro de Dados|18/09/2020|      140.04|\n",
            "|Nicterims1993|  Mrs \\tDaisy And...|masculino|     05/07/1985| Engenheiro de Dados|29/01/2021|     2417.81|\n",
            "| Fouldlairity|    Ms zoe \\tPeacock|masculino|     03/06/1964| Analista Financeiro|04/12/2020|       51.95|\n",
            "| Ancomettiody| Mrs Libby \\tWill...| feminino|     04/09/1974|         Estatístico|21/11/2020|      130.73|\n",
            "|       Onswis| Ms Katie \\tMmtcalfe| feminino|     01/07/1983|Engenheiro de Mac...|27/02/2021|     1778.72|\n",
            "|    Majeappre|   Mr Luca \\tVaughan| feminino|     03/01/1971|Gerente de Tecnol...|15/07/2022|     1034.74|\n",
            "|      Theired|   Mr Henry \\tHaynes|masculino|     06/09/1951|Analista de Intel...|23/12/2022|     1320.04|\n",
            "|       Botter|    Mr Noah \\tWalton| feminino|     09/03/1991|        Web Designer|26/07/2022|     3464.72|\n",
            "+-------------+--------------------+---------+---------------+--------------------+----------+------------+\n",
            "\n"
          ]
        }
      ]
    },
    {
      "cell_type": "code",
      "source": [
        "df2.show()"
      ],
      "metadata": {
        "colab": {
          "base_uri": "https://localhost:8080/"
        },
        "id": "-nwLSd3OdjCA",
        "outputId": "0f34dbdc-f544-4169-9ea0-fe6ddc0a6a87"
      },
      "execution_count": null,
      "outputs": [
        {
          "output_type": "stream",
          "name": "stdout",
          "text": [
            "+--------------------+--------------+---------------+--------------+---------+-----+\n",
            "|                nome|           cpf|        celular|        cidade|empregado|Ativo|\n",
            "+--------------------+--------------+---------------+--------------+---------+-----+\n",
            "|       Roberto Diniz|666.666.666-66|(66)9.6666-6666| Florianópolis|      0.0|  sim|\n",
            "|  Marília Cavalcante|555.555.555-55|(55)9.5555-5555| Florianópolis|      0.0|  sim|\n",
            "|Maria de Fátima L...|444.444.444-44|(44)9.4444-4444|     São Paulo|      1.0|  sim|\n",
            "|   Priscila Medeiros|777.777.777-77|(77)9.7777-7777|Rio de Janeiro|      1.0|  sim|\n",
            "|    Maria dos Santos|888.888.888-88|(88)9.8888-8888|     São Paulo|      0.0|  sim|\n",
            "|Edvaldo Marques d...|333.333.333-33|(33)9.3333-3333| Florianópolis|      1.0|  sim|\n",
            "|    Oswaldo da Silva|999.999.999-99|(99)9.9999-9999|        Sobral|      1.0|  sim|\n",
            "| Pedro José da Costa|222.222.222-22|(22)9.2222-2222|Rio de Janeiro|      0.0|  sim|\n",
            "+--------------------+--------------+---------------+--------------+---------+-----+\n",
            "\n"
          ]
        }
      ]
    },
    {
      "cell_type": "code",
      "source": [
        "#ORDENAÇÃO POR COLUNAS - sort()\n",
        "#df2.sort(F.col('nome')).show(truncate=False)\n",
        "#df2.sort(F.col('nome').asc()).show(truncate=False)\n",
        "df2.sort(F.col('nome').desc()).show(truncate=False)"
      ],
      "metadata": {
        "colab": {
          "base_uri": "https://localhost:8080/"
        },
        "id": "7dtgV2oedpyB",
        "outputId": "dc4c0b61-547f-4850-c496-70e92a228473"
      },
      "execution_count": null,
      "outputs": [
        {
          "output_type": "stream",
          "name": "stdout",
          "text": [
            "+------------------------+--------------+---------------+--------------+---------+-----+\n",
            "|nome                    |cpf           |celular        |cidade        |empregado|Ativo|\n",
            "+------------------------+--------------+---------------+--------------+---------+-----+\n",
            "|Roberto Diniz           |666.666.666-66|(66)9.6666-6666|Florianópolis |0.0      |sim  |\n",
            "|Priscila Medeiros       |777.777.777-77|(77)9.7777-7777|Rio de Janeiro|1.0      |sim  |\n",
            "|Pedro José da Costa     |222.222.222-22|(22)9.2222-2222|Rio de Janeiro|0.0      |sim  |\n",
            "|Oswaldo da Silva        |999.999.999-99|(99)9.9999-9999|Sobral        |1.0      |sim  |\n",
            "|Marília Cavalcante      |555.555.555-55|(55)9.5555-5555|Florianópolis |0.0      |sim  |\n",
            "|Maria dos Santos        |888.888.888-88|(88)9.8888-8888|São Paulo     |0.0      |sim  |\n",
            "|Maria de Fátima Lopes   |444.444.444-44|(44)9.4444-4444|São Paulo     |1.0      |sim  |\n",
            "|Edvaldo Marques de Sousa|333.333.333-33|(33)9.3333-3333|Florianópolis |1.0      |sim  |\n",
            "+------------------------+--------------+---------------+--------------+---------+-----+\n",
            "\n"
          ]
        }
      ]
    },
    {
      "cell_type": "code",
      "source": [
        "#ORDENAÇÃO POR COLUNAS - orderBy()\n",
        "#df2.orderBy(F.col('cidade')).show()\n",
        "df2.orderBy(F.col('cidade').asc()).show()\n",
        "df2.orderBy(F.col('cidade').desc()).show()"
      ],
      "metadata": {
        "colab": {
          "base_uri": "https://localhost:8080/"
        },
        "id": "P3q9fo-cetar",
        "outputId": "6216fef3-fec5-4c09-d3e0-0bec4966b9ca"
      },
      "execution_count": null,
      "outputs": [
        {
          "output_type": "stream",
          "name": "stdout",
          "text": [
            "+--------------------+--------------+---------------+--------------+---------+-----+\n",
            "|                nome|           cpf|        celular|        cidade|empregado|Ativo|\n",
            "+--------------------+--------------+---------------+--------------+---------+-----+\n",
            "|       Roberto Diniz|666.666.666-66|(66)9.6666-6666| Florianópolis|      0.0|  sim|\n",
            "|Edvaldo Marques d...|333.333.333-33|(33)9.3333-3333| Florianópolis|      1.0|  sim|\n",
            "|  Marília Cavalcante|555.555.555-55|(55)9.5555-5555| Florianópolis|      0.0|  sim|\n",
            "| Pedro José da Costa|222.222.222-22|(22)9.2222-2222|Rio de Janeiro|      0.0|  sim|\n",
            "|   Priscila Medeiros|777.777.777-77|(77)9.7777-7777|Rio de Janeiro|      1.0|  sim|\n",
            "|    Oswaldo da Silva|999.999.999-99|(99)9.9999-9999|        Sobral|      1.0|  sim|\n",
            "|Maria de Fátima L...|444.444.444-44|(44)9.4444-4444|     São Paulo|      1.0|  sim|\n",
            "|    Maria dos Santos|888.888.888-88|(88)9.8888-8888|     São Paulo|      0.0|  sim|\n",
            "+--------------------+--------------+---------------+--------------+---------+-----+\n",
            "\n",
            "+--------------------+--------------+---------------+--------------+---------+-----+\n",
            "|                nome|           cpf|        celular|        cidade|empregado|Ativo|\n",
            "+--------------------+--------------+---------------+--------------+---------+-----+\n",
            "|Maria de Fátima L...|444.444.444-44|(44)9.4444-4444|     São Paulo|      1.0|  sim|\n",
            "|    Maria dos Santos|888.888.888-88|(88)9.8888-8888|     São Paulo|      0.0|  sim|\n",
            "|    Oswaldo da Silva|999.999.999-99|(99)9.9999-9999|        Sobral|      1.0|  sim|\n",
            "| Pedro José da Costa|222.222.222-22|(22)9.2222-2222|Rio de Janeiro|      0.0|  sim|\n",
            "|   Priscila Medeiros|777.777.777-77|(77)9.7777-7777|Rio de Janeiro|      1.0|  sim|\n",
            "|       Roberto Diniz|666.666.666-66|(66)9.6666-6666| Florianópolis|      0.0|  sim|\n",
            "|Edvaldo Marques d...|333.333.333-33|(33)9.3333-3333| Florianópolis|      1.0|  sim|\n",
            "|  Marília Cavalcante|555.555.555-55|(55)9.5555-5555| Florianópolis|      0.0|  sim|\n",
            "+--------------------+--------------+---------------+--------------+---------+-----+\n",
            "\n"
          ]
        }
      ]
    },
    {
      "cell_type": "code",
      "source": [
        "#ORDENAÇÃO POR MAIS DE UMA COLUNA\n",
        "df2.orderBy(F.col('cidade').asc(), F.col('nome').asc()).show()"
      ],
      "metadata": {
        "colab": {
          "base_uri": "https://localhost:8080/"
        },
        "id": "tX3AdPOpfEg3",
        "outputId": "0b3375c0-5594-4983-d516-2448be08f406"
      },
      "execution_count": null,
      "outputs": [
        {
          "output_type": "stream",
          "name": "stdout",
          "text": [
            "+--------------------+--------------+---------------+--------------+---------+-----+\n",
            "|                nome|           cpf|        celular|        cidade|empregado|Ativo|\n",
            "+--------------------+--------------+---------------+--------------+---------+-----+\n",
            "|Edvaldo Marques d...|333.333.333-33|(33)9.3333-3333| Florianópolis|      1.0|  sim|\n",
            "|  Marília Cavalcante|555.555.555-55|(55)9.5555-5555| Florianópolis|      0.0|  sim|\n",
            "|       Roberto Diniz|666.666.666-66|(66)9.6666-6666| Florianópolis|      0.0|  sim|\n",
            "| Pedro José da Costa|222.222.222-22|(22)9.2222-2222|Rio de Janeiro|      0.0|  sim|\n",
            "|   Priscila Medeiros|777.777.777-77|(77)9.7777-7777|Rio de Janeiro|      1.0|  sim|\n",
            "|    Oswaldo da Silva|999.999.999-99|(99)9.9999-9999|        Sobral|      1.0|  sim|\n",
            "|Maria de Fátima L...|444.444.444-44|(44)9.4444-4444|     São Paulo|      1.0|  sim|\n",
            "|    Maria dos Santos|888.888.888-88|(88)9.8888-8888|     São Paulo|      0.0|  sim|\n",
            "+--------------------+--------------+---------------+--------------+---------+-----+\n",
            "\n"
          ]
        }
      ]
    },
    {
      "cell_type": "code",
      "source": [
        "#WHEN - OTHERWISE - SITUAÇÃO DO EMPREGADO - 1.0 Empregado, 0.0 - Desempregado\n",
        "df2.show()"
      ],
      "metadata": {
        "colab": {
          "base_uri": "https://localhost:8080/"
        },
        "id": "23d9w_wefr41",
        "outputId": "76607661-bf95-4902-9d90-e94016875f1a"
      },
      "execution_count": null,
      "outputs": [
        {
          "output_type": "stream",
          "name": "stdout",
          "text": [
            "+--------------------+--------------+---------------+--------------+---------+-----+\n",
            "|                nome|           cpf|        celular|        cidade|empregado|Ativo|\n",
            "+--------------------+--------------+---------------+--------------+---------+-----+\n",
            "|       Roberto Diniz|666.666.666-66|(66)9.6666-6666| Florianópolis|      0.0|  sim|\n",
            "|  Marília Cavalcante|555.555.555-55|(55)9.5555-5555| Florianópolis|      0.0|  sim|\n",
            "|Maria de Fátima L...|444.444.444-44|(44)9.4444-4444|     São Paulo|      1.0|  sim|\n",
            "|   Priscila Medeiros|777.777.777-77|(77)9.7777-7777|Rio de Janeiro|      1.0|  sim|\n",
            "|    Maria dos Santos|888.888.888-88|(88)9.8888-8888|     São Paulo|      0.0|  sim|\n",
            "|Edvaldo Marques d...|333.333.333-33|(33)9.3333-3333| Florianópolis|      1.0|  sim|\n",
            "|    Oswaldo da Silva|999.999.999-99|(99)9.9999-9999|        Sobral|      1.0|  sim|\n",
            "| Pedro José da Costa|222.222.222-22|(22)9.2222-2222|Rio de Janeiro|      0.0|  sim|\n",
            "+--------------------+--------------+---------------+--------------+---------+-----+\n",
            "\n"
          ]
        }
      ]
    },
    {
      "cell_type": "code",
      "source": [
        "#CRIANDO UMA NOVA COLUNA COM A INFORMAÇÃO 1.0 - empregado, 0.0 - desempregado\n",
        "df2 = df2.withColumn('situacao', F.when((F.col('empregado') == 1.0), F.lit('empregado'))\n",
        "                            .otherwise(F.lit('Desempregado')))"
      ],
      "metadata": {
        "id": "XHQ_mTP2gAaM"
      },
      "execution_count": null,
      "outputs": []
    },
    {
      "cell_type": "code",
      "source": [
        "df2 = df2.drop(F.col('empregado'))"
      ],
      "metadata": {
        "id": "UR3wOmh7h77T"
      },
      "execution_count": null,
      "outputs": []
    },
    {
      "cell_type": "code",
      "source": [
        "df2.show()"
      ],
      "metadata": {
        "colab": {
          "base_uri": "https://localhost:8080/"
        },
        "id": "NObh-78iiDn2",
        "outputId": "bd5836a9-1cec-4f1d-a0d2-4bdb9da56cd3"
      },
      "execution_count": null,
      "outputs": [
        {
          "output_type": "stream",
          "name": "stdout",
          "text": [
            "+--------------------+--------------+---------------+--------------+-----+------------+\n",
            "|                nome|           cpf|        celular|        cidade|Ativo|    situacao|\n",
            "+--------------------+--------------+---------------+--------------+-----+------------+\n",
            "|       Roberto Diniz|666.666.666-66|(66)9.6666-6666| Florianópolis|  sim|Desempregado|\n",
            "|  Marília Cavalcante|555.555.555-55|(55)9.5555-5555| Florianópolis|  sim|Desempregado|\n",
            "|Maria de Fátima L...|444.444.444-44|(44)9.4444-4444|     São Paulo|  sim|   empregado|\n",
            "|   Priscila Medeiros|777.777.777-77|(77)9.7777-7777|Rio de Janeiro|  sim|   empregado|\n",
            "|    Maria dos Santos|888.888.888-88|(88)9.8888-8888|     São Paulo|  sim|Desempregado|\n",
            "|Edvaldo Marques d...|333.333.333-33|(33)9.3333-3333| Florianópolis|  sim|   empregado|\n",
            "|    Oswaldo da Silva|999.999.999-99|(99)9.9999-9999|        Sobral|  sim|   empregado|\n",
            "| Pedro José da Costa|222.222.222-22|(22)9.2222-2222|Rio de Janeiro|  sim|Desempregado|\n",
            "+--------------------+--------------+---------------+--------------+-----+------------+\n",
            "\n"
          ]
        }
      ]
    },
    {
      "cell_type": "code",
      "source": [
        "#AGRUPAR POR ALGUMA OU ALGUMAS COLUNAS PARA OBTER ALGUMA INFORMAÇÃO ESPECÍFICA SOBRE AQUELE GRUPO\n",
        "df3 = df2.groupBy(F.col('cidade')).count()"
      ],
      "metadata": {
        "id": "ButqDNb-jm6Y"
      },
      "execution_count": null,
      "outputs": []
    },
    {
      "cell_type": "code",
      "source": [
        "df3.show()"
      ],
      "metadata": {
        "colab": {
          "base_uri": "https://localhost:8080/"
        },
        "id": "MyWxOPRfkNA6",
        "outputId": "13f248f0-7937-4e71-bd61-6a80a0dc98bb"
      },
      "execution_count": null,
      "outputs": [
        {
          "output_type": "stream",
          "name": "stdout",
          "text": [
            "+--------------+-----+\n",
            "|        cidade|count|\n",
            "+--------------+-----+\n",
            "|        Sobral|    1|\n",
            "| Florianópolis|    3|\n",
            "|     São Paulo|    2|\n",
            "|Rio de Janeiro|    2|\n",
            "+--------------+-----+\n",
            "\n"
          ]
        }
      ]
    },
    {
      "cell_type": "code",
      "source": [
        "#QUANTIDADE DE PESSOAS POR CIDADE\n",
        "df2.groupBy(F.col('cidade')).count().show()"
      ],
      "metadata": {
        "colab": {
          "base_uri": "https://localhost:8080/"
        },
        "id": "L-8tz23FmqjR",
        "outputId": "a0eef090-d365-4b61-d0d3-9a793079246b"
      },
      "execution_count": null,
      "outputs": [
        {
          "output_type": "stream",
          "name": "stdout",
          "text": [
            "+--------------+-----+\n",
            "|        cidade|count|\n",
            "+--------------+-----+\n",
            "|        Sobral|    1|\n",
            "| Florianópolis|    3|\n",
            "|     São Paulo|    2|\n",
            "|Rio de Janeiro|    2|\n",
            "+--------------+-----+\n",
            "\n"
          ]
        }
      ]
    },
    {
      "cell_type": "code",
      "source": [
        "#QUANTIDADE DE EMPREGADOS E DESEMPREGADOS\n",
        "df2.groupBy(F.col('situacao')).count().show()"
      ],
      "metadata": {
        "colab": {
          "base_uri": "https://localhost:8080/"
        },
        "id": "YOzIQ1yenGp4",
        "outputId": "b6b0094d-3f03-4d51-e227-3691da18b7fb"
      },
      "execution_count": null,
      "outputs": [
        {
          "output_type": "stream",
          "name": "stdout",
          "text": [
            "+------------+-----+\n",
            "|    situacao|count|\n",
            "+------------+-----+\n",
            "|   empregado|    4|\n",
            "|Desempregado|    4|\n",
            "+------------+-----+\n",
            "\n"
          ]
        }
      ]
    },
    {
      "cell_type": "code",
      "source": [
        "df_compras.show()"
      ],
      "metadata": {
        "colab": {
          "base_uri": "https://localhost:8080/"
        },
        "id": "LXsVR__rqNMl",
        "outputId": "569a724b-d24a-4c11-f88e-cdd0a9beb881"
      },
      "execution_count": null,
      "outputs": [
        {
          "output_type": "stream",
          "name": "stdout",
          "text": [
            "+-------------+--------------------+---------+---------------+--------------------+----------+------------+\n",
            "|     Username|                Nome|     Sexo|Data_Nascimento|            Ocupação|Assinatura|Total_Gasto |\n",
            "+-------------+--------------------+---------+---------------+--------------------+----------+------------+\n",
            "|   Neaude1978|  Mr \\tbailey Glo...|masculino|     01/12/1979|Analista de Intel...|01/10/2021|     1257.45|\n",
            "|     Maress39|Mrs  \\t isabella ...| feminino|     04/08/1960|  Arquiteto de Dados|24/03/2020|      771.99|\n",
            "|     Kehonell| Mrs Chloe \\tKirby  | feminino|     28/06/1949|      Analista de RH|07/06/2020|     1021.77|\n",
            "|      Thimpay| Mrs louise \\tCla...| feminino|     07/01/1995|  Arquiteto de Dados|03/11/2020|      234.76|\n",
            "|    Giall1985|Mr Harrison \\t Bowen| feminino|     04/04/1987| Engenheiro de Dados|25/03/2020|      628.07|\n",
            "|    Neave1959|Mrs anna \\t     S...| feminino|     02/02/1970| Engenheiro de Dados|18/09/2020|      140.04|\n",
            "|Nicterims1993|  Mrs \\tDaisy And...|masculino|     05/07/1985| Engenheiro de Dados|29/01/2021|     2417.81|\n",
            "| Fouldlairity|    Ms zoe \\tPeacock|masculino|     03/06/1964| Analista Financeiro|04/12/2020|       51.95|\n",
            "| Ancomettiody| Mrs Libby \\tWill...| feminino|     04/09/1974|         Estatístico|21/11/2020|      130.73|\n",
            "|       Onswis| Ms Katie \\tMmtcalfe| feminino|     01/07/1983|Engenheiro de Mac...|27/02/2021|     1778.72|\n",
            "|    Majeappre|   Mr Luca \\tVaughan| feminino|     03/01/1971|Gerente de Tecnol...|15/07/2022|     1034.74|\n",
            "|      Theired|   Mr Henry \\tHaynes|masculino|     06/09/1951|Analista de Intel...|23/12/2022|     1320.04|\n",
            "|       Botter|    Mr Noah \\tWalton| feminino|     09/03/1991|        Web Designer|26/07/2022|     3464.72|\n",
            "+-------------+--------------------+---------+---------------+--------------------+----------+------------+\n",
            "\n"
          ]
        }
      ]
    },
    {
      "cell_type": "code",
      "source": [
        "df_compras.groupBy(F.col('Sexo')).agg(F.count('Sexo').alias('quantidade'), F.sum('Total_Gasto ').alias('soma_total_gasto')).show()"
      ],
      "metadata": {
        "colab": {
          "base_uri": "https://localhost:8080/"
        },
        "id": "UF4MY3WKqVke",
        "outputId": "cf31fb0a-5e13-42d4-c120-d38732a4d0e9"
      },
      "execution_count": null,
      "outputs": [
        {
          "output_type": "stream",
          "name": "stdout",
          "text": [
            "+---------+----------+-----------------+\n",
            "|     Sexo|quantidade| soma_total_gasto|\n",
            "+---------+----------+-----------------+\n",
            "|masculino|         4|          5047.25|\n",
            "| feminino|         9|9205.539999999999|\n",
            "+---------+----------+-----------------+\n",
            "\n"
          ]
        }
      ]
    },
    {
      "cell_type": "code",
      "source": [
        "#F.max() - Valor Máximo, F.min() - Valor Mínimo, F.avg() - Média Aritmética"
      ],
      "metadata": {
        "id": "lZoa2XJDrqP3"
      },
      "execution_count": null,
      "outputs": []
    },
    {
      "cell_type": "code",
      "source": [
        "#RETORNAR VALOR MÍNIMO, MÁXIMO E MÉDIA DE TOTAL GASTO POR OCUPAÇÃO\n",
        "df_compras.groupBy(F.col('Ocupação')).agg(F.count('Total_Gasto ').alias('quantidade'),\n",
        "                                          F.min('Total_Gasto ').alias('valor_minimo'),\n",
        "                                          F.max('Total_Gasto ').alias('valor_maximo'),\n",
        "                                          F.round((F.avg('Total_Gasto ')), 2).alias('media_total_gasto')).show(truncate=False)"
      ],
      "metadata": {
        "colab": {
          "base_uri": "https://localhost:8080/"
        },
        "id": "ypzPfmnBr54O",
        "outputId": "814bb093-f023-4a54-b945-1b30007d6141"
      },
      "execution_count": null,
      "outputs": [
        {
          "output_type": "stream",
          "name": "stdout",
          "text": [
            "+-----------------------------------+----------+------------+------------+-----------------+\n",
            "|Ocupação                           |quantidade|valor_minimo|valor_maximo|media_total_gasto|\n",
            "+-----------------------------------+----------+------------+------------+-----------------+\n",
            "|Engenheiro de Machine Learning     |1         |1778.72     |1778.72     |1778.72          |\n",
            "|Arquiteto de Dados                 |2         |234.76      |771.99      |503.38           |\n",
            "|Estatístico                        |1         |130.73      |130.73      |130.73           |\n",
            "|Analista de RH                     |1         |1021.77     |1021.77     |1021.77          |\n",
            "|Engenheiro de Dados                |3         |140.04      |2417.81     |1061.97          |\n",
            "|Analista Financeiro                |1         |51.95       |51.95       |51.95            |\n",
            "|Gerente de Tecnologia              |1         |1034.74     |1034.74     |1034.74          |\n",
            "|Web Designer                       |1         |3464.72     |3464.72     |3464.72          |\n",
            "|Analista de Inteligência de Mercado|2         |1257.45     |1320.04     |1288.75          |\n",
            "+-----------------------------------+----------+------------+------------+-----------------+\n",
            "\n"
          ]
        }
      ]
    },
    {
      "cell_type": "code",
      "source": [
        "#ALTERAR VALORES DENTRO DE UM DATAFRAME - replace\n",
        "df2.replace('Desempregado', 'Desemp').show() #Se não for escolhido subset altera em todo o DataFrame\n",
        "df2.replace('Desempregado', 'Desemp', subset='situacao').show() #Ao escolher subset altera apenas nas colunas especificadas"
      ],
      "metadata": {
        "colab": {
          "base_uri": "https://localhost:8080/"
        },
        "id": "wweu4sx-xe6L",
        "outputId": "9feeb6de-694e-4c30-af66-86cde1751847"
      },
      "execution_count": null,
      "outputs": [
        {
          "output_type": "stream",
          "name": "stdout",
          "text": [
            "+--------------------+--------------+---------------+--------------+-----+---------+\n",
            "|                nome|           cpf|        celular|        cidade|Ativo| situacao|\n",
            "+--------------------+--------------+---------------+--------------+-----+---------+\n",
            "|       Roberto Diniz|666.666.666-66|(66)9.6666-6666| Florianópolis|  sim|   Desemp|\n",
            "|  Marília Cavalcante|555.555.555-55|(55)9.5555-5555| Florianópolis|  sim|   Desemp|\n",
            "|Maria de Fátima L...|444.444.444-44|(44)9.4444-4444|     São Paulo|  sim|empregado|\n",
            "|   Priscila Medeiros|777.777.777-77|(77)9.7777-7777|Rio de Janeiro|  sim|empregado|\n",
            "|    Maria dos Santos|888.888.888-88|(88)9.8888-8888|     São Paulo|  sim|   Desemp|\n",
            "|Edvaldo Marques d...|333.333.333-33|(33)9.3333-3333| Florianópolis|  sim|empregado|\n",
            "|    Oswaldo da Silva|999.999.999-99|(99)9.9999-9999|        Sobral|  sim|empregado|\n",
            "| Pedro José da Costa|222.222.222-22|(22)9.2222-2222|Rio de Janeiro|  sim|   Desemp|\n",
            "+--------------------+--------------+---------------+--------------+-----+---------+\n",
            "\n"
          ]
        }
      ]
    },
    {
      "cell_type": "code",
      "source": [
        "df_compras.select('Total_Gasto ').summary().show()"
      ],
      "metadata": {
        "colab": {
          "base_uri": "https://localhost:8080/"
        },
        "id": "2qd1gCEnyurg",
        "outputId": "5887252a-27f0-4b20-8777-6f064f77eed8"
      },
      "execution_count": null,
      "outputs": [
        {
          "output_type": "stream",
          "name": "stdout",
          "text": [
            "+-------+------------------+\n",
            "|summary|      Total_Gasto |\n",
            "+-------+------------------+\n",
            "|  count|                13|\n",
            "|   mean|1096.3684615384614|\n",
            "| stddev| 996.2833119553741|\n",
            "|    min|             51.95|\n",
            "|    25%|            234.76|\n",
            "|    50%|           1021.77|\n",
            "|    75%|           1320.04|\n",
            "|    max|           3464.72|\n",
            "+-------+------------------+\n",
            "\n"
          ]
        }
      ]
    },
    {
      "cell_type": "code",
      "source": [
        "df_compras.toPandas().describe()"
      ],
      "metadata": {
        "colab": {
          "base_uri": "https://localhost:8080/",
          "height": 300
        },
        "id": "3Kd_v6d7y87s",
        "outputId": "2265e252-6441-4d75-a45f-4fcaccf1b9b6"
      },
      "execution_count": null,
      "outputs": [
        {
          "output_type": "execute_result",
          "data": {
            "text/plain": [
              "       Total_Gasto \n",
              "count     13.000000\n",
              "mean    1096.368462\n",
              "std      996.283312\n",
              "min       51.950000\n",
              "25%      234.760000\n",
              "50%     1021.770000\n",
              "75%     1320.040000\n",
              "max     3464.720000"
            ],
            "text/html": [
              "\n",
              "  <div id=\"df-fdb27e56-984f-4bce-aa3d-f42c25e1be66\">\n",
              "    <div class=\"colab-df-container\">\n",
              "      <div>\n",
              "<style scoped>\n",
              "    .dataframe tbody tr th:only-of-type {\n",
              "        vertical-align: middle;\n",
              "    }\n",
              "\n",
              "    .dataframe tbody tr th {\n",
              "        vertical-align: top;\n",
              "    }\n",
              "\n",
              "    .dataframe thead th {\n",
              "        text-align: right;\n",
              "    }\n",
              "</style>\n",
              "<table border=\"1\" class=\"dataframe\">\n",
              "  <thead>\n",
              "    <tr style=\"text-align: right;\">\n",
              "      <th></th>\n",
              "      <th>Total_Gasto</th>\n",
              "    </tr>\n",
              "  </thead>\n",
              "  <tbody>\n",
              "    <tr>\n",
              "      <th>count</th>\n",
              "      <td>13.000000</td>\n",
              "    </tr>\n",
              "    <tr>\n",
              "      <th>mean</th>\n",
              "      <td>1096.368462</td>\n",
              "    </tr>\n",
              "    <tr>\n",
              "      <th>std</th>\n",
              "      <td>996.283312</td>\n",
              "    </tr>\n",
              "    <tr>\n",
              "      <th>min</th>\n",
              "      <td>51.950000</td>\n",
              "    </tr>\n",
              "    <tr>\n",
              "      <th>25%</th>\n",
              "      <td>234.760000</td>\n",
              "    </tr>\n",
              "    <tr>\n",
              "      <th>50%</th>\n",
              "      <td>1021.770000</td>\n",
              "    </tr>\n",
              "    <tr>\n",
              "      <th>75%</th>\n",
              "      <td>1320.040000</td>\n",
              "    </tr>\n",
              "    <tr>\n",
              "      <th>max</th>\n",
              "      <td>3464.720000</td>\n",
              "    </tr>\n",
              "  </tbody>\n",
              "</table>\n",
              "</div>\n",
              "      <button class=\"colab-df-convert\" onclick=\"convertToInteractive('df-fdb27e56-984f-4bce-aa3d-f42c25e1be66')\"\n",
              "              title=\"Convert this dataframe to an interactive table.\"\n",
              "              style=\"display:none;\">\n",
              "        \n",
              "  <svg xmlns=\"http://www.w3.org/2000/svg\" height=\"24px\"viewBox=\"0 0 24 24\"\n",
              "       width=\"24px\">\n",
              "    <path d=\"M0 0h24v24H0V0z\" fill=\"none\"/>\n",
              "    <path d=\"M18.56 5.44l.94 2.06.94-2.06 2.06-.94-2.06-.94-.94-2.06-.94 2.06-2.06.94zm-11 1L8.5 8.5l.94-2.06 2.06-.94-2.06-.94L8.5 2.5l-.94 2.06-2.06.94zm10 10l.94 2.06.94-2.06 2.06-.94-2.06-.94-.94-2.06-.94 2.06-2.06.94z\"/><path d=\"M17.41 7.96l-1.37-1.37c-.4-.4-.92-.59-1.43-.59-.52 0-1.04.2-1.43.59L10.3 9.45l-7.72 7.72c-.78.78-.78 2.05 0 2.83L4 21.41c.39.39.9.59 1.41.59.51 0 1.02-.2 1.41-.59l7.78-7.78 2.81-2.81c.8-.78.8-2.07 0-2.86zM5.41 20L4 18.59l7.72-7.72 1.47 1.35L5.41 20z\"/>\n",
              "  </svg>\n",
              "      </button>\n",
              "      \n",
              "  <style>\n",
              "    .colab-df-container {\n",
              "      display:flex;\n",
              "      flex-wrap:wrap;\n",
              "      gap: 12px;\n",
              "    }\n",
              "\n",
              "    .colab-df-convert {\n",
              "      background-color: #E8F0FE;\n",
              "      border: none;\n",
              "      border-radius: 50%;\n",
              "      cursor: pointer;\n",
              "      display: none;\n",
              "      fill: #1967D2;\n",
              "      height: 32px;\n",
              "      padding: 0 0 0 0;\n",
              "      width: 32px;\n",
              "    }\n",
              "\n",
              "    .colab-df-convert:hover {\n",
              "      background-color: #E2EBFA;\n",
              "      box-shadow: 0px 1px 2px rgba(60, 64, 67, 0.3), 0px 1px 3px 1px rgba(60, 64, 67, 0.15);\n",
              "      fill: #174EA6;\n",
              "    }\n",
              "\n",
              "    [theme=dark] .colab-df-convert {\n",
              "      background-color: #3B4455;\n",
              "      fill: #D2E3FC;\n",
              "    }\n",
              "\n",
              "    [theme=dark] .colab-df-convert:hover {\n",
              "      background-color: #434B5C;\n",
              "      box-shadow: 0px 1px 3px 1px rgba(0, 0, 0, 0.15);\n",
              "      filter: drop-shadow(0px 1px 2px rgba(0, 0, 0, 0.3));\n",
              "      fill: #FFFFFF;\n",
              "    }\n",
              "  </style>\n",
              "\n",
              "      <script>\n",
              "        const buttonEl =\n",
              "          document.querySelector('#df-fdb27e56-984f-4bce-aa3d-f42c25e1be66 button.colab-df-convert');\n",
              "        buttonEl.style.display =\n",
              "          google.colab.kernel.accessAllowed ? 'block' : 'none';\n",
              "\n",
              "        async function convertToInteractive(key) {\n",
              "          const element = document.querySelector('#df-fdb27e56-984f-4bce-aa3d-f42c25e1be66');\n",
              "          const dataTable =\n",
              "            await google.colab.kernel.invokeFunction('convertToInteractive',\n",
              "                                                     [key], {});\n",
              "          if (!dataTable) return;\n",
              "\n",
              "          const docLinkHtml = 'Like what you see? Visit the ' +\n",
              "            '<a target=\"_blank\" href=https://colab.research.google.com/notebooks/data_table.ipynb>data table notebook</a>'\n",
              "            + ' to learn more about interactive tables.';\n",
              "          element.innerHTML = '';\n",
              "          dataTable['output_type'] = 'display_data';\n",
              "          await google.colab.output.renderOutput(dataTable, element);\n",
              "          const docLink = document.createElement('div');\n",
              "          docLink.innerHTML = docLinkHtml;\n",
              "          element.appendChild(docLink);\n",
              "        }\n",
              "      </script>\n",
              "    </div>\n",
              "  </div>\n",
              "  "
            ]
          },
          "metadata": {},
          "execution_count": 101
        }
      ]
    }
  ]
}