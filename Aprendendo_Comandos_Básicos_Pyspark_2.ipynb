{
  "nbformat": 4,
  "nbformat_minor": 0,
  "metadata": {
    "colab": {
      "provenance": [],
      "include_colab_link": true
    },
    "kernelspec": {
      "name": "python3",
      "display_name": "Python 3"
    },
    "language_info": {
      "name": "python"
    }
  },
  "cells": [
    {
      "cell_type": "markdown",
      "metadata": {
        "id": "view-in-github",
        "colab_type": "text"
      },
      "source": [
        "<a href=\"https://colab.research.google.com/github/thaisgulias/DataAnalytics_student/blob/main/Aprendendo_Comandos_B%C3%A1sicos_Pyspark_2.ipynb\" target=\"_parent\"><img src=\"https://colab.research.google.com/assets/colab-badge.svg\" alt=\"Open In Colab\"/></a>"
      ]
    },
    {
      "cell_type": "code",
      "execution_count": null,
      "metadata": {
        "colab": {
          "base_uri": "https://localhost:8080/"
        },
        "id": "odEw9UHUEJbO",
        "outputId": "9a9e64c2-7247-4ba8-b3d0-02105c621b1a"
      },
      "outputs": [
        {
          "output_type": "stream",
          "name": "stdout",
          "text": [
            "Looking in indexes: https://pypi.org/simple, https://us-python.pkg.dev/colab-wheels/public/simple/\n",
            "Requirement already satisfied: pyspark in /usr/local/lib/python3.9/dist-packages (3.3.2)\n",
            "Requirement already satisfied: py4j==0.10.9.5 in /usr/local/lib/python3.9/dist-packages (from pyspark) (0.10.9.5)\n"
          ]
        }
      ],
      "source": [
        "!pip install pyspark"
      ]
    },
    {
      "cell_type": "code",
      "source": [
        "from pyspark.sql import SparkSession\n",
        "import pyspark.sql.functions as F"
      ],
      "metadata": {
        "id": "hbNbXwCJEjSJ"
      },
      "execution_count": null,
      "outputs": []
    },
    {
      "cell_type": "code",
      "source": [
        "spark = (SparkSession\n",
        "                     .builder\n",
        "                     .appName('comandos_basicos_2')\n",
        "                     .config('spark.ui.port', '4050')\n",
        "                     .getOrCreate()\n",
        ")"
      ],
      "metadata": {
        "id": "CnAKM7O2EvAb"
      },
      "execution_count": null,
      "outputs": []
    },
    {
      "cell_type": "code",
      "source": [
        "spark"
      ],
      "metadata": {
        "colab": {
          "base_uri": "https://localhost:8080/",
          "height": 219
        },
        "id": "ARK9OG0HE_IJ",
        "outputId": "60c12803-67b9-4fc2-ce24-0f18c905abc2"
      },
      "execution_count": null,
      "outputs": [
        {
          "output_type": "execute_result",
          "data": {
            "text/plain": [
              "<pyspark.sql.session.SparkSession at 0x7f60b62ee250>"
            ],
            "text/html": [
              "\n",
              "            <div>\n",
              "                <p><b>SparkSession - in-memory</b></p>\n",
              "                \n",
              "        <div>\n",
              "            <p><b>SparkContext</b></p>\n",
              "\n",
              "            <p><a href=\"http://2b6d0716a53f:4040\">Spark UI</a></p>\n",
              "\n",
              "            <dl>\n",
              "              <dt>Version</dt>\n",
              "                <dd><code>v3.3.2</code></dd>\n",
              "              <dt>Master</dt>\n",
              "                <dd><code>local[*]</code></dd>\n",
              "              <dt>AppName</dt>\n",
              "                <dd><code>comandos_basicos_2</code></dd>\n",
              "            </dl>\n",
              "        </div>\n",
              "        \n",
              "            </div>\n",
              "        "
            ]
          },
          "metadata": {},
          "execution_count": 6
        }
      ]
    },
    {
      "cell_type": "code",
      "source": [
        "df = (spark.read\n",
        "           .format('csv')\n",
        "           .option('delimiter', ';')\n",
        "           .option('header', 'true')\n",
        "           .option('inferschema', 'false')\n",
        "           .load('/content/drive/MyDrive/SOULCODE/arquivo_geral.csv')\n",
        ")"
      ],
      "metadata": {
        "id": "QsQ2d8WvFPGs"
      },
      "execution_count": null,
      "outputs": []
    },
    {
      "cell_type": "code",
      "source": [
        "df.printSchema()"
      ],
      "metadata": {
        "colab": {
          "base_uri": "https://localhost:8080/"
        },
        "id": "I7i_paYfFfHi",
        "outputId": "c57eb0c2-6d6a-4872-ed39-8fb6e77b8b36"
      },
      "execution_count": null,
      "outputs": [
        {
          "output_type": "stream",
          "name": "stdout",
          "text": [
            "root\n",
            " |-- regiao: string (nullable = true)\n",
            " |-- estado: string (nullable = true)\n",
            " |-- data: timestamp (nullable = true)\n",
            " |-- casosNovos: integer (nullable = true)\n",
            " |-- casosAcumulados: integer (nullable = true)\n",
            " |-- obitosNovos: integer (nullable = true)\n",
            " |-- obitosAcumulados: integer (nullable = true)\n",
            "\n"
          ]
        }
      ]
    },
    {
      "cell_type": "code",
      "source": [
        "df.show()"
      ],
      "metadata": {
        "colab": {
          "base_uri": "https://localhost:8080/"
        },
        "id": "lI_faw1XFnpL",
        "outputId": "efb52d88-7d64-4d60-b6aa-d5390ae052bd"
      },
      "execution_count": null,
      "outputs": [
        {
          "output_type": "stream",
          "name": "stdout",
          "text": [
            "+------+------+-------------------+----------+---------------+-----------+----------------+\n",
            "|regiao|estado|               data|casosNovos|casosAcumulados|obitosNovos|obitosAcumulados|\n",
            "+------+------+-------------------+----------+---------------+-----------+----------------+\n",
            "| Norte|    RO|2020-01-30 00:00:00|         0|              0|          0|               0|\n",
            "| Norte|    RO|2020-01-31 00:00:00|         0|              0|          0|               0|\n",
            "| Norte|    RO|2020-02-01 00:00:00|         0|              0|          0|               0|\n",
            "| Norte|    RO|2020-02-02 00:00:00|         0|              0|          0|               0|\n",
            "| Norte|    RO|2020-02-03 00:00:00|         0|              0|          0|               0|\n",
            "| Norte|    RO|2020-02-04 00:00:00|         0|              0|          0|               0|\n",
            "| Norte|    RO|2020-02-05 00:00:00|         0|              0|          0|               0|\n",
            "| Norte|    RO|2020-02-06 00:00:00|         0|              0|          0|               0|\n",
            "| Norte|    RO|2020-02-07 00:00:00|         0|              0|          0|               0|\n",
            "| Norte|    RO|2020-02-08 00:00:00|         0|              0|          0|               0|\n",
            "| Norte|    RO|2020-02-09 00:00:00|         0|              0|          0|               0|\n",
            "| Norte|    RO|2020-02-10 00:00:00|         0|              0|          0|               0|\n",
            "| Norte|    RO|2020-02-11 00:00:00|         0|              0|          0|               0|\n",
            "| Norte|    RO|2020-02-12 00:00:00|         0|              0|          0|               0|\n",
            "| Norte|    RO|2020-02-13 00:00:00|         0|              0|          0|               0|\n",
            "| Norte|    RO|2020-02-14 00:00:00|         0|              0|          0|               0|\n",
            "| Norte|    RO|2020-02-15 00:00:00|         0|              0|          0|               0|\n",
            "| Norte|    RO|2020-02-16 00:00:00|         0|              0|          0|               0|\n",
            "| Norte|    RO|2020-02-17 00:00:00|         0|              0|          0|               0|\n",
            "| Norte|    RO|2020-02-18 00:00:00|         0|              0|          0|               0|\n",
            "+------+------+-------------------+----------+---------------+-----------+----------------+\n",
            "only showing top 20 rows\n",
            "\n"
          ]
        }
      ]
    },
    {
      "cell_type": "code",
      "source": [
        "#TRABALHANDO COM DATAS\n",
        "df.select(F.col('data')).show()"
      ],
      "metadata": {
        "colab": {
          "base_uri": "https://localhost:8080/"
        },
        "id": "3axtbQBCF0Z-",
        "outputId": "a9c74b41-1609-4e71-d753-219d67388e09"
      },
      "execution_count": null,
      "outputs": [
        {
          "output_type": "stream",
          "name": "stdout",
          "text": [
            "+-------------------+\n",
            "|               data|\n",
            "+-------------------+\n",
            "|2020-01-30 00:00:00|\n",
            "|2020-01-31 00:00:00|\n",
            "|2020-02-01 00:00:00|\n",
            "|2020-02-02 00:00:00|\n",
            "|2020-02-03 00:00:00|\n",
            "|2020-02-04 00:00:00|\n",
            "|2020-02-05 00:00:00|\n",
            "|2020-02-06 00:00:00|\n",
            "|2020-02-07 00:00:00|\n",
            "|2020-02-08 00:00:00|\n",
            "|2020-02-09 00:00:00|\n",
            "|2020-02-10 00:00:00|\n",
            "|2020-02-11 00:00:00|\n",
            "|2020-02-12 00:00:00|\n",
            "|2020-02-13 00:00:00|\n",
            "|2020-02-14 00:00:00|\n",
            "|2020-02-15 00:00:00|\n",
            "|2020-02-16 00:00:00|\n",
            "|2020-02-17 00:00:00|\n",
            "|2020-02-18 00:00:00|\n",
            "+-------------------+\n",
            "only showing top 20 rows\n",
            "\n"
          ]
        }
      ]
    },
    {
      "cell_type": "code",
      "source": [
        "#VERIFICAR QUANTIDADE DE REGISTROS POR REGIAO\n",
        "df.groupBy(F.col('regiao')).count().show()"
      ],
      "metadata": {
        "colab": {
          "base_uri": "https://localhost:8080/"
        },
        "id": "RWZ2kHsjGYyy",
        "outputId": "4dd58414-6736-4c0e-b9d9-667ae4af9ad2"
      },
      "execution_count": null,
      "outputs": [
        {
          "output_type": "stream",
          "name": "stdout",
          "text": [
            "+------------+-----+\n",
            "|      regiao|count|\n",
            "+------------+-----+\n",
            "|    Nordeste|  783|\n",
            "|         Sul|  261|\n",
            "|     Sudeste|  348|\n",
            "|Centro-Oeste|  348|\n",
            "|       Norte|  609|\n",
            "+------------+-----+\n",
            "\n"
          ]
        }
      ]
    },
    {
      "cell_type": "code",
      "source": [
        "df.groupBy(F.col('regiao')).agg(F.count('regiao').alias('quantidade')).orderBy(F.col('quantidade').desc()).show()"
      ],
      "metadata": {
        "colab": {
          "base_uri": "https://localhost:8080/"
        },
        "id": "eng-I8ZzJDRv",
        "outputId": "38ca31f6-9785-4fad-ef10-ab71c8f76053"
      },
      "execution_count": null,
      "outputs": [
        {
          "output_type": "stream",
          "name": "stdout",
          "text": [
            "+------------+----------+\n",
            "|      regiao|quantidade|\n",
            "+------------+----------+\n",
            "|    Nordeste|       783|\n",
            "|       Norte|       609|\n",
            "|     Sudeste|       348|\n",
            "|Centro-Oeste|       348|\n",
            "|         Sul|       261|\n",
            "+------------+----------+\n",
            "\n"
          ]
        }
      ]
    },
    {
      "cell_type": "code",
      "source": [
        "df.show()"
      ],
      "metadata": {
        "colab": {
          "base_uri": "https://localhost:8080/"
        },
        "id": "wj4VCBK6K2Ta",
        "outputId": "7e06340a-fcb0-4f08-e72c-147d6851322f"
      },
      "execution_count": null,
      "outputs": [
        {
          "output_type": "stream",
          "name": "stdout",
          "text": [
            "+------+------+-------------------+----------+---------------+-----------+----------------+\n",
            "|regiao|estado|               data|casosNovos|casosAcumulados|obitosNovos|obitosAcumulados|\n",
            "+------+------+-------------------+----------+---------------+-----------+----------------+\n",
            "| Norte|    RO|2020-01-30 00:00:00|         0|              0|          0|               0|\n",
            "| Norte|    RO|2020-01-31 00:00:00|         0|              0|          0|               0|\n",
            "| Norte|    RO|2020-02-01 00:00:00|         0|              0|          0|               0|\n",
            "| Norte|    RO|2020-02-02 00:00:00|         0|              0|          0|               0|\n",
            "| Norte|    RO|2020-02-03 00:00:00|         0|              0|          0|               0|\n",
            "| Norte|    RO|2020-02-04 00:00:00|         0|              0|          0|               0|\n",
            "| Norte|    RO|2020-02-05 00:00:00|         0|              0|          0|               0|\n",
            "| Norte|    RO|2020-02-06 00:00:00|         0|              0|          0|               0|\n",
            "| Norte|    RO|2020-02-07 00:00:00|         0|              0|          0|               0|\n",
            "| Norte|    RO|2020-02-08 00:00:00|         0|              0|          0|               0|\n",
            "| Norte|    RO|2020-02-09 00:00:00|         0|              0|          0|               0|\n",
            "| Norte|    RO|2020-02-10 00:00:00|         0|              0|          0|               0|\n",
            "| Norte|    RO|2020-02-11 00:00:00|         0|              0|          0|               0|\n",
            "| Norte|    RO|2020-02-12 00:00:00|         0|              0|          0|               0|\n",
            "| Norte|    RO|2020-02-13 00:00:00|         0|              0|          0|               0|\n",
            "| Norte|    RO|2020-02-14 00:00:00|         0|              0|          0|               0|\n",
            "| Norte|    RO|2020-02-15 00:00:00|         0|              0|          0|               0|\n",
            "| Norte|    RO|2020-02-16 00:00:00|         0|              0|          0|               0|\n",
            "| Norte|    RO|2020-02-17 00:00:00|         0|              0|          0|               0|\n",
            "| Norte|    RO|2020-02-18 00:00:00|         0|              0|          0|               0|\n",
            "+------+------+-------------------+----------+---------------+-----------+----------------+\n",
            "only showing top 20 rows\n",
            "\n"
          ]
        }
      ]
    },
    {
      "cell_type": "code",
      "source": [
        "#VERIFICAR QUANTIDADE DE REGISTROS POR ESTADO\n",
        "df.groupBy(F.col('estado')).count().show()"
      ],
      "metadata": {
        "colab": {
          "base_uri": "https://localhost:8080/"
        },
        "id": "SNJ-zEmnGfak",
        "outputId": "5ef6276c-65b1-4ba2-f066-48816772f3bf"
      },
      "execution_count": null,
      "outputs": [
        {
          "output_type": "stream",
          "name": "stdout",
          "text": [
            "+------+-----+\n",
            "|estado|count|\n",
            "+------+-----+\n",
            "|    SC|   87|\n",
            "|    RO|   87|\n",
            "|    PI|   87|\n",
            "|    AM|   87|\n",
            "|    RR|   87|\n",
            "|    GO|   87|\n",
            "|    TO|   87|\n",
            "|    MT|   87|\n",
            "|    SP|   87|\n",
            "|    PB|   87|\n",
            "|    ES|   87|\n",
            "|    RS|   87|\n",
            "|    MS|   87|\n",
            "|    AL|   87|\n",
            "|    MG|   87|\n",
            "|    PA|   87|\n",
            "|    BA|   87|\n",
            "|    SE|   87|\n",
            "|    PE|   87|\n",
            "|    CE|   87|\n",
            "+------+-----+\n",
            "only showing top 20 rows\n",
            "\n"
          ]
        }
      ]
    },
    {
      "cell_type": "code",
      "source": [
        "#VERIFICAR O TOTAL DE CASOS NOVOS POR ESTADO\n",
        "df.groupBy(F.col('estado')).agg(F.sum('casosNovos').alias('Total_casos_novos')).orderBy(F.col('Total_casos_novos').desc()).show()"
      ],
      "metadata": {
        "colab": {
          "base_uri": "https://localhost:8080/"
        },
        "id": "swyTAUx-GjJ0",
        "outputId": "aae7e83f-29b9-4b69-bce4-6e597b5c53c4"
      },
      "execution_count": null,
      "outputs": [
        {
          "output_type": "stream",
          "name": "stdout",
          "text": [
            "+------+-----------------+\n",
            "|estado|Total_casos_novos|\n",
            "+------+-----------------+\n",
            "|    SP|            20004|\n",
            "|    RJ|             6828|\n",
            "|    CE|             5421|\n",
            "|    PE|             4507|\n",
            "|    AM|             3635|\n",
            "|    MA|             2105|\n",
            "|    BA|             2081|\n",
            "|    ES|             1595|\n",
            "|    PA|             1579|\n",
            "|    MG|             1481|\n",
            "|    SC|             1209|\n",
            "|    PR|             1140|\n",
            "|    RS|             1096|\n",
            "|    DF|             1013|\n",
            "|    RN|              781|\n",
            "|    AP|              685|\n",
            "|    GO|              506|\n",
            "|    AL|              501|\n",
            "|    PB|              447|\n",
            "|    RR|              345|\n",
            "+------+-----------------+\n",
            "only showing top 20 rows\n",
            "\n"
          ]
        }
      ]
    },
    {
      "cell_type": "code",
      "source": [
        "#VERIFICAR O TOTAL DE CASOS ACUMULADOS POR REGIAO\n",
        "df.groupBy(F.col('regiao')).agg(F.sum('casosAcumulados').alias('total_casos_acumulados')).orderBy(F.col('total_casos_acumulados').desc()).show()"
      ],
      "metadata": {
        "colab": {
          "base_uri": "https://localhost:8080/"
        },
        "id": "bXb2Sfw9GoZe",
        "outputId": "7497baea-ea03-431a-f652-6b50a255a894"
      },
      "execution_count": null,
      "outputs": [
        {
          "output_type": "stream",
          "name": "stdout",
          "text": [
            "+------------+----------------------+\n",
            "|      regiao|total_casos_acumulados|\n",
            "+------------+----------------------+\n",
            "|     Sudeste|                394635|\n",
            "|    Nordeste|                160011|\n",
            "|       Norte|                 65439|\n",
            "|         Sul|                 58308|\n",
            "|Centro-Oeste|                 32840|\n",
            "+------------+----------------------+\n",
            "\n"
          ]
        }
      ]
    },
    {
      "cell_type": "code",
      "source": [
        "df.select(F.col('regiao'), F.col('casosAcumulados')).groupBy(F.col('regiao')).sum('casosAcumulados').show()"
      ],
      "metadata": {
        "colab": {
          "base_uri": "https://localhost:8080/"
        },
        "id": "7RutEltnOqgN",
        "outputId": "15dff4ee-87df-4332-f051-3d02856f0f02"
      },
      "execution_count": null,
      "outputs": [
        {
          "output_type": "stream",
          "name": "stdout",
          "text": [
            "+------------+--------------------+\n",
            "|      regiao|sum(casosAcumulados)|\n",
            "+------------+--------------------+\n",
            "|    Nordeste|              160011|\n",
            "|         Sul|               58308|\n",
            "|     Sudeste|              394635|\n",
            "|Centro-Oeste|               32840|\n",
            "|       Norte|               65439|\n",
            "+------------+--------------------+\n",
            "\n"
          ]
        }
      ]
    },
    {
      "cell_type": "code",
      "source": [
        "#FUNÇÕES PARA TRABALHAR COM DATA\n",
        "#1) current_date() - Retorna a data atual (yyyy-MM-dd)\n",
        "#df.withColumn('data_atual', F.current_date()).show()\n",
        "df.withColumn('data_atual', F.current_timestamp()).show(truncate=False)"
      ],
      "metadata": {
        "colab": {
          "base_uri": "https://localhost:8080/"
        },
        "id": "HzvbStNtP5_j",
        "outputId": "8376ad89-a750-4863-9b0d-9f2ac42216ae"
      },
      "execution_count": null,
      "outputs": [
        {
          "output_type": "stream",
          "name": "stdout",
          "text": [
            "+------+------+-------------------+----------+---------------+-----------+----------------+--------------------------+\n",
            "|regiao|estado|data               |casosNovos|casosAcumulados|obitosNovos|obitosAcumulados|data_atual                |\n",
            "+------+------+-------------------+----------+---------------+-----------+----------------+--------------------------+\n",
            "|Norte |RO    |2020-01-30 00:00:00|0         |0              |0          |0               |2023-04-11 17:11:44.250477|\n",
            "|Norte |RO    |2020-01-31 00:00:00|0         |0              |0          |0               |2023-04-11 17:11:44.250477|\n",
            "|Norte |RO    |2020-02-01 00:00:00|0         |0              |0          |0               |2023-04-11 17:11:44.250477|\n",
            "|Norte |RO    |2020-02-02 00:00:00|0         |0              |0          |0               |2023-04-11 17:11:44.250477|\n",
            "|Norte |RO    |2020-02-03 00:00:00|0         |0              |0          |0               |2023-04-11 17:11:44.250477|\n",
            "|Norte |RO    |2020-02-04 00:00:00|0         |0              |0          |0               |2023-04-11 17:11:44.250477|\n",
            "|Norte |RO    |2020-02-05 00:00:00|0         |0              |0          |0               |2023-04-11 17:11:44.250477|\n",
            "|Norte |RO    |2020-02-06 00:00:00|0         |0              |0          |0               |2023-04-11 17:11:44.250477|\n",
            "|Norte |RO    |2020-02-07 00:00:00|0         |0              |0          |0               |2023-04-11 17:11:44.250477|\n",
            "|Norte |RO    |2020-02-08 00:00:00|0         |0              |0          |0               |2023-04-11 17:11:44.250477|\n",
            "|Norte |RO    |2020-02-09 00:00:00|0         |0              |0          |0               |2023-04-11 17:11:44.250477|\n",
            "|Norte |RO    |2020-02-10 00:00:00|0         |0              |0          |0               |2023-04-11 17:11:44.250477|\n",
            "|Norte |RO    |2020-02-11 00:00:00|0         |0              |0          |0               |2023-04-11 17:11:44.250477|\n",
            "|Norte |RO    |2020-02-12 00:00:00|0         |0              |0          |0               |2023-04-11 17:11:44.250477|\n",
            "|Norte |RO    |2020-02-13 00:00:00|0         |0              |0          |0               |2023-04-11 17:11:44.250477|\n",
            "|Norte |RO    |2020-02-14 00:00:00|0         |0              |0          |0               |2023-04-11 17:11:44.250477|\n",
            "|Norte |RO    |2020-02-15 00:00:00|0         |0              |0          |0               |2023-04-11 17:11:44.250477|\n",
            "|Norte |RO    |2020-02-16 00:00:00|0         |0              |0          |0               |2023-04-11 17:11:44.250477|\n",
            "|Norte |RO    |2020-02-17 00:00:00|0         |0              |0          |0               |2023-04-11 17:11:44.250477|\n",
            "|Norte |RO    |2020-02-18 00:00:00|0         |0              |0          |0               |2023-04-11 17:11:44.250477|\n",
            "+------+------+-------------------+----------+---------------+-----------+----------------+--------------------------+\n",
            "only showing top 20 rows\n",
            "\n"
          ]
        }
      ]
    },
    {
      "cell_type": "code",
      "source": [
        "df.select(F.col('data')).printSchema()"
      ],
      "metadata": {
        "colab": {
          "base_uri": "https://localhost:8080/"
        },
        "id": "OQdiW_d5Up_b",
        "outputId": "2e2a24fd-8040-4e35-f7ef-647e83f30760"
      },
      "execution_count": null,
      "outputs": [
        {
          "output_type": "stream",
          "name": "stdout",
          "text": [
            "root\n",
            " |-- data: timestamp (nullable = true)\n",
            "\n"
          ]
        }
      ]
    },
    {
      "cell_type": "code",
      "source": [
        "#2) date_format()\n",
        "df2 = df.select(F.col('data'), F.date_format(F.col('data'), 'dd/MM/yyyy'))"
      ],
      "metadata": {
        "id": "_ur8uX_hUGmw"
      },
      "execution_count": null,
      "outputs": []
    },
    {
      "cell_type": "code",
      "source": [
        "df2 = df2.withColumnRenamed('date_format(data, dd/MM/yyyy)', 'data_formatada')"
      ],
      "metadata": {
        "id": "PG0UPlw_XL1O"
      },
      "execution_count": null,
      "outputs": []
    },
    {
      "cell_type": "code",
      "source": [
        "df2.printSchema()"
      ],
      "metadata": {
        "colab": {
          "base_uri": "https://localhost:8080/"
        },
        "id": "ou6cM_KAXXYL",
        "outputId": "320b0d09-ce98-41ef-bd4b-564d3205cd63"
      },
      "execution_count": null,
      "outputs": [
        {
          "output_type": "stream",
          "name": "stdout",
          "text": [
            "root\n",
            " |-- data: timestamp (nullable = true)\n",
            " |-- date_format(data, dd/MM/yyyy): string (nullable = true)\n",
            "\n"
          ]
        }
      ]
    },
    {
      "cell_type": "code",
      "source": [
        "#3) F.to_date() - Converte uma string para o formato date yyyy-MM-dd\n",
        "df2.withColumn('data_formatada2', F.to_date(F.col('data_formatada'), 'dd/MM/yyyy')).show()"
      ],
      "metadata": {
        "colab": {
          "base_uri": "https://localhost:8080/"
        },
        "id": "kJSJn_t-Vg8c",
        "outputId": "549c5395-81a1-419c-e41a-a3d365f82c74"
      },
      "execution_count": null,
      "outputs": [
        {
          "output_type": "stream",
          "name": "stdout",
          "text": [
            "+-------------------+--------------+---------------+\n",
            "|               data|data_formatada|data_formatada2|\n",
            "+-------------------+--------------+---------------+\n",
            "|2020-01-30 00:00:00|    30/01/2020|     2020-01-30|\n",
            "|2020-01-31 00:00:00|    31/01/2020|     2020-01-31|\n",
            "|2020-02-01 00:00:00|    01/02/2020|     2020-02-01|\n",
            "|2020-02-02 00:00:00|    02/02/2020|     2020-02-02|\n",
            "|2020-02-03 00:00:00|    03/02/2020|     2020-02-03|\n",
            "|2020-02-04 00:00:00|    04/02/2020|     2020-02-04|\n",
            "|2020-02-05 00:00:00|    05/02/2020|     2020-02-05|\n",
            "|2020-02-06 00:00:00|    06/02/2020|     2020-02-06|\n",
            "|2020-02-07 00:00:00|    07/02/2020|     2020-02-07|\n",
            "|2020-02-08 00:00:00|    08/02/2020|     2020-02-08|\n",
            "|2020-02-09 00:00:00|    09/02/2020|     2020-02-09|\n",
            "|2020-02-10 00:00:00|    10/02/2020|     2020-02-10|\n",
            "|2020-02-11 00:00:00|    11/02/2020|     2020-02-11|\n",
            "|2020-02-12 00:00:00|    12/02/2020|     2020-02-12|\n",
            "|2020-02-13 00:00:00|    13/02/2020|     2020-02-13|\n",
            "|2020-02-14 00:00:00|    14/02/2020|     2020-02-14|\n",
            "|2020-02-15 00:00:00|    15/02/2020|     2020-02-15|\n",
            "|2020-02-16 00:00:00|    16/02/2020|     2020-02-16|\n",
            "|2020-02-17 00:00:00|    17/02/2020|     2020-02-17|\n",
            "|2020-02-18 00:00:00|    18/02/2020|     2020-02-18|\n",
            "+-------------------+--------------+---------------+\n",
            "only showing top 20 rows\n",
            "\n"
          ]
        }
      ]
    },
    {
      "cell_type": "code",
      "source": [
        "#4) DATEDIFF() - Retorna a diferença em dias entre duas datas\n",
        "df.select(F.col('data'), F.current_timestamp(), F.datediff(F.current_timestamp(), F.col('data'))).show()"
      ],
      "metadata": {
        "id": "ePV167_xVl7C"
      },
      "execution_count": null,
      "outputs": []
    },
    {
      "cell_type": "code",
      "source": [
        "#4) MONTHSBETWEEN() - Retorna a diferença em meses entre duas datas\n",
        "df.select(F.col('data'), F.current_date(), F.round(F.months_between(F.current_date(), F.col('data')), 2)).show()\n",
        "\n",
        "#MOSTRAR APENAS DUAS CASAS DECIMAIS\n",
        "#F.round(coluna, qtd_casas)"
      ],
      "metadata": {
        "colab": {
          "base_uri": "https://localhost:8080/"
        },
        "id": "ES6aJi0IYVBN",
        "outputId": "89ead4f0-c1f5-4a97-f0c4-ec72332abb31"
      },
      "execution_count": null,
      "outputs": [
        {
          "output_type": "stream",
          "name": "stdout",
          "text": [
            "+-------------------+--------------+----------------------------------------------------+\n",
            "|               data|current_date()|round(months_between(current_date(), data, true), 2)|\n",
            "+-------------------+--------------+----------------------------------------------------+\n",
            "|2020-01-30 00:00:00|    2023-04-11|                                               38.39|\n",
            "|2020-01-31 00:00:00|    2023-04-11|                                               38.35|\n",
            "|2020-02-01 00:00:00|    2023-04-11|                                               38.32|\n",
            "|2020-02-02 00:00:00|    2023-04-11|                                               38.29|\n",
            "|2020-02-03 00:00:00|    2023-04-11|                                               38.26|\n",
            "|2020-02-04 00:00:00|    2023-04-11|                                               38.23|\n",
            "|2020-02-05 00:00:00|    2023-04-11|                                               38.19|\n",
            "|2020-02-06 00:00:00|    2023-04-11|                                               38.16|\n",
            "|2020-02-07 00:00:00|    2023-04-11|                                               38.13|\n",
            "|2020-02-08 00:00:00|    2023-04-11|                                                38.1|\n",
            "|2020-02-09 00:00:00|    2023-04-11|                                               38.06|\n",
            "|2020-02-10 00:00:00|    2023-04-11|                                               38.03|\n",
            "|2020-02-11 00:00:00|    2023-04-11|                                                38.0|\n",
            "|2020-02-12 00:00:00|    2023-04-11|                                               37.97|\n",
            "|2020-02-13 00:00:00|    2023-04-11|                                               37.94|\n",
            "|2020-02-14 00:00:00|    2023-04-11|                                                37.9|\n",
            "|2020-02-15 00:00:00|    2023-04-11|                                               37.87|\n",
            "|2020-02-16 00:00:00|    2023-04-11|                                               37.84|\n",
            "|2020-02-17 00:00:00|    2023-04-11|                                               37.81|\n",
            "|2020-02-18 00:00:00|    2023-04-11|                                               37.77|\n",
            "+-------------------+--------------+----------------------------------------------------+\n",
            "only showing top 20 rows\n",
            "\n"
          ]
        }
      ]
    },
    {
      "cell_type": "code",
      "source": [
        "#F.year(), F.month(), F.next_day(), F.weekofyear()\n",
        "\n",
        "df.select(F.col('data'), F.year(F.col('data')).alias('Ano'), F.month(F.col('data'))).show()"
      ],
      "metadata": {
        "colab": {
          "base_uri": "https://localhost:8080/"
        },
        "id": "LUUWkhu-a6Gq",
        "outputId": "e9318a8b-42e4-4769-f7a7-29b8514cfc79"
      },
      "execution_count": null,
      "outputs": [
        {
          "output_type": "stream",
          "name": "stdout",
          "text": [
            "+-------------------+----+-----------+\n",
            "|               data| Ano|month(data)|\n",
            "+-------------------+----+-----------+\n",
            "|2020-01-30 00:00:00|2020|          1|\n",
            "|2020-01-31 00:00:00|2020|          1|\n",
            "|2020-02-01 00:00:00|2020|          2|\n",
            "|2020-02-02 00:00:00|2020|          2|\n",
            "|2020-02-03 00:00:00|2020|          2|\n",
            "|2020-02-04 00:00:00|2020|          2|\n",
            "|2020-02-05 00:00:00|2020|          2|\n",
            "|2020-02-06 00:00:00|2020|          2|\n",
            "|2020-02-07 00:00:00|2020|          2|\n",
            "|2020-02-08 00:00:00|2020|          2|\n",
            "|2020-02-09 00:00:00|2020|          2|\n",
            "|2020-02-10 00:00:00|2020|          2|\n",
            "|2020-02-11 00:00:00|2020|          2|\n",
            "|2020-02-12 00:00:00|2020|          2|\n",
            "|2020-02-13 00:00:00|2020|          2|\n",
            "|2020-02-14 00:00:00|2020|          2|\n",
            "|2020-02-15 00:00:00|2020|          2|\n",
            "|2020-02-16 00:00:00|2020|          2|\n",
            "|2020-02-17 00:00:00|2020|          2|\n",
            "|2020-02-18 00:00:00|2020|          2|\n",
            "+-------------------+----+-----------+\n",
            "only showing top 20 rows\n",
            "\n"
          ]
        }
      ]
    },
    {
      "cell_type": "code",
      "source": [
        "#DIFERENÇA ENTRE DUAS DATAS DO DATASET COVID\n",
        "df.agg(F.datediff(F.max(F.col('data')), F.min(F.col('data')))).show()"
      ],
      "metadata": {
        "id": "qDoV6qhjb27H",
        "colab": {
          "base_uri": "https://localhost:8080/"
        },
        "outputId": "7ab24708-cbd7-4402-fd01-131af8075d34"
      },
      "execution_count": null,
      "outputs": [
        {
          "output_type": "stream",
          "name": "stdout",
          "text": [
            "+------------------------------+\n",
            "|datediff(max(data), min(data))|\n",
            "+------------------------------+\n",
            "|                            86|\n",
            "+------------------------------+\n",
            "\n"
          ]
        }
      ]
    },
    {
      "cell_type": "code",
      "source": [
        "#JOINS - inner, left, right, full\n",
        "schema = ['id', 'nome', 'salario']\n",
        "\n",
        "dados = [\n",
        "         (1, 'João', 2000), \n",
        "         (2, 'Maria', 5000),\n",
        "         (3, 'Pedro', 8300),\n",
        "         (4, 'Gustavo', 1200),\n",
        "         (5, 'Ana', 10000),\n",
        "         (6, 'Vitoria', 7500),\n",
        "         (7, 'Carlos', 4800),\n",
        "         (8, 'Claudia', 4300),\n",
        "         (9, 'Andre', 2400),\n",
        "]\n",
        "\n",
        "df1 = spark.createDataFrame(data=dados, schema=schema)"
      ],
      "metadata": {
        "id": "YkElyf9Xg5nN"
      },
      "execution_count": null,
      "outputs": []
    },
    {
      "cell_type": "code",
      "source": [
        "schema = ['id', 'cidade', 'estado']\n",
        "\n",
        "dados = [\n",
        "         (1, 'São Paulo', 'SP'),\n",
        "         (2, 'Curitiba', 'PR'),\n",
        "         (3, 'Fortaleza', 'CE'),\n",
        "         (4, 'Ribeirão Preto', 'SP'),\n",
        "         (8, 'Belo Horizonte', 'MG'),\n",
        "         (9, 'Goiania', 'GO'),\n",
        "         (10, 'Sobral', 'CE'),\n",
        "         (11, 'Salvador', 'BA'),\n",
        "         (12, 'São Luis', 'MA'),\n",
        "]\n",
        "\n",
        "df2 = spark.createDataFrame(data=dados, schema=schema)"
      ],
      "metadata": {
        "id": "DQMI2X1zhg0T"
      },
      "execution_count": null,
      "outputs": []
    },
    {
      "cell_type": "code",
      "source": [
        "df_pandas = df.toPandas()"
      ],
      "metadata": {
        "id": "HWIhQkV9hrpf"
      },
      "execution_count": null,
      "outputs": []
    },
    {
      "cell_type": "code",
      "source": [
        "df_pandas.head()"
      ],
      "metadata": {
        "colab": {
          "base_uri": "https://localhost:8080/",
          "height": 357
        },
        "id": "_2Sc-bNvhw-p",
        "outputId": "8c3b6e8c-080e-4d25-833a-8dd5fd1d4e9a"
      },
      "execution_count": null,
      "outputs": [
        {
          "output_type": "execute_result",
          "data": {
            "text/plain": [
              "  regiao estado       data  casosNovos  casosAcumulados  obitosNovos  \\\n",
              "0  Norte     RO 2020-01-30           0                0            0   \n",
              "1  Norte     RO 2020-01-31           0                0            0   \n",
              "2  Norte     RO 2020-02-01           0                0            0   \n",
              "3  Norte     RO 2020-02-02           0                0            0   \n",
              "4  Norte     RO 2020-02-03           0                0            0   \n",
              "\n",
              "   obitosAcumulados  \n",
              "0                 0  \n",
              "1                 0  \n",
              "2                 0  \n",
              "3                 0  \n",
              "4                 0  "
            ],
            "text/html": [
              "\n",
              "  <div id=\"df-56ca5bc0-7bb7-473c-9a26-dd5887086250\">\n",
              "    <div class=\"colab-df-container\">\n",
              "      <div>\n",
              "<style scoped>\n",
              "    .dataframe tbody tr th:only-of-type {\n",
              "        vertical-align: middle;\n",
              "    }\n",
              "\n",
              "    .dataframe tbody tr th {\n",
              "        vertical-align: top;\n",
              "    }\n",
              "\n",
              "    .dataframe thead th {\n",
              "        text-align: right;\n",
              "    }\n",
              "</style>\n",
              "<table border=\"1\" class=\"dataframe\">\n",
              "  <thead>\n",
              "    <tr style=\"text-align: right;\">\n",
              "      <th></th>\n",
              "      <th>regiao</th>\n",
              "      <th>estado</th>\n",
              "      <th>data</th>\n",
              "      <th>casosNovos</th>\n",
              "      <th>casosAcumulados</th>\n",
              "      <th>obitosNovos</th>\n",
              "      <th>obitosAcumulados</th>\n",
              "    </tr>\n",
              "  </thead>\n",
              "  <tbody>\n",
              "    <tr>\n",
              "      <th>0</th>\n",
              "      <td>Norte</td>\n",
              "      <td>RO</td>\n",
              "      <td>2020-01-30</td>\n",
              "      <td>0</td>\n",
              "      <td>0</td>\n",
              "      <td>0</td>\n",
              "      <td>0</td>\n",
              "    </tr>\n",
              "    <tr>\n",
              "      <th>1</th>\n",
              "      <td>Norte</td>\n",
              "      <td>RO</td>\n",
              "      <td>2020-01-31</td>\n",
              "      <td>0</td>\n",
              "      <td>0</td>\n",
              "      <td>0</td>\n",
              "      <td>0</td>\n",
              "    </tr>\n",
              "    <tr>\n",
              "      <th>2</th>\n",
              "      <td>Norte</td>\n",
              "      <td>RO</td>\n",
              "      <td>2020-02-01</td>\n",
              "      <td>0</td>\n",
              "      <td>0</td>\n",
              "      <td>0</td>\n",
              "      <td>0</td>\n",
              "    </tr>\n",
              "    <tr>\n",
              "      <th>3</th>\n",
              "      <td>Norte</td>\n",
              "      <td>RO</td>\n",
              "      <td>2020-02-02</td>\n",
              "      <td>0</td>\n",
              "      <td>0</td>\n",
              "      <td>0</td>\n",
              "      <td>0</td>\n",
              "    </tr>\n",
              "    <tr>\n",
              "      <th>4</th>\n",
              "      <td>Norte</td>\n",
              "      <td>RO</td>\n",
              "      <td>2020-02-03</td>\n",
              "      <td>0</td>\n",
              "      <td>0</td>\n",
              "      <td>0</td>\n",
              "      <td>0</td>\n",
              "    </tr>\n",
              "  </tbody>\n",
              "</table>\n",
              "</div>\n",
              "      <button class=\"colab-df-convert\" onclick=\"convertToInteractive('df-56ca5bc0-7bb7-473c-9a26-dd5887086250')\"\n",
              "              title=\"Convert this dataframe to an interactive table.\"\n",
              "              style=\"display:none;\">\n",
              "        \n",
              "  <svg xmlns=\"http://www.w3.org/2000/svg\" height=\"24px\"viewBox=\"0 0 24 24\"\n",
              "       width=\"24px\">\n",
              "    <path d=\"M0 0h24v24H0V0z\" fill=\"none\"/>\n",
              "    <path d=\"M18.56 5.44l.94 2.06.94-2.06 2.06-.94-2.06-.94-.94-2.06-.94 2.06-2.06.94zm-11 1L8.5 8.5l.94-2.06 2.06-.94-2.06-.94L8.5 2.5l-.94 2.06-2.06.94zm10 10l.94 2.06.94-2.06 2.06-.94-2.06-.94-.94-2.06-.94 2.06-2.06.94z\"/><path d=\"M17.41 7.96l-1.37-1.37c-.4-.4-.92-.59-1.43-.59-.52 0-1.04.2-1.43.59L10.3 9.45l-7.72 7.72c-.78.78-.78 2.05 0 2.83L4 21.41c.39.39.9.59 1.41.59.51 0 1.02-.2 1.41-.59l7.78-7.78 2.81-2.81c.8-.78.8-2.07 0-2.86zM5.41 20L4 18.59l7.72-7.72 1.47 1.35L5.41 20z\"/>\n",
              "  </svg>\n",
              "      </button>\n",
              "      \n",
              "  <style>\n",
              "    .colab-df-container {\n",
              "      display:flex;\n",
              "      flex-wrap:wrap;\n",
              "      gap: 12px;\n",
              "    }\n",
              "\n",
              "    .colab-df-convert {\n",
              "      background-color: #E8F0FE;\n",
              "      border: none;\n",
              "      border-radius: 50%;\n",
              "      cursor: pointer;\n",
              "      display: none;\n",
              "      fill: #1967D2;\n",
              "      height: 32px;\n",
              "      padding: 0 0 0 0;\n",
              "      width: 32px;\n",
              "    }\n",
              "\n",
              "    .colab-df-convert:hover {\n",
              "      background-color: #E2EBFA;\n",
              "      box-shadow: 0px 1px 2px rgba(60, 64, 67, 0.3), 0px 1px 3px 1px rgba(60, 64, 67, 0.15);\n",
              "      fill: #174EA6;\n",
              "    }\n",
              "\n",
              "    [theme=dark] .colab-df-convert {\n",
              "      background-color: #3B4455;\n",
              "      fill: #D2E3FC;\n",
              "    }\n",
              "\n",
              "    [theme=dark] .colab-df-convert:hover {\n",
              "      background-color: #434B5C;\n",
              "      box-shadow: 0px 1px 3px 1px rgba(0, 0, 0, 0.15);\n",
              "      filter: drop-shadow(0px 1px 2px rgba(0, 0, 0, 0.3));\n",
              "      fill: #FFFFFF;\n",
              "    }\n",
              "  </style>\n",
              "\n",
              "      <script>\n",
              "        const buttonEl =\n",
              "          document.querySelector('#df-56ca5bc0-7bb7-473c-9a26-dd5887086250 button.colab-df-convert');\n",
              "        buttonEl.style.display =\n",
              "          google.colab.kernel.accessAllowed ? 'block' : 'none';\n",
              "\n",
              "        async function convertToInteractive(key) {\n",
              "          const element = document.querySelector('#df-56ca5bc0-7bb7-473c-9a26-dd5887086250');\n",
              "          const dataTable =\n",
              "            await google.colab.kernel.invokeFunction('convertToInteractive',\n",
              "                                                     [key], {});\n",
              "          if (!dataTable) return;\n",
              "\n",
              "          const docLinkHtml = 'Like what you see? Visit the ' +\n",
              "            '<a target=\"_blank\" href=https://colab.research.google.com/notebooks/data_table.ipynb>data table notebook</a>'\n",
              "            + ' to learn more about interactive tables.';\n",
              "          element.innerHTML = '';\n",
              "          dataTable['output_type'] = 'display_data';\n",
              "          await google.colab.output.renderOutput(dataTable, element);\n",
              "          const docLink = document.createElement('div');\n",
              "          docLink.innerHTML = docLinkHtml;\n",
              "          element.appendChild(docLink);\n",
              "        }\n",
              "      </script>\n",
              "    </div>\n",
              "  </div>\n",
              "  "
            ]
          },
          "metadata": {},
          "execution_count": 73
        }
      ]
    },
    {
      "cell_type": "code",
      "source": [
        "#CONVERTER DATAFRAME DO PANDAS PARA UM DATAFRAME DO SPARK\n",
        "df_spark = spark.createDataFrame(df_pandas)"
      ],
      "metadata": {
        "id": "6Sd8PQH_h099"
      },
      "execution_count": null,
      "outputs": []
    },
    {
      "cell_type": "code",
      "source": [
        "df1.show()\n",
        "df2.show()"
      ],
      "metadata": {
        "colab": {
          "base_uri": "https://localhost:8080/"
        },
        "id": "ttC3KHfgiD1g",
        "outputId": "d292613b-a717-44dc-bf2b-fc8220ef8fc5"
      },
      "execution_count": null,
      "outputs": [
        {
          "output_type": "stream",
          "name": "stdout",
          "text": [
            "+---+-------+-------+\n",
            "| id|   nome|salario|\n",
            "+---+-------+-------+\n",
            "|  1|   João|   2000|\n",
            "|  2|  Maria|   5000|\n",
            "|  3|  Pedro|   8300|\n",
            "|  4|Gustavo|   1200|\n",
            "|  5|    Ana|  10000|\n",
            "|  6|Vitoria|   7500|\n",
            "|  7| Carlos|   4800|\n",
            "|  8|Claudia|   4300|\n",
            "|  9|  Andre|   2400|\n",
            "+---+-------+-------+\n",
            "\n",
            "+---+--------------+------+\n",
            "| id|        cidade|estado|\n",
            "+---+--------------+------+\n",
            "|  1|     São Paulo|    SP|\n",
            "|  2|      Curitiba|    PR|\n",
            "|  3|     Fortaleza|    CE|\n",
            "|  4|Ribeirão Preto|    SP|\n",
            "|  8|Belo Horizonte|    MG|\n",
            "|  9|       Goiania|    GO|\n",
            "| 10|        Sobral|    CE|\n",
            "| 11|      Salvador|    BA|\n",
            "| 12|      São Luis|    MA|\n",
            "+---+--------------+------+\n",
            "\n"
          ]
        }
      ]
    },
    {
      "cell_type": "code",
      "source": [
        "#INNER JOIN \n",
        "df_inner = df1.join(df2, on=['id'], how='inner')\n",
        "\n",
        "df_inner.show()"
      ],
      "metadata": {
        "colab": {
          "base_uri": "https://localhost:8080/"
        },
        "id": "TU3aia1wieP2",
        "outputId": "d4eb397e-caf9-4032-9d7b-4cea16b8d21b"
      },
      "execution_count": null,
      "outputs": [
        {
          "output_type": "stream",
          "name": "stdout",
          "text": [
            "+---+-------+-------+--------------+------+\n",
            "| id|   nome|salario|        cidade|estado|\n",
            "+---+-------+-------+--------------+------+\n",
            "|  1|   João|   2000|     São Paulo|    SP|\n",
            "|  2|  Maria|   5000|      Curitiba|    PR|\n",
            "|  3|  Pedro|   8300|     Fortaleza|    CE|\n",
            "|  4|Gustavo|   1200|Ribeirão Preto|    SP|\n",
            "|  8|Claudia|   4300|Belo Horizonte|    MG|\n",
            "|  9|  Andre|   2400|       Goiania|    GO|\n",
            "+---+-------+-------+--------------+------+\n",
            "\n"
          ]
        }
      ]
    },
    {
      "cell_type": "code",
      "source": [
        "#LEFT JOIN\n",
        "df_left = df1.join(df2, on=['id'], how='left')\n",
        "\n",
        "df_left.show()"
      ],
      "metadata": {
        "colab": {
          "base_uri": "https://localhost:8080/"
        },
        "id": "u-lDLJL5jr18",
        "outputId": "bfc9fd55-8a55-4250-b2db-c6141d208d17"
      },
      "execution_count": null,
      "outputs": [
        {
          "output_type": "stream",
          "name": "stdout",
          "text": [
            "+---+-------+-------+--------------+------+\n",
            "| id|   nome|salario|        cidade|estado|\n",
            "+---+-------+-------+--------------+------+\n",
            "|  1|   João|   2000|     São Paulo|    SP|\n",
            "|  3|  Pedro|   8300|     Fortaleza|    CE|\n",
            "|  2|  Maria|   5000|      Curitiba|    PR|\n",
            "|  4|Gustavo|   1200|Ribeirão Preto|    SP|\n",
            "|  7| Carlos|   4800|          null|  null|\n",
            "|  6|Vitoria|   7500|          null|  null|\n",
            "|  9|  Andre|   2400|       Goiania|    GO|\n",
            "|  5|    Ana|  10000|          null|  null|\n",
            "|  8|Claudia|   4300|Belo Horizonte|    MG|\n",
            "+---+-------+-------+--------------+------+\n",
            "\n"
          ]
        }
      ]
    },
    {
      "cell_type": "code",
      "source": [
        "df1.join(df2, on=['id'], how='left').show()"
      ],
      "metadata": {
        "colab": {
          "base_uri": "https://localhost:8080/"
        },
        "id": "Od_grhitkPd2",
        "outputId": "462a5af9-051b-4e67-d681-8099ba027d05"
      },
      "execution_count": null,
      "outputs": [
        {
          "output_type": "stream",
          "name": "stdout",
          "text": [
            "+---+-------+-------+--------------+------+\n",
            "| id|   nome|salario|        cidade|estado|\n",
            "+---+-------+-------+--------------+------+\n",
            "|  1|   João|   2000|     São Paulo|    SP|\n",
            "|  3|  Pedro|   8300|     Fortaleza|    CE|\n",
            "|  2|  Maria|   5000|      Curitiba|    PR|\n",
            "|  4|Gustavo|   1200|Ribeirão Preto|    SP|\n",
            "|  7| Carlos|   4800|          null|  null|\n",
            "|  6|Vitoria|   7500|          null|  null|\n",
            "|  9|  Andre|   2400|       Goiania|    GO|\n",
            "|  5|    Ana|  10000|          null|  null|\n",
            "|  8|Claudia|   4300|Belo Horizonte|    MG|\n",
            "+---+-------+-------+--------------+------+\n",
            "\n"
          ]
        }
      ]
    },
    {
      "cell_type": "code",
      "source": [
        "#RIGHT\n",
        "df_right = df1.join(df2, on=['id'], how='right')\n",
        "\n",
        "df_right.show()"
      ],
      "metadata": {
        "colab": {
          "base_uri": "https://localhost:8080/"
        },
        "id": "EAszJUMlkYHc",
        "outputId": "3f315242-55ba-4d18-d2e6-1437377bc8bd"
      },
      "execution_count": null,
      "outputs": [
        {
          "output_type": "stream",
          "name": "stdout",
          "text": [
            "+---+-------+-------+--------------+------+\n",
            "| id|   nome|salario|        cidade|estado|\n",
            "+---+-------+-------+--------------+------+\n",
            "|  1|   João|   2000|     São Paulo|    SP|\n",
            "|  3|  Pedro|   8300|     Fortaleza|    CE|\n",
            "|  2|  Maria|   5000|      Curitiba|    PR|\n",
            "|  4|Gustavo|   1200|Ribeirão Preto|    SP|\n",
            "|  9|  Andre|   2400|       Goiania|    GO|\n",
            "| 10|   null|   null|        Sobral|    CE|\n",
            "| 12|   null|   null|      São Luis|    MA|\n",
            "|  8|Claudia|   4300|Belo Horizonte|    MG|\n",
            "| 11|   null|   null|      Salvador|    BA|\n",
            "+---+-------+-------+--------------+------+\n",
            "\n"
          ]
        }
      ]
    },
    {
      "cell_type": "code",
      "source": [
        "#FULL JOIN\n",
        "df_full = df1.join(df2, on=['id'], how='full')\n",
        "\n",
        "df_full.show()"
      ],
      "metadata": {
        "colab": {
          "base_uri": "https://localhost:8080/"
        },
        "id": "sXc-MDuKkndw",
        "outputId": "87ae84a1-4667-4f3a-a142-b6bb31a3c8a0"
      },
      "execution_count": null,
      "outputs": [
        {
          "output_type": "stream",
          "name": "stdout",
          "text": [
            "+---+-------+-------+--------------+------+\n",
            "| id|   nome|salario|        cidade|estado|\n",
            "+---+-------+-------+--------------+------+\n",
            "|  1|   João|   2000|     São Paulo|    SP|\n",
            "|  2|  Maria|   5000|      Curitiba|    PR|\n",
            "|  3|  Pedro|   8300|     Fortaleza|    CE|\n",
            "|  4|Gustavo|   1200|Ribeirão Preto|    SP|\n",
            "|  5|    Ana|  10000|          null|  null|\n",
            "|  6|Vitoria|   7500|          null|  null|\n",
            "|  7| Carlos|   4800|          null|  null|\n",
            "|  8|Claudia|   4300|Belo Horizonte|    MG|\n",
            "|  9|  Andre|   2400|       Goiania|    GO|\n",
            "| 10|   null|   null|        Sobral|    CE|\n",
            "| 11|   null|   null|      Salvador|    BA|\n",
            "| 12|   null|   null|      São Luis|    MA|\n",
            "+---+-------+-------+--------------+------+\n",
            "\n"
          ]
        }
      ]
    },
    {
      "cell_type": "code",
      "source": [
        "#ALTERANDO VALORES NULOS NO DATAFRAME COMPLETO\n",
        "df_full.fillna('teste').show()\n",
        "df_full.fillna(-1).show()"
      ],
      "metadata": {
        "colab": {
          "base_uri": "https://localhost:8080/"
        },
        "id": "I2xVbnwjk26J",
        "outputId": "471c4b93-efa5-4b51-dd00-0b5a5cbc0d03"
      },
      "execution_count": null,
      "outputs": [
        {
          "output_type": "stream",
          "name": "stdout",
          "text": [
            "+---+-------+-------+--------------+------+\n",
            "| id|   nome|salario|        cidade|estado|\n",
            "+---+-------+-------+--------------+------+\n",
            "|  1|   João|   2000|     São Paulo|    SP|\n",
            "|  2|  Maria|   5000|      Curitiba|    PR|\n",
            "|  3|  Pedro|   8300|     Fortaleza|    CE|\n",
            "|  4|Gustavo|   1200|Ribeirão Preto|    SP|\n",
            "|  5|    Ana|  10000|          null|  null|\n",
            "|  6|Vitoria|   7500|          null|  null|\n",
            "|  7| Carlos|   4800|          null|  null|\n",
            "|  8|Claudia|   4300|Belo Horizonte|    MG|\n",
            "|  9|  Andre|   2400|       Goiania|    GO|\n",
            "| 10|   null|      0|        Sobral|    CE|\n",
            "| 11|   null|      0|      Salvador|    BA|\n",
            "| 12|   null|      0|      São Luis|    MA|\n",
            "+---+-------+-------+--------------+------+\n",
            "\n"
          ]
        }
      ]
    },
    {
      "cell_type": "code",
      "source": [
        "#ALTERANDO VALORES NULOS EM UMA COLUNA ESPECÍFICA\n",
        "df_full.fillna(0, subset='salario').show()\n",
        "df_full.fillna('teste', subset=('nome', 'estado')).show()"
      ],
      "metadata": {
        "colab": {
          "base_uri": "https://localhost:8080/"
        },
        "id": "IjY5ZT16likb",
        "outputId": "83ef0804-76cb-4e68-8377-bfae25278d8c"
      },
      "execution_count": null,
      "outputs": [
        {
          "output_type": "stream",
          "name": "stdout",
          "text": [
            "+---+-------+-------+--------------+------+\n",
            "| id|   nome|salario|        cidade|estado|\n",
            "+---+-------+-------+--------------+------+\n",
            "|  1|   João|   2000|     São Paulo|    SP|\n",
            "|  2|  Maria|   5000|      Curitiba|    PR|\n",
            "|  3|  Pedro|   8300|     Fortaleza|    CE|\n",
            "|  4|Gustavo|   1200|Ribeirão Preto|    SP|\n",
            "|  5|    Ana|  10000|          null| teste|\n",
            "|  6|Vitoria|   7500|          null| teste|\n",
            "|  7| Carlos|   4800|          null| teste|\n",
            "|  8|Claudia|   4300|Belo Horizonte|    MG|\n",
            "|  9|  Andre|   2400|       Goiania|    GO|\n",
            "| 10|  teste|   null|        Sobral|    CE|\n",
            "| 11|  teste|   null|      Salvador|    BA|\n",
            "| 12|  teste|   null|      São Luis|    MA|\n",
            "+---+-------+-------+--------------+------+\n",
            "\n"
          ]
        }
      ]
    },
    {
      "cell_type": "code",
      "source": [
        "#Exportando os dados\n",
        "df.write.format('csv').save('/content/drive/MyDrive/SOULCODE/dados_covid_final')"
      ],
      "metadata": {
        "id": "g0fxb2hhoBPw"
      },
      "execution_count": null,
      "outputs": []
    },
    {
      "cell_type": "code",
      "source": [
        "df2.show()"
      ],
      "metadata": {
        "colab": {
          "base_uri": "https://localhost:8080/"
        },
        "id": "G1UWaHy_aKsJ",
        "outputId": "83080a29-6d80-46e1-af7e-2165d33d9de8"
      },
      "execution_count": null,
      "outputs": [
        {
          "output_type": "stream",
          "name": "stdout",
          "text": [
            "+-------------------+-----------------------------+\n",
            "|               data|date_format(data, dd/MM/yyyy)|\n",
            "+-------------------+-----------------------------+\n",
            "|2020-01-30 00:00:00|                   30/01/2020|\n",
            "|2020-01-31 00:00:00|                   31/01/2020|\n",
            "|2020-02-01 00:00:00|                   01/02/2020|\n",
            "|2020-02-02 00:00:00|                   02/02/2020|\n",
            "|2020-02-03 00:00:00|                   03/02/2020|\n",
            "|2020-02-04 00:00:00|                   04/02/2020|\n",
            "|2020-02-05 00:00:00|                   05/02/2020|\n",
            "|2020-02-06 00:00:00|                   06/02/2020|\n",
            "|2020-02-07 00:00:00|                   07/02/2020|\n",
            "|2020-02-08 00:00:00|                   08/02/2020|\n",
            "|2020-02-09 00:00:00|                   09/02/2020|\n",
            "|2020-02-10 00:00:00|                   10/02/2020|\n",
            "|2020-02-11 00:00:00|                   11/02/2020|\n",
            "|2020-02-12 00:00:00|                   12/02/2020|\n",
            "|2020-02-13 00:00:00|                   13/02/2020|\n",
            "|2020-02-14 00:00:00|                   14/02/2020|\n",
            "|2020-02-15 00:00:00|                   15/02/2020|\n",
            "|2020-02-16 00:00:00|                   16/02/2020|\n",
            "|2020-02-17 00:00:00|                   17/02/2020|\n",
            "|2020-02-18 00:00:00|                   18/02/2020|\n",
            "+-------------------+-----------------------------+\n",
            "only showing top 20 rows\n",
            "\n"
          ]
        }
      ]
    },
    {
      "cell_type": "code",
      "source": [
        "df2 = df2.withColumnRenamed('date_format(data, dd/MM/yyyy)', 'data_formatada')"
      ],
      "metadata": {
        "id": "zwveANtYaa2y"
      },
      "execution_count": null,
      "outputs": []
    },
    {
      "cell_type": "code",
      "source": [
        "#SUBSTRING - PERCORRER UMA STRING E RETORNAR UMA SUBSTRING\n",
        "df2.withColumn('dia', F.substring(F.col('data_formatada'), 1, 2))\\\n",
        "   .withColumn('mes', F.substring(F.col('data_formatada'), 4, 2))\\\n",
        "   .withColumn('ano', F.substring(F.col('data_formatada'), 7, 4)).show()"
      ],
      "metadata": {
        "colab": {
          "base_uri": "https://localhost:8080/"
        },
        "id": "B_wzcoq-aqfF",
        "outputId": "76835caf-fa6b-4025-af7b-cafa9593ff59"
      },
      "execution_count": null,
      "outputs": [
        {
          "output_type": "stream",
          "name": "stdout",
          "text": [
            "+-------------------+--------------+---+---+----+\n",
            "|               data|data_formatada|dia|mes| ano|\n",
            "+-------------------+--------------+---+---+----+\n",
            "|2020-01-30 00:00:00|    30/01/2020| 30| 01|2020|\n",
            "|2020-01-31 00:00:00|    31/01/2020| 31| 01|2020|\n",
            "|2020-02-01 00:00:00|    01/02/2020| 01| 02|2020|\n",
            "|2020-02-02 00:00:00|    02/02/2020| 02| 02|2020|\n",
            "|2020-02-03 00:00:00|    03/02/2020| 03| 02|2020|\n",
            "|2020-02-04 00:00:00|    04/02/2020| 04| 02|2020|\n",
            "|2020-02-05 00:00:00|    05/02/2020| 05| 02|2020|\n",
            "|2020-02-06 00:00:00|    06/02/2020| 06| 02|2020|\n",
            "|2020-02-07 00:00:00|    07/02/2020| 07| 02|2020|\n",
            "|2020-02-08 00:00:00|    08/02/2020| 08| 02|2020|\n",
            "|2020-02-09 00:00:00|    09/02/2020| 09| 02|2020|\n",
            "|2020-02-10 00:00:00|    10/02/2020| 10| 02|2020|\n",
            "|2020-02-11 00:00:00|    11/02/2020| 11| 02|2020|\n",
            "|2020-02-12 00:00:00|    12/02/2020| 12| 02|2020|\n",
            "|2020-02-13 00:00:00|    13/02/2020| 13| 02|2020|\n",
            "|2020-02-14 00:00:00|    14/02/2020| 14| 02|2020|\n",
            "|2020-02-15 00:00:00|    15/02/2020| 15| 02|2020|\n",
            "|2020-02-16 00:00:00|    16/02/2020| 16| 02|2020|\n",
            "|2020-02-17 00:00:00|    17/02/2020| 17| 02|2020|\n",
            "|2020-02-18 00:00:00|    18/02/2020| 18| 02|2020|\n",
            "+-------------------+--------------+---+---+----+\n",
            "only showing top 20 rows\n",
            "\n"
          ]
        }
      ]
    },
    {
      "cell_type": "code",
      "source": [
        "#split(), concat_ws(), union()"
      ],
      "metadata": {
        "id": "GXbaKwDhds6W"
      },
      "execution_count": null,
      "outputs": []
    },
    {
      "cell_type": "code",
      "source": [
        "#STRUCT TYPE e STRUCT FIELD\n",
        "from pyspark.sql.types import *"
      ],
      "metadata": {
        "id": "wTC63VDQewvZ"
      },
      "execution_count": null,
      "outputs": []
    },
    {
      "cell_type": "code",
      "source": [
        "'''\n",
        "TIPOS BÁSICOS DE DADOS DO SPARK\n",
        "ByteType() - int\n",
        "ShortType() - int\n",
        "IntegerType() - int\n",
        "LongType() - int\n",
        "FloatType() - float\n",
        "DoubleType() - float\n",
        "StringType() - str\n",
        "BooleanType - bool\n",
        "DecimalType() - float\n",
        "NULL\n",
        "'''"
      ],
      "metadata": {
        "id": "0OjAR79zfYee"
      },
      "execution_count": null,
      "outputs": []
    },
    {
      "cell_type": "code",
      "source": [
        "'''\n",
        "TIPOS COMPLEXOS DE DADOS\n",
        "TimestampType() - datetime\n",
        "DateType() - datetime\n",
        "ArrayType() - lista, tupla, array\n",
        "MapType() - dict\n",
        "StructType() - lista, tupla\n",
        "StructField() - Tipo do campo\n",
        "'''"
      ],
      "metadata": {
        "id": "Gfa2Lzgifezs"
      },
      "execution_count": null,
      "outputs": []
    },
    {
      "cell_type": "code",
      "source": [
        "df.printSchema()"
      ],
      "metadata": {
        "colab": {
          "base_uri": "https://localhost:8080/"
        },
        "id": "W35TbjyAgWJS",
        "outputId": "214a57c7-fdd7-4d04-b8fa-5ffb8c9146bf"
      },
      "execution_count": null,
      "outputs": [
        {
          "output_type": "stream",
          "name": "stdout",
          "text": [
            "root\n",
            " |-- regiao: string (nullable = true)\n",
            " |-- estado: string (nullable = true)\n",
            " |-- data: timestamp (nullable = true)\n",
            " |-- casosNovos: integer (nullable = true)\n",
            " |-- casosAcumulados: integer (nullable = true)\n",
            " |-- obitosNovos: integer (nullable = true)\n",
            " |-- obitosAcumulados: integer (nullable = true)\n",
            "\n"
          ]
        }
      ]
    },
    {
      "cell_type": "code",
      "source": [
        "colunas = StructType([\n",
        "    StructField('Regiao', StringType()),\n",
        "    StructField('Estado', StringType()),\n",
        "    StructField('data', TimestampType()),\n",
        "    StructField('casosNovos', IntegerType()),\n",
        "    StructField('casosAcumulados', IntegerType()),\n",
        "    StructField('obitosNovos', LongType()),\n",
        "    StructField('obitosAcumulados', ShortType())\n",
        "])"
      ],
      "metadata": {
        "id": "XABHDUq6gRPU"
      },
      "execution_count": null,
      "outputs": []
    },
    {
      "cell_type": "code",
      "source": [
        "dados = [(\n",
        "    \n",
        ")]"
      ],
      "metadata": {
        "id": "MsMpSrxshcfq"
      },
      "execution_count": null,
      "outputs": []
    },
    {
      "cell_type": "code",
      "source": [
        "df = spark.createDataFrame(data = dados, schema = colunas)"
      ],
      "metadata": {
        "id": "4qKTAi9_hfwN"
      },
      "execution_count": null,
      "outputs": []
    },
    {
      "cell_type": "markdown",
      "source": [
        "WINDOW FUNCTIONS\n"
      ],
      "metadata": {
        "id": "rRUDcjPVjtH0"
      }
    },
    {
      "cell_type": "code",
      "source": [
        "schema = ['nome', 'departamento', 'estado', 'salario']\n",
        "\n",
        "dados = [('Anderson', 'vendas', 'SP', 9000),\n",
        "         ('Kennedy', 'vendas', 'RJ', 4500),\n",
        "         ('Luciana', 'vendas', 'SP', 4500),\n",
        "         ('Marta', 'vendas', 'SP', 4500),\n",
        "         ('João', 'vendas', 'SP', 4500),\n",
        "         ('Diego', 'vendas', 'SP', 4500),\n",
        "         ('Marilia', 'vendas', 'SP', 1200),\n",
        "         ('Gustavo', 'financeiro', 'AM', 8000),\n",
        "         ('Pedro', 'financeiro', 'AM', 2750),\n",
        "         ('Juliana', 'financeiro', 'MG', 3000),\n",
        "         ('Leticia', 'financeiro', 'RJ', 7500),\n",
        "         ('Oswaldo', 'marketing', 'RJ', 2450),\n",
        "         ('Denis', 'marketing', 'MG', 1300)\n",
        "         \n",
        "        ]\n",
        "df = spark.createDataFrame(data = dados, schema = schema)"
      ],
      "metadata": {
        "id": "TW1LF0ZcmqSB"
      },
      "execution_count": null,
      "outputs": []
    },
    {
      "cell_type": "code",
      "source": [
        "df.show()"
      ],
      "metadata": {
        "colab": {
          "base_uri": "https://localhost:8080/"
        },
        "id": "PCfsvn0ZnAyo",
        "outputId": "373702f8-da30-4dd2-b519-db5eefeb51c8"
      },
      "execution_count": null,
      "outputs": [
        {
          "output_type": "stream",
          "name": "stdout",
          "text": [
            "+--------+------------+------+-------+\n",
            "|    nome|departamento|estado|salario|\n",
            "+--------+------------+------+-------+\n",
            "|Anderson|      vendas|    SP|   9000|\n",
            "| Kennedy|      vendas|    RJ|   4500|\n",
            "| Luciana|      vendas|    SP|   4500|\n",
            "|   Marta|      vendas|    SP|   4500|\n",
            "|    João|      vendas|    SP|   4500|\n",
            "|   Diego|      vendas|    SP|   4500|\n",
            "| Marilia|      vendas|    SP|   1200|\n",
            "| Gustavo|  financeiro|    AM|   8000|\n",
            "|   Pedro|  financeiro|    AM|   2750|\n",
            "| Juliana|  financeiro|    MG|   3000|\n",
            "| Leticia|  financeiro|    RJ|   7500|\n",
            "| Oswaldo|   marketing|    RJ|   2450|\n",
            "|   Denis|   marketing|    MG|   1300|\n",
            "+--------+------------+------+-------+\n",
            "\n"
          ]
        }
      ]
    },
    {
      "cell_type": "code",
      "source": [
        "from pyspark.sql.window import Window"
      ],
      "metadata": {
        "id": "eBPy01FNoCV9"
      },
      "execution_count": null,
      "outputs": []
    },
    {
      "cell_type": "code",
      "source": [
        "#CRIAR UMA PARTIÇÃO SOBRE O DATAFRAME PARA QUE SEJA POSSÍVEL UTILIZAR ALGUM TIPO DE CLASSIFICAÇÃO\n",
        "w0 = Window.partitionBy(F.col('departamento')).orderBy(F.col('salario').desc())"
      ],
      "metadata": {
        "id": "nzRo3CH1nxy8"
      },
      "execution_count": null,
      "outputs": []
    },
    {
      "cell_type": "code",
      "source": [
        "# 1)row_number()\n",
        "df.withColumn('row_number', F.row_number().over(w0)).orderBy(F.col('departamento').desc().show()"
      ],
      "metadata": {
        "colab": {
          "base_uri": "https://localhost:8080/"
        },
        "id": "oxQCBToEoutk",
        "outputId": "72872db2-e57e-4520-8329-f2743f736208"
      },
      "execution_count": null,
      "outputs": [
        {
          "output_type": "stream",
          "name": "stdout",
          "text": [
            "+--------+------------+------+-------+----------+\n",
            "|    nome|departamento|estado|salario|row_number|\n",
            "+--------+------------+------+-------+----------+\n",
            "|Anderson|      vendas|    SP|   9000|         1|\n",
            "| Marilia|      vendas|    SP|   1200|         7|\n",
            "|   Marta|      vendas|    SP|   4500|         4|\n",
            "| Kennedy|      vendas|    RJ|   4500|         2|\n",
            "|    João|      vendas|    SP|   4500|         5|\n",
            "|   Diego|      vendas|    SP|   4500|         6|\n",
            "| Luciana|      vendas|    SP|   4500|         3|\n",
            "| Oswaldo|   marketing|    RJ|   2450|         1|\n",
            "|   Denis|   marketing|    MG|   1300|         2|\n",
            "| Gustavo|  financeiro|    AM|   8000|         1|\n",
            "| Leticia|  financeiro|    RJ|   7500|         2|\n",
            "| Juliana|  financeiro|    MG|   3000|         3|\n",
            "|   Pedro|  financeiro|    AM|   2750|         4|\n",
            "+--------+------------+------+-------+----------+\n",
            "\n"
          ]
        }
      ]
    },
    {
      "cell_type": "code",
      "source": [
        "#Rank\n",
        "df.withColumn('rank', F.rank().over(w0)).show()"
      ],
      "metadata": {
        "colab": {
          "base_uri": "https://localhost:8080/"
        },
        "id": "FZ6a4EV9pjIU",
        "outputId": "6194fc34-5f65-48c5-c20f-37f043bbb7ae"
      },
      "execution_count": null,
      "outputs": [
        {
          "output_type": "stream",
          "name": "stdout",
          "text": [
            "+--------+------------+------+-------+----+\n",
            "|    nome|departamento|estado|salario|rank|\n",
            "+--------+------------+------+-------+----+\n",
            "| Gustavo|  financeiro|    AM|   8000|   1|\n",
            "| Leticia|  financeiro|    RJ|   7500|   2|\n",
            "| Juliana|  financeiro|    MG|   3000|   3|\n",
            "|   Pedro|  financeiro|    AM|   2750|   4|\n",
            "| Oswaldo|   marketing|    RJ|   2450|   1|\n",
            "|   Denis|   marketing|    MG|   1300|   2|\n",
            "|Anderson|      vendas|    SP|   9000|   1|\n",
            "| Kennedy|      vendas|    RJ|   4500|   2|\n",
            "| Luciana|      vendas|    SP|   4500|   2|\n",
            "|   Marta|      vendas|    SP|   4500|   2|\n",
            "|    João|      vendas|    SP|   4500|   2|\n",
            "|   Diego|      vendas|    SP|   4500|   2|\n",
            "| Marilia|      vendas|    SP|   1200|   7|\n",
            "+--------+------------+------+-------+----+\n",
            "\n"
          ]
        }
      ]
    },
    {
      "cell_type": "code",
      "source": [
        "#Dense_rank\n",
        "df.withColumn('dense_rank', F.dense_rank().over(w0)).show()"
      ],
      "metadata": {
        "colab": {
          "base_uri": "https://localhost:8080/"
        },
        "id": "0cX6XMxGrLow",
        "outputId": "d3bfce95-aac8-4d55-c8c2-66f5cb717f58"
      },
      "execution_count": null,
      "outputs": [
        {
          "output_type": "stream",
          "name": "stdout",
          "text": [
            "+--------+------------+------+-------+----------+\n",
            "|    nome|departamento|estado|salario|dense_rank|\n",
            "+--------+------------+------+-------+----------+\n",
            "| Gustavo|  financeiro|    AM|   8000|         1|\n",
            "| Leticia|  financeiro|    RJ|   7500|         2|\n",
            "| Juliana|  financeiro|    MG|   3000|         3|\n",
            "|   Pedro|  financeiro|    AM|   2750|         4|\n",
            "| Oswaldo|   marketing|    RJ|   2450|         1|\n",
            "|   Denis|   marketing|    MG|   1300|         2|\n",
            "|Anderson|      vendas|    SP|   9000|         1|\n",
            "| Kennedy|      vendas|    RJ|   4500|         2|\n",
            "| Luciana|      vendas|    SP|   4500|         2|\n",
            "|   Marta|      vendas|    SP|   4500|         2|\n",
            "|    João|      vendas|    SP|   4500|         2|\n",
            "|   Diego|      vendas|    SP|   4500|         2|\n",
            "| Marilia|      vendas|    SP|   1200|         3|\n",
            "+--------+------------+------+-------+----------+\n",
            "\n"
          ]
        }
      ]
    },
    {
      "cell_type": "code",
      "source": [
        "#LAG\n",
        "df.withColumn('lag', F.lag('salario', 1).over(w0)).show()"
      ],
      "metadata": {
        "colab": {
          "base_uri": "https://localhost:8080/"
        },
        "id": "pLIr5ldrr0wU",
        "outputId": "6421098b-f8b6-4474-df30-6f43e88907dd"
      },
      "execution_count": null,
      "outputs": [
        {
          "output_type": "stream",
          "name": "stdout",
          "text": [
            "+--------+------------+------+-------+----+\n",
            "|    nome|departamento|estado|salario| lag|\n",
            "+--------+------------+------+-------+----+\n",
            "| Gustavo|  financeiro|    AM|   8000|null|\n",
            "| Leticia|  financeiro|    RJ|   7500|8000|\n",
            "| Juliana|  financeiro|    MG|   3000|7500|\n",
            "|   Pedro|  financeiro|    AM|   2750|3000|\n",
            "| Oswaldo|   marketing|    RJ|   2450|null|\n",
            "|   Denis|   marketing|    MG|   1300|2450|\n",
            "|Anderson|      vendas|    SP|   9000|null|\n",
            "| Kennedy|      vendas|    RJ|   4500|9000|\n",
            "| Luciana|      vendas|    SP|   4500|4500|\n",
            "|   Marta|      vendas|    SP|   4500|4500|\n",
            "|    João|      vendas|    SP|   4500|4500|\n",
            "|   Diego|      vendas|    SP|   4500|4500|\n",
            "| Marilia|      vendas|    SP|   1200|4500|\n",
            "+--------+------------+------+-------+----+\n",
            "\n"
          ]
        }
      ]
    },
    {
      "cell_type": "code",
      "source": [
        "#LEAD\n",
        "df.withColumn('lead', F.lead('salario', 1).over(w0)).show()"
      ],
      "metadata": {
        "colab": {
          "base_uri": "https://localhost:8080/"
        },
        "id": "xN3RFXLjtm7O",
        "outputId": "08b0218f-cebe-4e13-d25a-080c831f7bbc"
      },
      "execution_count": null,
      "outputs": [
        {
          "output_type": "stream",
          "name": "stdout",
          "text": [
            "+--------+------------+------+-------+----+\n",
            "|    nome|departamento|estado|salario|lead|\n",
            "+--------+------------+------+-------+----+\n",
            "| Gustavo|  financeiro|    AM|   8000|7500|\n",
            "| Leticia|  financeiro|    RJ|   7500|3000|\n",
            "| Juliana|  financeiro|    MG|   3000|2750|\n",
            "|   Pedro|  financeiro|    AM|   2750|null|\n",
            "| Oswaldo|   marketing|    RJ|   2450|1300|\n",
            "|   Denis|   marketing|    MG|   1300|null|\n",
            "|Anderson|      vendas|    SP|   9000|4500|\n",
            "| Kennedy|      vendas|    RJ|   4500|4500|\n",
            "| Luciana|      vendas|    SP|   4500|4500|\n",
            "|   Marta|      vendas|    SP|   4500|4500|\n",
            "|    João|      vendas|    SP|   4500|4500|\n",
            "|   Diego|      vendas|    SP|   4500|1200|\n",
            "| Marilia|      vendas|    SP|   1200|null|\n",
            "+--------+------------+------+-------+----+\n",
            "\n"
          ]
        }
      ]
    }
  ]
}