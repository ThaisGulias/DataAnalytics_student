{
  "nbformat": 4,
  "nbformat_minor": 0,
  "metadata": {
    "colab": {
      "provenance": [],
      "include_colab_link": true
    },
    "kernelspec": {
      "name": "python3",
      "display_name": "Python 3"
    },
    "language_info": {
      "name": "python"
    }
  },
  "cells": [
    {
      "cell_type": "markdown",
      "metadata": {
        "id": "view-in-github",
        "colab_type": "text"
      },
      "source": [
        "<a href=\"https://colab.research.google.com/github/thaisgulias/DataAnalytics_student/blob/main/Aprendendo_Conexao_Python_MySQL.ipynb\" target=\"_parent\"><img src=\"https://colab.research.google.com/assets/colab-badge.svg\" alt=\"Open In Colab\"/></a>"
      ]
    },
    {
      "cell_type": "code",
      "execution_count": null,
      "metadata": {
        "colab": {
          "base_uri": "https://localhost:8080/"
        },
        "id": "zNl0HAjJvN1X",
        "outputId": "3b5f2377-0efb-4832-ce26-564e5c2e0790"
      },
      "outputs": [
        {
          "output_type": "stream",
          "name": "stdout",
          "text": [
            "Looking in indexes: https://pypi.org/simple, https://us-python.pkg.dev/colab-wheels/public/simple/\n",
            "Collecting mysql-connector-python\n",
            "  Downloading mysql_connector_python-8.0.32-cp39-cp39-manylinux1_x86_64.whl (23.5 MB)\n",
            "\u001b[2K     \u001b[90m━━━━━━━━━━━━━━━━━━━━━━━━━━━━━━━━━━━━━━━━\u001b[0m \u001b[32m23.5/23.5 MB\u001b[0m \u001b[31m20.6 MB/s\u001b[0m eta \u001b[36m0:00:00\u001b[0m\n",
            "\u001b[?25hRequirement already satisfied: protobuf<=3.20.3,>=3.11.0 in /usr/local/lib/python3.9/dist-packages (from mysql-connector-python) (3.19.6)\n",
            "Installing collected packages: mysql-connector-python\n",
            "Successfully installed mysql-connector-python-8.0.32\n"
          ]
        }
      ],
      "source": [
        "!pip install mysql-connector-python"
      ]
    },
    {
      "cell_type": "code",
      "source": [
        "import mysql.connector\n",
        "from mysql.connector import Error"
      ],
      "metadata": {
        "id": "qLcyePhzvmeh"
      },
      "execution_count": null,
      "outputs": []
    },
    {
      "cell_type": "code",
      "source": [
        "'''\n",
        "while True:\n",
        "  try:\n",
        "    n = int(input('Digite um número inteiro: '))\n",
        "    break\n",
        "  except:\n",
        "    print('Valor inválido!')\n",
        "'''"
      ],
      "metadata": {
        "id": "9a3Dd_KlvyKG"
      },
      "execution_count": null,
      "outputs": []
    },
    {
      "cell_type": "code",
      "source": [
        "try:\n",
        "  conexao = mysql.connector.connect(host='35.197.214.66', user='root', passwd='root', database='financeira')\n",
        "  print('Conexão Realizada com sucesso!')\n",
        "except:\n",
        "  print('Erro ao conectar com o Banco!')\n"
      ],
      "metadata": {
        "colab": {
          "base_uri": "https://localhost:8080/"
        },
        "id": "z6IqucrYw4dF",
        "outputId": "ba6318f5-84a9-4dba-f6c0-43e791f952de"
      },
      "execution_count": null,
      "outputs": [
        {
          "output_type": "stream",
          "name": "stdout",
          "text": [
            "Conexão Realizada com sucesso!\n"
          ]
        }
      ]
    },
    {
      "cell_type": "code",
      "source": [
        "cursor = conexao.cursor()\n",
        "cursor.execute('SELECT * FROM creditos LIMIT 50')\n",
        "\n",
        "retorno = cursor.fetchall()\n",
        "\n",
        "for x in retorno:\n",
        "  print(x)"
      ],
      "metadata": {
        "colab": {
          "base_uri": "https://localhost:8080/"
        },
        "id": "7jSNmr8Kzb28",
        "outputId": "9e1b6c14-1018-4326-dd4e-4d202a9757e8"
      },
      "execution_count": null,
      "outputs": [
        {
          "output_type": "stream",
          "name": "stdout",
          "text": [
            "(708082083, 0, 45, 'F', 3, 'ensino medio', 'casado', 'menos que $40K', 'blue', 36, 4, 3, 3, '3.544,02', '15.149,31', 111)\n",
            "(708083283, 1, 58, 'M', 0, 'na', 'solteiro', '$40K - $60K', 'blue', 45, 3, 3, 1, '3.421,03', '992,47', 21)\n",
            "(708084558, 1, 46, 'M', 3, 'doutorado', 'divorciado', '$80K - $120K', 'blue', 38, 6, 3, 3, '8.258,61', '1.447,53', 23)\n",
            "(708085458, 0, 34, 'F', 2, 'sem educacao formal', 'solteiro', 'menos que $40K', 'blue', 24, 6, 2, 2, '1.438,55', '3.940,59', 82)\n",
            "(708086958, 0, 49, 'F', 2, 'sem educacao formal', 'casado', 'na', 'blue', 41, 3, 2, 5, '3.128,46', '4.369,86', 59)\n",
            "(708095133, 0, 43, 'M', 4, 'na', 'na', '$120K +', 'blue', 34, 5, 2, 2, '33.304,71', '1.448,54', 29)\n",
            "(708098133, 0, 32, 'F', 0, 'mestrado', 'casado', 'menos que $40K', 'blue', 19, 6, 0, 1, '2.834,54', '1.598,37', 39)\n",
            "(708099183, 0, 37, 'F', 2, 'ensino medio', 'solteiro', 'menos que $40K', 'blue', 36, 4, 2, 2, '5.723,85', '2.732,91', 63)\n",
            "(708100533, 0, 55, 'F', 3, 'graduacao', 'solteiro', 'menos que $40K', 'blue', 36, 3, 3, 3, '2.679,04', '4.943,89', 85)\n",
            "(708103608, 0, 52, 'M', 1, 'ensino medio', 'solteiro', '$60K - $80K', 'blue', 45, 1, 1, 5, '11.898,27', '15.798,92', 128)\n",
            "(708104658, 0, 46, 'M', 1, 'mestrado', 'na', '$40K - $60K', 'blue', 36, 4, 2, 3, '1.438,27', '2.928,52', 48)\n",
            "(708108333, 1, 47, 'F', 3, 'mestrado', 'casado', 'na', 'blue', 36, 3, 1, 3, '5.590,55', '1.507,81', 32)\n",
            "(708112008, 0, 56, 'M', 2, 'mestrado', 'casado', '$80K - $120K', 'blue', 36, 4, 3, 2, '23.510,11', '1.661,27', 35)\n",
            "(708113208, 0, 53, 'F', 1, 'ensino medio', 'casado', 'menos que $40K', 'blue', 36, 3, 2, 2, '1.688,98', '4.375,24', 69)\n",
            "(708117933, 1, 44, 'F', 2, 'mestrado', 'divorciado', 'menos que $40K', 'blue', 36, 3, 3, 2, '1.880,06', '2.469,56', 34)\n",
            "(708119658, 0, 49, 'F', 4, 'mestrado', 'casado', '$40K - $60K', 'blue', 38, 4, 1, 2, '12.836,35', '2.519,14', 53)\n",
            "(708121908, 1, 48, 'M', 4, 'na', 'casado', '$80K - $120K', 'blue', 36, 2, 2, 3, '22.917,99', '2.045,56', 45)\n",
            "(708123033, 0, 41, 'F', 3, 'mestrado', 'solteiro', 'menos que $40K', 'silver', 30, 2, 1, 1, '11.463,91', '14.511,78', 105)\n",
            "(708125733, 0, 46, 'F', 2, 'graduacao', 'divorciado', 'menos que $40K', 'blue', 36, 4, 1, 3, '1.438,36', '4.311,17', 77)\n",
            "(708128733, 0, 50, 'F', 3, 'doutorado', 'solteiro', 'na', 'blue', 36, 5, 3, 4, '1.814,86', '5.014,72', 99)\n",
            "(708129933, 0, 45, 'F', 4, 'mestrado', 'solteiro', 'menos que $40K', 'blue', 36, 5, 2, 3, '2.072,83', '4.210,58', 64)\n",
            "(708132783, 0, 47, 'F', 3, 'sem educacao formal', 'solteiro', 'na', 'blue', 42, 6, 2, 2, '16.411,65', '3.929,19', 71)\n",
            "(708134283, 0, 35, 'M', 2, 'sem educacao formal', 'casado', 'menos que $40K', 'blue', 36, 4, 3, 3, '3.131,14', '1.483,28', 31)\n",
            "(708136908, 0, 62, 'F', 0, 'mestrado', 'solteiro', 'menos que $40K', 'blue', 53, 5, 2, 2, '2.616,09', '4.655,46', 68)\n",
            "(708139833, 1, 40, 'M', 3, 'mestrado', 'na', '$60K - $80K', 'blue', 30, 4, 3, 2, '6.391,67', '2.323,68', 44)\n",
            "(708145908, 0, 61, 'F', 0, 'mestrado', 'casado', '$40K - $60K', 'blue', 50, 3, 0, 3, '4.906,94', '3.999,79', 71)\n",
            "(708147108, 0, 26, 'M', 0, 'mestrado', 'divorciado', 'na', 'blue', 36, 6, 3, 1, '21.084,45', '2.309,83', 71)\n",
            "(708148158, 0, 39, 'F', 4, 'na', 'casado', 'na', 'blue', 21, 2, 2, 3, '1.827,93', '4.207,09', 86)\n",
            "(708151008, 0, 49, 'F', 4, 'mestrado', 'casado', '$40K - $60K', 'blue', 41, 5, 2, 1, '6.250,02', '2.433,02', 41)\n",
            "(708152358, 1, 54, 'M', 1, 'doutorado', 'na', '$80K - $120K', 'blue', 36, 1, 2, 3, '18.512,78', '8.019,59', 57)\n",
            "(708153558, 0, 46, 'M', 5, 'doutorado', 'divorciado', '$120K +', 'blue', 31, 1, 2, 2, '34.516,40', '7.936,53', 101)\n",
            "(708154833, 1, 39, 'F', 2, 'mestrado', 'solteiro', 'menos que $40K', 'blue', 27, 1, 3, 3, '1.438,08', '2.336,55', 46)\n",
            "(708155733, 0, 53, 'M', 2, 'ensino medio', 'solteiro', '$120K +', 'blue', 44, 4, 2, 2, '14.734,78', '1.289,07', 23)\n",
            "(708158133, 1, 45, 'M', 3, 'graduacao', 'casado', '$80K - $120K', 'blue', 36, 3, 2, 2, '3.031,16', '2.188,95', 50)\n",
            "(708160008, 0, 44, 'M', 1, 'sem educacao formal', 'casado', '$120K +', 'blue', 33, 2, 3, 2, '34.516,56', '7.412,96', 84)\n",
            "(708161133, 0, 45, 'M', 1, 'mestrado', 'solteiro', '$40K - $60K', 'blue', 32, 5, 2, 1, '6.629,40', '3.891,16', 69)\n",
            "(708162558, 0, 64, 'F', 0, 'sem educacao formal', 'casado', 'na', 'blue', 54, 6, 2, 1, '3.250,92', '1.355,42', 36)\n",
            "(708163758, 0, 41, 'M', 3, 'na', 'casado', '$120K +', 'blue', 33, 2, 3, 4, '34.516,22', '13.085,66', 139)\n",
            "(708170508, 1, 38, 'M', 2, 'mestrado', 'casado', '$60K - $80K', 'blue', 36, 2, 2, 3, '1.438,61', '1.651,49', 42)\n",
            "(708171858, 0, 33, 'F', 3, 'doutorado', 'casado', '$40K - $60K', 'blue', 28, 5, 3, 2, '1.864,72', '2.607,96', 44)\n",
            "(708173433, 0, 26, 'F', 1, 'na', 'solteiro', '$40K - $60K', 'blue', 14, 4, 4, 2, '5.645,36', '2.482,77', 57)\n",
            "(708174708, 0, 38, 'M', 4, 'mestrado', 'casado', '$40K - $60K', 'blue', 27, 6, 4, 2, '5.535,29', '1.764,81', 38)\n",
            "(708176208, 0, 48, 'F', 1, 'mestrado', 'casado', '$40K - $60K', 'blue', 36, 4, 1, 4, '7.268,13', '4.199,44', 80)\n",
            "(708177333, 0, 51, 'F', 2, 'ensino medio', 'casado', 'menos que $40K', 'silver', 36, 5, 0, 3, '11.261,70', '1.158,09', 26)\n",
            "(708178608, 0, 31, 'F', 0, 'mestrado', 'casado', 'na', 'blue', 36, 4, 2, 2, '2.488,83', '4.226,16', 73)\n",
            "(708185208, 0, 27, 'M', 0, 'mestrado', 'solteiro', '$40K - $60K', 'blue', 16, 4, 2, 1, '3.178,40', '2.010,18', 31)\n",
            "(708186933, 1, 33, 'M', 1, 'mestrado', 'solteiro', '$60K - $80K', 'blue', 36, 4, 2, 3, '1.819,23', '2.254,65', 45)\n",
            "(708190158, 1, 38, 'F', 3, 'ensino medio', 'solteiro', 'menos que $40K', 'blue', 26, 2, 0, 3, '2.920,22', '2.750,31', 41)\n",
            "(708193008, 0, 41, 'M', 4, 'sem educacao formal', 'solteiro', '$80K - $120K', 'blue', 30, 3, 4, 3, '14.480,79', '1.616,56', 43)\n",
            "(708195633, 0, 40, 'M', 2, 'ensino medio', 'na', '$80K - $120K', 'silver', 32, 5, 3, 2, '34.516,93', '2.440,71', 54)\n"
          ]
        }
      ]
    }
  ]
}