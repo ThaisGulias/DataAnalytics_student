{
  "nbformat": 4,
  "nbformat_minor": 0,
  "metadata": {
    "colab": {
      "provenance": [],
      "toc_visible": true,
      "include_colab_link": true
    },
    "kernelspec": {
      "name": "python3",
      "display_name": "Python 3"
    },
    "language_info": {
      "name": "python"
    }
  },
  "cells": [
    {
      "cell_type": "markdown",
      "metadata": {
        "id": "view-in-github",
        "colab_type": "text"
      },
      "source": [
        "<a href=\"https://colab.research.google.com/github/thaisgulias/DataAnalytics_student/blob/main/Aprendendo_mongoDB.ipynb\" target=\"_parent\"><img src=\"https://colab.research.google.com/assets/colab-badge.svg\" alt=\"Open In Colab\"/></a>"
      ]
    },
    {
      "cell_type": "code",
      "source": [
        "#pip install pymongo"
      ],
      "metadata": {
        "id": "sD7QqeftvUuz"
      },
      "execution_count": null,
      "outputs": []
    },
    {
      "cell_type": "code",
      "source": [
        "import pymongo\n",
        "from pymongo import MongoClient"
      ],
      "metadata": {
        "id": "kcxD3R1tvhPr"
      },
      "execution_count": null,
      "outputs": []
    },
    {
      "cell_type": "markdown",
      "source": [
        "##CONECTOR MongoDB"
      ],
      "metadata": {
        "id": "2sIHWqrSjeqR"
      }
    },
    {
      "cell_type": "code",
      "source": [
        "#Conector MongoDB Atlas\n",
        "uri = \"mongodb+srv://cluster0.jjkb9co.mongodb.net/?authSource=%24external&authMechanism=MONGODB-X509&retryWrites=true&w=majority\"\n",
        "client = MongoClient(uri,tls=True,tlsCertificateKeyFile='/content/X509-cert-3926889476236238374.pem') #chave\n",
        "\n",
        "db = client['soulcode']\n",
        "colecao = db['aulamongo']"
      ],
      "metadata": {
        "id": "3hEpyuzmHMZ5"
      },
      "execution_count": null,
      "outputs": []
    },
    {
      "cell_type": "code",
      "source": [
        "doc_count = colecao.count_documents({})\n",
        "print(doc_count)"
      ],
      "metadata": {
        "colab": {
          "base_uri": "https://localhost:8080/"
        },
        "id": "0gjD_m5wwsTL",
        "outputId": "3d31f05c-9b5a-4851-852e-4975bdc4f601"
      },
      "execution_count": null,
      "outputs": [
        {
          "output_type": "stream",
          "name": "stdout",
          "text": [
            "4\n"
          ]
        }
      ]
    },
    {
      "cell_type": "markdown",
      "source": [],
      "metadata": {
        "id": "uWU3gEfcxJOT"
      }
    },
    {
      "cell_type": "markdown",
      "source": [
        "##CREATE ( Inserir dados | Documentos)"
      ],
      "metadata": {
        "id": "VJt6sw_mztf8"
      }
    },
    {
      "cell_type": "code",
      "source": [
        "#adicono um documento por vez\n",
        "colecao.insert_one({'nome':'Thais','idade':29,'Telefone':'01234587'})"
      ],
      "metadata": {
        "colab": {
          "base_uri": "https://localhost:8080/"
        },
        "id": "wkE5vTl4zyp7",
        "outputId": "0cb6b438-afb5-4f21-c049-9dfece883333"
      },
      "execution_count": null,
      "outputs": [
        {
          "output_type": "execute_result",
          "data": {
            "text/plain": [
              "<pymongo.results.InsertOneResult at 0x7f076036d130>"
            ]
          },
          "metadata": {},
          "execution_count": 8
        }
      ]
    },
    {
      "cell_type": "code",
      "source": [
        "#vários documentos de uma vez\n",
        "colecao.insert_many([{'nome':'Filipe','idade':23},{'nome':'Adriano','idade':31}])"
      ],
      "metadata": {
        "colab": {
          "base_uri": "https://localhost:8080/"
        },
        "id": "Ge_cMFKg3ngc",
        "outputId": "1e26be55-917d-493f-a90e-d0919e6a87c9"
      },
      "execution_count": null,
      "outputs": [
        {
          "output_type": "execute_result",
          "data": {
            "text/plain": [
              "<pymongo.results.InsertManyResult at 0x7f0760447850>"
            ]
          },
          "metadata": {},
          "execution_count": 12
        }
      ]
    },
    {
      "cell_type": "code",
      "source": [
        "#Inserção com o retorno do id do documento\n",
        "dados = {'nome':'Karen','idade':26}\n",
        "info = colecao.insert_one(dados)\n",
        "print(info.inserted_id)"
      ],
      "metadata": {
        "colab": {
          "base_uri": "https://localhost:8080/"
        },
        "id": "xpeRUQe4K_pe",
        "outputId": "eb37152e-b0d0-4409-9ca7-9d2dcde8b5d5"
      },
      "execution_count": null,
      "outputs": [
        {
          "output_type": "stream",
          "name": "stdout",
          "text": [
            "640a08257a8a2216cabf52a6\n"
          ]
        }
      ]
    },
    {
      "cell_type": "code",
      "source": [
        "colecao2 = db['dadosrandom']"
      ],
      "metadata": {
        "id": "TQWarum3Mgre"
      },
      "execution_count": null,
      "outputs": []
    },
    {
      "cell_type": "code",
      "source": [
        "#criar um laço para popular uma coleção do banco\n",
        "n = 10\n",
        "y = 20\n",
        "\n",
        "while n<50:\n",
        "  dados = {'nome':'cliente '+str(y),'idade':n}\n",
        "  i = colecao2.insert_one(dados)\n",
        "  n+=1\n",
        "  y-=1\n",
        "  print(i.inserted_id)"
      ],
      "metadata": {
        "colab": {
          "base_uri": "https://localhost:8080/"
        },
        "id": "WC3qu1wUMNuN",
        "outputId": "4f5b15d6-056d-4082-ef18-23365ee3a91f"
      },
      "execution_count": null,
      "outputs": [
        {
          "output_type": "stream",
          "name": "stdout",
          "text": [
            "640a27517a8a2216cabf52dc\n",
            "640a27517a8a2216cabf52dd\n",
            "640a27517a8a2216cabf52de\n",
            "640a27517a8a2216cabf52df\n",
            "640a27517a8a2216cabf52e0\n",
            "640a27517a8a2216cabf52e1\n",
            "640a27527a8a2216cabf52e2\n",
            "640a27527a8a2216cabf52e3\n",
            "640a27527a8a2216cabf52e4\n",
            "640a27527a8a2216cabf52e5\n",
            "640a27527a8a2216cabf52e6\n",
            "640a27537a8a2216cabf52e7\n",
            "640a27537a8a2216cabf52e8\n",
            "640a27537a8a2216cabf52e9\n",
            "640a27537a8a2216cabf52ea\n",
            "640a27537a8a2216cabf52eb\n",
            "640a27537a8a2216cabf52ec\n",
            "640a27547a8a2216cabf52ed\n",
            "640a27547a8a2216cabf52ee\n",
            "640a27547a8a2216cabf52ef\n",
            "640a27547a8a2216cabf52f0\n",
            "640a27547a8a2216cabf52f1\n",
            "640a27547a8a2216cabf52f2\n",
            "640a27557a8a2216cabf52f3\n",
            "640a27557a8a2216cabf52f4\n",
            "640a27557a8a2216cabf52f5\n",
            "640a27557a8a2216cabf52f6\n",
            "640a27557a8a2216cabf52f7\n"
          ]
        }
      ]
    },
    {
      "cell_type": "markdown",
      "source": [
        "##READ ( query ou leitura dos documentos)"
      ],
      "metadata": {
        "id": "KKmIqtOMOWSu"
      }
    },
    {
      "cell_type": "code",
      "source": [
        "#Consulta a coleção inteira\n",
        "for x in colecao2.find():\n",
        "  print(x)"
      ],
      "metadata": {
        "id": "y1ZOpd7POae9"
      },
      "execution_count": null,
      "outputs": []
    },
    {
      "cell_type": "markdown",
      "source": [
        "\n",
        "\n",
        "```\n",
        "$lt = Menor que | $gt = Maior que | $lte = Menor igual | $gte = Maior e igual | $ne = Diferente\n",
        "```\n",
        "\n"
      ],
      "metadata": {
        "id": "v3fm9KU1SRZW"
      }
    },
    {
      "cell_type": "code",
      "source": [
        "#Consulta especifica usando operadores\n",
        "busca = {'idade':{'$ne':10}}\n",
        "\n",
        "doc = colecao2.find(busca)\n",
        "\n",
        "for x in doc:\n",
        "  print(x)"
      ],
      "metadata": {
        "id": "mMeIh1AFP0gu"
      },
      "execution_count": null,
      "outputs": []
    },
    {
      "cell_type": "code",
      "source": [
        "#Consulta especifica exatamente\n",
        "busca = {'nome':'cliente 20'}\n",
        "\n",
        "doc = colecao2.find(busca)\n",
        "\n",
        "for x in doc:\n",
        "  print(x)"
      ],
      "metadata": {
        "id": "DtlovjGYSxOO"
      },
      "execution_count": null,
      "outputs": []
    },
    {
      "cell_type": "code",
      "source": [
        "#Consulta especifica com vários valores\n",
        "busca = {'nome':{'$in':['cliente 20','cliente 10','cliente 5']}}\n",
        "\n",
        "doc = colecao2.find(busca)\n",
        "\n",
        "for x in doc:\n",
        "  print(x)"
      ],
      "metadata": {
        "colab": {
          "base_uri": "https://localhost:8080/"
        },
        "id": "2SohLs31T1bH",
        "outputId": "f7e1cfce-46b0-46a7-991a-a421b298c9f8"
      },
      "execution_count": null,
      "outputs": [
        {
          "output_type": "stream",
          "name": "stdout",
          "text": [
            "{'_id': ObjectId('640a09ef7a8a2216cabf52a7'), 'nome': 'cliente 20', 'idade': 10}\n",
            "{'_id': ObjectId('640a0a037a8a2216cabf52a8'), 'nome': 'cliente 20', 'idade': 10}\n",
            "{'_id': ObjectId('640a0a057a8a2216cabf52b2'), 'nome': 'cliente 10', 'idade': 20}\n",
            "{'_id': ObjectId('640a0a057a8a2216cabf52b7'), 'nome': 'cliente 5', 'idade': 25}\n"
          ]
        }
      ]
    },
    {
      "cell_type": "code",
      "source": [
        "#Consulta especifica com vários valores\n",
        "busca = {'idade':{'$in':[17,18,19]}}\n",
        "\n",
        "doc = colecao2.find(busca)\n",
        "\n",
        "for x in doc:\n",
        "  print(x)"
      ],
      "metadata": {
        "colab": {
          "base_uri": "https://localhost:8080/"
        },
        "id": "HoJ9V45DUj5f",
        "outputId": "d8b0a606-fc15-4103-d2f0-75cbfa97421c"
      },
      "execution_count": null,
      "outputs": [
        {
          "output_type": "stream",
          "name": "stdout",
          "text": [
            "{'_id': ObjectId('640a0a047a8a2216cabf52af'), 'nome': 'cliente 13', 'idade': 17}\n",
            "{'_id': ObjectId('640a0a047a8a2216cabf52b0'), 'nome': 'cliente 12', 'idade': 18}\n",
            "{'_id': ObjectId('640a0a047a8a2216cabf52b1'), 'nome': 'cliente 11', 'idade': 19}\n"
          ]
        }
      ]
    },
    {
      "cell_type": "code",
      "source": [
        "#Consulta mais especifica com várias chaves usando and(e)\n",
        "busca = {'nome':'cliente 13','idade':17}\n",
        "\n",
        "doc = colecao2.find(busca)\n",
        "\n",
        "for x in doc:\n",
        "  print(x)"
      ],
      "metadata": {
        "colab": {
          "base_uri": "https://localhost:8080/"
        },
        "id": "xM5FEyUKUwIG",
        "outputId": "6d243f6c-f564-4979-ab63-6a5642083c08"
      },
      "execution_count": null,
      "outputs": [
        {
          "output_type": "stream",
          "name": "stdout",
          "text": [
            "{'_id': ObjectId('640a0a047a8a2216cabf52af'), 'nome': 'cliente 13', 'idade': 17}\n"
          ]
        }
      ]
    },
    {
      "cell_type": "code",
      "source": [
        "#Consulta mais especifica com várias chaves usando o OR(ou)\n",
        "busca = {'$or':[{'nome':'cliente 12'},{'idade':19}]}\n",
        "\n",
        "doc = colecao2.find(busca)\n",
        "\n",
        "for x in doc:\n",
        "  print(x)"
      ],
      "metadata": {
        "colab": {
          "base_uri": "https://localhost:8080/"
        },
        "id": "sGExlMCTV7f3",
        "outputId": "8acd892e-4628-44ed-a67a-0cb12f398e1b"
      },
      "execution_count": null,
      "outputs": [
        {
          "output_type": "stream",
          "name": "stdout",
          "text": [
            "{'_id': ObjectId('640a0a047a8a2216cabf52b0'), 'nome': 'cliente 12', 'idade': 18}\n",
            "{'_id': ObjectId('640a0a047a8a2216cabf52b1'), 'nome': 'cliente 11', 'idade': 19}\n"
          ]
        }
      ]
    },
    {
      "cell_type": "markdown",
      "source": [
        "##UPDATE  (atualização de dados)"
      ],
      "metadata": {
        "id": "eyWSTWUBcTl4"
      }
    },
    {
      "cell_type": "code",
      "source": [
        "#Atualização usando unico campo\n",
        "busca = {'idade':{'$gte':18}}\n",
        "\n",
        "modifica = {'$set':{'emancipado':'SIM'}}\n",
        "\n",
        "colecao2.update_many(busca , modifica)"
      ],
      "metadata": {
        "colab": {
          "base_uri": "https://localhost:8080/"
        },
        "id": "2lJ4oOOEdFVA",
        "outputId": "e6f7faf3-7533-42fc-b5e5-c17994d3ed2a"
      },
      "execution_count": null,
      "outputs": [
        {
          "output_type": "execute_result",
          "data": {
            "text/plain": [
              "<pymongo.results.UpdateResult at 0x7f4057a674f0>"
            ]
          },
          "metadata": {},
          "execution_count": 41
        }
      ]
    },
    {
      "cell_type": "code",
      "source": [
        "#Atualização usando unico campo\n",
        "busca = {'idade':{'$lt':18}}\n",
        "\n",
        "modifica = {'$set':{'emancipado':'NAO'}}\n",
        "\n",
        "colecao2.update_many(busca , modifica)"
      ],
      "metadata": {
        "colab": {
          "base_uri": "https://localhost:8080/"
        },
        "id": "U6WkhmrKfhhw",
        "outputId": "28ba3027-7167-41c3-828c-4241bc6b2a2a"
      },
      "execution_count": null,
      "outputs": [
        {
          "output_type": "execute_result",
          "data": {
            "text/plain": [
              "<pymongo.results.UpdateResult at 0x7f404e702130>"
            ]
          },
          "metadata": {},
          "execution_count": 43
        }
      ]
    },
    {
      "cell_type": "code",
      "source": [
        "#Atualização usando vários campos\n",
        "busca = {'$or':[{'nome':'cliente 12'},{'idade':19}]}\n",
        "\n",
        "modifica = {'$set':{'achou':'TA AQUI'}}\n",
        "\n",
        "colecao2.update_many(busca , modifica)"
      ],
      "metadata": {
        "colab": {
          "base_uri": "https://localhost:8080/"
        },
        "id": "2uEmxnHFf0xQ",
        "outputId": "4411679c-28b3-4910-a476-579829be0caa"
      },
      "execution_count": null,
      "outputs": [
        {
          "output_type": "execute_result",
          "data": {
            "text/plain": [
              "<pymongo.results.UpdateResult at 0x7f4057a672b0>"
            ]
          },
          "metadata": {},
          "execution_count": 45
        }
      ]
    },
    {
      "cell_type": "markdown",
      "source": [
        "##DELETE (Apagar ou deletar)"
      ],
      "metadata": {
        "id": "5my0-dObglkw"
      }
    },
    {
      "cell_type": "code",
      "source": [
        "colecao2.delete_one({'nome':'cliente 20'})"
      ],
      "metadata": {
        "colab": {
          "base_uri": "https://localhost:8080/"
        },
        "id": "WfOzHu97gscI",
        "outputId": "2ca437ee-1206-4400-c49b-376878c50745"
      },
      "execution_count": null,
      "outputs": [
        {
          "output_type": "execute_result",
          "data": {
            "text/plain": [
              "<pymongo.results.DeleteResult at 0x7f404e8ded60>"
            ]
          },
          "metadata": {},
          "execution_count": 52
        }
      ]
    },
    {
      "cell_type": "code",
      "source": [
        "colecao2.delete_many({'emancipado':'NAO'})"
      ],
      "metadata": {
        "colab": {
          "base_uri": "https://localhost:8080/"
        },
        "id": "LFAqJlOjh48h",
        "outputId": "74937764-6886-4195-b329-9f39e59673c8"
      },
      "execution_count": null,
      "outputs": [
        {
          "output_type": "execute_result",
          "data": {
            "text/plain": [
              "<pymongo.results.DeleteResult at 0x7f404e6e6190>"
            ]
          },
          "metadata": {},
          "execution_count": 54
        }
      ]
    },
    {
      "cell_type": "code",
      "source": [
        "#Apaga toda a colecao de uma so vez\n",
        "colecao2.drop()"
      ],
      "metadata": {
        "id": "3FoExGZZihUg"
      },
      "execution_count": null,
      "outputs": []
    },
    {
      "cell_type": "markdown",
      "source": [
        "##PUXAR ou enviar o DF para mongo"
      ],
      "metadata": {
        "id": "SgL5vdwIsS-g"
      }
    },
    {
      "cell_type": "code",
      "source": [
        "#seleção de base e coleção\n",
        "db2 = client['cenipa']\n",
        "colecaocenipa = db2['tratado']\n",
        "colecaocenipa.count_documents({})"
      ],
      "metadata": {
        "colab": {
          "base_uri": "https://localhost:8080/"
        },
        "id": "5Tz7G9FvsV_x",
        "outputId": "0263ff6b-fc1e-4a7f-bcb8-a1ba9657181e"
      },
      "execution_count": null,
      "outputs": [
        {
          "output_type": "execute_result",
          "data": {
            "text/plain": [
              "0"
            ]
          },
          "metadata": {},
          "execution_count": 86
        }
      ]
    },
    {
      "cell_type": "code",
      "source": [
        "#Envio de um dataframe para coleção no MONGO\n",
        "df_dict = df.to_dict(\"records\")\n",
        "\n",
        "colecaocenipa.insert_many(df_dict)"
      ],
      "metadata": {
        "colab": {
          "base_uri": "https://localhost:8080/"
        },
        "id": "odJpPz00tEeR",
        "outputId": "145196e9-b6db-4fb3-ba6e-6715b4197efc"
      },
      "execution_count": null,
      "outputs": [
        {
          "output_type": "execute_result",
          "data": {
            "text/plain": [
              "<pymongo.results.InsertManyResult at 0x7f4048fe9fd0>"
            ]
          },
          "metadata": {},
          "execution_count": 88
        }
      ]
    },
    {
      "cell_type": "code",
      "source": [
        "colecaocenipa.count_documents({})"
      ],
      "metadata": {
        "colab": {
          "base_uri": "https://localhost:8080/"
        },
        "id": "vP-2Q-9ettfq",
        "outputId": "d6c2302f-8ce8-4f1a-87e5-1847a584167a"
      },
      "execution_count": null,
      "outputs": [
        {
          "output_type": "execute_result",
          "data": {
            "text/plain": [
              "6769"
            ]
          },
          "metadata": {},
          "execution_count": 94
        }
      ]
    },
    {
      "cell_type": "code",
      "source": [
        "#Extrair de uma colecao do MongoDB\n",
        "cursor = colecaocenipa.find({})\n",
        "dfcenipa = pd.DataFrame(list(cursor))"
      ],
      "metadata": {
        "id": "th5hDArJt3xh"
      },
      "execution_count": null,
      "outputs": []
    },
    {
      "cell_type": "code",
      "source": [
        "dfcenipa"
      ],
      "metadata": {
        "id": "3x4i4Pj1u3Xy"
      },
      "execution_count": null,
      "outputs": []
    },
    {
      "cell_type": "code",
      "source": [
        "dfcenipa.dtypes"
      ],
      "metadata": {
        "id": "XYTQvsgMvCXy"
      },
      "execution_count": null,
      "outputs": []
    },
    {
      "cell_type": "markdown",
      "source": [
        "##Integração com PANDAS"
      ],
      "metadata": {
        "id": "rq5n7etmj09w"
      }
    },
    {
      "cell_type": "code",
      "source": [
        "import pandas as pd\n",
        "import numpy as np\n",
        "from google.cloud import storage\n",
        "import os"
      ],
      "metadata": {
        "id": "MVJexcKTm8P5"
      },
      "execution_count": null,
      "outputs": []
    },
    {
      "cell_type": "code",
      "source": [
        "#Extrair de uma colecao do MongoDB\n",
        "cursor = colecao2.find({})\n",
        "dfmongo2 = pd.DataFrame(list(cursor))"
      ],
      "metadata": {
        "id": "_yfrnFXXntap"
      },
      "execution_count": null,
      "outputs": []
    },
    {
      "cell_type": "code",
      "source": [
        "dfmongo2"
      ],
      "metadata": {
        "id": "Wmm75vC5o7NB"
      },
      "execution_count": null,
      "outputs": []
    },
    {
      "cell_type": "code",
      "source": [
        "#CONFIGURANDO DA CHAVE DE SEGURANCA (Enviada com o projeto)\n",
        "\n",
        "# serviceAccount = '/content/compact-epigram-377819-c2c380ae78c0.json'\n",
        "# os.environ['GOOGLE_APPLICATION_CREDENTIALS'] = serviceAccount"
      ],
      "metadata": {
        "id": "OjPFQp3hrhIB"
      },
      "execution_count": null,
      "outputs": []
    },
    {
      "cell_type": "code",
      "source": [
        "# Configurações Google Cloud Storage\n",
        "# client = storage.Client()\n",
        "# bucket = client.get_bucket('projeto_pandas')\n",
        "# bucket.blob('ocorrencias.csv')\n",
        "# path = 'gs://projeto_pandas/brutos/ocorrencias.csv'"
      ],
      "metadata": {
        "id": "hOqFAQg3rtPi"
      },
      "execution_count": null,
      "outputs": []
    },
    {
      "cell_type": "code",
      "source": [
        "df = pd.read_csv(path,sep=';',encoding='ISO-8859-1',parse_dates=['ocorrencia_dia'],dayfirst=True)"
      ],
      "metadata": {
        "id": "-vVelEOWrw85"
      },
      "execution_count": null,
      "outputs": []
    },
    {
      "cell_type": "code",
      "source": [
        "# Drop de colunas identicas ( codigo_ocorrencia1 , codigo_ocorrencia2,codigo_ocorrencia3 , codigo_ocorrencia4)\n",
        "df.drop(['codigo_ocorrencia1','codigo_ocorrencia2','codigo_ocorrencia3','codigo_ocorrencia4'],axis=1,inplace=True)\n",
        "# Drop de colunas com problemas e/ou não utilizadas na analise\n",
        "df.drop(['ocorrencia_latitude','ocorrencia_longitude','investigacao_aeronave_liberada','investigacao_status','divulgacao_relatorio_numero','divulgacao_relatorio_publicado','divulgacao_dia_publicacao'],axis=1,inplace=True)"
      ],
      "metadata": {
        "id": "czIZbDnQr4kq"
      },
      "execution_count": null,
      "outputs": []
    },
    {
      "cell_type": "code",
      "source": [
        "#Renomeando colunas\n",
        "df.rename(columns={'ocorrencia_classificacao':'classificacao','ocorrencia_cidade':'cidade','ocorrencia_uf':'uf','ocorrencia_pais':'pais'},inplace=True)\n",
        "df.rename(columns={'ocorrencia_aerodromo':'aerodromo','ocorrencia_dia':'data','ocorrencia_hora':'horario','total_aeronaves_envolvidas':'n_aeronaves','ocorrencia_saida_pista':'saida_pista'},inplace=True)"
      ],
      "metadata": {
        "id": "bVdeG9xcr7cB"
      },
      "execution_count": null,
      "outputs": []
    },
    {
      "cell_type": "code",
      "source": [
        "df.replace(['***','**NI'],pd.NA,inplace=True)"
      ],
      "metadata": {
        "id": "FDdW23tor9GI"
      },
      "execution_count": null,
      "outputs": []
    },
    {
      "cell_type": "code",
      "source": [
        "df.replace(pd.NA,np.NaN,inplace=True)"
      ],
      "metadata": {
        "id": "6snMXQiXsHIZ"
      },
      "execution_count": null,
      "outputs": []
    },
    {
      "cell_type": "code",
      "source": [
        "df.shape"
      ],
      "metadata": {
        "colab": {
          "base_uri": "https://localhost:8080/"
        },
        "id": "HtM2nZXQs4dB",
        "outputId": "647bbc2d-a72c-47ea-9661-8014daa7be91"
      },
      "execution_count": null,
      "outputs": [
        {
          "output_type": "execute_result",
          "data": {
            "text/plain": [
              "(6769, 11)"
            ]
          },
          "metadata": {},
          "execution_count": 87
        }
      ]
    }
  ]
}