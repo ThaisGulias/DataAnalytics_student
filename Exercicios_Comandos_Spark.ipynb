{
  "nbformat": 4,
  "nbformat_minor": 0,
  "metadata": {
    "colab": {
      "provenance": [],
      "include_colab_link": true
    },
    "kernelspec": {
      "name": "python3",
      "display_name": "Python 3"
    },
    "language_info": {
      "name": "python"
    }
  },
  "cells": [
    {
      "cell_type": "markdown",
      "metadata": {
        "id": "view-in-github",
        "colab_type": "text"
      },
      "source": [
        "<a href=\"https://colab.research.google.com/github/thaisgulias/DataAnalytics_student/blob/main/Exercicios_Comandos_Spark.ipynb\" target=\"_parent\"><img src=\"https://colab.research.google.com/assets/colab-badge.svg\" alt=\"Open In Colab\"/></a>"
      ]
    },
    {
      "cell_type": "code",
      "execution_count": null,
      "metadata": {
        "colab": {
          "base_uri": "https://localhost:8080/"
        },
        "id": "Bsk4pk7DqCsz",
        "outputId": "4bc91455-5c60-4c61-b227-afe214669f81"
      },
      "outputs": [
        {
          "output_type": "stream",
          "name": "stdout",
          "text": [
            "Looking in indexes: https://pypi.org/simple, https://us-python.pkg.dev/colab-wheels/public/simple/\n",
            "Collecting pyspark\n",
            "  Downloading pyspark-3.4.0.tar.gz (310.8 MB)\n",
            "\u001b[2K     \u001b[90m━━━━━━━━━━━━━━━━━━━━━━━━━━━━━━━━━━━━━━━\u001b[0m \u001b[32m310.8/310.8 MB\u001b[0m \u001b[31m3.6 MB/s\u001b[0m eta \u001b[36m0:00:00\u001b[0m\n",
            "\u001b[?25h  Preparing metadata (setup.py) ... \u001b[?25l\u001b[?25hdone\n",
            "Requirement already satisfied: py4j==0.10.9.7 in /usr/local/lib/python3.9/dist-packages (from pyspark) (0.10.9.7)\n",
            "Building wheels for collected packages: pyspark\n",
            "  Building wheel for pyspark (setup.py) ... \u001b[?25l\u001b[?25hdone\n",
            "  Created wheel for pyspark: filename=pyspark-3.4.0-py2.py3-none-any.whl size=311317145 sha256=61ca6740ad8ce80f461b94bc70dedd29bf9c17797d1a418a2a527e70c5e19418\n",
            "  Stored in directory: /root/.cache/pip/wheels/9f/34/a4/159aa12d0a510d5ff7c8f0220abbea42e5d81ecf588c4fd884\n",
            "Successfully built pyspark\n",
            "Installing collected packages: pyspark\n",
            "Successfully installed pyspark-3.4.0\n"
          ]
        }
      ],
      "source": [
        "!pip install pyspark"
      ]
    },
    {
      "cell_type": "code",
      "source": [
        "from pyspark.sql import SparkSession\n",
        "import pyspark.sql.functions as F\n",
        "import pandas as pd\n",
        "import numpy as np\n",
        "from pyspark.sql.types import IntegerType, FloatType, DoubleType"
      ],
      "metadata": {
        "id": "s4Upl8P8qTx6"
      },
      "execution_count": null,
      "outputs": []
    },
    {
      "cell_type": "code",
      "source": [
        "spark = (SparkSession.builder\n",
        "                     .master('local')\n",
        "                     .appName('spotify')\n",
        "                     .config('spark.ui.port', '4050')\n",
        "                     .getOrCreate())"
      ],
      "metadata": {
        "id": "pKq7Yv5AqpuQ"
      },
      "execution_count": null,
      "outputs": []
    },
    {
      "cell_type": "code",
      "source": [
        "df = (spark.read\n",
        "           .format('csv')\n",
        "           .option('delimiter', ',')\n",
        "           .option('header', 'true')\n",
        "           .option('inferschema', 'true')\n",
        "           .option('encoding', 'utf-8')\n",
        "           .option('escape','\"')\n",
        "           .load('/content/drive/MyDrive/SOULCODE/spotify .csv')\n",
        "           )"
      ],
      "metadata": {
        "id": "oXbeae3lrBGb"
      },
      "execution_count": null,
      "outputs": []
    },
    {
      "cell_type": "code",
      "source": [
        "print(f'({df.count()}, {len(df.columns)})')"
      ],
      "metadata": {
        "colab": {
          "base_uri": "https://localhost:8080/"
        },
        "id": "7NWfj850rjPl",
        "outputId": "cb37639e-9d06-4179-f051-21df41549dcf"
      },
      "execution_count": null,
      "outputs": [
        {
          "output_type": "stream",
          "name": "stdout",
          "text": [
            "(18835, 16)\n"
          ]
        }
      ]
    },
    {
      "cell_type": "code",
      "source": [
        "df.printSchema()"
      ],
      "metadata": {
        "colab": {
          "base_uri": "https://localhost:8080/"
        },
        "id": "y5CWCAHirgE8",
        "outputId": "458dcec5-3b3f-47f6-f348-c0939fc9cb6a"
      },
      "execution_count": null,
      "outputs": [
        {
          "output_type": "stream",
          "name": "stdout",
          "text": [
            "root\n",
            " |-- _c0: integer (nullable = true)\n",
            " |-- song_name: string (nullable = true)\n",
            " |-- song_popularity: string (nullable = true)\n",
            " |-- song_duration_ms: string (nullable = true)\n",
            " |-- acousticness: string (nullable = true)\n",
            " |-- danceability: string (nullable = true)\n",
            " |-- energy: string (nullable = true)\n",
            " |-- instrumentalness: string (nullable = true)\n",
            " |-- key: double (nullable = true)\n",
            " |-- liveness: string (nullable = true)\n",
            " |-- loudness: string (nullable = true)\n",
            " |-- audio_mode: string (nullable = true)\n",
            " |-- speechiness: string (nullable = true)\n",
            " |-- tempo: string (nullable = true)\n",
            " |-- time_signature: string (nullable = true)\n",
            " |-- audio_valence: double (nullable = true)\n",
            "\n"
          ]
        }
      ]
    },
    {
      "cell_type": "code",
      "source": [
        "df.show(truncate=False)"
      ],
      "metadata": {
        "colab": {
          "base_uri": "https://localhost:8080/"
        },
        "id": "U67XIKfErh-7",
        "outputId": "9da578cc-cc97-4005-91b1-36b21b3bf767"
      },
      "execution_count": null,
      "outputs": [
        {
          "output_type": "stream",
          "name": "stdout",
          "text": [
            "+---+--------------------------+---------------+----------------+----------------------+-----------------------+------------------+---------------------+----+-------------------+-------------------+----------+--------------------+-------+--------------+------------------+\n",
            "|_c0|song_name                 |song_popularity|song_duration_ms|acousticness          |danceability           |energy            |instrumentalness     |key |liveness           |loudness           |audio_mode|speechiness         |tempo  |time_signature|audio_valence     |\n",
            "+---+--------------------------+---------------+----------------+----------------------+-----------------------+------------------+---------------------+----+-------------------+-------------------+----------+--------------------+-------+--------------+------------------+\n",
            "|0  |Boulevard of Broken Dreams|73             |262333          |0.005520000000000001kg|0.496mol/L             |0.682             |2.94e-05             |8.0 |0.0589             |-4.095             |1         |0.0294              |167.06 |4             |0.474             |\n",
            "|1  |In The End                |66             |216933          |0.0103kg              |0.542mol/L             |0.853             |0.0                  |3.0 |0.108              |-6.407             |0         |0.0498              |105.256|4             |0.37              |\n",
            "|2  |Seven Nation Army         |76             |231733          |0.00817kg             |0.737mol/L             |0.463             |0.447                |0.0 |0.255              |-7.8279999999999985|1         |0.0792              |123.881|4             |0.324             |\n",
            "|3  |By The Way                |74             |216933          |0.0264kg              |0.451mol/L             |0.97              |0.00355              |0.0 |0.102              |-4.938             |1         |0.107               |122.444|4             |0.198             |\n",
            "|4  |How You Remind Me         |56             |223826          |0.000954kg            |0.447mol/L             |0.7659999999999999|0.0                  |10.0|0.113              |-5.065             |1         |0.0313              |172.011|4             |0.574             |\n",
            "|5  |Bring Me To Life          |80             |235893          |0.00895kg             |0.316mol/L             |0.945             |1.85e-06             |4.0 |0.396              |-3.169             |0         |0.124               |189.931|4             |0.32              |\n",
            "|6  |Last Resort               |81             |199893          |0.000504kg            |0.581mol/L             |0.887             |0.00111              |4.0 |0.268              |-3.659             |0         |0.0624              |90.578 |4             |0.7240000000000001|\n",
            "|7  |Are You Gonna Be My Girl  |76             |213800          |0.00148kg             |0.613mol/L             |0.953             |0.000582             |2.0 |0.152              |-3.435             |1         |0.0855              |105.046|4             |0.537             |\n",
            "|8  |Mr. Brightside            |80             |222586          |0.00108kg             |0.33mol/L              |0.936             |0.0                  |1.0 |0.0926             |-3.66              |1         |0.0917              |148.112|4             |0.234             |\n",
            "|9  |Sex on Fire               |81             |203346          |0.00172kg             |0.542mol/L             |0.905             |0.0104               |9.0 |0.136              |-5.653             |1         |0.054000000000000006|153.398|4             |0.374             |\n",
            "|10 |The Middle                |78             |168253          |0.0424kg              |0.629mol/L             |0.897             |0.0                  |2.0 |0.263              |-3.401             |1         |0.0483              |161.944|4             |0.93              |\n",
            "|11 |Numb                      |63             |185586          |0.0046kg              |0.496mol/L             |0.863             |0.0                  |9.0 |0.639              |-4.1530000000000005|1         |0.0381              |110.018|4             |0.243             |\n",
            "|12 |Smooth Criminal           |75             |209266          |0.00434kg             |0.647mol/L             |0.964             |0.0036               |9.0 |0.15               |-4.225             |0         |0.06                |126.942|4             |0.875             |\n",
            "|13 |Can't Stop                |81             |269000          |0.0179kg              |0.618mol/L             |0.938             |0.0                  |9.0 |0.16699999999999998|-3.442             |1         |0.0456              |91.455 |4             |0.875             |\n",
            "|14 |Chop Suey!                |69             |210240          |0.000353kg            |0.42mol/L              |0.929             |0.0007469999999999999|7.0 |0.122              |-3.899             |0         |0.121               |127.204|4             |0.3               |\n",
            "|15 |Take Me Out               |77             |237026          |0.000423kg            |0.278mol/L             |0.6759999999999999|0.0008990000000000002|9.0 |0.136              |-8.821             |1         |0.0371              |104.545|4             |0.494             |\n",
            "|16 |I Miss You                |71             |227240          |0.00136kg             |0.659mol/L             |0.778             |6.79e-06             |11.0|0.0841             |-6.422999999999999 |1         |0.0379              |110.022|4             |0.623             |\n",
            "|17 |Best of You               |62             |256600          |0.00701kg             |0.37mol/L              |0.944             |2.9e-06              |1.0 |0.135              |-4.979             |0         |0.0767              |130.315|4             |0.345             |\n",
            "|18 |I Write Sins Not Tragedies|77             |187613          |0.0938kg              |0.5670000000000001mol/L|0.795             |0.0                  |9.0 |0.114              |-4.985             |0         |0.134               |170.06 |4             |0.635             |\n",
            "|19 |Kryptonite                |79             |233933          |0.006640000000000001kg|0.545mol/L             |0.865             |1.12e-05             |11.0|0.168              |-5.707999999999998 |0         |0.0286              |99.01  |4             |0.5429999999999999|\n",
            "+---+--------------------------+---------------+----------------+----------------------+-----------------------+------------------+---------------------+----+-------------------+-------------------+----------+--------------------+-------+--------------+------------------+\n",
            "only showing top 20 rows\n",
            "\n"
          ]
        }
      ]
    },
    {
      "cell_type": "code",
      "source": [
        "#Quantidade de registros do dataframe\n",
        "qtd_registros = df.count()"
      ],
      "metadata": {
        "id": "85lUne5Qtyy0"
      },
      "execution_count": null,
      "outputs": []
    },
    {
      "cell_type": "code",
      "source": [
        "df.drop(F.col('_c0')).filter(F.col('song_name') == 'TEST DRIVE').drop_duplicates().show(truncate=False)"
      ],
      "metadata": {
        "colab": {
          "base_uri": "https://localhost:8080/"
        },
        "id": "6JhCSoK-yi63",
        "outputId": "f535db59-b444-4ff3-874e-1353e0e79ecb"
      },
      "execution_count": null,
      "outputs": [
        {
          "output_type": "stream",
          "name": "stdout",
          "text": [
            "+----------+---------------+----------------+------------+-----------------------+------+----------------+---+--------+--------+----------+-----------+-----------------+--------------+-------------+\n",
            "|song_name |song_popularity|song_duration_ms|acousticness|danceability           |energy|instrumentalness|key|liveness|loudness|audio_mode|speechiness|tempo            |time_signature|audio_valence|\n",
            "+----------+---------------+----------------+------------+-----------------------+------+----------------+---+--------+--------+----------+-----------+-----------------+--------------+-------------+\n",
            "|TEST DRIVE|71             |179423          |0.71kg      |0.6459999999999999mol/L|0.648 |0.00316         |3.0|0.108   |-8.602  |1         |0.0372     |75.00399999999998|4             |0.466        |\n",
            "+----------+---------------+----------------+------------+-----------------------+------+----------------+---+--------+--------+----------+-----------+-----------------+--------------+-------------+\n",
            "\n"
          ]
        }
      ]
    },
    {
      "cell_type": "code",
      "source": [
        "df.select('song_name').distinct().count()"
      ],
      "metadata": {
        "colab": {
          "base_uri": "https://localhost:8080/"
        },
        "id": "jfiLUScWvXTi",
        "outputId": "9d3286f6-c452-49a7-b6b9-e563a0452983"
      },
      "execution_count": null,
      "outputs": [
        {
          "output_type": "execute_result",
          "data": {
            "text/plain": [
              "13070"
            ]
          },
          "metadata": {},
          "execution_count": 20
        }
      ]
    },
    {
      "cell_type": "code",
      "source": [
        "#EXISTE ALGUM REGISTRO DUPLICADO?\n",
        "qtd_sem_duplicados = df.drop(F.col('_c0')).drop_duplicates().count()"
      ],
      "metadata": {
        "id": "Oj3PTHIut50n"
      },
      "execution_count": null,
      "outputs": []
    },
    {
      "cell_type": "code",
      "source": [
        "total_duplicados = qtd_registros - qtd_sem_duplicados"
      ],
      "metadata": {
        "id": "rDX0WOYDu3Ij"
      },
      "execution_count": null,
      "outputs": []
    },
    {
      "cell_type": "code",
      "source": [
        "print(f'Total de linhas duplicadas: {total_duplicados}')"
      ],
      "metadata": {
        "colab": {
          "base_uri": "https://localhost:8080/"
        },
        "id": "Yrj7xadzu9gb",
        "outputId": "6cfd701e-e8d9-4ec2-d993-e3a6b51d95b5"
      },
      "execution_count": null,
      "outputs": [
        {
          "output_type": "stream",
          "name": "stdout",
          "text": [
            "Total de linhas duplicadas: 3903\n"
          ]
        }
      ]
    },
    {
      "cell_type": "code",
      "source": [
        "df = df.drop(F.col('_c0'))"
      ],
      "metadata": {
        "id": "DnFfFSdPzLpM"
      },
      "execution_count": null,
      "outputs": []
    },
    {
      "cell_type": "code",
      "source": [
        "#AQUI ESTAMOS REMOVENDOS VALORES DUPLICADOS, QUE SÃO INCONSISTÊNCIAS NO MEU DATASET\n",
        "df = df.drop_duplicates()"
      ],
      "metadata": {
        "id": "FyfMICi6zUga"
      },
      "execution_count": null,
      "outputs": []
    },
    {
      "cell_type": "code",
      "source": [
        "df.count()"
      ],
      "metadata": {
        "colab": {
          "base_uri": "https://localhost:8080/"
        },
        "id": "M043HV0azZ6e",
        "outputId": "c6dcdbb6-db7d-4b2b-b840-38893b14a701"
      },
      "execution_count": null,
      "outputs": [
        {
          "output_type": "execute_result",
          "data": {
            "text/plain": [
              "14932"
            ]
          },
          "metadata": {},
          "execution_count": 28
        }
      ]
    },
    {
      "cell_type": "code",
      "source": [
        "df.show(truncate=False)"
      ],
      "metadata": {
        "colab": {
          "base_uri": "https://localhost:8080/"
        },
        "id": "hhpyGlI7zjek",
        "outputId": "fae21e42-11ce-4818-8278-392047f5efad"
      },
      "execution_count": null,
      "outputs": [
        {
          "output_type": "stream",
          "name": "stdout",
          "text": [
            "+---------------------------+---------------+----------------+-----------------------+------------------------+------------------+----------------------+----+-------------------+--------+----------+-----------+------------------+--------------+-------------------+\n",
            "|song_name                  |song_popularity|song_duration_ms|acousticness           |danceability            |energy            |instrumentalness      |key |liveness           |loudness|audio_mode|speechiness|tempo             |time_signature|audio_valence      |\n",
            "+---------------------------+---------------+----------------+-----------------------+------------------------+------------------+----------------------+----+-------------------+--------+----------+-----------+------------------+--------------+-------------------+\n",
            "|Sk8er Boi                  |67             |204000          |6.790000000000001e-05kg|0.487mol/L              |0.9               |0.0                   |0.0 |0.358              |-4.417  |1         |0.0482     |149.937           |4             |0.484              |\n",
            "|Whenever, Wherever         |76             |196160          |0.236kg                |0.7929999999999999mol/L |0.8320000000000001|1.12e-05              |1.0 |0.202              |-4.862  |0         |0.0406     |107.661           |4             |0.872              |\n",
            "|Paloma negra               |50             |195533          |0.853kg                |0.39mol/L               |0.263             |0.0                   |2.0 |0.219              |-6.851  |1         |0.0394     |80.332            |1             |0.446              |\n",
            "|White Room                 |71             |303200          |0.23kg                 |0.547mol/L              |0.58              |0.00877               |2.0 |0.0569             |-13.415 |0         |0.0293     |109.827           |4             |0.505              |\n",
            "|Billie Jean                |84             |293826          |0.0236kg               |0.92mol/L               |0.654             |0.0158                |11.0|0.0359             |-3.051  |0         |0.0401     |117.046           |4             |0.847              |\n",
            "|Real Wild Child (Wild One) |34             |218400          |0.00182kg              |0.5660000000000001mol/L |0.926             |0.122                 |4.0 |0.281              |-7.099  |1         |0.0327     |146.27100000000004|4             |0.963              |\n",
            "|Don't Stop Believin'       |58             |249653          |0.242kg                |0.49mol/L               |0.723             |0.0                   |4.0 |0.371              |-9.699  |1         |0.0408     |119.022           |4             |0.485              |\n",
            "|Better Together            |32             |200706          |0.649kg                |0.79mol/L               |0.3               |0.0                   |5.0 |0.14               |-10.597 |1         |0.0622     |110.187           |4             |0.49               |\n",
            "|Shadows Inside             |59             |236549          |4.27e-06kg             |0.3670000000000001mol/L |0.972             |1.0800000000000003e-05|10.0|0.153              |-4.08   |0         |0.192      |179.959           |4             |0.29600000000000004|\n",
            "|Master Groove              |65             |179439          |0.5539999999999999kg   |0.833mol/L              |0.804             |0.000629              |4.0 |0.07400000000000001|-3.742  |0         |0.0938     |106.005           |4             |0.63               |\n",
            "|Don't Stop The Music       |52             |185080          |0.095kg                |0.8320000000000001mol/L |0.6729999999999999|0.0                   |1.0 |0.201              |-6.478  |0         |0.115      |124.987           |4             |0.84               |\n",
            "|9 Times Out Of 10          |41             |185517          |0.613kg                |0.7929999999999999mol/L |0.639             |0.0                   |9.0 |0.108              |-6.574  |0         |0.38       |97.199            |4             |0.78               |\n",
            "|Seven Nation Army          |81             |231920          |0.006659999999999999kg |0.745mol/L              |0.466             |0.35                  |4.0 |0.272              |-7.62   |0         |0.0864     |123.889           |4             |0.303              |\n",
            "|Rescue Me - Single Version |23             |172013          |0.6779999999999999kg   |0.728mol/L              |0.528             |9.62e-06              |7.0 |0.118              |-9.711  |1         |0.0356     |122.079           |4             |0.963              |\n",
            "|Go Your Own Way            |30             |218400          |0.0219kg               |0.597mol/L              |0.812             |0.00106               |5.0 |0.102              |-12.062 |1         |0.0315     |135.68            |4             |0.823              |\n",
            "|Losing                     |60             |225780          |0.339kg                |0.422mol/L              |0.349             |0.00024               |4.0 |0.108              |-12.424 |0         |0.315      |57.0              |4             |0.134              |\n",
            "|The Rat                    |58             |262106          |0.000151kg             |0.17600000000000002mol/L|0.917             |0.0728                |6.0 |0.235              |-4.884  |0         |0.0635     |168.197           |4             |0.325              |\n",
            "|Los Ageless                |64             |281346          |0.0698kg               |0.527mol/L              |0.716             |8.71e-05              |5.0 |0.0737             |-6.029  |0         |0.0616     |99.426            |4             |0.331              |\n",
            "|Shame                      |49             |249706          |0.0014kg               |0.522mol/L              |0.845             |0.359                 |0.0 |0.0922             |-1.828  |1         |0.0345     |158.965           |4             |0.728              |\n",
            "|Can't Seem To Make You Mine|52             |185480          |0.14800000000000002kg  |0.6990000000000001mol/L |0.384             |0.0                   |7.0 |0.121              |-13.691 |1         |0.044      |109.573           |4             |0.584              |\n",
            "+---------------------------+---------------+----------------+-----------------------+------------------------+------------------+----------------------+----+-------------------+--------+----------+-----------+------------------+--------------+-------------------+\n",
            "only showing top 20 rows\n",
            "\n"
          ]
        }
      ]
    },
    {
      "cell_type": "code",
      "source": [
        "#VERIFICAR O SUMMARY\n",
        "df.summary().show()"
      ],
      "metadata": {
        "colab": {
          "base_uri": "https://localhost:8080/"
        },
        "id": "a7QypE41z0hl",
        "outputId": "96861f20-c527-4606-cedf-bc1f77b69740"
      },
      "execution_count": null,
      "outputs": [
        {
          "output_type": "stream",
          "name": "stdout",
          "text": [
            "+-------+--------------------+------------------+--------------------+------------+------------+-------------------+-------------------+------------------+------------------+-------------------+-------------------+-------------------+------------------+-------------------+------------------+\n",
            "|summary|           song_name|   song_popularity|    song_duration_ms|acousticness|danceability|             energy|   instrumentalness|               key|          liveness|           loudness|         audio_mode|        speechiness|             tempo|     time_signature|     audio_valence|\n",
            "+-------+--------------------+------------------+--------------------+------------+------------+-------------------+-------------------+------------------+------------------+-------------------+-------------------+-------------------+------------------+-------------------+------------------+\n",
            "|  count|               14932|             14932|               14932|       14932|       14932|              14932|              14932|             14932|             14932|              14932|              14932|              14932|             14932|              14932|             14931|\n",
            "|   mean|  1129.1927027027027|48.758004018754185|-1.24075010663344...|    200466.0|        0.36| 0.6397236148693921|0.09276990867046231| 5.299971671577819|0.1804808882636666|-7.6768031612082375| 0.6314417654544238|0.10594171857209839|121.09313565065898| 187533.26017748308|0.5272363338021533|\n",
            "| stddev|   860.3999787393738|20.380263136066898|1.516370758099607...|        null|        null|0.22180492140363411|0.25380592899292126|3.5934069506007575|0.1806793107044516|  4.020475580867152|0.48537349827481596| 0.8031549833472481| 29.07781332883742|2.291466872081145E7|0.2493790400322947|\n",
            "|    min|\"\"\"40\"\" - Live Ve...|            USA\"\"\"|     -18528908788662|  0.000101kg| 0.0594mol/L|                0.0|                0.0|               0.0|            -8.575|             -0.257| -6.047999999999999|                  0|               0.0|                  0|               0.0|\n",
            "|    25%|               123.0|              37.0|            183931.0|    200466.0|        0.36|              0.496|                0.0|               2.0|             0.093|              -9.39|                0.0|             0.0372|            98.117|                4.0|             0.332|\n",
            "|    50%|              1412.0|              52.0|            211840.0|    200466.0|        0.36|              0.672|            2.07E-5|               5.0|             0.122|             -6.751|                1.0|             0.0541|           120.016|                4.0|             0.527|\n",
            "|    75%|              1975.0|              64.0|            244720.0|    200466.0|        0.36|              0.818|            0.00511|               8.0|             0.224|             -4.989|                1.0|              0.113|           139.941|                4.0|             0.728|\n",
            "|    max|          피 땀 눈물|           nao_sei|               99775|  9.85e-05kg|    0.9mol/L|            nao_sei|            nao_sei|              11.0|           nao_sei|            nao_sei|            nao_sei|              97.42|           nao_sei|            nao_sei|               4.0|\n",
            "+-------+--------------------+------------------+--------------------+------------+------------+-------------------+-------------------+------------------+------------------+-------------------+-------------------+-------------------+------------------+-------------------+------------------+\n",
            "\n"
          ]
        }
      ]
    },
    {
      "cell_type": "code",
      "source": [
        "df.select(F.col('acousticness')).withColumn('acustica', F.regexp_replace('acousticness', 'kg', '')).show()"
      ],
      "metadata": {
        "id": "4xD1dqFa0RCV"
      },
      "execution_count": null,
      "outputs": []
    },
    {
      "cell_type": "code",
      "source": [
        "#2ª INCONSISTÊNCIA - REMOVER O kg DA VARIÁVEL ACOUSTICNESS\n",
        "df = df.withColumn('acustica', F.regexp_replace('acousticness', 'kg', ''))"
      ],
      "metadata": {
        "id": "gXXgArmR2Oae"
      },
      "execution_count": null,
      "outputs": []
    },
    {
      "cell_type": "code",
      "source": [
        "df = df.drop(F.col('acousticness'))"
      ],
      "metadata": {
        "id": "f6s1pWfQ6YvP"
      },
      "execution_count": null,
      "outputs": []
    },
    {
      "cell_type": "code",
      "source": [
        "df.show()"
      ],
      "metadata": {
        "colab": {
          "base_uri": "https://localhost:8080/"
        },
        "id": "i8X2aRpE6it1",
        "outputId": "12d97b80-4ebe-4254-cdb6-3af0cfbbcab6"
      },
      "execution_count": null,
      "outputs": [
        {
          "output_type": "stream",
          "name": "stdout",
          "text": [
            "+--------------------+---------------+----------------+-------------------+------------------+--------------------+----+-------------------+--------+----------+-----------+------------------+--------------+-------------------+--------------------+\n",
            "|           song_name|song_popularity|song_duration_ms|       danceability|            energy|    instrumentalness| key|           liveness|loudness|audio_mode|speechiness|             tempo|time_signature|      audio_valence|            acustica|\n",
            "+--------------------+---------------+----------------+-------------------+------------------+--------------------+----+-------------------+--------+----------+-----------+------------------+--------------+-------------------+--------------------+\n",
            "|           Sk8er Boi|             67|          204000|              0.487|               0.9|                 0.0| 0.0|              0.358|  -4.417|         1|     0.0482|           149.937|             4|              0.484|6.790000000000001...|\n",
            "|  Whenever, Wherever|             76|          196160| 0.7929999999999999|0.8320000000000001|            1.12e-05| 1.0|              0.202|  -4.862|         0|     0.0406|           107.661|             4|              0.872|               0.236|\n",
            "|        Paloma negra|             50|          195533|               0.39|             0.263|                 0.0| 2.0|              0.219|  -6.851|         1|     0.0394|            80.332|             1|              0.446|               0.853|\n",
            "|          White Room|             71|          303200|              0.547|              0.58|             0.00877| 2.0|             0.0569| -13.415|         0|     0.0293|           109.827|             4|              0.505|                0.23|\n",
            "|         Billie Jean|             84|          293826|               0.92|             0.654|              0.0158|11.0|             0.0359|  -3.051|         0|     0.0401|           117.046|             4|              0.847|              0.0236|\n",
            "|Real Wild Child (...|             34|          218400| 0.5660000000000001|             0.926|               0.122| 4.0|              0.281|  -7.099|         1|     0.0327|146.27100000000004|             4|              0.963|             0.00182|\n",
            "|Don't Stop Believin'|             58|          249653|               0.49|             0.723|                 0.0| 4.0|              0.371|  -9.699|         1|     0.0408|           119.022|             4|              0.485|               0.242|\n",
            "|     Better Together|             32|          200706|               0.79|               0.3|                 0.0| 5.0|               0.14| -10.597|         1|     0.0622|           110.187|             4|               0.49|               0.649|\n",
            "|      Shadows Inside|             59|          236549| 0.3670000000000001|             0.972|1.080000000000000...|10.0|              0.153|   -4.08|         0|      0.192|           179.959|             4|0.29600000000000004|            4.27e-06|\n",
            "|       Master Groove|             65|          179439|              0.833|             0.804|            0.000629| 4.0|0.07400000000000001|  -3.742|         0|     0.0938|           106.005|             4|               0.63|  0.5539999999999999|\n",
            "|Don't Stop The Music|             52|          185080| 0.8320000000000001|0.6729999999999999|                 0.0| 1.0|              0.201|  -6.478|         0|      0.115|           124.987|             4|               0.84|               0.095|\n",
            "|   9 Times Out Of 10|             41|          185517| 0.7929999999999999|             0.639|                 0.0| 9.0|              0.108|  -6.574|         0|       0.38|            97.199|             4|               0.78|               0.613|\n",
            "|   Seven Nation Army|             81|          231920|              0.745|             0.466|                0.35| 4.0|              0.272|   -7.62|         0|     0.0864|           123.889|             4|              0.303|0.006659999999999999|\n",
            "|Rescue Me - Singl...|             23|          172013|              0.728|             0.528|            9.62e-06| 7.0|              0.118|  -9.711|         1|     0.0356|           122.079|             4|              0.963|  0.6779999999999999|\n",
            "|     Go Your Own Way|             30|          218400|              0.597|             0.812|             0.00106| 5.0|              0.102| -12.062|         1|     0.0315|            135.68|             4|              0.823|              0.0219|\n",
            "|              Losing|             60|          225780|              0.422|             0.349|             0.00024| 4.0|              0.108| -12.424|         0|      0.315|              57.0|             4|              0.134|               0.339|\n",
            "|             The Rat|             58|          262106|0.17600000000000002|             0.917|              0.0728| 6.0|              0.235|  -4.884|         0|     0.0635|           168.197|             4|              0.325|            0.000151|\n",
            "|         Los Ageless|             64|          281346|              0.527|             0.716|            8.71e-05| 5.0|             0.0737|  -6.029|         0|     0.0616|            99.426|             4|              0.331|              0.0698|\n",
            "|               Shame|             49|          249706|              0.522|             0.845|               0.359| 0.0|             0.0922|  -1.828|         1|     0.0345|           158.965|             4|              0.728|              0.0014|\n",
            "|Can't Seem To Mak...|             52|          185480| 0.6990000000000001|             0.384|                 0.0| 7.0|              0.121| -13.691|         1|      0.044|           109.573|             4|              0.584| 0.14800000000000002|\n",
            "+--------------------+---------------+----------------+-------------------+------------------+--------------------+----+-------------------+--------+----------+-----------+------------------+--------------+-------------------+--------------------+\n",
            "only showing top 20 rows\n",
            "\n"
          ]
        }
      ]
    },
    {
      "cell_type": "code",
      "source": [
        "#3ª INCONSISTÊNCIA - REMOVER O mol/L DA VARIÁVEL ACOUSTICNESS\n",
        "df = df.withColumn('danceability', F.regexp_replace('danceability', 'mol/L', ''))"
      ],
      "metadata": {
        "id": "GtaEf-ZP6nR0"
      },
      "execution_count": null,
      "outputs": []
    },
    {
      "cell_type": "code",
      "source": [
        "df.select('song_popularity').summary().show()"
      ],
      "metadata": {
        "colab": {
          "base_uri": "https://localhost:8080/"
        },
        "id": "nj_Z1pGv7AZb",
        "outputId": "db5676db-bfe2-44cd-aae7-10113b29e351"
      },
      "execution_count": null,
      "outputs": [
        {
          "output_type": "stream",
          "name": "stdout",
          "text": [
            "+-------+------------------+\n",
            "|summary|   song_popularity|\n",
            "+-------+------------------+\n",
            "|  count|             14932|\n",
            "|   mean| 48.75768535262206|\n",
            "| stddev|20.379617796732845|\n",
            "|    min|                 0|\n",
            "|    25%|              37.0|\n",
            "|    50%|              52.0|\n",
            "|    75%|              64.0|\n",
            "|    max|           nao_sei|\n",
            "+-------+------------------+\n",
            "\n"
          ]
        }
      ]
    },
    {
      "cell_type": "code",
      "source": [
        "#função que remove strings\n",
        "\n",
        "def remove_strings_inplace(df, colunas):\n",
        "    # itera sobre as colunas especificadas e aplica a transformação em cada uma\n",
        "    for column in colunas:\n",
        "        df = df.withColumn(column, F.regexp_replace(F.col(column), \"[^0-9.eE-]\", \"\"))\n",
        "    return df\n",
        "#chama a função passando de parâmetro o df e a lista criada"
      ],
      "metadata": {
        "id": "prcuA6yX8sa4"
      },
      "execution_count": null,
      "outputs": []
    },
    {
      "cell_type": "code",
      "source": [
        "colunas = df.drop(F.col('song_name')).columns"
      ],
      "metadata": {
        "id": "rdhG1rjcAKas"
      },
      "execution_count": null,
      "outputs": []
    },
    {
      "cell_type": "code",
      "source": [
        "df = remove_strings_inplace(df, colunas)"
      ],
      "metadata": {
        "id": "6XaW_dlzAHQp"
      },
      "execution_count": null,
      "outputs": []
    },
    {
      "cell_type": "code",
      "source": [
        "#VERIFICAR OS não_sei DA COLUNA song_popularity\n",
        "df.filter(F.col('instrumentalness').contains('nao')).show()"
      ],
      "metadata": {
        "colab": {
          "base_uri": "https://localhost:8080/"
        },
        "id": "RgRvGdwkJWhp",
        "outputId": "8e5434c0-4297-4186-c3e4-ec8a56a0a4a2"
      },
      "execution_count": null,
      "outputs": [
        {
          "output_type": "stream",
          "name": "stdout",
          "text": [
            "+--------------------+---------------+----------------+------------+------------------+------+----------------+----+--------+-------------------+----------+-----------+------+--------------+-------------+\n",
            "|           song_name|song_popularity|song_duration_ms|acousticness|      danceability|energy|instrumentalness| key|liveness|           loudness|audio_mode|speechiness| tempo|time_signature|audio_valence|\n",
            "+--------------------+---------------+----------------+------------+------------------+------+----------------+----+--------+-------------------+----------+-----------+------+--------------+-------------+\n",
            "|Love Will Tear Us...|             60|          223340|     0.951kg|             0.375| 0.217|         nao_sei| 3.0|   0.107|-12.425999999999998|         1|     0.0344|96.239|             3|        0.139|\n",
            "|     Sunny Came Home|             62|          264200|     0.344kg|0.5539999999999999|  0.58|         nao_sei|11.0|  0.0989|              -8.05|         0|     0.0322|167.83|             4|        0.402|\n",
            "+--------------------+---------------+----------------+------------+------------------+------+----------------+----+--------+-------------------+----------+-----------+------+--------------+-------------+\n",
            "\n"
          ]
        }
      ]
    },
    {
      "cell_type": "code",
      "source": [
        "df = df.replace('nao_sei', None)\n",
        "df = df.replace('0.nao_sei', None)\n",
        "df = df.dropna(how='any')"
      ],
      "metadata": {
        "id": "gx5St3FSMsGy"
      },
      "execution_count": null,
      "outputs": []
    },
    {
      "cell_type": "code",
      "source": [
        "#VERIFICAR A QUANTIDADE DE VALORES NULOS NO DATAFRAME\n",
        "df.select([F.count(F.when(F.isnan(c) | F.col(c).isNull(), c)).alias(c) for c in df.columns]).show()"
      ],
      "metadata": {
        "colab": {
          "base_uri": "https://localhost:8080/"
        },
        "id": "trLfIPPC7UKb",
        "outputId": "8f5f3d41-0dc2-4225-fddc-8794c6d17924"
      },
      "execution_count": null,
      "outputs": [
        {
          "output_type": "stream",
          "name": "stdout",
          "text": [
            "+---------+---------------+----------------+------------+------------+------+----------------+---+--------+--------+----------+-----------+-----+--------------+-------------+\n",
            "|song_name|song_popularity|song_duration_ms|acousticness|danceability|energy|instrumentalness|key|liveness|loudness|audio_mode|speechiness|tempo|time_signature|audio_valence|\n",
            "+---------+---------------+----------------+------------+------------+------+----------------+---+--------+--------+----------+-----------+-----+--------------+-------------+\n",
            "|        0|              0|               0|           0|           0|     0|               0|  0|       0|       0|         0|          0|    0|             0|            0|\n",
            "+---------+---------------+----------------+------------+------------+------+----------------+---+--------+--------+----------+-----------+-----+--------------+-------------+\n",
            "\n"
          ]
        }
      ]
    },
    {
      "cell_type": "code",
      "source": [
        "df.select(F.col('instrumentalness')).summary().show()"
      ],
      "metadata": {
        "colab": {
          "base_uri": "https://localhost:8080/"
        },
        "id": "E5ltySTLA3XQ",
        "outputId": "a680275c-20cf-4eb5-90f1-c26e8fc30ef2"
      },
      "execution_count": null,
      "outputs": [
        {
          "output_type": "stream",
          "name": "stdout",
          "text": [
            "+-------+-------------------+\n",
            "|summary|   instrumentalness|\n",
            "+-------+-------------------+\n",
            "|  count|              14919|\n",
            "|   mean|0.09204778446611722|\n",
            "| stddev| 0.2404034647567487|\n",
            "|    min|                0.0|\n",
            "|    25%|                0.0|\n",
            "|    50%|            2.08E-5|\n",
            "|    75%|            0.00511|\n",
            "|    max|              9e-06|\n",
            "+-------+-------------------+\n",
            "\n"
          ]
        }
      ]
    },
    {
      "cell_type": "code",
      "source": [
        "df.select(F.col('instrumentalness')).orderBy(F.col('instrumentalness').desc()).show(500)"
      ],
      "metadata": {
        "colab": {
          "base_uri": "https://localhost:8080/"
        },
        "id": "An5OhyJePGT_",
        "outputId": "d580369e-bf40-4c62-b861-87531122a592"
      },
      "execution_count": null,
      "outputs": [
        {
          "output_type": "stream",
          "name": "stdout",
          "text": [
            "+--------------------+\n",
            "|    instrumentalness|\n",
            "+--------------------+\n",
            "|               9e-06|\n",
            "|               9e-05|\n",
            "|9.990000000000003...|\n",
            "|            9.98e-06|\n",
            "|            9.98e-06|\n",
            "|            9.98e-05|\n",
            "|            9.97e-05|\n",
            "|            9.96e-05|\n",
            "|            9.94e-06|\n",
            "|            9.94e-06|\n",
            "|9.940000000000003...|\n",
            "|            9.93e-06|\n",
            "|            9.92e-05|\n",
            "|             9.8e-06|\n",
            "|             9.8e-06|\n",
            "|             9.8e-05|\n",
            "|            9.88e-05|\n",
            "|            9.86e-06|\n",
            "|            9.86e-06|\n",
            "|            9.86e-06|\n",
            "|            9.86e-05|\n",
            "|            9.86e-05|\n",
            "|            9.85e-05|\n",
            "|            9.84e-06|\n",
            "|            9.84e-06|\n",
            "|            9.84e-05|\n",
            "|            9.82e-06|\n",
            "|            9.81e-05|\n",
            "|            9.78e-06|\n",
            "|            9.78e-05|\n",
            "|            9.77e-05|\n",
            "|            9.75e-06|\n",
            "|            9.75e-05|\n",
            "|            9.75e-05|\n",
            "|            9.73e-05|\n",
            "|            9.73e-05|\n",
            "|            9.72e-06|\n",
            "|            9.71e-05|\n",
            "|             9.6e-06|\n",
            "|             9.6e-06|\n",
            "|            9.68e-05|\n",
            "|            9.67e-06|\n",
            "|            9.67e-05|\n",
            "|            9.66e-05|\n",
            "|            9.65e-05|\n",
            "|            9.65e-05|\n",
            "|            9.64e-05|\n",
            "|            9.63e-05|\n",
            "|            9.63e-05|\n",
            "|            9.62e-06|\n",
            "|            9.61e-06|\n",
            "|             9.5e-06|\n",
            "|             9.5e-06|\n",
            "|             9.5e-05|\n",
            "|            9.59e-06|\n",
            "|            9.59e-05|\n",
            "|            9.58e-05|\n",
            "|            9.56e-06|\n",
            "|            9.56e-05|\n",
            "|            9.55e-05|\n",
            "|            9.54e-06|\n",
            "|            9.53e-05|\n",
            "|            9.52e-06|\n",
            "|            9.52e-06|\n",
            "|            9.51e-06|\n",
            "|            9.51e-05|\n",
            "|             9.4e-06|\n",
            "|            9.49e-05|\n",
            "|            9.48e-06|\n",
            "|            9.48e-05|\n",
            "|            9.47e-05|\n",
            "|            9.45e-06|\n",
            "|            9.45e-05|\n",
            "|            9.45e-05|\n",
            "|            9.44e-05|\n",
            "|            9.44e-05|\n",
            "|            9.44e-05|\n",
            "|            9.43e-06|\n",
            "|            9.43e-05|\n",
            "|            9.42e-06|\n",
            "|            9.41e-06|\n",
            "|            9.41e-05|\n",
            "|            9.39e-06|\n",
            "|            9.39e-06|\n",
            "|            9.38e-06|\n",
            "|            9.38e-05|\n",
            "|            9.34e-05|\n",
            "|            9.33e-05|\n",
            "|            9.33e-05|\n",
            "|            9.32e-05|\n",
            "|            9.31e-06|\n",
            "|            9.31e-05|\n",
            "|            9.31e-05|\n",
            "|            9.27e-06|\n",
            "|            9.27e-06|\n",
            "|            9.27e-05|\n",
            "|            9.27e-05|\n",
            "|            9.26e-06|\n",
            "|            9.26e-05|\n",
            "|            9.26e-05|\n",
            "|            9.26e-05|\n",
            "|            9.25e-05|\n",
            "|            9.24e-06|\n",
            "|            9.22e-06|\n",
            "|            9.22e-05|\n",
            "|            9.22e-05|\n",
            "|            9.22e-05|\n",
            "|            9.22e-05|\n",
            "|             9.1e-05|\n",
            "|            9.19e-06|\n",
            "|            9.19e-06|\n",
            "|            9.19e-06|\n",
            "|            9.18e-06|\n",
            "|            9.17e-06|\n",
            "|            9.14e-06|\n",
            "|            9.12e-06|\n",
            "|            9.12e-05|\n",
            "|            9.11e-06|\n",
            "|            9.09e-06|\n",
            "|            9.09e-05|\n",
            "|            9.08e-05|\n",
            "|            9.07e-06|\n",
            "|            9.06e-06|\n",
            "|            9.06e-06|\n",
            "|            9.06e-05|\n",
            "|            9.05e-06|\n",
            "|            9.05e-06|\n",
            "|            9.05e-05|\n",
            "|            9.04e-05|\n",
            "|            9.04e-05|\n",
            "|            9.03e-06|\n",
            "|            9.03e-06|\n",
            "|            9.01e-05|\n",
            "|               8e-05|\n",
            "|               8e-05|\n",
            "|               8e-05|\n",
            "|            8.99e-06|\n",
            "|            8.99e-05|\n",
            "|            8.99e-05|\n",
            "|            8.98e-06|\n",
            "|            8.98e-05|\n",
            "|            8.98e-05|\n",
            "|            8.97e-05|\n",
            "|            8.96e-06|\n",
            "|8.950000000000001...|\n",
            "|            8.94e-05|\n",
            "|            8.94e-05|\n",
            "|            8.93e-06|\n",
            "|            8.92e-06|\n",
            "|            8.92e-05|\n",
            "|            8.91e-06|\n",
            "|             8.8e-06|\n",
            "|             8.8e-05|\n",
            "|             8.8e-05|\n",
            "|            8.89e-06|\n",
            "|            8.89e-05|\n",
            "|            8.89e-05|\n",
            "|            8.88e-05|\n",
            "|            8.87e-06|\n",
            "|            8.87e-05|\n",
            "|            8.87e-05|\n",
            "|            8.87e-05|\n",
            "|            8.85e-06|\n",
            "|            8.85e-05|\n",
            "|8.859999999999999...|\n",
            "|8.840000000000001...|\n",
            "|8.840000000000001...|\n",
            "|            8.83e-06|\n",
            "|            8.83e-05|\n",
            "|            8.83e-05|\n",
            "|            8.78e-05|\n",
            "|            8.78e-05|\n",
            "|            8.75e-06|\n",
            "|            8.75e-06|\n",
            "|            8.74e-06|\n",
            "|            8.74e-06|\n",
            "|            8.73e-06|\n",
            "|            8.73e-05|\n",
            "|            8.72e-06|\n",
            "|            8.72e-05|\n",
            "|            8.72e-05|\n",
            "|            8.71e-06|\n",
            "|            8.71e-05|\n",
            "|            8.69e-06|\n",
            "|            8.68e-05|\n",
            "|            8.68e-05|\n",
            "|            8.67e-06|\n",
            "|            8.67e-06|\n",
            "|8.669999999999999...|\n",
            "|            8.65e-06|\n",
            "|            8.64e-06|\n",
            "|            8.64e-06|\n",
            "|            8.63e-06|\n",
            "|            8.63e-05|\n",
            "|            8.62e-05|\n",
            "|8.599999999999999...|\n",
            "|8.599999999999999...|\n",
            "|8.599999999999999...|\n",
            "|8.599999999999999...|\n",
            "|8.599999999999999...|\n",
            "|            8.58e-06|\n",
            "|            8.58e-05|\n",
            "|            8.56e-05|\n",
            "|            8.55e-06|\n",
            "|            8.54e-06|\n",
            "|            8.54e-06|\n",
            "|            8.54e-06|\n",
            "|            8.52e-05|\n",
            "|            8.51e-06|\n",
            "|            8.51e-06|\n",
            "|             8.4e-05|\n",
            "|             8.4e-05|\n",
            "|            8.49e-06|\n",
            "|            8.49e-06|\n",
            "|            8.49e-05|\n",
            "|8.499999999999999...|\n",
            "|            8.48e-05|\n",
            "|            8.47e-05|\n",
            "|            8.46e-06|\n",
            "|            8.46e-05|\n",
            "|            8.46e-05|\n",
            "|            8.45e-06|\n",
            "|            8.44e-06|\n",
            "|            8.44e-05|\n",
            "|            8.43e-05|\n",
            "|            8.42e-06|\n",
            "|            8.41e-06|\n",
            "|            8.41e-06|\n",
            "|            8.41e-05|\n",
            "|            8.41e-05|\n",
            "|             8.3e-06|\n",
            "|             8.3e-06|\n",
            "|            8.39e-06|\n",
            "|            8.38e-06|\n",
            "|            8.37e-06|\n",
            "|8.379999999999999...|\n",
            "|            8.36e-06|\n",
            "|            8.36e-06|\n",
            "|            8.36e-06|\n",
            "|            8.36e-05|\n",
            "|            8.36e-05|\n",
            "|            8.36e-05|\n",
            "|            8.35e-05|\n",
            "|            8.34e-06|\n",
            "|8.340000000000001...|\n",
            "|8.340000000000001...|\n",
            "|8.329999999999999...|\n",
            "|             8.2e-05|\n",
            "|             8.2e-05|\n",
            "|            8.29e-06|\n",
            "|8.290000000000001...|\n",
            "|8.290000000000001...|\n",
            "|8.290000000000001...|\n",
            "|8.290000000000001...|\n",
            "|8.290000000000001...|\n",
            "|            8.28e-06|\n",
            "|            8.28e-06|\n",
            "|            8.28e-05|\n",
            "|            8.28e-05|\n",
            "|            8.25e-06|\n",
            "|            8.25e-05|\n",
            "|            8.24e-06|\n",
            "|8.240000000000001...|\n",
            "|            8.22e-05|\n",
            "|            8.22e-05|\n",
            "|            8.21e-06|\n",
            "|            8.21e-06|\n",
            "|8.209999999999999...|\n",
            "|             8.1e-05|\n",
            "|             8.1e-05|\n",
            "|            8.19e-06|\n",
            "|            8.19e-06|\n",
            "|            8.19e-06|\n",
            "|            8.18e-06|\n",
            "|            8.18e-06|\n",
            "|            8.18e-06|\n",
            "|            8.18e-05|\n",
            "|            8.18e-05|\n",
            "|            8.18e-05|\n",
            "|            8.18e-05|\n",
            "|            8.18e-05|\n",
            "|            8.17e-06|\n",
            "|            8.17e-06|\n",
            "|8.170000000000001...|\n",
            "|            8.16e-06|\n",
            "|            8.16e-06|\n",
            "|            8.15e-06|\n",
            "|            8.15e-06|\n",
            "|8.159999999999999...|\n",
            "|8.149999999999999...|\n",
            "|8.149999999999999...|\n",
            "|            8.13e-06|\n",
            "|            8.13e-05|\n",
            "|            8.12e-06|\n",
            "|            8.12e-06|\n",
            "|8.120000000000001...|\n",
            "|            8.11e-06|\n",
            "|            8.11e-06|\n",
            "|8.109999999999999...|\n",
            "|            8.08e-06|\n",
            "|            8.08e-05|\n",
            "|            8.07e-06|\n",
            "|            8.07e-06|\n",
            "|            8.06e-06|\n",
            "|            8.05e-05|\n",
            "|            8.04e-06|\n",
            "|            8.04e-05|\n",
            "|            8.03e-06|\n",
            "|            8.03e-06|\n",
            "|            8.03e-05|\n",
            "|            8.02e-05|\n",
            "|            8.01e-05|\n",
            "|             7.9e-06|\n",
            "|            7.99e-06|\n",
            "|            7.99e-05|\n",
            "|            7.98e-06|\n",
            "|            7.97e-06|\n",
            "|            7.97e-06|\n",
            "|            7.97e-05|\n",
            "|7.979999999999999...|\n",
            "|            7.96e-06|\n",
            "|            7.96e-06|\n",
            "|            7.95e-06|\n",
            "|            7.95e-06|\n",
            "|7.950000000000001...|\n",
            "|            7.94e-06|\n",
            "|            7.93e-06|\n",
            "|            7.92e-06|\n",
            "|            7.92e-06|\n",
            "|            7.92e-05|\n",
            "|            7.92e-05|\n",
            "|7.929999999999999...|\n",
            "|            7.91e-06|\n",
            "|7.900000000000001...|\n",
            "|7.900000000000001...|\n",
            "|             7.8e-05|\n",
            "|            7.88e-06|\n",
            "|            7.87e-05|\n",
            "|7.879999999999999...|\n",
            "|            7.85e-06|\n",
            "|            7.85e-06|\n",
            "|            7.85e-06|\n",
            "|            7.85e-05|\n",
            "|            7.85e-05|\n",
            "|7.859999999999999...|\n",
            "|7.859999999999999...|\n",
            "|7.859999999999999...|\n",
            "|7.859999999999999...|\n",
            "|            7.84e-06|\n",
            "|            7.84e-06|\n",
            "|            7.84e-06|\n",
            "|            7.83e-06|\n",
            "|            7.81e-06|\n",
            "|             7.7e-05|\n",
            "|             7.7e-05|\n",
            "|             7.7e-05|\n",
            "|            7.79e-06|\n",
            "|            7.78e-06|\n",
            "|            7.78e-06|\n",
            "|            7.77e-06|\n",
            "|            7.76e-06|\n",
            "|            7.75e-06|\n",
            "|            7.75e-06|\n",
            "|            7.75e-05|\n",
            "|            7.75e-05|\n",
            "|            7.75e-05|\n",
            "|            7.74e-06|\n",
            "|            7.74e-06|\n",
            "|            7.74e-06|\n",
            "|            7.73e-06|\n",
            "|7.730000000000001...|\n",
            "|            7.72e-06|\n",
            "|            7.71e-06|\n",
            "|7.709999999999999...|\n",
            "|7.709999999999999...|\n",
            "|             7.6e-06|\n",
            "|             7.6e-05|\n",
            "|            7.69e-06|\n",
            "|            7.69e-06|\n",
            "|            7.68e-06|\n",
            "|            7.68e-05|\n",
            "|            7.68e-05|\n",
            "|            7.66e-06|\n",
            "|            7.65e-06|\n",
            "|7.659999999999999...|\n",
            "|            7.64e-06|\n",
            "|            7.64e-05|\n",
            "|            7.63e-05|\n",
            "|            7.63e-05|\n",
            "|            7.62e-05|\n",
            "|            7.62e-05|\n",
            "|            7.61e-06|\n",
            "|            7.61e-06|\n",
            "|7.609999999999999...|\n",
            "|             7.5e-05|\n",
            "|            7.59e-06|\n",
            "|            7.59e-05|\n",
            "|            7.58e-06|\n",
            "|            7.58e-06|\n",
            "|            7.58e-06|\n",
            "|            7.57e-06|\n",
            "|            7.57e-05|\n",
            "|            7.56e-06|\n",
            "|            7.56e-05|\n",
            "|            7.54e-05|\n",
            "|            7.54e-05|\n",
            "|            7.54e-05|\n",
            "|            7.52e-06|\n",
            "|            7.52e-05|\n",
            "|            7.51e-06|\n",
            "|7.509999999999998...|\n",
            "|7.509999999999998...|\n",
            "|             7.4e-05|\n",
            "|            7.49e-06|\n",
            "|            7.49e-06|\n",
            "|            7.49e-06|\n",
            "|            7.49e-06|\n",
            "|            7.49e-06|\n",
            "|            7.49e-06|\n",
            "|            7.47e-06|\n",
            "|            7.47e-05|\n",
            "|            7.45e-06|\n",
            "|            7.45e-05|\n",
            "|            7.45e-05|\n",
            "|            7.44e-06|\n",
            "|            7.43e-06|\n",
            "|            7.43e-05|\n",
            "|            7.43e-05|\n",
            "|            7.43e-05|\n",
            "|            7.43e-05|\n",
            "|            7.42e-06|\n",
            "|            7.42e-05|\n",
            "|            7.41e-06|\n",
            "|            7.41e-05|\n",
            "|            7.41e-05|\n",
            "|            7.41e-05|\n",
            "|7.400000000000001...|\n",
            "|            7.39e-06|\n",
            "|            7.39e-06|\n",
            "|            7.38e-06|\n",
            "|            7.38e-05|\n",
            "|            7.37e-06|\n",
            "|            7.37e-05|\n",
            "|            7.36e-06|\n",
            "|            7.36e-05|\n",
            "|            7.35e-05|\n",
            "|            7.35e-05|\n",
            "|            7.34e-06|\n",
            "|            7.32e-06|\n",
            "|            7.32e-05|\n",
            "|7.329999999999999...|\n",
            "|            7.31e-06|\n",
            "|            7.31e-06|\n",
            "|            7.31e-05|\n",
            "|            7.31e-05|\n",
            "|            7.31e-05|\n",
            "|7.290000000000001...|\n",
            "|7.290000000000001...|\n",
            "|            7.28e-06|\n",
            "|            7.28e-05|\n",
            "|            7.28e-05|\n",
            "|            7.28e-05|\n",
            "|            7.26e-06|\n",
            "|            7.26e-05|\n",
            "|            7.26e-05|\n",
            "|7.269999999999999...|\n",
            "|7.269999999999999...|\n",
            "|            7.25e-05|\n",
            "|            7.25e-05|\n",
            "|            7.25e-05|\n",
            "|            7.23e-06|\n",
            "|            7.21e-06|\n",
            "|7.219999999999999...|\n",
            "|7.219999999999999...|\n",
            "|7.209999999999999...|\n",
            "|7.200000000000001...|\n",
            "|             7.1e-06|\n",
            "|             7.1e-06|\n",
            "|             7.1e-06|\n",
            "|            7.18e-05|\n",
            "|            7.17e-06|\n",
            "|7.170000000000001...|\n",
            "|7.170000000000001...|\n",
            "|            7.16e-06|\n",
            "|            7.16e-06|\n",
            "|            7.15e-06|\n",
            "|            7.15e-05|\n",
            "|            7.14e-06|\n",
            "|7.140000000000001...|\n",
            "|            7.13e-06|\n",
            "|            7.13e-05|\n",
            "|            7.12e-06|\n",
            "|7.120000000000001...|\n",
            "|7.120000000000001...|\n",
            "|            7.11e-06|\n",
            "|            7.11e-06|\n",
            "|            7.11e-06|\n",
            "|            7.11e-05|\n",
            "|            7.09e-06|\n",
            "|            7.09e-05|\n",
            "+--------------------+\n",
            "only showing top 500 rows\n",
            "\n"
          ]
        }
      ]
    },
    {
      "cell_type": "code",
      "source": [
        "df.select(F.col('instrumentalness')).withColumn('teste', F.col('instrumentalness').cast(DoubleType())).printSchema()"
      ],
      "metadata": {
        "colab": {
          "base_uri": "https://localhost:8080/"
        },
        "id": "kYYPFfV9QC2s",
        "outputId": "c78fd611-7744-42e8-c30c-c0f668aec794"
      },
      "execution_count": null,
      "outputs": [
        {
          "output_type": "stream",
          "name": "stdout",
          "text": [
            "root\n",
            " |-- instrumentalness: string (nullable = true)\n",
            " |-- teste: double (nullable = true)\n",
            "\n"
          ]
        }
      ]
    },
    {
      "cell_type": "code",
      "source": [
        "df.printSchema()"
      ],
      "metadata": {
        "colab": {
          "base_uri": "https://localhost:8080/"
        },
        "id": "vTEDNbHtDcyU",
        "outputId": "dfbe225e-5f10-436b-bcbb-b9e5c5e187e4"
      },
      "execution_count": null,
      "outputs": [
        {
          "output_type": "stream",
          "name": "stdout",
          "text": [
            "root\n",
            " |-- song_name: string (nullable = true)\n",
            " |-- song_popularity: string (nullable = true)\n",
            " |-- song_duration_ms: string (nullable = true)\n",
            " |-- danceability: string (nullable = true)\n",
            " |-- energy: string (nullable = true)\n",
            " |-- instrumentalness: string (nullable = true)\n",
            " |-- key: string (nullable = true)\n",
            " |-- liveness: string (nullable = true)\n",
            " |-- loudness: string (nullable = true)\n",
            " |-- audio_mode: string (nullable = true)\n",
            " |-- speechiness: string (nullable = true)\n",
            " |-- tempo: string (nullable = true)\n",
            " |-- time_signature: string (nullable = true)\n",
            " |-- audio_valence: string (nullable = true)\n",
            " |-- acustica: string (nullable = true)\n",
            "\n"
          ]
        }
      ]
    },
    {
      "cell_type": "code",
      "source": [
        "df.printSchema()"
      ],
      "metadata": {
        "colab": {
          "base_uri": "https://localhost:8080/"
        },
        "id": "2aWYkwLSFAhD",
        "outputId": "81928828-982b-4bd4-a00f-efebdfd86508"
      },
      "execution_count": null,
      "outputs": [
        {
          "output_type": "stream",
          "name": "stdout",
          "text": [
            "root\n",
            " |-- song_name: string (nullable = true)\n",
            " |-- song_popularity: string (nullable = true)\n",
            " |-- song_duration_ms: string (nullable = true)\n",
            " |-- danceability: string (nullable = true)\n",
            " |-- energy: string (nullable = true)\n",
            " |-- instrumentalness: string (nullable = true)\n",
            " |-- key: string (nullable = true)\n",
            " |-- liveness: string (nullable = true)\n",
            " |-- loudness: string (nullable = true)\n",
            " |-- audio_mode: string (nullable = true)\n",
            " |-- speechiness: string (nullable = true)\n",
            " |-- tempo: string (nullable = true)\n",
            " |-- time_signature: string (nullable = true)\n",
            " |-- audio_valence: string (nullable = true)\n",
            " |-- acustica: string (nullable = true)\n",
            "\n"
          ]
        }
      ]
    },
    {
      "cell_type": "code",
      "source": [
        "#CONVERTER AS COLUNAS PARA INT E FLOAT\n",
        "df = (df.withColumn('song_popularity', F.col('song_popularity').cast(IntegerType()))\n",
        "   .withColumn('song_duration_ms', F.round(F.col('song_duration_ms').cast(IntegerType()), 2))\n",
        "   .withColumn('danceability', F.round(F.col('danceability').cast(FloatType()), 2))\n",
        "   .withColumn('energy', F.round(F.col('energy').cast(FloatType()), 2))\n",
        "   .withColumn('instrumentalness', F.round(F.col('instrumentalness').cast(FloatType()), 2))\n",
        "   .withColumn('key', F.round(F.col('key').cast(FloatType()), 2))\n",
        "   .withColumn('liveness', F.round(F.col('liveness').cast(FloatType()), 2))\n",
        "   .withColumn('loudness', F.round(F.col('loudness').cast(FloatType()), 2))\n",
        "   .withColumn('audio_mode', F.round(F.col('audio_mode').cast(FloatType()), 2))\n",
        "   .withColumn('speechiness', F.round(F.col('speechiness').cast(FloatType()), 2))\n",
        "   .withColumn('tempo', F.round(F.col('tempo').cast(IntegerType()), 2))\n",
        "   .withColumn('time_signature', F.round(F.col('time_signature').cast(IntegerType()), 2))\n",
        "   .withColumn('audio_valence', F.round(F.col('audio_valence').cast(FloatType()), 2))\n",
        "   .withColumn('acustica', F.round(F.col('acustica').cast(FloatType()), 2))\n",
        ")"
      ],
      "metadata": {
        "id": "_X-UMx96CetT"
      },
      "execution_count": null,
      "outputs": []
    },
    {
      "cell_type": "code",
      "source": [
        "df.show()"
      ],
      "metadata": {
        "colab": {
          "base_uri": "https://localhost:8080/"
        },
        "id": "lW6KtTmzGMjO",
        "outputId": "cef03029-6df8-4768-e07b-aa86f910f8c0"
      },
      "execution_count": null,
      "outputs": [
        {
          "output_type": "stream",
          "name": "stdout",
          "text": [
            "+--------------------+---------------+----------------+------------+------+----------------+----+--------+--------+----------+-----------+-----+--------------+-------------+--------+\n",
            "|           song_name|song_popularity|song_duration_ms|danceability|energy|instrumentalness| key|liveness|loudness|audio_mode|speechiness|tempo|time_signature|audio_valence|acustica|\n",
            "+--------------------+---------------+----------------+------------+------+----------------+----+--------+--------+----------+-----------+-----+--------------+-------------+--------+\n",
            "|           Sk8er Boi|             67|          204000|        0.49|   0.9|             0.0| 0.0|    0.36|   -4.42|       1.0|       0.05|  149|             4|         0.48|     0.0|\n",
            "|  Whenever, Wherever|             76|          196160|        0.79|  0.83|             0.0| 1.0|     0.2|   -4.86|       0.0|       0.04|  107|             4|         0.87|    0.24|\n",
            "|        Paloma negra|             50|          195533|        0.39|  0.26|             0.0| 2.0|    0.22|   -6.85|       1.0|       0.04|   80|             1|         0.45|    0.85|\n",
            "|          White Room|             71|          303200|        0.55|  0.58|            0.01| 2.0|    0.06|  -13.41|       0.0|       0.03|  109|             4|          0.5|    0.23|\n",
            "|         Billie Jean|             84|          293826|        0.92|  0.65|            0.02|11.0|    0.04|   -3.05|       0.0|       0.04|  117|             4|         0.85|    0.02|\n",
            "|Real Wild Child (...|             34|          218400|        0.57|  0.93|            0.12| 4.0|    0.28|    -7.1|       1.0|       0.03|  146|             4|         0.96|     0.0|\n",
            "|Don't Stop Believin'|             58|          249653|        0.49|  0.72|             0.0| 4.0|    0.37|    -9.7|       1.0|       0.04|  119|             4|         0.49|    0.24|\n",
            "|     Better Together|             32|          200706|        0.79|   0.3|             0.0| 5.0|    0.14|   -10.6|       1.0|       0.06|  110|             4|         0.49|    0.65|\n",
            "|      Shadows Inside|             59|          236549|        0.37|  0.97|             0.0|10.0|    0.15|   -4.08|       0.0|       0.19|  179|             4|          0.3|     0.0|\n",
            "|       Master Groove|             65|          179439|        0.83|   0.8|             0.0| 4.0|    0.07|   -3.74|       0.0|       0.09|  106|             4|         0.63|    0.55|\n",
            "|Don't Stop The Music|             52|          185080|        0.83|  0.67|             0.0| 1.0|     0.2|   -6.48|       0.0|       0.12|  124|             4|         0.84|    0.09|\n",
            "|   9 Times Out Of 10|             41|          185517|        0.79|  0.64|             0.0| 9.0|    0.11|   -6.57|       0.0|       0.38|   97|             4|         0.78|    0.61|\n",
            "|   Seven Nation Army|             81|          231920|        0.75|  0.47|            0.35| 4.0|    0.27|   -7.62|       0.0|       0.09|  123|             4|          0.3|    0.01|\n",
            "|Rescue Me - Singl...|             23|          172013|        0.73|  0.53|             0.0| 7.0|    0.12|   -9.71|       1.0|       0.04|  122|             4|         0.96|    0.68|\n",
            "|     Go Your Own Way|             30|          218400|         0.6|  0.81|             0.0| 5.0|     0.1|  -12.06|       1.0|       0.03|  135|             4|         0.82|    0.02|\n",
            "|              Losing|             60|          225780|        0.42|  0.35|             0.0| 4.0|    0.11|  -12.42|       0.0|       0.31|   57|             4|         0.13|    0.34|\n",
            "|             The Rat|             58|          262106|        0.18|  0.92|            0.07| 6.0|    0.23|   -4.88|       0.0|       0.06|  168|             4|         0.32|     0.0|\n",
            "|         Los Ageless|             64|          281346|        0.53|  0.72|             0.0| 5.0|    0.07|   -6.03|       0.0|       0.06|   99|             4|         0.33|    0.07|\n",
            "|               Shame|             49|          249706|        0.52|  0.85|            0.36| 0.0|    0.09|   -1.83|       1.0|       0.03|  158|             4|         0.73|     0.0|\n",
            "|Can't Seem To Mak...|             52|          185480|         0.7|  0.38|             0.0| 7.0|    0.12|  -13.69|       1.0|       0.04|  109|             4|         0.58|    0.15|\n",
            "+--------------------+---------------+----------------+------------+------+----------------+----+--------+--------+----------+-----------+-----+--------------+-------------+--------+\n",
            "only showing top 20 rows\n",
            "\n"
          ]
        }
      ]
    },
    {
      "cell_type": "code",
      "source": [
        "df.summary().show()"
      ],
      "metadata": {
        "colab": {
          "base_uri": "https://localhost:8080/"
        },
        "id": "si4H2LQFHRE3",
        "outputId": "044a7b4e-2cac-450c-b962-0ced7539aa90"
      },
      "execution_count": null,
      "outputs": [
        {
          "output_type": "stream",
          "name": "stdout",
          "text": [
            "+-------+--------------------+------------------+------------------+------------------+-------------------+-------------------+-----------------+-------------------+------------------+------------------+-------------------+------------------+------------------+-------------------+-------------------+\n",
            "|summary|           song_name|   song_popularity|  song_duration_ms|      danceability|             energy|   instrumentalness|              key|           liveness|          loudness|        audio_mode|        speechiness|             tempo|    time_signature|      audio_valence|           acustica|\n",
            "+-------+--------------------+------------------+------------------+------------------+-------------------+-------------------+-----------------+-------------------+------------------+------------------+-------------------+------------------+------------------+-------------------+-------------------+\n",
            "|  count|               14932|             14931|             14931|             14932|              14931|              14930|            14932|              14928|             14931|             14931|              14931|             14931|             14930|              14931|              14932|\n",
            "|   mean|  1129.1927027027027| 48.75768535262206|218950.30071662983|0.6245245104930055| 0.6397635787318763|0.09256329536200947|5.300641575141117|0.17984927663457803|-7.677236623196545|0.6318464938719102|0.10595070620345423|120.61536400776907|3.9527126590756865| 0.5269794381338326|0.27032212689673607|\n",
            "| stddev|   860.3999787393738|20.379617796732845|62355.234381396156|0.1581132743063507|0.22183767433150592|0.25378556675725805|3.593350691931839|0.16182331745615508| 4.020028276439651|0.4823132326590423| 0.8031577841600196|29.058667630627678|0.3183089588676815|0.24773459475809853|0.29817082988240684|\n",
            "|    min|\"40\" - Live Versi...|                 0|                 0|               0.0|                0.0|                0.0|              0.0|              -8.57|            -38.77|               0.0|                0.0|                 0|                 0|                0.0|                0.0|\n",
            "|    25%|               123.0|                37|            183935|              0.52|                0.5|                0.0|              2.0|               0.09|             -9.39|               0.0|               0.04|                98|                 4|               0.33|               0.02|\n",
            "|    50%|              1412.0|                52|            211840|              0.64|               0.67|                0.0|              5.0|               0.12|             -6.75|               1.0|               0.05|               120|                 4|               0.53|               0.14|\n",
            "|    75%|              1975.0|                64|            244720|              0.74|               0.82|               0.01|              8.0|               0.22|             -4.99|               1.0|               0.11|               139|                 4|               0.73|               0.46|\n",
            "|    max|          피 땀 눈물|               100|           1799346|              0.99|                1.0|               10.0|             11.0|               0.99|              1.59|               1.0|              97.42|               242|                 5|               0.98|                1.0|\n",
            "+-------+--------------------+------------------+------------------+------------------+-------------------+-------------------+-----------------+-------------------+------------------+------------------+-------------------+------------------+------------------+-------------------+-------------------+\n",
            "\n"
          ]
        }
      ]
    },
    {
      "cell_type": "code",
      "source": [
        "df.select(F.col('song_popularity')).filter(F.col('song_popularity').contains('')).show()"
      ],
      "metadata": {
        "colab": {
          "base_uri": "https://localhost:8080/"
        },
        "id": "unSXHvPrGQdQ",
        "outputId": "cfabc9cc-fd13-44eb-cca8-c9a5d00f2467"
      },
      "execution_count": null,
      "outputs": [
        {
          "output_type": "stream",
          "name": "stdout",
          "text": [
            "+---------------+\n",
            "|song_popularity|\n",
            "+---------------+\n",
            "|             67|\n",
            "|             76|\n",
            "|             50|\n",
            "|             71|\n",
            "|             84|\n",
            "|             34|\n",
            "|             58|\n",
            "|             32|\n",
            "|             59|\n",
            "|             65|\n",
            "|             52|\n",
            "|             41|\n",
            "|             81|\n",
            "|             23|\n",
            "|             30|\n",
            "|             60|\n",
            "|             58|\n",
            "|             64|\n",
            "|             49|\n",
            "|             52|\n",
            "+---------------+\n",
            "only showing top 20 rows\n",
            "\n"
          ]
        }
      ]
    }
  ]
}